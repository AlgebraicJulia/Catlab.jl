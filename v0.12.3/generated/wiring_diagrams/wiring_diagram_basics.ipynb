{
 "cells": [
  {
   "cell_type": "markdown",
   "source": [
    "# Basics of wiring diagrams\n",
    "\n",
    "\n",
    "Using Catlab, you can create, manipulate, serialize, and visualize *wiring\n",
    "diagrams*, also known as [string\n",
    "diagrams](https://ncatlab.org/nlab/show/string+diagram). The flexible data\n",
    "structure for wiring diagrams allows arbitrary data to be attached to boxes,\n",
    "ports, and wires, and supports recursively nested diagrams.\n",
    "\n",
    "You can interact with wiring diagrams using two different progamming\n",
    "interfaces:\n",
    "\n",
    "1. **Categorical**: A high-level, functional interface expressed in terms of\n",
    "   categorical concepts, such as composition (`compose`), monoidal products\n",
    "   (`otimes`), duplication (`mcopy`), and deletion (`delete`).\n",
    "\n",
    "2. **Imperative**: A lower-level, mutating interface to directly manipulate\n",
    "   boxes, ports, and wires, via operations like adding boxes (`add_box`) and\n",
    "   wires (`add_wire`).\n",
    "\n",
    "In this notebook, we introduce both interfaces. We do not explicitly cover the\n",
    "visualization API, although for illustrative purposes we will draw wiring\n",
    "diagrams using Graphviz. Thus, you should install\n",
    "[Graphviz](https://www.graphviz.org/) if you wish to run this notebook."
   ],
   "metadata": {}
  },
  {
   "outputs": [
    {
     "output_type": "execute_result",
     "data": {
      "text/plain": "show_diagram (generic function with 1 method)"
     },
     "metadata": {},
     "execution_count": 1
    }
   ],
   "cell_type": "code",
   "source": [
    "using Catlab.WiringDiagrams\n",
    "\n",
    "using Catlab.Graphics\n",
    "import Catlab.Graphics: Graphviz\n",
    "\n",
    "show_diagram(d::WiringDiagram) = to_graphviz(d,\n",
    "  orientation=LeftToRight,\n",
    "  labels=true, label_attr=:xlabel,\n",
    "  node_attrs=Graphviz.Attributes(\n",
    "    :fontname => \"Courier\",\n",
    "  ),\n",
    "  edge_attrs=Graphviz.Attributes(\n",
    "    :fontname => \"Courier\",\n",
    "  )\n",
    ")"
   ],
   "metadata": {},
   "execution_count": 1
  },
  {
   "cell_type": "markdown",
   "source": [
    "## Data structures\n",
    "\n",
    "The basic building blocks of a wiring diagram are boxes, ports, and wires. The\n",
    "top-level data structure is `WiringDiagram`, defined in the module\n",
    "`Catlab.WiringDiagrams`. A wiring diagram consists of boxes (usually of type\n",
    "`Box`) connected by wires (of type `Wire`). Each box has a sequence of input\n",
    "ports and a sequence of output ports, as does the wiring diagram itself. The\n",
    "wires have sources and targets, both of which consist of a box and a port on\n",
    "that box.\n",
    "\n",
    "The boxes in a wiring diagram are indexed by integer IDs. Boxes can be\n",
    "retrieved by ID, and wires refer to boxes using their IDs. Two special IDs,\n",
    "obtained by `input_id` and `output_id` methods, refer to the inputs and\n",
    "outputs of the diagram itself. In this way, wires can connect the (inner)\n",
    "boxes of a diagram to the diagram's \"outer box\".\n",
    "\n",
    "The `WiringDiagram` data structure is an elaborate wrapper around a directed\n",
    "graph from [LightGraphs.jl](https://github.com/JuliaGraphs/LightGraphs.jl).\n",
    "The underlying `DiGraph` object can be accessed using the `graph` method. The\n",
    "vertices of this graph are exactly the box IDs. The graph should never be\n",
    "mutated directly, on pain of creating inconsistent state, but it does allow\n",
    "convenient access to the large array of [graph\n",
    "algorithms](https://juliagraphs.github.io/LightGraphs.jl/latest/) supported by\n",
    "LightGraphs.\n",
    "\n",
    "All this is somewhat abstract but should become clearer as we see concrete\n",
    "examples."
   ],
   "metadata": {}
  },
  {
   "cell_type": "markdown",
   "source": [
    "## Categorical interface\n",
    "\n",
    "In this example, the wiring diagrams will carry symbolic expressions (of type\n",
    "`Catlab.ObExpr` and `Catlab.HomExpr`)."
   ],
   "metadata": {}
  },
  {
   "outputs": [
    {
     "output_type": "execute_result",
     "data": {
      "text/plain": "f: A → B",
      "text/latex": "$f : A \\to B$"
     },
     "metadata": {},
     "execution_count": 2
    }
   ],
   "cell_type": "code",
   "source": [
    "using Catlab.Theories\n",
    "\n",
    "A, B, C, D = Ob(FreeBiproductCategory, :A, :B, :C, :D)\n",
    "f = Hom(:f, A, B)\n",
    "g = Hom(:g, B, C)\n",
    "h = Hom(:h, C, D)\n",
    "\n",
    "f"
   ],
   "metadata": {},
   "execution_count": 2
  },
  {
   "cell_type": "markdown",
   "source": [
    "### Generators\n",
    "\n",
    "Convert each of the morphism generators into a diagram with a single box."
   ],
   "metadata": {}
  },
  {
   "outputs": [
    {
     "output_type": "execute_result",
     "data": {
      "text/plain": "WiringDiagram{BiproductCategory}([:A], [:B], \n[ -2 => {inputs},\n  -1 => {outputs},\n  1 => Box(:f, [:A], [:B]) ],\n[ Wire((-2,1) => (1,1)),\n  Wire((1,1) => (-1,1)) ])"
     },
     "metadata": {},
     "execution_count": 3
    }
   ],
   "cell_type": "code",
   "source": [
    "f, g, h = to_wiring_diagram(f), to_wiring_diagram(g), to_wiring_diagram(h)\n",
    "f"
   ],
   "metadata": {},
   "execution_count": 3
  },
  {
   "outputs": [
    {
     "output_type": "execute_result",
     "data": {
      "text/plain": "Catlab.Graphics.Graphviz.Graph(\"G\", true, \"dot\", Catlab.Graphics.Graphviz.Statement[Catlab.Graphics.Graphviz.Subgraph(\"\", Catlab.Graphics.Graphviz.Statement[Catlab.Graphics.Graphviz.Node(\"n0in1\", OrderedCollections.OrderedDict{Symbol, Union{String, Catlab.Graphics.Graphviz.Html}}(:id => \"in1\"))], OrderedCollections.OrderedDict{Symbol, Union{String, Catlab.Graphics.Graphviz.Html}}(:rank => \"source\", :rankdir => \"TB\"), OrderedCollections.OrderedDict{Symbol, Union{String, Catlab.Graphics.Graphviz.Html}}(:style => \"invis\", :shape => \"none\", :label => \"\", :width => \"0\", :height => \"0.333\"), OrderedCollections.OrderedDict{Symbol, Union{String, Catlab.Graphics.Graphviz.Html}}(:style => \"invis\")), Catlab.Graphics.Graphviz.Subgraph(\"\", Catlab.Graphics.Graphviz.Statement[Catlab.Graphics.Graphviz.Node(\"n0out1\", OrderedCollections.OrderedDict{Symbol, Union{String, Catlab.Graphics.Graphviz.Html}}(:id => \"out1\"))], OrderedCollections.OrderedDict{Symbol, Union{String, Catlab.Graphics.Graphviz.Html}}(:rank => \"sink\", :rankdir => \"TB\"), OrderedCollections.OrderedDict{Symbol, Union{String, Catlab.Graphics.Graphviz.Html}}(:style => \"invis\", :shape => \"none\", :label => \"\", :width => \"0\", :height => \"0.333\"), OrderedCollections.OrderedDict{Symbol, Union{String, Catlab.Graphics.Graphviz.Html}}(:style => \"invis\")), Catlab.Graphics.Graphviz.Node(\"n1\", OrderedCollections.OrderedDict{Symbol, Union{String, Catlab.Graphics.Graphviz.Html}}(:comment => \"f\", :id => \"n1\", :label => Catlab.Graphics.Graphviz.Html(\"<TABLE BORDER=\\\"0\\\" CELLPADDING=\\\"0\\\" CELLSPACING=\\\"0\\\">\\n<TR>\\n<TD><TABLE BORDER=\\\"0\\\" CELLPADDING=\\\"0\\\" CELLSPACING=\\\"0\\\"><TR><TD HEIGHT=\\\"24\\\" WIDTH=\\\"0\\\" PORT=\\\"in1\\\"></TD></TR></TABLE></TD>\\n<TD BORDER=\\\"1\\\" CELLPADDING=\\\"4\\\">f</TD>\\n<TD><TABLE BORDER=\\\"0\\\" CELLPADDING=\\\"0\\\" CELLSPACING=\\\"0\\\"><TR><TD HEIGHT=\\\"24\\\" WIDTH=\\\"0\\\" PORT=\\\"out1\\\"></TD></TR></TABLE></TD>\\n</TR>\\n</TABLE>\"))), Catlab.Graphics.Graphviz.Edge(Catlab.Graphics.Graphviz.NodeID[Catlab.Graphics.Graphviz.NodeID(\"n0in1\", \"e\", \"\"), Catlab.Graphics.Graphviz.NodeID(\"n1\", \"in1\", \"w\")], OrderedCollections.OrderedDict{Symbol, Union{String, Catlab.Graphics.Graphviz.Html}}(:comment => \"A\", :id => \"e1\", :xlabel => \"A\")), Catlab.Graphics.Graphviz.Edge(Catlab.Graphics.Graphviz.NodeID[Catlab.Graphics.Graphviz.NodeID(\"n1\", \"out1\", \"e\"), Catlab.Graphics.Graphviz.NodeID(\"n0out1\", \"w\", \"\")], OrderedCollections.OrderedDict{Symbol, Union{String, Catlab.Graphics.Graphviz.Html}}(:comment => \"B\", :id => \"e2\", :xlabel => \"B\"))], OrderedCollections.OrderedDict{Symbol, Union{String, Catlab.Graphics.Graphviz.Html}}(:fontname => \"Serif\", :rankdir => \"LR\"), OrderedCollections.OrderedDict{Symbol, Union{String, Catlab.Graphics.Graphviz.Html}}(:fontname => \"Courier\", :shape => \"none\", :width => \"0\", :height => \"0\", :margin => \"0\"), OrderedCollections.OrderedDict{Symbol, Union{String, Catlab.Graphics.Graphviz.Html}}(:arrowsize => \"0.5\", :fontname => \"Courier\"))",
      "image/svg+xml": [
       "<?xml version=\"1.0\" encoding=\"UTF-8\" standalone=\"no\"?>\n",
       "<!DOCTYPE svg PUBLIC \"-//W3C//DTD SVG 1.1//EN\"\n",
       " \"http://www.w3.org/Graphics/SVG/1.1/DTD/svg11.dtd\">\n",
       "<!-- Generated by graphviz version 2.43.0 (0)\n",
       " -->\n",
       "<!-- Title: G Pages: 1 -->\n",
       "<svg width=\"101pt\" height=\"37pt\"\n",
       " viewBox=\"0.00 0.00 101.00 36.50\" xmlns=\"http://www.w3.org/2000/svg\" xmlns:xlink=\"http://www.w3.org/1999/xlink\">\n",
       "<g id=\"graph0\" class=\"graph\" transform=\"scale(1 1) rotate(0) translate(4 32.5)\">\n",
       "<title>G</title>\n",
       "<polygon fill=\"white\" stroke=\"transparent\" points=\"-4,4 -4,-32.5 97,-32.5 97,4 -4,4\"/>\n",
       "<!-- n0in1 -->\n",
       "<!-- n1 -->\n",
       "<!-- f -->\n",
       "<g id=\"n1\" class=\"node\">\n",
       "<title>n1</title>\n",
       "<polygon fill=\"none\" stroke=\"black\" points=\"37.5,-3 37.5,-28 56.5,-28 56.5,-3 37.5,-3\"/>\n",
       "<text text-anchor=\"start\" x=\"42.5\" y=\"-11.8\" font-family=\"Courier,monospace\" font-size=\"14.00\">f</text>\n",
       "</g>\n",
       "<!-- n0in1&#45;&gt;n1 -->\n",
       "<!-- A -->\n",
       "<g id=\"e1\" class=\"edge\">\n",
       "<title>n0in1:e&#45;&gt;n1:w</title>\n",
       "<path fill=\"none\" stroke=\"black\" d=\"M1,-15C15.12,-15 19.9,-15 31.83,-15\"/>\n",
       "<polygon fill=\"black\" stroke=\"black\" points=\"32,-16.75 37,-15 32,-13.25 32,-16.75\"/>\n",
       "<text text-anchor=\"middle\" x=\"14.4\" y=\"-3.8\" font-family=\"Courier,monospace\" font-size=\"14.00\">A</text>\n",
       "</g>\n",
       "<!-- n0out1 -->\n",
       "<!-- n1&#45;&gt;n0out1 -->\n",
       "<!-- B -->\n",
       "<g id=\"e2\" class=\"edge\">\n",
       "<title>n1:e&#45;&gt;n0out1:w</title>\n",
       "<path fill=\"none\" stroke=\"black\" d=\"M56,-15C70.12,-15 74.9,-15 86.83,-15\"/>\n",
       "<polygon fill=\"black\" stroke=\"black\" points=\"87,-16.75 92,-15 87,-13.25 87,-16.75\"/>\n",
       "<text text-anchor=\"middle\" x=\"69.4\" y=\"-3.8\" font-family=\"Courier,monospace\" font-size=\"14.00\">B</text>\n",
       "</g>\n",
       "</g>\n",
       "</svg>\n"
      ]
     },
     "metadata": {},
     "execution_count": 4
    }
   ],
   "cell_type": "code",
   "source": [
    "show_diagram(f)"
   ],
   "metadata": {},
   "execution_count": 4
  },
  {
   "cell_type": "markdown",
   "source": [
    "### Composition"
   ],
   "metadata": {}
  },
  {
   "outputs": [
    {
     "output_type": "execute_result",
     "data": {
      "text/plain": "WiringDiagram{BiproductCategory}([:A], [:C], \n[ -2 => {inputs},\n  -1 => {outputs},\n  1 => Box(:f, [:A], [:B]),\n  2 => Box(:g, [:B], [:C]) ],\n[ Wire((-2,1) => (1,1)),\n  Wire((1,1) => (2,1)),\n  Wire((2,1) => (-1,1)) ])"
     },
     "metadata": {},
     "execution_count": 5
    }
   ],
   "cell_type": "code",
   "source": [
    "compose(f,g)"
   ],
   "metadata": {},
   "execution_count": 5
  },
  {
   "outputs": [
    {
     "output_type": "execute_result",
     "data": {
      "text/plain": "Catlab.Graphics.Graphviz.Graph(\"G\", true, \"dot\", Catlab.Graphics.Graphviz.Statement[Catlab.Graphics.Graphviz.Subgraph(\"\", Catlab.Graphics.Graphviz.Statement[Catlab.Graphics.Graphviz.Node(\"n0in1\", OrderedCollections.OrderedDict{Symbol, Union{String, Catlab.Graphics.Graphviz.Html}}(:id => \"in1\"))], OrderedCollections.OrderedDict{Symbol, Union{String, Catlab.Graphics.Graphviz.Html}}(:rank => \"source\", :rankdir => \"TB\"), OrderedCollections.OrderedDict{Symbol, Union{String, Catlab.Graphics.Graphviz.Html}}(:style => \"invis\", :shape => \"none\", :label => \"\", :width => \"0\", :height => \"0.333\"), OrderedCollections.OrderedDict{Symbol, Union{String, Catlab.Graphics.Graphviz.Html}}(:style => \"invis\")), Catlab.Graphics.Graphviz.Subgraph(\"\", Catlab.Graphics.Graphviz.Statement[Catlab.Graphics.Graphviz.Node(\"n0out1\", OrderedCollections.OrderedDict{Symbol, Union{String, Catlab.Graphics.Graphviz.Html}}(:id => \"out1\"))], OrderedCollections.OrderedDict{Symbol, Union{String, Catlab.Graphics.Graphviz.Html}}(:rank => \"sink\", :rankdir => \"TB\"), OrderedCollections.OrderedDict{Symbol, Union{String, Catlab.Graphics.Graphviz.Html}}(:style => \"invis\", :shape => \"none\", :label => \"\", :width => \"0\", :height => \"0.333\"), OrderedCollections.OrderedDict{Symbol, Union{String, Catlab.Graphics.Graphviz.Html}}(:style => \"invis\")), Catlab.Graphics.Graphviz.Node(\"n1\", OrderedCollections.OrderedDict{Symbol, Union{String, Catlab.Graphics.Graphviz.Html}}(:comment => \"f\", :id => \"n1\", :label => Catlab.Graphics.Graphviz.Html(\"<TABLE BORDER=\\\"0\\\" CELLPADDING=\\\"0\\\" CELLSPACING=\\\"0\\\">\\n<TR>\\n<TD><TABLE BORDER=\\\"0\\\" CELLPADDING=\\\"0\\\" CELLSPACING=\\\"0\\\"><TR><TD HEIGHT=\\\"24\\\" WIDTH=\\\"0\\\" PORT=\\\"in1\\\"></TD></TR></TABLE></TD>\\n<TD BORDER=\\\"1\\\" CELLPADDING=\\\"4\\\">f</TD>\\n<TD><TABLE BORDER=\\\"0\\\" CELLPADDING=\\\"0\\\" CELLSPACING=\\\"0\\\"><TR><TD HEIGHT=\\\"24\\\" WIDTH=\\\"0\\\" PORT=\\\"out1\\\"></TD></TR></TABLE></TD>\\n</TR>\\n</TABLE>\"))), Catlab.Graphics.Graphviz.Node(\"n2\", OrderedCollections.OrderedDict{Symbol, Union{String, Catlab.Graphics.Graphviz.Html}}(:comment => \"g\", :id => \"n2\", :label => Catlab.Graphics.Graphviz.Html(\"<TABLE BORDER=\\\"0\\\" CELLPADDING=\\\"0\\\" CELLSPACING=\\\"0\\\">\\n<TR>\\n<TD><TABLE BORDER=\\\"0\\\" CELLPADDING=\\\"0\\\" CELLSPACING=\\\"0\\\"><TR><TD HEIGHT=\\\"24\\\" WIDTH=\\\"0\\\" PORT=\\\"in1\\\"></TD></TR></TABLE></TD>\\n<TD BORDER=\\\"1\\\" CELLPADDING=\\\"4\\\">g</TD>\\n<TD><TABLE BORDER=\\\"0\\\" CELLPADDING=\\\"0\\\" CELLSPACING=\\\"0\\\"><TR><TD HEIGHT=\\\"24\\\" WIDTH=\\\"0\\\" PORT=\\\"out1\\\"></TD></TR></TABLE></TD>\\n</TR>\\n</TABLE>\"))), Catlab.Graphics.Graphviz.Edge(Catlab.Graphics.Graphviz.NodeID[Catlab.Graphics.Graphviz.NodeID(\"n0in1\", \"e\", \"\"), Catlab.Graphics.Graphviz.NodeID(\"n1\", \"in1\", \"w\")], OrderedCollections.OrderedDict{Symbol, Union{String, Catlab.Graphics.Graphviz.Html}}(:comment => \"A\", :id => \"e1\", :xlabel => \"A\")), Catlab.Graphics.Graphviz.Edge(Catlab.Graphics.Graphviz.NodeID[Catlab.Graphics.Graphviz.NodeID(\"n1\", \"out1\", \"e\"), Catlab.Graphics.Graphviz.NodeID(\"n2\", \"in1\", \"w\")], OrderedCollections.OrderedDict{Symbol, Union{String, Catlab.Graphics.Graphviz.Html}}(:comment => \"B\", :id => \"e2\", :xlabel => \"B\")), Catlab.Graphics.Graphviz.Edge(Catlab.Graphics.Graphviz.NodeID[Catlab.Graphics.Graphviz.NodeID(\"n2\", \"out1\", \"e\"), Catlab.Graphics.Graphviz.NodeID(\"n0out1\", \"w\", \"\")], OrderedCollections.OrderedDict{Symbol, Union{String, Catlab.Graphics.Graphviz.Html}}(:comment => \"C\", :id => \"e3\", :xlabel => \"C\"))], OrderedCollections.OrderedDict{Symbol, Union{String, Catlab.Graphics.Graphviz.Html}}(:fontname => \"Serif\", :rankdir => \"LR\"), OrderedCollections.OrderedDict{Symbol, Union{String, Catlab.Graphics.Graphviz.Html}}(:fontname => \"Courier\", :shape => \"none\", :width => \"0\", :height => \"0\", :margin => \"0\"), OrderedCollections.OrderedDict{Symbol, Union{String, Catlab.Graphics.Graphviz.Html}}(:arrowsize => \"0.5\", :fontname => \"Courier\"))",
      "image/svg+xml": [
       "<?xml version=\"1.0\" encoding=\"UTF-8\" standalone=\"no\"?>\n",
       "<!DOCTYPE svg PUBLIC \"-//W3C//DTD SVG 1.1//EN\"\n",
       " \"http://www.w3.org/Graphics/SVG/1.1/DTD/svg11.dtd\">\n",
       "<!-- Generated by graphviz version 2.43.0 (0)\n",
       " -->\n",
       "<!-- Title: G Pages: 1 -->\n",
       "<svg width=\"156pt\" height=\"37pt\"\n",
       " viewBox=\"0.00 0.00 156.00 36.50\" xmlns=\"http://www.w3.org/2000/svg\" xmlns:xlink=\"http://www.w3.org/1999/xlink\">\n",
       "<g id=\"graph0\" class=\"graph\" transform=\"scale(1 1) rotate(0) translate(4 32.5)\">\n",
       "<title>G</title>\n",
       "<polygon fill=\"white\" stroke=\"transparent\" points=\"-4,4 -4,-32.5 152,-32.5 152,4 -4,4\"/>\n",
       "<!-- n0in1 -->\n",
       "<!-- n1 -->\n",
       "<!-- f -->\n",
       "<g id=\"n1\" class=\"node\">\n",
       "<title>n1</title>\n",
       "<polygon fill=\"none\" stroke=\"black\" points=\"37.5,-3 37.5,-28 56.5,-28 56.5,-3 37.5,-3\"/>\n",
       "<text text-anchor=\"start\" x=\"42.5\" y=\"-11.8\" font-family=\"Courier,monospace\" font-size=\"14.00\">f</text>\n",
       "</g>\n",
       "<!-- n0in1&#45;&gt;n1 -->\n",
       "<!-- A -->\n",
       "<g id=\"e1\" class=\"edge\">\n",
       "<title>n0in1:e&#45;&gt;n1:w</title>\n",
       "<path fill=\"none\" stroke=\"black\" d=\"M1,-15C15.12,-15 19.9,-15 31.83,-15\"/>\n",
       "<polygon fill=\"black\" stroke=\"black\" points=\"32,-16.75 37,-15 32,-13.25 32,-16.75\"/>\n",
       "<text text-anchor=\"middle\" x=\"14.4\" y=\"-3.8\" font-family=\"Courier,monospace\" font-size=\"14.00\">A</text>\n",
       "</g>\n",
       "<!-- n0out1 -->\n",
       "<!-- n2 -->\n",
       "<!-- g -->\n",
       "<g id=\"n2\" class=\"node\">\n",
       "<title>n2</title>\n",
       "<polygon fill=\"none\" stroke=\"black\" points=\"92.5,-3 92.5,-28 111.5,-28 111.5,-3 92.5,-3\"/>\n",
       "<text text-anchor=\"start\" x=\"97.5\" y=\"-11.8\" font-family=\"Courier,monospace\" font-size=\"14.00\">g</text>\n",
       "</g>\n",
       "<!-- n1&#45;&gt;n2 -->\n",
       "<!-- B -->\n",
       "<g id=\"e2\" class=\"edge\">\n",
       "<title>n1:e&#45;&gt;n2:w</title>\n",
       "<path fill=\"none\" stroke=\"black\" d=\"M56,-15C70.12,-15 74.9,-15 86.83,-15\"/>\n",
       "<polygon fill=\"black\" stroke=\"black\" points=\"87,-16.75 92,-15 87,-13.25 87,-16.75\"/>\n",
       "<text text-anchor=\"middle\" x=\"69.4\" y=\"-3.8\" font-family=\"Courier,monospace\" font-size=\"14.00\">B</text>\n",
       "</g>\n",
       "<!-- n2&#45;&gt;n0out1 -->\n",
       "<!-- C -->\n",
       "<g id=\"e3\" class=\"edge\">\n",
       "<title>n2:e&#45;&gt;n0out1:w</title>\n",
       "<path fill=\"none\" stroke=\"black\" d=\"M111,-15C125.12,-15 129.9,-15 141.83,-15\"/>\n",
       "<polygon fill=\"black\" stroke=\"black\" points=\"142,-16.75 147,-15 142,-13.25 142,-16.75\"/>\n",
       "<text text-anchor=\"middle\" x=\"124.4\" y=\"-3.8\" font-family=\"Courier,monospace\" font-size=\"14.00\">C</text>\n",
       "</g>\n",
       "</g>\n",
       "</svg>\n"
      ]
     },
     "metadata": {},
     "execution_count": 6
    }
   ],
   "cell_type": "code",
   "source": [
    "show_diagram(compose(f,g))"
   ],
   "metadata": {},
   "execution_count": 6
  },
  {
   "cell_type": "markdown",
   "source": [
    "### Monoidal products"
   ],
   "metadata": {}
  },
  {
   "outputs": [
    {
     "output_type": "execute_result",
     "data": {
      "text/plain": "WiringDiagram{BiproductCategory}([:A,:C], [:B,:D], \n[ -2 => {inputs},\n  -1 => {outputs},\n  1 => Box(:f, [:A], [:B]),\n  2 => Box(:h, [:C], [:D]) ],\n[ Wire((-2,1) => (1,1)),\n  Wire((-2,2) => (2,1)),\n  Wire((1,1) => (-1,1)),\n  Wire((2,1) => (-1,2)) ])"
     },
     "metadata": {},
     "execution_count": 7
    }
   ],
   "cell_type": "code",
   "source": [
    "otimes(f,h)"
   ],
   "metadata": {},
   "execution_count": 7
  },
  {
   "outputs": [
    {
     "output_type": "execute_result",
     "data": {
      "text/plain": "Catlab.Graphics.Graphviz.Graph(\"G\", true, \"dot\", Catlab.Graphics.Graphviz.Statement[Catlab.Graphics.Graphviz.Subgraph(\"\", Catlab.Graphics.Graphviz.Statement[Catlab.Graphics.Graphviz.Node(\"n0in1\", OrderedCollections.OrderedDict{Symbol, Union{String, Catlab.Graphics.Graphviz.Html}}(:id => \"in1\")), Catlab.Graphics.Graphviz.Node(\"n0in2\", OrderedCollections.OrderedDict{Symbol, Union{String, Catlab.Graphics.Graphviz.Html}}(:id => \"in2\")), Catlab.Graphics.Graphviz.Edge(Catlab.Graphics.Graphviz.NodeID[Catlab.Graphics.Graphviz.NodeID(\"n0in1\", \"\", \"\"), Catlab.Graphics.Graphviz.NodeID(\"n0in2\", \"\", \"\")], OrderedCollections.OrderedDict{Symbol, Union{String, Catlab.Graphics.Graphviz.Html}}())], OrderedCollections.OrderedDict{Symbol, Union{String, Catlab.Graphics.Graphviz.Html}}(:rank => \"source\", :rankdir => \"TB\"), OrderedCollections.OrderedDict{Symbol, Union{String, Catlab.Graphics.Graphviz.Html}}(:style => \"invis\", :shape => \"none\", :label => \"\", :width => \"0\", :height => \"0.333\"), OrderedCollections.OrderedDict{Symbol, Union{String, Catlab.Graphics.Graphviz.Html}}(:style => \"invis\")), Catlab.Graphics.Graphviz.Subgraph(\"\", Catlab.Graphics.Graphviz.Statement[Catlab.Graphics.Graphviz.Node(\"n0out1\", OrderedCollections.OrderedDict{Symbol, Union{String, Catlab.Graphics.Graphviz.Html}}(:id => \"out1\")), Catlab.Graphics.Graphviz.Node(\"n0out2\", OrderedCollections.OrderedDict{Symbol, Union{String, Catlab.Graphics.Graphviz.Html}}(:id => \"out2\")), Catlab.Graphics.Graphviz.Edge(Catlab.Graphics.Graphviz.NodeID[Catlab.Graphics.Graphviz.NodeID(\"n0out1\", \"\", \"\"), Catlab.Graphics.Graphviz.NodeID(\"n0out2\", \"\", \"\")], OrderedCollections.OrderedDict{Symbol, Union{String, Catlab.Graphics.Graphviz.Html}}())], OrderedCollections.OrderedDict{Symbol, Union{String, Catlab.Graphics.Graphviz.Html}}(:rank => \"sink\", :rankdir => \"TB\"), OrderedCollections.OrderedDict{Symbol, Union{String, Catlab.Graphics.Graphviz.Html}}(:style => \"invis\", :shape => \"none\", :label => \"\", :width => \"0\", :height => \"0.333\"), OrderedCollections.OrderedDict{Symbol, Union{String, Catlab.Graphics.Graphviz.Html}}(:style => \"invis\")), Catlab.Graphics.Graphviz.Node(\"n1\", OrderedCollections.OrderedDict{Symbol, Union{String, Catlab.Graphics.Graphviz.Html}}(:comment => \"f\", :id => \"n1\", :label => Catlab.Graphics.Graphviz.Html(\"<TABLE BORDER=\\\"0\\\" CELLPADDING=\\\"0\\\" CELLSPACING=\\\"0\\\">\\n<TR>\\n<TD><TABLE BORDER=\\\"0\\\" CELLPADDING=\\\"0\\\" CELLSPACING=\\\"0\\\"><TR><TD HEIGHT=\\\"24\\\" WIDTH=\\\"0\\\" PORT=\\\"in1\\\"></TD></TR></TABLE></TD>\\n<TD BORDER=\\\"1\\\" CELLPADDING=\\\"4\\\">f</TD>\\n<TD><TABLE BORDER=\\\"0\\\" CELLPADDING=\\\"0\\\" CELLSPACING=\\\"0\\\"><TR><TD HEIGHT=\\\"24\\\" WIDTH=\\\"0\\\" PORT=\\\"out1\\\"></TD></TR></TABLE></TD>\\n</TR>\\n</TABLE>\"))), Catlab.Graphics.Graphviz.Node(\"n2\", OrderedCollections.OrderedDict{Symbol, Union{String, Catlab.Graphics.Graphviz.Html}}(:comment => \"h\", :id => \"n2\", :label => Catlab.Graphics.Graphviz.Html(\"<TABLE BORDER=\\\"0\\\" CELLPADDING=\\\"0\\\" CELLSPACING=\\\"0\\\">\\n<TR>\\n<TD><TABLE BORDER=\\\"0\\\" CELLPADDING=\\\"0\\\" CELLSPACING=\\\"0\\\"><TR><TD HEIGHT=\\\"24\\\" WIDTH=\\\"0\\\" PORT=\\\"in1\\\"></TD></TR></TABLE></TD>\\n<TD BORDER=\\\"1\\\" CELLPADDING=\\\"4\\\">h</TD>\\n<TD><TABLE BORDER=\\\"0\\\" CELLPADDING=\\\"0\\\" CELLSPACING=\\\"0\\\"><TR><TD HEIGHT=\\\"24\\\" WIDTH=\\\"0\\\" PORT=\\\"out1\\\"></TD></TR></TABLE></TD>\\n</TR>\\n</TABLE>\"))), Catlab.Graphics.Graphviz.Edge(Catlab.Graphics.Graphviz.NodeID[Catlab.Graphics.Graphviz.NodeID(\"n0in1\", \"e\", \"\"), Catlab.Graphics.Graphviz.NodeID(\"n1\", \"in1\", \"w\")], OrderedCollections.OrderedDict{Symbol, Union{String, Catlab.Graphics.Graphviz.Html}}(:comment => \"A\", :id => \"e1\", :xlabel => \"A\")), Catlab.Graphics.Graphviz.Edge(Catlab.Graphics.Graphviz.NodeID[Catlab.Graphics.Graphviz.NodeID(\"n0in2\", \"e\", \"\"), Catlab.Graphics.Graphviz.NodeID(\"n2\", \"in1\", \"w\")], OrderedCollections.OrderedDict{Symbol, Union{String, Catlab.Graphics.Graphviz.Html}}(:comment => \"C\", :id => \"e2\", :xlabel => \"C\")), Catlab.Graphics.Graphviz.Edge(Catlab.Graphics.Graphviz.NodeID[Catlab.Graphics.Graphviz.NodeID(\"n1\", \"out1\", \"e\"), Catlab.Graphics.Graphviz.NodeID(\"n0out1\", \"w\", \"\")], OrderedCollections.OrderedDict{Symbol, Union{String, Catlab.Graphics.Graphviz.Html}}(:comment => \"B\", :id => \"e3\", :xlabel => \"B\")), Catlab.Graphics.Graphviz.Edge(Catlab.Graphics.Graphviz.NodeID[Catlab.Graphics.Graphviz.NodeID(\"n2\", \"out1\", \"e\"), Catlab.Graphics.Graphviz.NodeID(\"n0out2\", \"w\", \"\")], OrderedCollections.OrderedDict{Symbol, Union{String, Catlab.Graphics.Graphviz.Html}}(:comment => \"D\", :id => \"e4\", :xlabel => \"D\"))], OrderedCollections.OrderedDict{Symbol, Union{String, Catlab.Graphics.Graphviz.Html}}(:fontname => \"Serif\", :rankdir => \"LR\"), OrderedCollections.OrderedDict{Symbol, Union{String, Catlab.Graphics.Graphviz.Html}}(:fontname => \"Courier\", :shape => \"none\", :width => \"0\", :height => \"0\", :margin => \"0\"), OrderedCollections.OrderedDict{Symbol, Union{String, Catlab.Graphics.Graphviz.Html}}(:arrowsize => \"0.5\", :fontname => \"Courier\"))",
      "image/svg+xml": [
       "<?xml version=\"1.0\" encoding=\"UTF-8\" standalone=\"no\"?>\n",
       "<!DOCTYPE svg PUBLIC \"-//W3C//DTD SVG 1.1//EN\"\n",
       " \"http://www.w3.org/Graphics/SVG/1.1/DTD/svg11.dtd\">\n",
       "<!-- Generated by graphviz version 2.43.0 (0)\n",
       " -->\n",
       "<!-- Title: G Pages: 1 -->\n",
       "<svg width=\"101pt\" height=\"79pt\"\n",
       " viewBox=\"0.00 0.00 101.00 79.01\" xmlns=\"http://www.w3.org/2000/svg\" xmlns:xlink=\"http://www.w3.org/1999/xlink\">\n",
       "<g id=\"graph0\" class=\"graph\" transform=\"scale(1 1) rotate(0) translate(4 75.01)\">\n",
       "<title>G</title>\n",
       "<polygon fill=\"white\" stroke=\"transparent\" points=\"-4,4 -4,-75.01 97,-75.01 97,4 -4,4\"/>\n",
       "<!-- n0in1 -->\n",
       "<!-- n0in2 -->\n",
       "<!-- n0in1&#45;&gt;n0in2 -->\n",
       "<!-- n1 -->\n",
       "<!-- f -->\n",
       "<g id=\"n1\" class=\"node\">\n",
       "<title>n1</title>\n",
       "<polygon fill=\"none\" stroke=\"black\" points=\"37.5,-45.51 37.5,-70.51 56.5,-70.51 56.5,-45.51 37.5,-45.51\"/>\n",
       "<text text-anchor=\"start\" x=\"42.5\" y=\"-54.31\" font-family=\"Courier,monospace\" font-size=\"14.00\">f</text>\n",
       "</g>\n",
       "<!-- n0in1&#45;&gt;n1 -->\n",
       "<!-- A -->\n",
       "<g id=\"e1\" class=\"edge\">\n",
       "<title>n0in1:e&#45;&gt;n1:w</title>\n",
       "<path fill=\"none\" stroke=\"black\" d=\"M1,-57.51C15.12,-57.51 19.9,-57.51 31.83,-57.51\"/>\n",
       "<polygon fill=\"black\" stroke=\"black\" points=\"32,-59.26 37,-57.51 32,-55.76 32,-59.26\"/>\n",
       "<text text-anchor=\"middle\" x=\"14.4\" y=\"-46.31\" font-family=\"Courier,monospace\" font-size=\"14.00\">A</text>\n",
       "</g>\n",
       "<!-- n2 -->\n",
       "<!-- h -->\n",
       "<g id=\"n2\" class=\"node\">\n",
       "<title>n2</title>\n",
       "<polygon fill=\"none\" stroke=\"black\" points=\"37.5,-2.51 37.5,-27.51 56.5,-27.51 56.5,-2.51 37.5,-2.51\"/>\n",
       "<text text-anchor=\"start\" x=\"42.5\" y=\"-11.31\" font-family=\"Courier,monospace\" font-size=\"14.00\">h</text>\n",
       "</g>\n",
       "<!-- n0in2&#45;&gt;n2 -->\n",
       "<!-- C -->\n",
       "<g id=\"e2\" class=\"edge\">\n",
       "<title>n0in2:e&#45;&gt;n2:w</title>\n",
       "<path fill=\"none\" stroke=\"black\" d=\"M1,-15.51C15.13,-15.51 19.89,-14.73 31.83,-14.54\"/>\n",
       "<polygon fill=\"black\" stroke=\"black\" points=\"32.01,-16.29 37,-14.51 31.99,-12.79 32.01,-16.29\"/>\n",
       "<text text-anchor=\"middle\" x=\"14.4\" y=\"-3.81\" font-family=\"Courier,monospace\" font-size=\"14.00\">C</text>\n",
       "</g>\n",
       "<!-- n0out1 -->\n",
       "<!-- n0out2 -->\n",
       "<!-- n0out1&#45;&gt;n0out2 -->\n",
       "<!-- n1&#45;&gt;n0out1 -->\n",
       "<!-- B -->\n",
       "<g id=\"e3\" class=\"edge\">\n",
       "<title>n1:e&#45;&gt;n0out1:w</title>\n",
       "<path fill=\"none\" stroke=\"black\" d=\"M56,-57.51C70.12,-57.51 74.9,-57.51 86.83,-57.51\"/>\n",
       "<polygon fill=\"black\" stroke=\"black\" points=\"87,-59.26 92,-57.51 87,-55.76 87,-59.26\"/>\n",
       "<text text-anchor=\"middle\" x=\"69.4\" y=\"-46.31\" font-family=\"Courier,monospace\" font-size=\"14.00\">B</text>\n",
       "</g>\n",
       "<!-- n2&#45;&gt;n0out2 -->\n",
       "<!-- D -->\n",
       "<g id=\"e4\" class=\"edge\">\n",
       "<title>n2:e&#45;&gt;n0out2:w</title>\n",
       "<path fill=\"none\" stroke=\"black\" d=\"M56,-14.51C70.13,-14.51 74.89,-15.28 86.83,-15.47\"/>\n",
       "<polygon fill=\"black\" stroke=\"black\" points=\"86.99,-17.22 92,-15.51 87.01,-13.72 86.99,-17.22\"/>\n",
       "<text text-anchor=\"middle\" x=\"69.4\" y=\"-3.8\" font-family=\"Courier,monospace\" font-size=\"14.00\">D</text>\n",
       "</g>\n",
       "</g>\n",
       "</svg>\n"
      ]
     },
     "metadata": {},
     "execution_count": 8
    }
   ],
   "cell_type": "code",
   "source": [
    "show_diagram(otimes(f,h))"
   ],
   "metadata": {},
   "execution_count": 8
  },
  {
   "cell_type": "markdown",
   "source": [
    "### Copy and merge, delete and create"
   ],
   "metadata": {}
  },
  {
   "outputs": [
    {
     "output_type": "execute_result",
     "data": {
      "text/plain": "WiringDiagram{BiproductCategory}([:B], [:B,:B], \n[ -2 => {inputs},\n  -1 => {outputs},\n   ],\n[ Wire((-2,1) => (-1,1)),\n  Wire((-2,1) => (-1,2)) ])"
     },
     "metadata": {},
     "execution_count": 9
    }
   ],
   "cell_type": "code",
   "source": [
    "mcopy(codom(f),2)"
   ],
   "metadata": {},
   "execution_count": 9
  },
  {
   "outputs": [
    {
     "output_type": "execute_result",
     "data": {
      "text/plain": "Catlab.Graphics.Graphviz.Graph(\"G\", true, \"dot\", Catlab.Graphics.Graphviz.Statement[Catlab.Graphics.Graphviz.Subgraph(\"\", Catlab.Graphics.Graphviz.Statement[Catlab.Graphics.Graphviz.Node(\"n0in1\", OrderedCollections.OrderedDict{Symbol, Union{String, Catlab.Graphics.Graphviz.Html}}(:id => \"in1\"))], OrderedCollections.OrderedDict{Symbol, Union{String, Catlab.Graphics.Graphviz.Html}}(:rank => \"source\", :rankdir => \"TB\"), OrderedCollections.OrderedDict{Symbol, Union{String, Catlab.Graphics.Graphviz.Html}}(:style => \"invis\", :shape => \"none\", :label => \"\", :width => \"0\", :height => \"0.333\"), OrderedCollections.OrderedDict{Symbol, Union{String, Catlab.Graphics.Graphviz.Html}}(:style => \"invis\")), Catlab.Graphics.Graphviz.Subgraph(\"\", Catlab.Graphics.Graphviz.Statement[Catlab.Graphics.Graphviz.Node(\"n0out1\", OrderedCollections.OrderedDict{Symbol, Union{String, Catlab.Graphics.Graphviz.Html}}(:id => \"out1\")), Catlab.Graphics.Graphviz.Node(\"n0out2\", OrderedCollections.OrderedDict{Symbol, Union{String, Catlab.Graphics.Graphviz.Html}}(:id => \"out2\")), Catlab.Graphics.Graphviz.Edge(Catlab.Graphics.Graphviz.NodeID[Catlab.Graphics.Graphviz.NodeID(\"n0out1\", \"\", \"\"), Catlab.Graphics.Graphviz.NodeID(\"n0out2\", \"\", \"\")], OrderedCollections.OrderedDict{Symbol, Union{String, Catlab.Graphics.Graphviz.Html}}())], OrderedCollections.OrderedDict{Symbol, Union{String, Catlab.Graphics.Graphviz.Html}}(:rank => \"sink\", :rankdir => \"TB\"), OrderedCollections.OrderedDict{Symbol, Union{String, Catlab.Graphics.Graphviz.Html}}(:style => \"invis\", :shape => \"none\", :label => \"\", :width => \"0\", :height => \"0.333\"), OrderedCollections.OrderedDict{Symbol, Union{String, Catlab.Graphics.Graphviz.Html}}(:style => \"invis\")), Catlab.Graphics.Graphviz.Edge(Catlab.Graphics.Graphviz.NodeID[Catlab.Graphics.Graphviz.NodeID(\"n0in1\", \"e\", \"\"), Catlab.Graphics.Graphviz.NodeID(\"n0out1\", \"w\", \"\")], OrderedCollections.OrderedDict{Symbol, Union{String, Catlab.Graphics.Graphviz.Html}}(:comment => \"B\", :id => \"e1\", :xlabel => \"B\")), Catlab.Graphics.Graphviz.Edge(Catlab.Graphics.Graphviz.NodeID[Catlab.Graphics.Graphviz.NodeID(\"n0in1\", \"e\", \"\"), Catlab.Graphics.Graphviz.NodeID(\"n0out2\", \"w\", \"\")], OrderedCollections.OrderedDict{Symbol, Union{String, Catlab.Graphics.Graphviz.Html}}(:comment => \"B\", :id => \"e2\", :xlabel => \"B\"))], OrderedCollections.OrderedDict{Symbol, Union{String, Catlab.Graphics.Graphviz.Html}}(:fontname => \"Serif\", :rankdir => \"LR\"), OrderedCollections.OrderedDict{Symbol, Union{String, Catlab.Graphics.Graphviz.Html}}(:fontname => \"Courier\", :shape => \"none\", :width => \"0\", :height => \"0\", :margin => \"0\"), OrderedCollections.OrderedDict{Symbol, Union{String, Catlab.Graphics.Graphviz.Html}}(:arrowsize => \"0.5\", :fontname => \"Courier\"))",
      "image/svg+xml": [
       "<?xml version=\"1.0\" encoding=\"UTF-8\" standalone=\"no\"?>\n",
       "<!DOCTYPE svg PUBLIC \"-//W3C//DTD SVG 1.1//EN\"\n",
       " \"http://www.w3.org/Graphics/SVG/1.1/DTD/svg11.dtd\">\n",
       "<!-- Generated by graphviz version 2.43.0 (0)\n",
       " -->\n",
       "<!-- Title: G Pages: 1 -->\n",
       "<svg width=\"46pt\" height=\"74pt\"\n",
       " viewBox=\"0.00 0.00 46.00 74.00\" xmlns=\"http://www.w3.org/2000/svg\" xmlns:xlink=\"http://www.w3.org/1999/xlink\">\n",
       "<g id=\"graph0\" class=\"graph\" transform=\"scale(1 1) rotate(0) translate(4 70)\">\n",
       "<title>G</title>\n",
       "<polygon fill=\"white\" stroke=\"transparent\" points=\"-4,4 -4,-70 42,-70 42,4 -4,4\"/>\n",
       "<!-- n0in1 -->\n",
       "<!-- n0out1 -->\n",
       "<!-- n0in1&#45;&gt;n0out1 -->\n",
       "<!-- B -->\n",
       "<g id=\"e1\" class=\"edge\">\n",
       "<title>n0in1:e&#45;&gt;n0out1:w</title>\n",
       "<path fill=\"none\" stroke=\"black\" d=\"M1,-33C17.64,-33 18.49,-49.95 31.92,-53.39\"/>\n",
       "<polygon fill=\"black\" stroke=\"black\" points=\"31.83,-55.15 37,-54 32.24,-51.67 31.83,-55.15\"/>\n",
       "<text text-anchor=\"middle\" x=\"14.27\" y=\"-32.03\" font-family=\"Courier,monospace\" font-size=\"14.00\">B</text>\n",
       "</g>\n",
       "<!-- n0out2 -->\n",
       "<!-- n0in1&#45;&gt;n0out2 -->\n",
       "<!-- B -->\n",
       "<g id=\"e2\" class=\"edge\">\n",
       "<title>n0in1:e&#45;&gt;n0out2:w</title>\n",
       "<path fill=\"none\" stroke=\"black\" d=\"M1,-33C17.64,-33 18.49,-16.05 31.92,-12.61\"/>\n",
       "<polygon fill=\"black\" stroke=\"black\" points=\"32.24,-14.33 37,-12 31.83,-10.85 32.24,-14.33\"/>\n",
       "<text text-anchor=\"middle\" x=\"14.27\" y=\"-11.57\" font-family=\"Courier,monospace\" font-size=\"14.00\">B</text>\n",
       "</g>\n",
       "<!-- n0out1&#45;&gt;n0out2 -->\n",
       "</g>\n",
       "</svg>\n"
      ]
     },
     "metadata": {},
     "execution_count": 10
    }
   ],
   "cell_type": "code",
   "source": [
    "show_diagram(mcopy(codom(f),2))"
   ],
   "metadata": {},
   "execution_count": 10
  },
  {
   "outputs": [
    {
     "output_type": "execute_result",
     "data": {
      "text/plain": "Catlab.Graphics.Graphviz.Graph(\"G\", true, \"dot\", Catlab.Graphics.Graphviz.Statement[Catlab.Graphics.Graphviz.Subgraph(\"\", Catlab.Graphics.Graphviz.Statement[Catlab.Graphics.Graphviz.Node(\"n0in1\", OrderedCollections.OrderedDict{Symbol, Union{String, Catlab.Graphics.Graphviz.Html}}(:id => \"in1\"))], OrderedCollections.OrderedDict{Symbol, Union{String, Catlab.Graphics.Graphviz.Html}}(:rank => \"source\", :rankdir => \"TB\"), OrderedCollections.OrderedDict{Symbol, Union{String, Catlab.Graphics.Graphviz.Html}}(:style => \"invis\", :shape => \"none\", :label => \"\", :width => \"0\", :height => \"0.333\"), OrderedCollections.OrderedDict{Symbol, Union{String, Catlab.Graphics.Graphviz.Html}}(:style => \"invis\")), Catlab.Graphics.Graphviz.Subgraph(\"\", Catlab.Graphics.Graphviz.Statement[Catlab.Graphics.Graphviz.Node(\"n0out1\", OrderedCollections.OrderedDict{Symbol, Union{String, Catlab.Graphics.Graphviz.Html}}(:id => \"out1\")), Catlab.Graphics.Graphviz.Node(\"n0out2\", OrderedCollections.OrderedDict{Symbol, Union{String, Catlab.Graphics.Graphviz.Html}}(:id => \"out2\")), Catlab.Graphics.Graphviz.Edge(Catlab.Graphics.Graphviz.NodeID[Catlab.Graphics.Graphviz.NodeID(\"n0out1\", \"\", \"\"), Catlab.Graphics.Graphviz.NodeID(\"n0out2\", \"\", \"\")], OrderedCollections.OrderedDict{Symbol, Union{String, Catlab.Graphics.Graphviz.Html}}())], OrderedCollections.OrderedDict{Symbol, Union{String, Catlab.Graphics.Graphviz.Html}}(:rank => \"sink\", :rankdir => \"TB\"), OrderedCollections.OrderedDict{Symbol, Union{String, Catlab.Graphics.Graphviz.Html}}(:style => \"invis\", :shape => \"none\", :label => \"\", :width => \"0\", :height => \"0.333\"), OrderedCollections.OrderedDict{Symbol, Union{String, Catlab.Graphics.Graphviz.Html}}(:style => \"invis\")), Catlab.Graphics.Graphviz.Node(\"n1\", OrderedCollections.OrderedDict{Symbol, Union{String, Catlab.Graphics.Graphviz.Html}}(:comment => \"f\", :id => \"n1\", :label => Catlab.Graphics.Graphviz.Html(\"<TABLE BORDER=\\\"0\\\" CELLPADDING=\\\"0\\\" CELLSPACING=\\\"0\\\">\\n<TR>\\n<TD><TABLE BORDER=\\\"0\\\" CELLPADDING=\\\"0\\\" CELLSPACING=\\\"0\\\"><TR><TD HEIGHT=\\\"24\\\" WIDTH=\\\"0\\\" PORT=\\\"in1\\\"></TD></TR></TABLE></TD>\\n<TD BORDER=\\\"1\\\" CELLPADDING=\\\"4\\\">f</TD>\\n<TD><TABLE BORDER=\\\"0\\\" CELLPADDING=\\\"0\\\" CELLSPACING=\\\"0\\\"><TR><TD HEIGHT=\\\"24\\\" WIDTH=\\\"0\\\" PORT=\\\"out1\\\"></TD></TR></TABLE></TD>\\n</TR>\\n</TABLE>\"))), Catlab.Graphics.Graphviz.Edge(Catlab.Graphics.Graphviz.NodeID[Catlab.Graphics.Graphviz.NodeID(\"n0in1\", \"e\", \"\"), Catlab.Graphics.Graphviz.NodeID(\"n1\", \"in1\", \"w\")], OrderedCollections.OrderedDict{Symbol, Union{String, Catlab.Graphics.Graphviz.Html}}(:comment => \"A\", :id => \"e1\", :xlabel => \"A\")), Catlab.Graphics.Graphviz.Edge(Catlab.Graphics.Graphviz.NodeID[Catlab.Graphics.Graphviz.NodeID(\"n1\", \"out1\", \"e\"), Catlab.Graphics.Graphviz.NodeID(\"n0out2\", \"w\", \"\")], OrderedCollections.OrderedDict{Symbol, Union{String, Catlab.Graphics.Graphviz.Html}}(:comment => \"B\", :id => \"e2\", :xlabel => \"B\")), Catlab.Graphics.Graphviz.Edge(Catlab.Graphics.Graphviz.NodeID[Catlab.Graphics.Graphviz.NodeID(\"n1\", \"out1\", \"e\"), Catlab.Graphics.Graphviz.NodeID(\"n0out1\", \"w\", \"\")], OrderedCollections.OrderedDict{Symbol, Union{String, Catlab.Graphics.Graphviz.Html}}(:comment => \"B\", :id => \"e3\", :xlabel => \"B\"))], OrderedCollections.OrderedDict{Symbol, Union{String, Catlab.Graphics.Graphviz.Html}}(:fontname => \"Serif\", :rankdir => \"LR\"), OrderedCollections.OrderedDict{Symbol, Union{String, Catlab.Graphics.Graphviz.Html}}(:fontname => \"Courier\", :shape => \"none\", :width => \"0\", :height => \"0\", :margin => \"0\"), OrderedCollections.OrderedDict{Symbol, Union{String, Catlab.Graphics.Graphviz.Html}}(:arrowsize => \"0.5\", :fontname => \"Courier\"))",
      "image/svg+xml": [
       "<?xml version=\"1.0\" encoding=\"UTF-8\" standalone=\"no\"?>\n",
       "<!DOCTYPE svg PUBLIC \"-//W3C//DTD SVG 1.1//EN\"\n",
       " \"http://www.w3.org/Graphics/SVG/1.1/DTD/svg11.dtd\">\n",
       "<!-- Generated by graphviz version 2.43.0 (0)\n",
       " -->\n",
       "<!-- Title: G Pages: 1 -->\n",
       "<svg width=\"101pt\" height=\"74pt\"\n",
       " viewBox=\"0.00 0.00 101.00 74.00\" xmlns=\"http://www.w3.org/2000/svg\" xmlns:xlink=\"http://www.w3.org/1999/xlink\">\n",
       "<g id=\"graph0\" class=\"graph\" transform=\"scale(1 1) rotate(0) translate(4 70)\">\n",
       "<title>G</title>\n",
       "<polygon fill=\"white\" stroke=\"transparent\" points=\"-4,4 -4,-70 97,-70 97,4 -4,4\"/>\n",
       "<!-- n0in1 -->\n",
       "<!-- n1 -->\n",
       "<!-- f -->\n",
       "<g id=\"n1\" class=\"node\">\n",
       "<title>n1</title>\n",
       "<polygon fill=\"none\" stroke=\"black\" points=\"37.5,-21 37.5,-46 56.5,-46 56.5,-21 37.5,-21\"/>\n",
       "<text text-anchor=\"start\" x=\"42.5\" y=\"-29.8\" font-family=\"Courier,monospace\" font-size=\"14.00\">f</text>\n",
       "</g>\n",
       "<!-- n0in1&#45;&gt;n1 -->\n",
       "<!-- A -->\n",
       "<g id=\"e1\" class=\"edge\">\n",
       "<title>n0in1:e&#45;&gt;n1:w</title>\n",
       "<path fill=\"none\" stroke=\"black\" d=\"M1,-33C15.12,-33 19.9,-33 31.83,-33\"/>\n",
       "<polygon fill=\"black\" stroke=\"black\" points=\"32,-34.75 37,-33 32,-31.25 32,-34.75\"/>\n",
       "<text text-anchor=\"middle\" x=\"14.4\" y=\"-21.8\" font-family=\"Courier,monospace\" font-size=\"14.00\">A</text>\n",
       "</g>\n",
       "<!-- n0out1 -->\n",
       "<!-- n0out2 -->\n",
       "<!-- n0out1&#45;&gt;n0out2 -->\n",
       "<!-- n1&#45;&gt;n0out1 -->\n",
       "<!-- B -->\n",
       "<g id=\"e3\" class=\"edge\">\n",
       "<title>n1:e&#45;&gt;n0out1:w</title>\n",
       "<path fill=\"none\" stroke=\"black\" d=\"M56,-33C72.64,-33 73.49,-49.95 86.92,-53.39\"/>\n",
       "<polygon fill=\"black\" stroke=\"black\" points=\"86.83,-55.15 92,-54 87.24,-51.67 86.83,-55.15\"/>\n",
       "<text text-anchor=\"middle\" x=\"69.27\" y=\"-32.03\" font-family=\"Courier,monospace\" font-size=\"14.00\">B</text>\n",
       "</g>\n",
       "<!-- n1&#45;&gt;n0out2 -->\n",
       "<!-- B -->\n",
       "<g id=\"e2\" class=\"edge\">\n",
       "<title>n1:e&#45;&gt;n0out2:w</title>\n",
       "<path fill=\"none\" stroke=\"black\" d=\"M56,-33C72.64,-33 73.49,-16.05 86.92,-12.61\"/>\n",
       "<polygon fill=\"black\" stroke=\"black\" points=\"87.24,-14.33 92,-12 86.83,-10.85 87.24,-14.33\"/>\n",
       "<text text-anchor=\"middle\" x=\"69.27\" y=\"-11.57\" font-family=\"Courier,monospace\" font-size=\"14.00\">B</text>\n",
       "</g>\n",
       "</g>\n",
       "</svg>\n"
      ]
     },
     "metadata": {},
     "execution_count": 11
    }
   ],
   "cell_type": "code",
   "source": [
    "show_diagram(compose(f, mcopy(codom(f),2)))"
   ],
   "metadata": {},
   "execution_count": 11
  },
  {
   "outputs": [
    {
     "output_type": "execute_result",
     "data": {
      "text/plain": "Catlab.Graphics.Graphviz.Graph(\"G\", true, \"dot\", Catlab.Graphics.Graphviz.Statement[Catlab.Graphics.Graphviz.Subgraph(\"\", Catlab.Graphics.Graphviz.Statement[Catlab.Graphics.Graphviz.Node(\"n0in1\", OrderedCollections.OrderedDict{Symbol, Union{String, Catlab.Graphics.Graphviz.Html}}(:id => \"in1\"))], OrderedCollections.OrderedDict{Symbol, Union{String, Catlab.Graphics.Graphviz.Html}}(:rank => \"source\", :rankdir => \"TB\"), OrderedCollections.OrderedDict{Symbol, Union{String, Catlab.Graphics.Graphviz.Html}}(:style => \"invis\", :shape => \"none\", :label => \"\", :width => \"0\", :height => \"0.333\"), OrderedCollections.OrderedDict{Symbol, Union{String, Catlab.Graphics.Graphviz.Html}}(:style => \"invis\")), Catlab.Graphics.Graphviz.Subgraph(\"\", Catlab.Graphics.Graphviz.Statement[Catlab.Graphics.Graphviz.Node(\"n0out1\", OrderedCollections.OrderedDict{Symbol, Union{String, Catlab.Graphics.Graphviz.Html}}(:id => \"out1\")), Catlab.Graphics.Graphviz.Node(\"n0out2\", OrderedCollections.OrderedDict{Symbol, Union{String, Catlab.Graphics.Graphviz.Html}}(:id => \"out2\")), Catlab.Graphics.Graphviz.Edge(Catlab.Graphics.Graphviz.NodeID[Catlab.Graphics.Graphviz.NodeID(\"n0out1\", \"\", \"\"), Catlab.Graphics.Graphviz.NodeID(\"n0out2\", \"\", \"\")], OrderedCollections.OrderedDict{Symbol, Union{String, Catlab.Graphics.Graphviz.Html}}())], OrderedCollections.OrderedDict{Symbol, Union{String, Catlab.Graphics.Graphviz.Html}}(:rank => \"sink\", :rankdir => \"TB\"), OrderedCollections.OrderedDict{Symbol, Union{String, Catlab.Graphics.Graphviz.Html}}(:style => \"invis\", :shape => \"none\", :label => \"\", :width => \"0\", :height => \"0.333\"), OrderedCollections.OrderedDict{Symbol, Union{String, Catlab.Graphics.Graphviz.Html}}(:style => \"invis\")), Catlab.Graphics.Graphviz.Node(\"n1\", OrderedCollections.OrderedDict{Symbol, Union{String, Catlab.Graphics.Graphviz.Html}}(:comment => \"f\", :id => \"n1\", :label => Catlab.Graphics.Graphviz.Html(\"<TABLE BORDER=\\\"0\\\" CELLPADDING=\\\"0\\\" CELLSPACING=\\\"0\\\">\\n<TR>\\n<TD><TABLE BORDER=\\\"0\\\" CELLPADDING=\\\"0\\\" CELLSPACING=\\\"0\\\"><TR><TD HEIGHT=\\\"24\\\" WIDTH=\\\"0\\\" PORT=\\\"in1\\\"></TD></TR></TABLE></TD>\\n<TD BORDER=\\\"1\\\" CELLPADDING=\\\"4\\\">f</TD>\\n<TD><TABLE BORDER=\\\"0\\\" CELLPADDING=\\\"0\\\" CELLSPACING=\\\"0\\\"><TR><TD HEIGHT=\\\"24\\\" WIDTH=\\\"0\\\" PORT=\\\"out1\\\"></TD></TR></TABLE></TD>\\n</TR>\\n</TABLE>\"))), Catlab.Graphics.Graphviz.Node(\"n2\", OrderedCollections.OrderedDict{Symbol, Union{String, Catlab.Graphics.Graphviz.Html}}(:comment => \"f\", :id => \"n2\", :label => Catlab.Graphics.Graphviz.Html(\"<TABLE BORDER=\\\"0\\\" CELLPADDING=\\\"0\\\" CELLSPACING=\\\"0\\\">\\n<TR>\\n<TD><TABLE BORDER=\\\"0\\\" CELLPADDING=\\\"0\\\" CELLSPACING=\\\"0\\\"><TR><TD HEIGHT=\\\"24\\\" WIDTH=\\\"0\\\" PORT=\\\"in1\\\"></TD></TR></TABLE></TD>\\n<TD BORDER=\\\"1\\\" CELLPADDING=\\\"4\\\">f</TD>\\n<TD><TABLE BORDER=\\\"0\\\" CELLPADDING=\\\"0\\\" CELLSPACING=\\\"0\\\"><TR><TD HEIGHT=\\\"24\\\" WIDTH=\\\"0\\\" PORT=\\\"out1\\\"></TD></TR></TABLE></TD>\\n</TR>\\n</TABLE>\"))), Catlab.Graphics.Graphviz.Edge(Catlab.Graphics.Graphviz.NodeID[Catlab.Graphics.Graphviz.NodeID(\"n0in1\", \"e\", \"\"), Catlab.Graphics.Graphviz.NodeID(\"n2\", \"in1\", \"w\")], OrderedCollections.OrderedDict{Symbol, Union{String, Catlab.Graphics.Graphviz.Html}}(:comment => \"A\", :id => \"e1\", :xlabel => \"A\")), Catlab.Graphics.Graphviz.Edge(Catlab.Graphics.Graphviz.NodeID[Catlab.Graphics.Graphviz.NodeID(\"n0in1\", \"e\", \"\"), Catlab.Graphics.Graphviz.NodeID(\"n1\", \"in1\", \"w\")], OrderedCollections.OrderedDict{Symbol, Union{String, Catlab.Graphics.Graphviz.Html}}(:comment => \"A\", :id => \"e2\", :xlabel => \"A\")), Catlab.Graphics.Graphviz.Edge(Catlab.Graphics.Graphviz.NodeID[Catlab.Graphics.Graphviz.NodeID(\"n1\", \"out1\", \"e\"), Catlab.Graphics.Graphviz.NodeID(\"n0out1\", \"w\", \"\")], OrderedCollections.OrderedDict{Symbol, Union{String, Catlab.Graphics.Graphviz.Html}}(:comment => \"B\", :id => \"e3\", :xlabel => \"B\")), Catlab.Graphics.Graphviz.Edge(Catlab.Graphics.Graphviz.NodeID[Catlab.Graphics.Graphviz.NodeID(\"n2\", \"out1\", \"e\"), Catlab.Graphics.Graphviz.NodeID(\"n0out2\", \"w\", \"\")], OrderedCollections.OrderedDict{Symbol, Union{String, Catlab.Graphics.Graphviz.Html}}(:comment => \"B\", :id => \"e4\", :xlabel => \"B\"))], OrderedCollections.OrderedDict{Symbol, Union{String, Catlab.Graphics.Graphviz.Html}}(:fontname => \"Serif\", :rankdir => \"LR\"), OrderedCollections.OrderedDict{Symbol, Union{String, Catlab.Graphics.Graphviz.Html}}(:fontname => \"Courier\", :shape => \"none\", :width => \"0\", :height => \"0\", :margin => \"0\"), OrderedCollections.OrderedDict{Symbol, Union{String, Catlab.Graphics.Graphviz.Html}}(:arrowsize => \"0.5\", :fontname => \"Courier\"))",
      "image/svg+xml": [
       "<?xml version=\"1.0\" encoding=\"UTF-8\" standalone=\"no\"?>\n",
       "<!DOCTYPE svg PUBLIC \"-//W3C//DTD SVG 1.1//EN\"\n",
       " \"http://www.w3.org/Graphics/SVG/1.1/DTD/svg11.dtd\">\n",
       "<!-- Generated by graphviz version 2.43.0 (0)\n",
       " -->\n",
       "<!-- Title: G Pages: 1 -->\n",
       "<svg width=\"101pt\" height=\"79pt\"\n",
       " viewBox=\"0.00 0.00 101.00 79.01\" xmlns=\"http://www.w3.org/2000/svg\" xmlns:xlink=\"http://www.w3.org/1999/xlink\">\n",
       "<g id=\"graph0\" class=\"graph\" transform=\"scale(1 1) rotate(0) translate(4 75.01)\">\n",
       "<title>G</title>\n",
       "<polygon fill=\"white\" stroke=\"transparent\" points=\"-4,4 -4,-75.01 97,-75.01 97,4 -4,4\"/>\n",
       "<!-- n0in1 -->\n",
       "<!-- n1 -->\n",
       "<!-- f -->\n",
       "<g id=\"n1\" class=\"node\">\n",
       "<title>n1</title>\n",
       "<polygon fill=\"none\" stroke=\"black\" points=\"37.5,-45.51 37.5,-70.51 56.5,-70.51 56.5,-45.51 37.5,-45.51\"/>\n",
       "<text text-anchor=\"start\" x=\"42.5\" y=\"-54.31\" font-family=\"Courier,monospace\" font-size=\"14.00\">f</text>\n",
       "</g>\n",
       "<!-- n0in1&#45;&gt;n1 -->\n",
       "<!-- A -->\n",
       "<g id=\"e2\" class=\"edge\">\n",
       "<title>n0in1:e&#45;&gt;n1:w</title>\n",
       "<path fill=\"none\" stroke=\"black\" d=\"M1,-35.51C17.85,-35.51 18.35,-53.26 31.87,-56.87\"/>\n",
       "<polygon fill=\"black\" stroke=\"black\" points=\"31.82,-58.63 37,-57.51 32.25,-55.15 31.82,-58.63\"/>\n",
       "<text text-anchor=\"middle\" x=\"14.28\" y=\"-35.02\" font-family=\"Courier,monospace\" font-size=\"14.00\">A</text>\n",
       "</g>\n",
       "<!-- n2 -->\n",
       "<!-- f -->\n",
       "<g id=\"n2\" class=\"node\">\n",
       "<title>n2</title>\n",
       "<polygon fill=\"none\" stroke=\"black\" points=\"37.5,-2.51 37.5,-27.51 56.5,-27.51 56.5,-2.51 37.5,-2.51\"/>\n",
       "<text text-anchor=\"start\" x=\"42.5\" y=\"-11.31\" font-family=\"Courier,monospace\" font-size=\"14.00\">f</text>\n",
       "</g>\n",
       "<!-- n0in1&#45;&gt;n2 -->\n",
       "<!-- A -->\n",
       "<g id=\"e1\" class=\"edge\">\n",
       "<title>n0in1:e&#45;&gt;n2:w</title>\n",
       "<path fill=\"none\" stroke=\"black\" d=\"M1,-35.51C17.64,-35.51 18.49,-18.55 31.92,-15.11\"/>\n",
       "<polygon fill=\"black\" stroke=\"black\" points=\"32.24,-16.84 37,-14.51 31.83,-13.36 32.24,-16.84\"/>\n",
       "<text text-anchor=\"middle\" x=\"14.27\" y=\"-14.08\" font-family=\"Courier,monospace\" font-size=\"14.00\">A</text>\n",
       "</g>\n",
       "<!-- n0out1 -->\n",
       "<!-- n0out2 -->\n",
       "<!-- n0out1&#45;&gt;n0out2 -->\n",
       "<!-- n1&#45;&gt;n0out1 -->\n",
       "<!-- B -->\n",
       "<g id=\"e3\" class=\"edge\">\n",
       "<title>n1:e&#45;&gt;n0out1:w</title>\n",
       "<path fill=\"none\" stroke=\"black\" d=\"M56,-57.51C70.12,-57.51 74.9,-57.51 86.83,-57.51\"/>\n",
       "<polygon fill=\"black\" stroke=\"black\" points=\"87,-59.26 92,-57.51 87,-55.76 87,-59.26\"/>\n",
       "<text text-anchor=\"middle\" x=\"69.4\" y=\"-46.31\" font-family=\"Courier,monospace\" font-size=\"14.00\">B</text>\n",
       "</g>\n",
       "<!-- n2&#45;&gt;n0out2 -->\n",
       "<!-- B -->\n",
       "<g id=\"e4\" class=\"edge\">\n",
       "<title>n2:e&#45;&gt;n0out2:w</title>\n",
       "<path fill=\"none\" stroke=\"black\" d=\"M56,-14.51C70.13,-14.51 74.89,-15.28 86.83,-15.47\"/>\n",
       "<polygon fill=\"black\" stroke=\"black\" points=\"86.99,-17.22 92,-15.51 87.01,-13.72 86.99,-17.22\"/>\n",
       "<text text-anchor=\"middle\" x=\"69.4\" y=\"-3.8\" font-family=\"Courier,monospace\" font-size=\"14.00\">B</text>\n",
       "</g>\n",
       "</g>\n",
       "</svg>\n"
      ]
     },
     "metadata": {},
     "execution_count": 12
    }
   ],
   "cell_type": "code",
   "source": [
    "show_diagram(compose(mcopy(dom(f),2), otimes(f,f)))"
   ],
   "metadata": {},
   "execution_count": 12
  },
  {
   "cell_type": "markdown",
   "source": [
    "## Imperative interface\n",
    "\n",
    "We now show how to manipulate wiring diagrams using the low-level, imperative\n",
    "interface. The diagrams will carry Julia symbols."
   ],
   "metadata": {}
  },
  {
   "outputs": [
    {
     "output_type": "execute_result",
     "data": {
      "text/plain": "Box(:f, [:A], [:B])"
     },
     "metadata": {},
     "execution_count": 13
    }
   ],
   "cell_type": "code",
   "source": [
    "f = Box(:f, [:A], [:B])\n",
    "g = Box(:g, [:B], [:C])\n",
    "h = Box(:h, [:C], [:D])\n",
    "\n",
    "f"
   ],
   "metadata": {},
   "execution_count": 13
  },
  {
   "cell_type": "markdown",
   "source": [
    "### Composition\n",
    "\n",
    "For example, here is how to manually construct a composition of two boxes.\n",
    "\n",
    "The `add_box!` method adds a box to a wiring diagrams and returns the ID\n",
    "assigned to the box. How the boxes are indexed is an implementation detail\n",
    "that you should not rely on; use the IDs that the system gives you."
   ],
   "metadata": {}
  },
  {
   "outputs": [
    {
     "output_type": "execute_result",
     "data": {
      "text/plain": "2"
     },
     "metadata": {},
     "execution_count": 14
    }
   ],
   "cell_type": "code",
   "source": [
    "d = WiringDiagram([:A], [:C])\n",
    "\n",
    "fv = add_box!(d, f)\n",
    "gv = add_box!(d, g)\n",
    "\n",
    "add_wires!(d, [\n",
    "  (input_id(d),1) => (fv,1),\n",
    "  (fv,1) => (gv,1),\n",
    "  (gv,1) => (output_id(d),1),\n",
    "])\n",
    "\n",
    "nboxes(d)"
   ],
   "metadata": {},
   "execution_count": 14
  },
  {
   "outputs": [
    {
     "output_type": "execute_result",
     "data": {
      "text/plain": "3"
     },
     "metadata": {},
     "execution_count": 15
    }
   ],
   "cell_type": "code",
   "source": [
    "nwires(d)"
   ],
   "metadata": {},
   "execution_count": 15
  },
  {
   "outputs": [
    {
     "output_type": "execute_result",
     "data": {
      "text/plain": "WiringDiagram([:A], [:C], \n[ -2 => {inputs},\n  -1 => {outputs},\n  1 => Box(:f, [:A], [:B]),\n  2 => Box(:g, [:B], [:C]) ],\n[ Wire((-2,1) => (1,1)),\n  Wire((1,1) => (2,1)),\n  Wire((2,1) => (-1,1)) ])"
     },
     "metadata": {},
     "execution_count": 16
    }
   ],
   "cell_type": "code",
   "source": [
    "d"
   ],
   "metadata": {},
   "execution_count": 16
  },
  {
   "outputs": [
    {
     "output_type": "execute_result",
     "data": {
      "text/plain": "Catlab.Graphics.Graphviz.Graph(\"G\", true, \"dot\", Catlab.Graphics.Graphviz.Statement[Catlab.Graphics.Graphviz.Subgraph(\"\", Catlab.Graphics.Graphviz.Statement[Catlab.Graphics.Graphviz.Node(\"n0in1\", OrderedCollections.OrderedDict{Symbol, Union{String, Catlab.Graphics.Graphviz.Html}}(:id => \"in1\"))], OrderedCollections.OrderedDict{Symbol, Union{String, Catlab.Graphics.Graphviz.Html}}(:rank => \"source\", :rankdir => \"TB\"), OrderedCollections.OrderedDict{Symbol, Union{String, Catlab.Graphics.Graphviz.Html}}(:style => \"invis\", :shape => \"none\", :label => \"\", :width => \"0\", :height => \"0.333\"), OrderedCollections.OrderedDict{Symbol, Union{String, Catlab.Graphics.Graphviz.Html}}(:style => \"invis\")), Catlab.Graphics.Graphviz.Subgraph(\"\", Catlab.Graphics.Graphviz.Statement[Catlab.Graphics.Graphviz.Node(\"n0out1\", OrderedCollections.OrderedDict{Symbol, Union{String, Catlab.Graphics.Graphviz.Html}}(:id => \"out1\"))], OrderedCollections.OrderedDict{Symbol, Union{String, Catlab.Graphics.Graphviz.Html}}(:rank => \"sink\", :rankdir => \"TB\"), OrderedCollections.OrderedDict{Symbol, Union{String, Catlab.Graphics.Graphviz.Html}}(:style => \"invis\", :shape => \"none\", :label => \"\", :width => \"0\", :height => \"0.333\"), OrderedCollections.OrderedDict{Symbol, Union{String, Catlab.Graphics.Graphviz.Html}}(:style => \"invis\")), Catlab.Graphics.Graphviz.Node(\"n1\", OrderedCollections.OrderedDict{Symbol, Union{String, Catlab.Graphics.Graphviz.Html}}(:comment => \"f\", :id => \"n1\", :label => Catlab.Graphics.Graphviz.Html(\"<TABLE BORDER=\\\"0\\\" CELLPADDING=\\\"0\\\" CELLSPACING=\\\"0\\\">\\n<TR>\\n<TD><TABLE BORDER=\\\"0\\\" CELLPADDING=\\\"0\\\" CELLSPACING=\\\"0\\\"><TR><TD HEIGHT=\\\"24\\\" WIDTH=\\\"0\\\" PORT=\\\"in1\\\"></TD></TR></TABLE></TD>\\n<TD BORDER=\\\"1\\\" CELLPADDING=\\\"4\\\">f</TD>\\n<TD><TABLE BORDER=\\\"0\\\" CELLPADDING=\\\"0\\\" CELLSPACING=\\\"0\\\"><TR><TD HEIGHT=\\\"24\\\" WIDTH=\\\"0\\\" PORT=\\\"out1\\\"></TD></TR></TABLE></TD>\\n</TR>\\n</TABLE>\"))), Catlab.Graphics.Graphviz.Node(\"n2\", OrderedCollections.OrderedDict{Symbol, Union{String, Catlab.Graphics.Graphviz.Html}}(:comment => \"g\", :id => \"n2\", :label => Catlab.Graphics.Graphviz.Html(\"<TABLE BORDER=\\\"0\\\" CELLPADDING=\\\"0\\\" CELLSPACING=\\\"0\\\">\\n<TR>\\n<TD><TABLE BORDER=\\\"0\\\" CELLPADDING=\\\"0\\\" CELLSPACING=\\\"0\\\"><TR><TD HEIGHT=\\\"24\\\" WIDTH=\\\"0\\\" PORT=\\\"in1\\\"></TD></TR></TABLE></TD>\\n<TD BORDER=\\\"1\\\" CELLPADDING=\\\"4\\\">g</TD>\\n<TD><TABLE BORDER=\\\"0\\\" CELLPADDING=\\\"0\\\" CELLSPACING=\\\"0\\\"><TR><TD HEIGHT=\\\"24\\\" WIDTH=\\\"0\\\" PORT=\\\"out1\\\"></TD></TR></TABLE></TD>\\n</TR>\\n</TABLE>\"))), Catlab.Graphics.Graphviz.Edge(Catlab.Graphics.Graphviz.NodeID[Catlab.Graphics.Graphviz.NodeID(\"n0in1\", \"e\", \"\"), Catlab.Graphics.Graphviz.NodeID(\"n1\", \"in1\", \"w\")], OrderedCollections.OrderedDict{Symbol, Union{String, Catlab.Graphics.Graphviz.Html}}(:comment => \"A\", :id => \"e1\", :xlabel => \"A\")), Catlab.Graphics.Graphviz.Edge(Catlab.Graphics.Graphviz.NodeID[Catlab.Graphics.Graphviz.NodeID(\"n1\", \"out1\", \"e\"), Catlab.Graphics.Graphviz.NodeID(\"n2\", \"in1\", \"w\")], OrderedCollections.OrderedDict{Symbol, Union{String, Catlab.Graphics.Graphviz.Html}}(:comment => \"B\", :id => \"e2\", :xlabel => \"B\")), Catlab.Graphics.Graphviz.Edge(Catlab.Graphics.Graphviz.NodeID[Catlab.Graphics.Graphviz.NodeID(\"n2\", \"out1\", \"e\"), Catlab.Graphics.Graphviz.NodeID(\"n0out1\", \"w\", \"\")], OrderedCollections.OrderedDict{Symbol, Union{String, Catlab.Graphics.Graphviz.Html}}(:comment => \"C\", :id => \"e3\", :xlabel => \"C\"))], OrderedCollections.OrderedDict{Symbol, Union{String, Catlab.Graphics.Graphviz.Html}}(:fontname => \"Serif\", :rankdir => \"LR\"), OrderedCollections.OrderedDict{Symbol, Union{String, Catlab.Graphics.Graphviz.Html}}(:fontname => \"Courier\", :shape => \"none\", :width => \"0\", :height => \"0\", :margin => \"0\"), OrderedCollections.OrderedDict{Symbol, Union{String, Catlab.Graphics.Graphviz.Html}}(:arrowsize => \"0.5\", :fontname => \"Courier\"))",
      "image/svg+xml": [
       "<?xml version=\"1.0\" encoding=\"UTF-8\" standalone=\"no\"?>\n",
       "<!DOCTYPE svg PUBLIC \"-//W3C//DTD SVG 1.1//EN\"\n",
       " \"http://www.w3.org/Graphics/SVG/1.1/DTD/svg11.dtd\">\n",
       "<!-- Generated by graphviz version 2.43.0 (0)\n",
       " -->\n",
       "<!-- Title: G Pages: 1 -->\n",
       "<svg width=\"156pt\" height=\"37pt\"\n",
       " viewBox=\"0.00 0.00 156.00 36.50\" xmlns=\"http://www.w3.org/2000/svg\" xmlns:xlink=\"http://www.w3.org/1999/xlink\">\n",
       "<g id=\"graph0\" class=\"graph\" transform=\"scale(1 1) rotate(0) translate(4 32.5)\">\n",
       "<title>G</title>\n",
       "<polygon fill=\"white\" stroke=\"transparent\" points=\"-4,4 -4,-32.5 152,-32.5 152,4 -4,4\"/>\n",
       "<!-- n0in1 -->\n",
       "<!-- n1 -->\n",
       "<!-- f -->\n",
       "<g id=\"n1\" class=\"node\">\n",
       "<title>n1</title>\n",
       "<polygon fill=\"none\" stroke=\"black\" points=\"37.5,-3 37.5,-28 56.5,-28 56.5,-3 37.5,-3\"/>\n",
       "<text text-anchor=\"start\" x=\"42.5\" y=\"-11.8\" font-family=\"Courier,monospace\" font-size=\"14.00\">f</text>\n",
       "</g>\n",
       "<!-- n0in1&#45;&gt;n1 -->\n",
       "<!-- A -->\n",
       "<g id=\"e1\" class=\"edge\">\n",
       "<title>n0in1:e&#45;&gt;n1:w</title>\n",
       "<path fill=\"none\" stroke=\"black\" d=\"M1,-15C15.12,-15 19.9,-15 31.83,-15\"/>\n",
       "<polygon fill=\"black\" stroke=\"black\" points=\"32,-16.75 37,-15 32,-13.25 32,-16.75\"/>\n",
       "<text text-anchor=\"middle\" x=\"14.4\" y=\"-3.8\" font-family=\"Courier,monospace\" font-size=\"14.00\">A</text>\n",
       "</g>\n",
       "<!-- n0out1 -->\n",
       "<!-- n2 -->\n",
       "<!-- g -->\n",
       "<g id=\"n2\" class=\"node\">\n",
       "<title>n2</title>\n",
       "<polygon fill=\"none\" stroke=\"black\" points=\"92.5,-3 92.5,-28 111.5,-28 111.5,-3 92.5,-3\"/>\n",
       "<text text-anchor=\"start\" x=\"97.5\" y=\"-11.8\" font-family=\"Courier,monospace\" font-size=\"14.00\">g</text>\n",
       "</g>\n",
       "<!-- n1&#45;&gt;n2 -->\n",
       "<!-- B -->\n",
       "<g id=\"e2\" class=\"edge\">\n",
       "<title>n1:e&#45;&gt;n2:w</title>\n",
       "<path fill=\"none\" stroke=\"black\" d=\"M56,-15C70.12,-15 74.9,-15 86.83,-15\"/>\n",
       "<polygon fill=\"black\" stroke=\"black\" points=\"87,-16.75 92,-15 87,-13.25 87,-16.75\"/>\n",
       "<text text-anchor=\"middle\" x=\"69.4\" y=\"-3.8\" font-family=\"Courier,monospace\" font-size=\"14.00\">B</text>\n",
       "</g>\n",
       "<!-- n2&#45;&gt;n0out1 -->\n",
       "<!-- C -->\n",
       "<g id=\"e3\" class=\"edge\">\n",
       "<title>n2:e&#45;&gt;n0out1:w</title>\n",
       "<path fill=\"none\" stroke=\"black\" d=\"M111,-15C125.12,-15 129.9,-15 141.83,-15\"/>\n",
       "<polygon fill=\"black\" stroke=\"black\" points=\"142,-16.75 147,-15 142,-13.25 142,-16.75\"/>\n",
       "<text text-anchor=\"middle\" x=\"124.4\" y=\"-3.8\" font-family=\"Courier,monospace\" font-size=\"14.00\">C</text>\n",
       "</g>\n",
       "</g>\n",
       "</svg>\n"
      ]
     },
     "metadata": {},
     "execution_count": 17
    }
   ],
   "cell_type": "code",
   "source": [
    "show_diagram(d)"
   ],
   "metadata": {},
   "execution_count": 17
  },
  {
   "cell_type": "markdown",
   "source": [
    "### Products\n",
    "\n",
    "Here is how to manually construct a product of two boxes."
   ],
   "metadata": {}
  },
  {
   "outputs": [
    {
     "output_type": "execute_result",
     "data": {
      "text/plain": "WiringDiagram([:A,:C], [:B,:D], \n[ -2 => {inputs},\n  -1 => {outputs},\n  1 => Box(:f, [:A], [:B]),\n  2 => Box(:h, [:C], [:D]) ],\n[ Wire((-2,1) => (1,1)),\n  Wire((-2,2) => (2,1)),\n  Wire((1,1) => (-1,1)),\n  Wire((2,1) => (-1,2)) ])"
     },
     "metadata": {},
     "execution_count": 18
    }
   ],
   "cell_type": "code",
   "source": [
    "d = WiringDiagram([:A,:C], [:B,:D])\n",
    "\n",
    "fv = add_box!(d, f)\n",
    "hv = add_box!(d, h)\n",
    "\n",
    "add_wires!(d, [\n",
    "  (input_id(d),1) => (fv,1),\n",
    "  (input_id(d),2) => (hv,1),\n",
    "  (fv,1) => (output_id(d),1),\n",
    "  (hv,1) => (output_id(d),2),\n",
    "])\n",
    "\n",
    "d"
   ],
   "metadata": {},
   "execution_count": 18
  },
  {
   "outputs": [
    {
     "output_type": "execute_result",
     "data": {
      "text/plain": "Catlab.Graphics.Graphviz.Graph(\"G\", true, \"dot\", Catlab.Graphics.Graphviz.Statement[Catlab.Graphics.Graphviz.Subgraph(\"\", Catlab.Graphics.Graphviz.Statement[Catlab.Graphics.Graphviz.Node(\"n0in1\", OrderedCollections.OrderedDict{Symbol, Union{String, Catlab.Graphics.Graphviz.Html}}(:id => \"in1\")), Catlab.Graphics.Graphviz.Node(\"n0in2\", OrderedCollections.OrderedDict{Symbol, Union{String, Catlab.Graphics.Graphviz.Html}}(:id => \"in2\")), Catlab.Graphics.Graphviz.Edge(Catlab.Graphics.Graphviz.NodeID[Catlab.Graphics.Graphviz.NodeID(\"n0in1\", \"\", \"\"), Catlab.Graphics.Graphviz.NodeID(\"n0in2\", \"\", \"\")], OrderedCollections.OrderedDict{Symbol, Union{String, Catlab.Graphics.Graphviz.Html}}())], OrderedCollections.OrderedDict{Symbol, Union{String, Catlab.Graphics.Graphviz.Html}}(:rank => \"source\", :rankdir => \"TB\"), OrderedCollections.OrderedDict{Symbol, Union{String, Catlab.Graphics.Graphviz.Html}}(:style => \"invis\", :shape => \"none\", :label => \"\", :width => \"0\", :height => \"0.333\"), OrderedCollections.OrderedDict{Symbol, Union{String, Catlab.Graphics.Graphviz.Html}}(:style => \"invis\")), Catlab.Graphics.Graphviz.Subgraph(\"\", Catlab.Graphics.Graphviz.Statement[Catlab.Graphics.Graphviz.Node(\"n0out1\", OrderedCollections.OrderedDict{Symbol, Union{String, Catlab.Graphics.Graphviz.Html}}(:id => \"out1\")), Catlab.Graphics.Graphviz.Node(\"n0out2\", OrderedCollections.OrderedDict{Symbol, Union{String, Catlab.Graphics.Graphviz.Html}}(:id => \"out2\")), Catlab.Graphics.Graphviz.Edge(Catlab.Graphics.Graphviz.NodeID[Catlab.Graphics.Graphviz.NodeID(\"n0out1\", \"\", \"\"), Catlab.Graphics.Graphviz.NodeID(\"n0out2\", \"\", \"\")], OrderedCollections.OrderedDict{Symbol, Union{String, Catlab.Graphics.Graphviz.Html}}())], OrderedCollections.OrderedDict{Symbol, Union{String, Catlab.Graphics.Graphviz.Html}}(:rank => \"sink\", :rankdir => \"TB\"), OrderedCollections.OrderedDict{Symbol, Union{String, Catlab.Graphics.Graphviz.Html}}(:style => \"invis\", :shape => \"none\", :label => \"\", :width => \"0\", :height => \"0.333\"), OrderedCollections.OrderedDict{Symbol, Union{String, Catlab.Graphics.Graphviz.Html}}(:style => \"invis\")), Catlab.Graphics.Graphviz.Node(\"n1\", OrderedCollections.OrderedDict{Symbol, Union{String, Catlab.Graphics.Graphviz.Html}}(:comment => \"f\", :id => \"n1\", :label => Catlab.Graphics.Graphviz.Html(\"<TABLE BORDER=\\\"0\\\" CELLPADDING=\\\"0\\\" CELLSPACING=\\\"0\\\">\\n<TR>\\n<TD><TABLE BORDER=\\\"0\\\" CELLPADDING=\\\"0\\\" CELLSPACING=\\\"0\\\"><TR><TD HEIGHT=\\\"24\\\" WIDTH=\\\"0\\\" PORT=\\\"in1\\\"></TD></TR></TABLE></TD>\\n<TD BORDER=\\\"1\\\" CELLPADDING=\\\"4\\\">f</TD>\\n<TD><TABLE BORDER=\\\"0\\\" CELLPADDING=\\\"0\\\" CELLSPACING=\\\"0\\\"><TR><TD HEIGHT=\\\"24\\\" WIDTH=\\\"0\\\" PORT=\\\"out1\\\"></TD></TR></TABLE></TD>\\n</TR>\\n</TABLE>\"))), Catlab.Graphics.Graphviz.Node(\"n2\", OrderedCollections.OrderedDict{Symbol, Union{String, Catlab.Graphics.Graphviz.Html}}(:comment => \"h\", :id => \"n2\", :label => Catlab.Graphics.Graphviz.Html(\"<TABLE BORDER=\\\"0\\\" CELLPADDING=\\\"0\\\" CELLSPACING=\\\"0\\\">\\n<TR>\\n<TD><TABLE BORDER=\\\"0\\\" CELLPADDING=\\\"0\\\" CELLSPACING=\\\"0\\\"><TR><TD HEIGHT=\\\"24\\\" WIDTH=\\\"0\\\" PORT=\\\"in1\\\"></TD></TR></TABLE></TD>\\n<TD BORDER=\\\"1\\\" CELLPADDING=\\\"4\\\">h</TD>\\n<TD><TABLE BORDER=\\\"0\\\" CELLPADDING=\\\"0\\\" CELLSPACING=\\\"0\\\"><TR><TD HEIGHT=\\\"24\\\" WIDTH=\\\"0\\\" PORT=\\\"out1\\\"></TD></TR></TABLE></TD>\\n</TR>\\n</TABLE>\"))), Catlab.Graphics.Graphviz.Edge(Catlab.Graphics.Graphviz.NodeID[Catlab.Graphics.Graphviz.NodeID(\"n0in1\", \"e\", \"\"), Catlab.Graphics.Graphviz.NodeID(\"n1\", \"in1\", \"w\")], OrderedCollections.OrderedDict{Symbol, Union{String, Catlab.Graphics.Graphviz.Html}}(:comment => \"A\", :id => \"e1\", :xlabel => \"A\")), Catlab.Graphics.Graphviz.Edge(Catlab.Graphics.Graphviz.NodeID[Catlab.Graphics.Graphviz.NodeID(\"n0in2\", \"e\", \"\"), Catlab.Graphics.Graphviz.NodeID(\"n2\", \"in1\", \"w\")], OrderedCollections.OrderedDict{Symbol, Union{String, Catlab.Graphics.Graphviz.Html}}(:comment => \"C\", :id => \"e2\", :xlabel => \"C\")), Catlab.Graphics.Graphviz.Edge(Catlab.Graphics.Graphviz.NodeID[Catlab.Graphics.Graphviz.NodeID(\"n1\", \"out1\", \"e\"), Catlab.Graphics.Graphviz.NodeID(\"n0out1\", \"w\", \"\")], OrderedCollections.OrderedDict{Symbol, Union{String, Catlab.Graphics.Graphviz.Html}}(:comment => \"B\", :id => \"e3\", :xlabel => \"B\")), Catlab.Graphics.Graphviz.Edge(Catlab.Graphics.Graphviz.NodeID[Catlab.Graphics.Graphviz.NodeID(\"n2\", \"out1\", \"e\"), Catlab.Graphics.Graphviz.NodeID(\"n0out2\", \"w\", \"\")], OrderedCollections.OrderedDict{Symbol, Union{String, Catlab.Graphics.Graphviz.Html}}(:comment => \"D\", :id => \"e4\", :xlabel => \"D\"))], OrderedCollections.OrderedDict{Symbol, Union{String, Catlab.Graphics.Graphviz.Html}}(:fontname => \"Serif\", :rankdir => \"LR\"), OrderedCollections.OrderedDict{Symbol, Union{String, Catlab.Graphics.Graphviz.Html}}(:fontname => \"Courier\", :shape => \"none\", :width => \"0\", :height => \"0\", :margin => \"0\"), OrderedCollections.OrderedDict{Symbol, Union{String, Catlab.Graphics.Graphviz.Html}}(:arrowsize => \"0.5\", :fontname => \"Courier\"))",
      "image/svg+xml": [
       "<?xml version=\"1.0\" encoding=\"UTF-8\" standalone=\"no\"?>\n",
       "<!DOCTYPE svg PUBLIC \"-//W3C//DTD SVG 1.1//EN\"\n",
       " \"http://www.w3.org/Graphics/SVG/1.1/DTD/svg11.dtd\">\n",
       "<!-- Generated by graphviz version 2.43.0 (0)\n",
       " -->\n",
       "<!-- Title: G Pages: 1 -->\n",
       "<svg width=\"101pt\" height=\"79pt\"\n",
       " viewBox=\"0.00 0.00 101.00 79.01\" xmlns=\"http://www.w3.org/2000/svg\" xmlns:xlink=\"http://www.w3.org/1999/xlink\">\n",
       "<g id=\"graph0\" class=\"graph\" transform=\"scale(1 1) rotate(0) translate(4 75.01)\">\n",
       "<title>G</title>\n",
       "<polygon fill=\"white\" stroke=\"transparent\" points=\"-4,4 -4,-75.01 97,-75.01 97,4 -4,4\"/>\n",
       "<!-- n0in1 -->\n",
       "<!-- n0in2 -->\n",
       "<!-- n0in1&#45;&gt;n0in2 -->\n",
       "<!-- n1 -->\n",
       "<!-- f -->\n",
       "<g id=\"n1\" class=\"node\">\n",
       "<title>n1</title>\n",
       "<polygon fill=\"none\" stroke=\"black\" points=\"37.5,-45.51 37.5,-70.51 56.5,-70.51 56.5,-45.51 37.5,-45.51\"/>\n",
       "<text text-anchor=\"start\" x=\"42.5\" y=\"-54.31\" font-family=\"Courier,monospace\" font-size=\"14.00\">f</text>\n",
       "</g>\n",
       "<!-- n0in1&#45;&gt;n1 -->\n",
       "<!-- A -->\n",
       "<g id=\"e1\" class=\"edge\">\n",
       "<title>n0in1:e&#45;&gt;n1:w</title>\n",
       "<path fill=\"none\" stroke=\"black\" d=\"M1,-57.51C15.12,-57.51 19.9,-57.51 31.83,-57.51\"/>\n",
       "<polygon fill=\"black\" stroke=\"black\" points=\"32,-59.26 37,-57.51 32,-55.76 32,-59.26\"/>\n",
       "<text text-anchor=\"middle\" x=\"14.4\" y=\"-46.31\" font-family=\"Courier,monospace\" font-size=\"14.00\">A</text>\n",
       "</g>\n",
       "<!-- n2 -->\n",
       "<!-- h -->\n",
       "<g id=\"n2\" class=\"node\">\n",
       "<title>n2</title>\n",
       "<polygon fill=\"none\" stroke=\"black\" points=\"37.5,-2.51 37.5,-27.51 56.5,-27.51 56.5,-2.51 37.5,-2.51\"/>\n",
       "<text text-anchor=\"start\" x=\"42.5\" y=\"-11.31\" font-family=\"Courier,monospace\" font-size=\"14.00\">h</text>\n",
       "</g>\n",
       "<!-- n0in2&#45;&gt;n2 -->\n",
       "<!-- C -->\n",
       "<g id=\"e2\" class=\"edge\">\n",
       "<title>n0in2:e&#45;&gt;n2:w</title>\n",
       "<path fill=\"none\" stroke=\"black\" d=\"M1,-15.51C15.13,-15.51 19.89,-14.73 31.83,-14.54\"/>\n",
       "<polygon fill=\"black\" stroke=\"black\" points=\"32.01,-16.29 37,-14.51 31.99,-12.79 32.01,-16.29\"/>\n",
       "<text text-anchor=\"middle\" x=\"14.4\" y=\"-3.81\" font-family=\"Courier,monospace\" font-size=\"14.00\">C</text>\n",
       "</g>\n",
       "<!-- n0out1 -->\n",
       "<!-- n0out2 -->\n",
       "<!-- n0out1&#45;&gt;n0out2 -->\n",
       "<!-- n1&#45;&gt;n0out1 -->\n",
       "<!-- B -->\n",
       "<g id=\"e3\" class=\"edge\">\n",
       "<title>n1:e&#45;&gt;n0out1:w</title>\n",
       "<path fill=\"none\" stroke=\"black\" d=\"M56,-57.51C70.12,-57.51 74.9,-57.51 86.83,-57.51\"/>\n",
       "<polygon fill=\"black\" stroke=\"black\" points=\"87,-59.26 92,-57.51 87,-55.76 87,-59.26\"/>\n",
       "<text text-anchor=\"middle\" x=\"69.4\" y=\"-46.31\" font-family=\"Courier,monospace\" font-size=\"14.00\">B</text>\n",
       "</g>\n",
       "<!-- n2&#45;&gt;n0out2 -->\n",
       "<!-- D -->\n",
       "<g id=\"e4\" class=\"edge\">\n",
       "<title>n2:e&#45;&gt;n0out2:w</title>\n",
       "<path fill=\"none\" stroke=\"black\" d=\"M56,-14.51C70.13,-14.51 74.89,-15.28 86.83,-15.47\"/>\n",
       "<polygon fill=\"black\" stroke=\"black\" points=\"86.99,-17.22 92,-15.51 87.01,-13.72 86.99,-17.22\"/>\n",
       "<text text-anchor=\"middle\" x=\"69.4\" y=\"-3.8\" font-family=\"Courier,monospace\" font-size=\"14.00\">D</text>\n",
       "</g>\n",
       "</g>\n",
       "</svg>\n"
      ]
     },
     "metadata": {},
     "execution_count": 19
    }
   ],
   "cell_type": "code",
   "source": [
    "show_diagram(d)"
   ],
   "metadata": {},
   "execution_count": 19
  }
 ],
 "nbformat_minor": 3,
 "metadata": {
  "language_info": {
   "file_extension": ".jl",
   "mimetype": "application/julia",
   "name": "julia",
   "version": "1.6.1"
  },
  "kernelspec": {
   "name": "julia-1.6",
   "display_name": "Julia 1.6.1",
   "language": "julia"
  }
 },
 "nbformat": 4
}
