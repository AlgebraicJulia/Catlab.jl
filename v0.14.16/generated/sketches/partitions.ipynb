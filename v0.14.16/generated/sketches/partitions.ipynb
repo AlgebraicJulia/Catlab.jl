{
 "cells": [
  {
   "cell_type": "markdown",
   "source": [
    "# Partitions\n",
    "\n",
    "\n",
    "Partitions are a categorical construction that we derive from sets and functions.\n",
    "Given a set A, you can think of all of the ways to partition A into parts.\n",
    "These ways of partitioning are isomorphic to equivalence relations R ⊆ A × A."
   ],
   "metadata": {}
  },
  {
   "cell_type": "markdown",
   "source": [
    "The first step is our Catlab imports"
   ],
   "metadata": {}
  },
  {
   "outputs": [],
   "cell_type": "code",
   "source": [
    "using Core: GeneratedFunctionStub\n",
    "using Test\n",
    "\n",
    "using Catlab, Catlab.Theories, Catlab.CategoricalAlgebra\n",
    "import Catlab.Theories: compose\n",
    "using DataStructures\n",
    "using PrettyTables\n",
    "PrettyTables.pretty_table(f::FinFunction, name::Symbol=:f) =\n",
    "  pretty_table(OrderedDict(:x=>1:length(dom(f)), Symbol(\"$(name)(x)\")=>collect(f)))\n",
    "using LaTeXStrings"
   ],
   "metadata": {},
   "execution_count": 1
  },
  {
   "cell_type": "markdown",
   "source": [
    "## FinSet: the category of Finite Sets\n",
    "In FinSet the objects are sets n = {1...n} and the morphisms are functions between finite sets.\n",
    "You can wrap a plain old Int into a finite set with the FinSet(n::Int) function. These sets will\n",
    "serve as the domain and codomains of our functions."
   ],
   "metadata": {}
  },
  {
   "outputs": [
    {
     "output_type": "execute_result",
     "data": {
      "text/plain": "FinSet(4)"
     },
     "metadata": {},
     "execution_count": 2
    }
   ],
   "cell_type": "code",
   "source": [
    "n = FinSet(3)\n",
    "m = FinSet(4)"
   ],
   "metadata": {},
   "execution_count": 2
  },
  {
   "cell_type": "markdown",
   "source": [
    "once you have some sets, you can define functions between them. A FinFunction from n to m, f:n→m, can be specified as\n",
    "an array of length n with elements from m."
   ],
   "metadata": {}
  },
  {
   "outputs": [
    {
     "name": "stdout",
     "output_type": "stream",
     "text": [
      "┌───────┬───────┐\n",
      "│     x │  f(x) │\n",
      "│ Int64 │ Int64 │\n",
      "├───────┼───────┤\n",
      "│     1 │     2 │\n",
      "│     2 │     4 │\n",
      "│     3 │     3 │\n",
      "└───────┴───────┘\n"
     ]
    }
   ],
   "cell_type": "code",
   "source": [
    "f = FinFunction([2,4,3], n, m)\n",
    "\n",
    "pretty_table(f)"
   ],
   "metadata": {},
   "execution_count": 3
  },
  {
   "cell_type": "markdown",
   "source": [
    "## Surjective maps\n",
    "In order to use a map to represent a partition, we have to make sure that it is surjective.\n",
    "Given a FinFunction, we can compute the preimage of any element in its codomain."
   ],
   "metadata": {}
  },
  {
   "outputs": [
    {
     "output_type": "execute_result",
     "data": {
      "text/plain": "Int64[]"
     },
     "metadata": {},
     "execution_count": 4
    }
   ],
   "cell_type": "code",
   "source": [
    "preimage(f, 2)\n",
    "\n",
    "preimage(f, 1)"
   ],
   "metadata": {},
   "execution_count": 4
  },
  {
   "cell_type": "markdown",
   "source": [
    "If the preimage is empty, then there is no element in the domain that maps to that element of the codomain.\n",
    "This gives us a definition of surjective functions by asserting that all the preimages are nonempty.\n",
    "Julia note: !p is the predicate x ↦ ¬p(x), f.(A) applies f to all of the elements in A."
   ],
   "metadata": {}
  },
  {
   "outputs": [
    {
     "output_type": "execute_result",
     "data": {
      "text/plain": "false"
     },
     "metadata": {},
     "execution_count": 5
    }
   ],
   "cell_type": "code",
   "source": [
    "is_surjective(f::FinFunction) = all((!isempty).(preimage(f,i) for i in codom(f)))\n",
    "is_surjective(f)"
   ],
   "metadata": {},
   "execution_count": 5
  },
  {
   "cell_type": "markdown",
   "source": [
    "Our function f, wasn't surjective so it can't be used to induce a partition via its preimages.\n",
    "Let's try again,"
   ],
   "metadata": {}
  },
  {
   "outputs": [
    {
     "name": "stdout",
     "output_type": "stream",
     "text": [
      "┌───────┬───────┐\n",
      "│     x │  g(x) │\n",
      "│ Int64 │ Int64 │\n",
      "├───────┼───────┤\n",
      "│     1 │     1 │\n",
      "│     2 │     2 │\n",
      "│     3 │     3 │\n",
      "│     4 │     3 │\n",
      "└───────┴───────┘\n"
     ]
    },
    {
     "output_type": "execute_result",
     "data": {
      "text/plain": "true"
     },
     "metadata": {},
     "execution_count": 6
    }
   ],
   "cell_type": "code",
   "source": [
    "g = FinFunction([1,2,3,3], m, n)\n",
    "pretty_table(g, :g)\n",
    "is_surjective(g)"
   ],
   "metadata": {},
   "execution_count": 6
  },
  {
   "cell_type": "markdown",
   "source": [
    "# Refinements of a Partition\n",
    "When defining partitions classically as A = ∪ₚ Aₚ with p ≠ r ⟹ Aₚ ≠ Aᵣ,\n",
    "it is not immediately obvious how to define comparisons between partitions.\n",
    "With the \"a partition of A is a surjective map out of A\" definition, the comparisons\n",
    "are obvious. The composition of surjective maps is surjective, so we can define\n",
    "the refinement order in terms of a diagram in Set.\n",
    "\n",
    "You can see a graphical definition in [quiver](https://q.uiver.app/?q=WzAsMyxbMCwwLCJBIl0sWzMsMCwiUSJdLFszLDIsIlAiXSxbMSwyLCJoIiwwLHsic3R5bGUiOnsiaGVhZCI6eyJuYW1lIjoiZXBpIn19fV0sWzAsMSwiZiIsMCx7InN0eWxlIjp7ImhlYWQiOnsibmFtZSI6ImVwaSJ9fX1dLFswLDIsImciLDIseyJzdHlsZSI6eyJoZWFkIjp7Im5hbWUiOiJlcGkifX19XV0=)"
   ],
   "metadata": {}
  },
  {
   "outputs": [
    {
     "output_type": "execute_result",
     "data": {
      "text/plain": "TikzPictures.TikzPicture(\"A &&& Q \\\\\\\\\\n\\\\\\\\\\n&&& P\\n\\\\arrow[\\\"h\\\", two heads, from=1-4, to=3-4]\\n\\\\arrow[\\\"f\\\", two heads, from=1-1, to=1-4]\\n\\\\arrow[\\\"g\\\"', two heads, from=1-1, to=3-4]\", \"\", \"\\\\usepackage{tikz-cd}\\n% contents of quiver.sty\\n% `tikz-cd` is necessary to draw commutative diagrams.\\n\\\\RequirePackage{tikz-cd}\\n% `amssymb` is necessary for `\\\\lrcorner` and `\\\\ulcorner`.\\n\\\\RequirePackage{amssymb}\\n% `calc` is necessary to draw curved arrows.\\n\\\\usetikzlibrary{calc}\\n% `pathmorphing` is necessary to draw squiggly arrows.\\n\\\\usetikzlibrary{decorations.pathmorphing}\\n\\n% A TikZ style for curved arrows of a fixed height, due to AndréC.\\n\\\\tikzset{curve/.style={settings={#1},to path={(\\\\tikztostart)\\n    .. controls (\\$(\\\\tikztostart)!\\\\pv{pos}!(\\\\tikztotarget)!\\\\pv{height}!270:(\\\\tikztotarget)\\$)\\n    and (\\$(\\\\tikztostart)!1-\\\\pv{pos}!(\\\\tikztotarget)!\\\\pv{height}!270:(\\\\tikztotarget)\\$)\\n    .. (\\\\tikztotarget)\\\\tikztonodes}},\\n    settings/.code={\\\\tikzset{quiver/.cd,#1}\\n        \\\\def\\\\pv##1{\\\\pgfkeysvalueof{/tikz/quiver/##1}}},\\n    quiver/.cd,pos/.initial=0.35,height/.initial=0}\\n\\n% TikZ arrowhead/tail styles.\\n\\\\tikzset{tail reversed/.code={\\\\pgfsetarrowsstart{tikzcd to}}}\\n\\\\tikzset{2tail/.code={\\\\pgfsetarrowsstart{Implies[reversed]}}}\\n\\\\tikzset{2tail reversed/.code={\\\\pgfsetarrowsstart{Implies}}}\\n% TikZ arrow styles.\\n\\\\tikzset{no body/.style={/tikz/dash pattern=on 0 off 1mm}}\", \"tikzcd\", \"\", \"\", true, true)",
      "image/svg+xml": [
       "<?xml version=\"1.0\" encoding=\"UTF-8\"?>\n",
       "<svg xmlns=\"http://www.w3.org/2000/svg\" xmlns:xlink=\"http://www.w3.org/1999/xlink\" width=\"105.18pt\" height=\"68.743pt\" viewBox=\"0 0 105.18 68.743\" version=\"1.1\">\n",
       "<defs>\n",
       "<g>\n",
       "<symbol overflow=\"visible\" id=\"glyph-1679961130353032-0-0\">\n",
       "<path style=\"stroke:none;\" d=\"\"/>\n",
       "</symbol>\n",
       "<symbol overflow=\"visible\" id=\"glyph-1679961130353032-0-1\">\n",
       "<path style=\"stroke:none;\" d=\"M 1.78125 -1.140625 C 1.390625 -0.484375 1 -0.34375 0.5625 -0.3125 C 0.4375 -0.296875 0.34375 -0.296875 0.34375 -0.109375 C 0.34375 -0.046875 0.40625 0 0.484375 0 C 0.75 0 1.0625 -0.03125 1.328125 -0.03125 C 1.671875 -0.03125 2.015625 0 2.328125 0 C 2.390625 0 2.515625 0 2.515625 -0.1875 C 2.515625 -0.296875 2.4375 -0.3125 2.359375 -0.3125 C 2.140625 -0.328125 1.890625 -0.40625 1.890625 -0.65625 C 1.890625 -0.78125 1.953125 -0.890625 2.03125 -1.03125 L 2.796875 -2.296875 L 5.296875 -2.296875 C 5.3125 -2.09375 5.453125 -0.734375 5.453125 -0.640625 C 5.453125 -0.34375 4.9375 -0.3125 4.734375 -0.3125 C 4.59375 -0.3125 4.5 -0.3125 4.5 -0.109375 C 4.5 0 4.609375 0 4.640625 0 C 5.046875 0 5.46875 -0.03125 5.875 -0.03125 C 6.125 -0.03125 6.765625 0 7.015625 0 C 7.0625 0 7.1875 0 7.1875 -0.203125 C 7.1875 -0.3125 7.09375 -0.3125 6.953125 -0.3125 C 6.34375 -0.3125 6.34375 -0.375 6.3125 -0.671875 L 5.703125 -6.890625 C 5.6875 -7.09375 5.6875 -7.140625 5.515625 -7.140625 C 5.359375 -7.140625 5.3125 -7.0625 5.25 -6.96875 Z M 2.984375 -2.609375 L 4.9375 -5.90625 L 5.265625 -2.609375 Z M 2.984375 -2.609375 \"/>\n",
       "</symbol>\n",
       "<symbol overflow=\"visible\" id=\"glyph-1679961130353032-0-2\">\n",
       "<path style=\"stroke:none;\" d=\"M 4.359375 -0.0625 C 5.90625 -0.640625 7.375 -2.421875 7.375 -4.34375 C 7.375 -5.953125 6.3125 -7.03125 4.828125 -7.03125 C 2.6875 -7.03125 0.484375 -4.765625 0.484375 -2.4375 C 0.484375 -0.78125 1.609375 0.21875 3.046875 0.21875 C 3.296875 0.21875 3.625 0.171875 4.015625 0.0625 C 3.984375 0.6875 3.984375 0.703125 3.984375 0.84375 C 3.984375 1.15625 3.984375 1.9375 4.8125 1.9375 C 5.984375 1.9375 6.46875 0.109375 6.46875 0 C 6.46875 -0.0625 6.40625 -0.09375 6.359375 -0.09375 C 6.28125 -0.09375 6.265625 -0.046875 6.234375 0.015625 C 6 0.71875 5.421875 0.96875 5.078125 0.96875 C 4.609375 0.96875 4.46875 0.703125 4.359375 -0.0625 Z M 2.484375 -0.140625 C 1.703125 -0.453125 1.359375 -1.21875 1.359375 -2.125 C 1.359375 -2.8125 1.625 -4.234375 2.375 -5.296875 C 3.109375 -6.3125 4.046875 -6.78125 4.78125 -6.78125 C 5.765625 -6.78125 6.5 -6 6.5 -4.671875 C 6.5 -3.671875 5.984375 -1.328125 4.3125 -0.40625 C 4.265625 -0.75 4.171875 -1.46875 3.4375 -1.46875 C 2.90625 -1.46875 2.421875 -0.984375 2.421875 -0.453125 C 2.421875 -0.265625 2.484375 -0.15625 2.484375 -0.140625 Z M 3.09375 -0.03125 C 2.953125 -0.03125 2.640625 -0.03125 2.640625 -0.453125 C 2.640625 -0.859375 3.015625 -1.25 3.4375 -1.25 C 3.859375 -1.25 4.046875 -1.015625 4.046875 -0.40625 C 4.046875 -0.265625 4.03125 -0.25 3.9375 -0.203125 C 3.671875 -0.09375 3.375 -0.03125 3.09375 -0.03125 Z M 3.09375 -0.03125 \"/>\n",
       "</symbol>\n",
       "<symbol overflow=\"visible\" id=\"glyph-1679961130353032-0-3\">\n",
       "<path style=\"stroke:none;\" d=\"M 3.015625 -3.15625 L 4.71875 -3.15625 C 6.125 -3.15625 7.515625 -4.1875 7.515625 -5.296875 C 7.515625 -6.078125 6.859375 -6.8125 5.546875 -6.8125 L 2.328125 -6.8125 C 2.140625 -6.8125 2.03125 -6.8125 2.03125 -6.625 C 2.03125 -6.5 2.109375 -6.5 2.3125 -6.5 C 2.4375 -6.5 2.625 -6.484375 2.734375 -6.484375 C 2.90625 -6.453125 2.953125 -6.4375 2.953125 -6.3125 C 2.953125 -6.28125 2.953125 -6.25 2.921875 -6.125 L 1.578125 -0.78125 C 1.484375 -0.390625 1.46875 -0.3125 0.671875 -0.3125 C 0.515625 -0.3125 0.40625 -0.3125 0.40625 -0.125 C 0.40625 0 0.515625 0 0.546875 0 C 0.828125 0 1.53125 -0.03125 1.8125 -0.03125 C 2.03125 -0.03125 2.25 -0.015625 2.453125 -0.015625 C 2.671875 -0.015625 2.890625 0 3.09375 0 C 3.171875 0 3.296875 0 3.296875 -0.203125 C 3.296875 -0.3125 3.203125 -0.3125 3.015625 -0.3125 C 2.65625 -0.3125 2.375 -0.3125 2.375 -0.484375 C 2.375 -0.546875 2.390625 -0.59375 2.40625 -0.65625 Z M 3.734375 -6.125 C 3.828125 -6.46875 3.84375 -6.5 4.28125 -6.5 L 5.234375 -6.5 C 6.0625 -6.5 6.59375 -6.234375 6.59375 -5.546875 C 6.59375 -5.15625 6.390625 -4.296875 6 -3.9375 C 5.5 -3.484375 4.90625 -3.40625 4.46875 -3.40625 L 3.0625 -3.40625 Z M 3.734375 -6.125 \"/>\n",
       "</symbol>\n",
       "<symbol overflow=\"visible\" id=\"glyph-1679961130353032-1-0\">\n",
       "<path style=\"stroke:none;\" d=\"\"/>\n",
       "</symbol>\n",
       "<symbol overflow=\"visible\" id=\"glyph-1679961130353032-1-1\">\n",
       "<path style=\"stroke:none;\" d=\"M 2.1875 -4.625 C 2.1875 -4.640625 2.203125 -4.734375 2.203125 -4.734375 C 2.203125 -4.78125 2.1875 -4.84375 2.09375 -4.84375 C 1.953125 -4.84375 1.375 -4.78125 1.203125 -4.765625 C 1.15625 -4.765625 1.046875 -4.75 1.046875 -4.609375 C 1.046875 -4.515625 1.15625 -4.515625 1.234375 -4.515625 C 1.5625 -4.515625 1.5625 -4.453125 1.5625 -4.40625 C 1.5625 -4.359375 1.546875 -4.3125 1.546875 -4.25 L 0.5625 -0.3125 C 0.515625 -0.1875 0.515625 -0.171875 0.515625 -0.15625 C 0.515625 -0.046875 0.609375 0.0625 0.765625 0.0625 C 0.84375 0.0625 0.96875 0.03125 1.046875 -0.109375 C 1.0625 -0.15625 1.125 -0.40625 1.15625 -0.546875 L 1.328125 -1.171875 C 1.34375 -1.28125 1.421875 -1.546875 1.4375 -1.640625 C 1.5 -1.90625 1.5 -1.921875 1.640625 -2.140625 C 1.875 -2.484375 2.21875 -2.875 2.765625 -2.875 C 3.15625 -2.875 3.171875 -2.5625 3.171875 -2.390625 C 3.171875 -1.96875 2.875 -1.203125 2.765625 -0.90625 C 2.6875 -0.703125 2.65625 -0.640625 2.65625 -0.53125 C 2.65625 -0.15625 2.96875 0.0625 3.3125 0.0625 C 4.015625 0.0625 4.328125 -0.890625 4.328125 -1 C 4.328125 -1.09375 4.234375 -1.09375 4.203125 -1.09375 C 4.109375 -1.09375 4.109375 -1.046875 4.078125 -0.96875 C 3.921875 -0.40625 3.609375 -0.125 3.34375 -0.125 C 3.1875 -0.125 3.15625 -0.21875 3.15625 -0.375 C 3.15625 -0.53125 3.203125 -0.625 3.328125 -0.9375 C 3.40625 -1.15625 3.6875 -1.890625 3.6875 -2.28125 C 3.6875 -2.390625 3.6875 -2.6875 3.4375 -2.890625 C 3.3125 -2.96875 3.109375 -3.078125 2.78125 -3.078125 C 2.28125 -3.078125 1.90625 -2.796875 1.65625 -2.5 Z M 2.1875 -4.625 \"/>\n",
       "</symbol>\n",
       "<symbol overflow=\"visible\" id=\"glyph-1679961130353032-1-2\">\n",
       "<path style=\"stroke:none;\" d=\"M 2.84375 -2.75 L 3.515625 -2.75 C 3.65625 -2.75 3.75 -2.75 3.75 -2.90625 C 3.75 -3 3.65625 -3 3.53125 -3 L 2.890625 -3 C 3.046875 -3.890625 3.09375 -4.203125 3.15625 -4.40625 C 3.1875 -4.5625 3.34375 -4.703125 3.515625 -4.703125 C 3.515625 -4.703125 3.703125 -4.703125 3.84375 -4.625 C 3.546875 -4.53125 3.53125 -4.28125 3.53125 -4.25 C 3.53125 -4.09375 3.65625 -3.984375 3.8125 -3.984375 C 4 -3.984375 4.203125 -4.140625 4.203125 -4.40625 C 4.203125 -4.734375 3.875 -4.90625 3.515625 -4.90625 C 3.203125 -4.90625 2.859375 -4.734375 2.671875 -4.390625 C 2.53125 -4.125 2.484375 -3.8125 2.328125 -3 L 1.78125 -3 C 1.640625 -3 1.546875 -3 1.546875 -2.84375 C 1.546875 -2.75 1.640625 -2.75 1.765625 -2.75 L 2.28125 -2.75 C 2.28125 -2.703125 1.84375 -0.203125 1.671875 0.546875 C 1.640625 0.703125 1.515625 1.21875 1.1875 1.21875 C 1.171875 1.21875 1.015625 1.21875 0.875 1.140625 C 1.15625 1.046875 1.1875 0.796875 1.1875 0.765625 C 1.1875 0.609375 1.0625 0.5 0.90625 0.5 C 0.71875 0.5 0.515625 0.65625 0.515625 0.921875 C 0.515625 1.234375 0.84375 1.421875 1.1875 1.421875 C 1.625 1.421875 1.9375 0.96875 2.015625 0.8125 C 2.265625 0.34375 2.4375 -0.515625 2.453125 -0.59375 Z M 2.84375 -2.75 \"/>\n",
       "</symbol>\n",
       "<symbol overflow=\"visible\" id=\"glyph-1679961130353032-1-3\">\n",
       "<path style=\"stroke:none;\" d=\"M 3.703125 -2.578125 C 3.734375 -2.671875 3.734375 -2.703125 3.734375 -2.71875 C 3.734375 -2.875 3.609375 -2.9375 3.5 -2.9375 C 3.34375 -2.9375 3.203125 -2.8125 3.171875 -2.671875 C 3.0625 -2.859375 2.828125 -3.078125 2.453125 -3.078125 C 1.59375 -3.078125 0.671875 -2.140625 0.671875 -1.140625 C 0.671875 -0.421875 1.15625 0 1.734375 0 C 2.0625 0 2.359375 -0.15625 2.609375 -0.375 L 2.453125 0.25 C 2.375 0.546875 2.328125 0.734375 2.0625 0.96875 C 1.75 1.21875 1.453125 1.21875 1.28125 1.21875 C 0.96875 1.21875 0.875 1.203125 0.75 1.171875 C 0.921875 1.09375 0.96875 0.921875 0.96875 0.828125 C 0.96875 0.65625 0.84375 0.578125 0.703125 0.578125 C 0.5 0.578125 0.296875 0.734375 0.296875 1 C 0.296875 1.421875 0.90625 1.421875 1.296875 1.421875 C 2.390625 1.421875 2.84375 0.859375 2.953125 0.46875 Z M 2.75 -0.921875 C 2.71875 -0.828125 2.71875 -0.8125 2.59375 -0.671875 C 2.359375 -0.375 2.015625 -0.1875 1.75 -0.1875 C 1.40625 -0.1875 1.234375 -0.5 1.234375 -0.859375 C 1.234375 -1.15625 1.421875 -1.9375 1.609375 -2.25 C 1.890625 -2.734375 2.21875 -2.875 2.453125 -2.875 C 2.953125 -2.875 3.078125 -2.359375 3.078125 -2.28125 C 3.078125 -2.265625 3.078125 -2.265625 3.0625 -2.1875 Z M 2.75 -0.921875 \"/>\n",
       "</symbol>\n",
       "</g>\n",
       "</defs>\n",
       "<g id=\"surface1\">\n",
       "<g style=\"fill:rgb(0%,0%,0%);fill-opacity:1;\">\n",
       "  <use xlink:href=\"#glyph-1679961130353032-0-1\" x=\"4.294\" y=\"13.183\"/>\n",
       "</g>\n",
       "<g style=\"fill:rgb(0%,0%,0%);fill-opacity:1;\">\n",
       "  <use xlink:href=\"#glyph-1679961130353032-0-2\" x=\"92.084\" y=\"13.183\"/>\n",
       "</g>\n",
       "<g style=\"fill:rgb(0%,0%,0%);fill-opacity:1;\">\n",
       "  <use xlink:href=\"#glyph-1679961130353032-0-3\" x=\"92.133\" y=\"65.093\"/>\n",
       "</g>\n",
       "<path style=\"fill:none;stroke-width:0.39848;stroke-linecap:butt;stroke-linejoin:miter;stroke:rgb(0%,0%,0%);stroke-opacity:1;stroke-miterlimit:10;\" d=\"M 43.896437 16.76525 L 43.896437 -18.305062 \" transform=\"matrix(1,0,0,-1,52.127,35.734)\"/>\n",
       "<path style=\"fill:none;stroke-width:0.39848;stroke-linecap:round;stroke-linejoin:round;stroke:rgb(0%,0%,0%);stroke-opacity:1;stroke-miterlimit:10;\" d=\"M -2.072091 2.391202 C -1.693185 0.957609 -0.849435 0.277921 -0.00177875 0.0005775 C -0.849435 -0.280673 -1.693185 -0.956454 -2.072091 -2.390048 \" transform=\"matrix(0,1,1,0,96.02286,52.80256)\"/>\n",
       "<path style=\"fill:none;stroke-width:0.39848;stroke-linecap:round;stroke-linejoin:round;stroke:rgb(0%,0%,0%);stroke-opacity:1;stroke-miterlimit:10;\" d=\"M -2.073048 2.391202 C -1.694141 0.957609 -0.850391 0.277921 0.00117125 0.0005775 C -0.850391 -0.280673 -1.694141 -0.956454 -2.073048 -2.390048 \" transform=\"matrix(0,1,1,0,96.02286,54.23711)\"/>\n",
       "<g style=\"fill:rgb(0%,0%,0%);fill-opacity:1;\">\n",
       "  <use xlink:href=\"#glyph-1679961130353032-1-1\" x=\"98.369\" y=\"39.124\"/>\n",
       "</g>\n",
       "<path style=\"fill:none;stroke-width:0.39848;stroke-linecap:butt;stroke-linejoin:miter;stroke:rgb(0%,0%,0%);stroke-opacity:1;stroke-miterlimit:10;\" d=\"M -35.869188 25.042594 L 35.064406 25.042594 \" transform=\"matrix(1,0,0,-1,52.127,35.734)\"/>\n",
       "<path style=\"fill:none;stroke-width:0.39848;stroke-linecap:round;stroke-linejoin:round;stroke:rgb(0%,0%,0%);stroke-opacity:1;stroke-miterlimit:10;\" d=\"M -2.071091 2.391059 C -1.692185 0.957465 -0.848435 0.277778 -0.00077875 0.00043375 C -0.848435 -0.280816 -1.692185 -0.956597 -2.071091 -2.390191 \" transform=\"matrix(1,0,0,-1,85.95781,10.69184)\"/>\n",
       "<path style=\"fill:none;stroke-width:0.39848;stroke-linecap:round;stroke-linejoin:round;stroke:rgb(0%,0%,0%);stroke-opacity:1;stroke-miterlimit:10;\" d=\"M -2.072058 2.391059 C -1.693151 0.957465 -0.849401 0.277778 -0.001745 0.00043375 C -0.849401 -0.280816 -1.693151 -0.956597 -2.072058 -2.390191 \" transform=\"matrix(1,0,0,-1,87.39237,10.69184)\"/>\n",
       "<g style=\"fill:rgb(0%,0%,0%);fill-opacity:1;\">\n",
       "  <use xlink:href=\"#glyph-1679961130353032-1-2\" x=\"49.592\" y=\"6.99\"/>\n",
       "</g>\n",
       "<path style=\"fill:none;stroke-width:0.39848;stroke-linecap:butt;stroke-linejoin:miter;stroke:rgb(0%,0%,0%);stroke-opacity:1;stroke-miterlimit:10;\" d=\"M -35.869188 20.187125 L 35.169875 -21.719125 \" transform=\"matrix(1,0,0,-1,52.127,35.734)\"/>\n",
       "<path style=\"fill:none;stroke-width:0.39848;stroke-linecap:round;stroke-linejoin:round;stroke:rgb(0%,0%,0%);stroke-opacity:1;stroke-miterlimit:10;\" d=\"M -2.071207 2.391838 C -1.69127 0.955949 -0.850804 0.27706 0.00202431 0.0000621576 C -0.848906 -0.279701 -1.693391 -0.954795 -2.07185 -2.389075 \" transform=\"matrix(0.86124,0.50809,0.50809,-0.86124,86.2326,56.82715)\"/>\n",
       "<path style=\"fill:none;stroke-width:0.39848;stroke-linecap:round;stroke-linejoin:round;stroke:rgb(0%,0%,0%);stroke-opacity:1;stroke-miterlimit:10;\" d=\"M -2.071347 2.389899 C -1.693394 0.957375 -0.849564 0.280471 -0.00010001 0.00148819 C -0.85103 -0.278275 -1.69353 -0.956733 -2.071989 -2.391014 \" transform=\"matrix(0.86124,0.50809,0.50809,-0.86124,87.46808,57.55602)\"/>\n",
       "<g style=\"fill:rgb(0%,0%,0%);fill-opacity:1;\">\n",
       "  <use xlink:href=\"#glyph-1679961130353032-1-3\" x=\"45.466\" y=\"41.95\"/>\n",
       "</g>\n",
       "</g>\n",
       "</svg>\n",
       "\n"
      ]
     },
     "metadata": {},
     "execution_count": 7
    }
   ],
   "cell_type": "code",
   "source": [
    "using TikzCDs\n",
    "\n",
    "triangle = L\"\"\"\n",
    "A &&& Q \\\\\n",
    "\\\\\n",
    "&&& P\n",
    "\\arrow[\"h\", two heads, from=1-4, to=3-4]\n",
    "\\arrow[\"f\", two heads, from=1-1, to=1-4]\n",
    "\\arrow[\"g\"', two heads, from=1-1, to=3-4]\n",
    "\"\"\";\n",
    "\n",
    "TikzCD(triangle, preamble=TikzCDs.Styles.Quiver)"
   ],
   "metadata": {},
   "execution_count": 7
  },
  {
   "cell_type": "markdown",
   "source": [
    "Let's take a look at an example:"
   ],
   "metadata": {}
  },
  {
   "outputs": [
    {
     "name": "stdout",
     "output_type": "stream",
     "text": [
      "┌───────┬──────────┐\n",
      "│     x │ (f⋅h)(x) │\n",
      "│ Int64 │    Int64 │\n",
      "├───────┼──────────┤\n",
      "│     1 │        1 │\n",
      "│     2 │        1 │\n",
      "│     3 │        2 │\n",
      "│     4 │        2 │\n",
      "└───────┴──────────┘\n"
     ]
    },
    {
     "output_type": "execute_result",
     "data": {
      "text/plain": "true"
     },
     "metadata": {},
     "execution_count": 8
    }
   ],
   "cell_type": "code",
   "source": [
    "A = FinSet(4)\n",
    "Q = FinSet(3)\n",
    "P = FinSet(2)\n",
    "\n",
    "f = FinFunction([1,2,3,3], A, Q)\n",
    "g = FinFunction([1,1,2,2], A, P)\n",
    "h = FinFunction([1,1,2], Q, P)\n",
    "\n",
    "@test_throws ErrorException compose(g,h) #Catlab checks the domains match\n",
    "\n",
    "pretty_table(compose(f,h), Symbol(\"(f⋅h)\"))\n",
    "\n",
    "compose(f,h) == g"
   ],
   "metadata": {},
   "execution_count": 8
  },
  {
   "cell_type": "markdown",
   "source": [
    "This triangle commutes, so f is a refinement of g equivalently g is coarser than f."
   ],
   "metadata": {}
  },
  {
   "outputs": [
    {
     "name": "stdout",
     "output_type": "stream",
     "text": [
      "┌───────┬───────────┐\n",
      "│     x │ f⋅h⋅h′(x) │\n",
      "│ Int64 │     Int64 │\n",
      "├───────┼───────────┤\n",
      "│     1 │         1 │\n",
      "│     2 │         1 │\n",
      "│     3 │         1 │\n",
      "│     4 │         1 │\n",
      "└───────┴───────────┘\n"
     ]
    }
   ],
   "cell_type": "code",
   "source": [
    "h′ = FinFunction([1,1], P, FinSet(1))\n",
    "\n",
    "pretty_table(f⋅h⋅h′, Symbol(\"f⋅h⋅h′\"))"
   ],
   "metadata": {},
   "execution_count": 9
  },
  {
   "cell_type": "markdown",
   "source": [
    "### Properties of refinements\n",
    "We can show that refinement gives us a preorder on partitions directly from the\n",
    "nice properties of surjective maps.\n",
    "1. Reflexive: Any partition is a refinement of itself.\n",
    "2. Transitive: If f ≤ g ≤ h as partitions, then f ≤ h\n",
    "You can read these directly off the definition of refinements as a commutative\n",
    "triangle in the category of (Set, Surjections).\n",
    "You can edit this diagram in [quiver](https://q.uiver.app/?q=WzAsNCxbMCwwLCJBIl0sWzMsMCwiUSJdLFszLDIsIlAiXSxbMyw0LCJRXlxccHJpbWUiXSxbMSwyLCJoIl0sWzAsMSwiZiIsMCx7InN0eWxlIjp7ImhlYWQiOnsibmFtZSI6ImVwaSJ9fX1dLFswLDIsImciLDIseyJzdHlsZSI6eyJoZWFkIjp7Im5hbWUiOiJlcGkifX19XSxbMiwzLCJoXlxccHJpbWUiXSxbMCwzLCJmXFxjZG90IGhcXGNkb3QgaF5cXHByaW1lID0gZ1xcY2RvdCBoXlxccHJpbWUiLDIseyJzdHlsZSI6eyJoZWFkIjp7Im5hbWUiOiJlcGkifX19XV0=)"
   ],
   "metadata": {}
  },
  {
   "outputs": [
    {
     "output_type": "execute_result",
     "data": {
      "text/plain": "TikzPictures.TikzPicture(\"A &&& Q \\\\\\\\\\n\\\\\\\\\\n&&& P \\\\\\\\\\n\\\\\\\\\\n&&& {Q^\\\\prime}\\n\\\\arrow[\\\"h\\\", from=1-4, to=3-4]\\n\\\\arrow[\\\"f\\\", two heads, from=1-1, to=1-4]\\n\\\\arrow[\\\"g\\\"', two heads, from=1-1, to=3-4]\\n\\\\arrow[\\\"{h^\\\\prime}\\\", from=3-4, to=5-4]\\n\\\\arrow[\\\"{f\\\\cdot h\\\\cdot h^\\\\prime = g\\\\cdot h^\\\\prime}\\\"', two heads, from=1-1, to=5-4]\", \"\", \"\\\\usepackage{tikz-cd}\\n% contents of quiver.sty\\n% `tikz-cd` is necessary to draw commutative diagrams.\\n\\\\RequirePackage{tikz-cd}\\n% `amssymb` is necessary for `\\\\lrcorner` and `\\\\ulcorner`.\\n\\\\RequirePackage{amssymb}\\n% `calc` is necessary to draw curved arrows.\\n\\\\usetikzlibrary{calc}\\n% `pathmorphing` is necessary to draw squiggly arrows.\\n\\\\usetikzlibrary{decorations.pathmorphing}\\n\\n% A TikZ style for curved arrows of a fixed height, due to AndréC.\\n\\\\tikzset{curve/.style={settings={#1},to path={(\\\\tikztostart)\\n    .. controls (\\$(\\\\tikztostart)!\\\\pv{pos}!(\\\\tikztotarget)!\\\\pv{height}!270:(\\\\tikztotarget)\\$)\\n    and (\\$(\\\\tikztostart)!1-\\\\pv{pos}!(\\\\tikztotarget)!\\\\pv{height}!270:(\\\\tikztotarget)\\$)\\n    .. (\\\\tikztotarget)\\\\tikztonodes}},\\n    settings/.code={\\\\tikzset{quiver/.cd,#1}\\n        \\\\def\\\\pv##1{\\\\pgfkeysvalueof{/tikz/quiver/##1}}},\\n    quiver/.cd,pos/.initial=0.35,height/.initial=0}\\n\\n% TikZ arrowhead/tail styles.\\n\\\\tikzset{tail reversed/.code={\\\\pgfsetarrowsstart{tikzcd to}}}\\n\\\\tikzset{2tail/.code={\\\\pgfsetarrowsstart{Implies[reversed]}}}\\n\\\\tikzset{2tail reversed/.code={\\\\pgfsetarrowsstart{Implies}}}\\n% TikZ arrow styles.\\n\\\\tikzset{no body/.style={/tikz/dash pattern=on 0 off 1mm}}\", \"tikzcd\", \"\", \"\", true, true)",
      "image/svg+xml": [
       "<?xml version=\"1.0\" encoding=\"UTF-8\"?>\n",
       "<svg xmlns=\"http://www.w3.org/2000/svg\" xmlns:xlink=\"http://www.w3.org/1999/xlink\" width=\"109.272pt\" height=\"121.335pt\" viewBox=\"0 0 109.272 121.335\" version=\"1.1\">\n",
       "<defs>\n",
       "<g>\n",
       "<symbol overflow=\"visible\" id=\"glyph-1679961130353033-0-0\">\n",
       "<path style=\"stroke:none;\" d=\"\"/>\n",
       "</symbol>\n",
       "<symbol overflow=\"visible\" id=\"glyph-1679961130353033-0-1\">\n",
       "<path style=\"stroke:none;\" d=\"M 1.78125 -1.140625 C 1.390625 -0.484375 1 -0.34375 0.5625 -0.3125 C 0.4375 -0.296875 0.34375 -0.296875 0.34375 -0.109375 C 0.34375 -0.046875 0.40625 0 0.484375 0 C 0.75 0 1.0625 -0.03125 1.328125 -0.03125 C 1.671875 -0.03125 2.015625 0 2.328125 0 C 2.390625 0 2.515625 0 2.515625 -0.1875 C 2.515625 -0.296875 2.4375 -0.3125 2.359375 -0.3125 C 2.140625 -0.328125 1.890625 -0.40625 1.890625 -0.65625 C 1.890625 -0.78125 1.953125 -0.890625 2.03125 -1.03125 L 2.796875 -2.296875 L 5.296875 -2.296875 C 5.3125 -2.09375 5.453125 -0.734375 5.453125 -0.640625 C 5.453125 -0.34375 4.9375 -0.3125 4.734375 -0.3125 C 4.59375 -0.3125 4.5 -0.3125 4.5 -0.109375 C 4.5 0 4.609375 0 4.640625 0 C 5.046875 0 5.46875 -0.03125 5.875 -0.03125 C 6.125 -0.03125 6.765625 0 7.015625 0 C 7.0625 0 7.1875 0 7.1875 -0.203125 C 7.1875 -0.3125 7.09375 -0.3125 6.953125 -0.3125 C 6.34375 -0.3125 6.34375 -0.375 6.3125 -0.671875 L 5.703125 -6.890625 C 5.6875 -7.09375 5.6875 -7.140625 5.515625 -7.140625 C 5.359375 -7.140625 5.3125 -7.0625 5.25 -6.96875 Z M 2.984375 -2.609375 L 4.9375 -5.90625 L 5.265625 -2.609375 Z M 2.984375 -2.609375 \"/>\n",
       "</symbol>\n",
       "<symbol overflow=\"visible\" id=\"glyph-1679961130353033-0-2\">\n",
       "<path style=\"stroke:none;\" d=\"M 4.359375 -0.0625 C 5.90625 -0.640625 7.375 -2.421875 7.375 -4.34375 C 7.375 -5.953125 6.3125 -7.03125 4.828125 -7.03125 C 2.6875 -7.03125 0.484375 -4.765625 0.484375 -2.4375 C 0.484375 -0.78125 1.609375 0.21875 3.046875 0.21875 C 3.296875 0.21875 3.625 0.171875 4.015625 0.0625 C 3.984375 0.6875 3.984375 0.703125 3.984375 0.84375 C 3.984375 1.15625 3.984375 1.9375 4.8125 1.9375 C 5.984375 1.9375 6.46875 0.109375 6.46875 0 C 6.46875 -0.0625 6.40625 -0.09375 6.359375 -0.09375 C 6.28125 -0.09375 6.265625 -0.046875 6.234375 0.015625 C 6 0.71875 5.421875 0.96875 5.078125 0.96875 C 4.609375 0.96875 4.46875 0.703125 4.359375 -0.0625 Z M 2.484375 -0.140625 C 1.703125 -0.453125 1.359375 -1.21875 1.359375 -2.125 C 1.359375 -2.8125 1.625 -4.234375 2.375 -5.296875 C 3.109375 -6.3125 4.046875 -6.78125 4.78125 -6.78125 C 5.765625 -6.78125 6.5 -6 6.5 -4.671875 C 6.5 -3.671875 5.984375 -1.328125 4.3125 -0.40625 C 4.265625 -0.75 4.171875 -1.46875 3.4375 -1.46875 C 2.90625 -1.46875 2.421875 -0.984375 2.421875 -0.453125 C 2.421875 -0.265625 2.484375 -0.15625 2.484375 -0.140625 Z M 3.09375 -0.03125 C 2.953125 -0.03125 2.640625 -0.03125 2.640625 -0.453125 C 2.640625 -0.859375 3.015625 -1.25 3.4375 -1.25 C 3.859375 -1.25 4.046875 -1.015625 4.046875 -0.40625 C 4.046875 -0.265625 4.03125 -0.25 3.9375 -0.203125 C 3.671875 -0.09375 3.375 -0.03125 3.09375 -0.03125 Z M 3.09375 -0.03125 \"/>\n",
       "</symbol>\n",
       "<symbol overflow=\"visible\" id=\"glyph-1679961130353033-0-3\">\n",
       "<path style=\"stroke:none;\" d=\"M 3.015625 -3.15625 L 4.71875 -3.15625 C 6.125 -3.15625 7.515625 -4.1875 7.515625 -5.296875 C 7.515625 -6.078125 6.859375 -6.8125 5.546875 -6.8125 L 2.328125 -6.8125 C 2.140625 -6.8125 2.03125 -6.8125 2.03125 -6.625 C 2.03125 -6.5 2.109375 -6.5 2.3125 -6.5 C 2.4375 -6.5 2.625 -6.484375 2.734375 -6.484375 C 2.90625 -6.453125 2.953125 -6.4375 2.953125 -6.3125 C 2.953125 -6.28125 2.953125 -6.25 2.921875 -6.125 L 1.578125 -0.78125 C 1.484375 -0.390625 1.46875 -0.3125 0.671875 -0.3125 C 0.515625 -0.3125 0.40625 -0.3125 0.40625 -0.125 C 0.40625 0 0.515625 0 0.546875 0 C 0.828125 0 1.53125 -0.03125 1.8125 -0.03125 C 2.03125 -0.03125 2.25 -0.015625 2.453125 -0.015625 C 2.671875 -0.015625 2.890625 0 3.09375 0 C 3.171875 0 3.296875 0 3.296875 -0.203125 C 3.296875 -0.3125 3.203125 -0.3125 3.015625 -0.3125 C 2.65625 -0.3125 2.375 -0.3125 2.375 -0.484375 C 2.375 -0.546875 2.390625 -0.59375 2.40625 -0.65625 Z M 3.734375 -6.125 C 3.828125 -6.46875 3.84375 -6.5 4.28125 -6.5 L 5.234375 -6.5 C 6.0625 -6.5 6.59375 -6.234375 6.59375 -5.546875 C 6.59375 -5.15625 6.390625 -4.296875 6 -3.9375 C 5.5 -3.484375 4.90625 -3.40625 4.46875 -3.40625 L 3.0625 -3.40625 Z M 3.734375 -6.125 \"/>\n",
       "</symbol>\n",
       "<symbol overflow=\"visible\" id=\"glyph-1679961130353033-1-0\">\n",
       "<path style=\"stroke:none;\" d=\"\"/>\n",
       "</symbol>\n",
       "<symbol overflow=\"visible\" id=\"glyph-1679961130353033-1-1\">\n",
       "<path style=\"stroke:none;\" d=\"M 2.015625 -3.296875 C 2.078125 -3.40625 2.078125 -3.46875 2.078125 -3.515625 C 2.078125 -3.734375 1.890625 -3.890625 1.671875 -3.890625 C 1.40625 -3.890625 1.328125 -3.671875 1.296875 -3.5625 L 0.375 -0.546875 C 0.359375 -0.53125 0.328125 -0.453125 0.328125 -0.4375 C 0.328125 -0.359375 0.546875 -0.28125 0.609375 -0.28125 C 0.65625 -0.28125 0.65625 -0.296875 0.703125 -0.40625 Z M 2.015625 -3.296875 \"/>\n",
       "</symbol>\n",
       "<symbol overflow=\"visible\" id=\"glyph-1679961130353033-1-2\">\n",
       "<path style=\"stroke:none;\" d=\"M 1.578125 -1.734375 C 1.578125 -2 1.375 -2.140625 1.1875 -2.140625 C 0.953125 -2.140625 0.78125 -1.953125 0.78125 -1.75 C 0.78125 -1.5 0.984375 -1.34375 1.171875 -1.34375 C 1.40625 -1.34375 1.578125 -1.53125 1.578125 -1.734375 Z M 1.578125 -1.734375 \"/>\n",
       "</symbol>\n",
       "<symbol overflow=\"visible\" id=\"glyph-1679961130353033-2-0\">\n",
       "<path style=\"stroke:none;\" d=\"\"/>\n",
       "</symbol>\n",
       "<symbol overflow=\"visible\" id=\"glyph-1679961130353033-2-1\">\n",
       "<path style=\"stroke:none;\" d=\"M 2.1875 -4.625 C 2.1875 -4.640625 2.203125 -4.734375 2.203125 -4.734375 C 2.203125 -4.78125 2.1875 -4.84375 2.09375 -4.84375 C 1.953125 -4.84375 1.375 -4.78125 1.203125 -4.765625 C 1.15625 -4.765625 1.046875 -4.75 1.046875 -4.609375 C 1.046875 -4.515625 1.15625 -4.515625 1.234375 -4.515625 C 1.5625 -4.515625 1.5625 -4.453125 1.5625 -4.40625 C 1.5625 -4.359375 1.546875 -4.3125 1.546875 -4.25 L 0.5625 -0.3125 C 0.515625 -0.1875 0.515625 -0.171875 0.515625 -0.15625 C 0.515625 -0.046875 0.609375 0.0625 0.765625 0.0625 C 0.84375 0.0625 0.96875 0.03125 1.046875 -0.109375 C 1.0625 -0.15625 1.125 -0.40625 1.15625 -0.546875 L 1.328125 -1.171875 C 1.34375 -1.28125 1.421875 -1.546875 1.4375 -1.640625 C 1.5 -1.90625 1.5 -1.921875 1.640625 -2.140625 C 1.875 -2.484375 2.21875 -2.875 2.765625 -2.875 C 3.15625 -2.875 3.171875 -2.5625 3.171875 -2.390625 C 3.171875 -1.96875 2.875 -1.203125 2.765625 -0.90625 C 2.6875 -0.703125 2.65625 -0.640625 2.65625 -0.53125 C 2.65625 -0.15625 2.96875 0.0625 3.3125 0.0625 C 4.015625 0.0625 4.328125 -0.890625 4.328125 -1 C 4.328125 -1.09375 4.234375 -1.09375 4.203125 -1.09375 C 4.109375 -1.09375 4.109375 -1.046875 4.078125 -0.96875 C 3.921875 -0.40625 3.609375 -0.125 3.34375 -0.125 C 3.1875 -0.125 3.15625 -0.21875 3.15625 -0.375 C 3.15625 -0.53125 3.203125 -0.625 3.328125 -0.9375 C 3.40625 -1.15625 3.6875 -1.890625 3.6875 -2.28125 C 3.6875 -2.390625 3.6875 -2.6875 3.4375 -2.890625 C 3.3125 -2.96875 3.109375 -3.078125 2.78125 -3.078125 C 2.28125 -3.078125 1.90625 -2.796875 1.65625 -2.5 Z M 2.1875 -4.625 \"/>\n",
       "</symbol>\n",
       "<symbol overflow=\"visible\" id=\"glyph-1679961130353033-2-2\">\n",
       "<path style=\"stroke:none;\" d=\"M 2.84375 -2.75 L 3.515625 -2.75 C 3.65625 -2.75 3.75 -2.75 3.75 -2.90625 C 3.75 -3 3.65625 -3 3.53125 -3 L 2.890625 -3 C 3.046875 -3.890625 3.09375 -4.203125 3.15625 -4.40625 C 3.1875 -4.5625 3.34375 -4.703125 3.515625 -4.703125 C 3.515625 -4.703125 3.703125 -4.703125 3.84375 -4.625 C 3.546875 -4.53125 3.53125 -4.28125 3.53125 -4.25 C 3.53125 -4.09375 3.65625 -3.984375 3.8125 -3.984375 C 4 -3.984375 4.203125 -4.140625 4.203125 -4.40625 C 4.203125 -4.734375 3.875 -4.90625 3.515625 -4.90625 C 3.203125 -4.90625 2.859375 -4.734375 2.671875 -4.390625 C 2.53125 -4.125 2.484375 -3.8125 2.328125 -3 L 1.78125 -3 C 1.640625 -3 1.546875 -3 1.546875 -2.84375 C 1.546875 -2.75 1.640625 -2.75 1.765625 -2.75 L 2.28125 -2.75 C 2.28125 -2.703125 1.84375 -0.203125 1.671875 0.546875 C 1.640625 0.703125 1.515625 1.21875 1.1875 1.21875 C 1.171875 1.21875 1.015625 1.21875 0.875 1.140625 C 1.15625 1.046875 1.1875 0.796875 1.1875 0.765625 C 1.1875 0.609375 1.0625 0.5 0.90625 0.5 C 0.71875 0.5 0.515625 0.65625 0.515625 0.921875 C 0.515625 1.234375 0.84375 1.421875 1.1875 1.421875 C 1.625 1.421875 1.9375 0.96875 2.015625 0.8125 C 2.265625 0.34375 2.4375 -0.515625 2.453125 -0.59375 Z M 2.84375 -2.75 \"/>\n",
       "</symbol>\n",
       "<symbol overflow=\"visible\" id=\"glyph-1679961130353033-2-3\">\n",
       "<path style=\"stroke:none;\" d=\"M 3.703125 -2.578125 C 3.734375 -2.671875 3.734375 -2.703125 3.734375 -2.71875 C 3.734375 -2.875 3.609375 -2.9375 3.5 -2.9375 C 3.34375 -2.9375 3.203125 -2.8125 3.171875 -2.671875 C 3.0625 -2.859375 2.828125 -3.078125 2.453125 -3.078125 C 1.59375 -3.078125 0.671875 -2.140625 0.671875 -1.140625 C 0.671875 -0.421875 1.15625 0 1.734375 0 C 2.0625 0 2.359375 -0.15625 2.609375 -0.375 L 2.453125 0.25 C 2.375 0.546875 2.328125 0.734375 2.0625 0.96875 C 1.75 1.21875 1.453125 1.21875 1.28125 1.21875 C 0.96875 1.21875 0.875 1.203125 0.75 1.171875 C 0.921875 1.09375 0.96875 0.921875 0.96875 0.828125 C 0.96875 0.65625 0.84375 0.578125 0.703125 0.578125 C 0.5 0.578125 0.296875 0.734375 0.296875 1 C 0.296875 1.421875 0.90625 1.421875 1.296875 1.421875 C 2.390625 1.421875 2.84375 0.859375 2.953125 0.46875 Z M 2.75 -0.921875 C 2.71875 -0.828125 2.71875 -0.8125 2.59375 -0.671875 C 2.359375 -0.375 2.015625 -0.1875 1.75 -0.1875 C 1.40625 -0.1875 1.234375 -0.5 1.234375 -0.859375 C 1.234375 -1.15625 1.421875 -1.9375 1.609375 -2.25 C 1.890625 -2.734375 2.21875 -2.875 2.453125 -2.875 C 2.953125 -2.875 3.078125 -2.359375 3.078125 -2.28125 C 3.078125 -2.265625 3.078125 -2.265625 3.0625 -2.1875 Z M 2.75 -0.921875 \"/>\n",
       "</symbol>\n",
       "<symbol overflow=\"visible\" id=\"glyph-1679961130353033-3-0\">\n",
       "<path style=\"stroke:none;\" d=\"\"/>\n",
       "</symbol>\n",
       "<symbol overflow=\"visible\" id=\"glyph-1679961130353033-3-1\">\n",
       "<path style=\"stroke:none;\" d=\"M 1.796875 -2.3125 C 1.796875 -2.328125 1.84375 -2.421875 1.84375 -2.5 C 1.84375 -2.671875 1.6875 -2.78125 1.53125 -2.78125 C 1.328125 -2.78125 1.28125 -2.625 1.25 -2.5625 L 0.484375 -0.40625 C 0.46875 -0.34375 0.46875 -0.328125 0.46875 -0.3125 C 0.46875 -0.234375 0.671875 -0.1875 0.671875 -0.1875 C 0.71875 -0.1875 0.734375 -0.21875 0.765625 -0.28125 Z M 1.796875 -2.3125 \"/>\n",
       "</symbol>\n",
       "<symbol overflow=\"visible\" id=\"glyph-1679961130353033-4-0\">\n",
       "<path style=\"stroke:none;\" d=\"\"/>\n",
       "</symbol>\n",
       "<symbol overflow=\"visible\" id=\"glyph-1679961130353033-4-1\">\n",
       "<path style=\"stroke:none;\" d=\"M 5.359375 -2.34375 C 5.453125 -2.34375 5.609375 -2.34375 5.609375 -2.515625 C 5.609375 -2.6875 5.453125 -2.6875 5.359375 -2.6875 L 0.75 -2.6875 C 0.65625 -2.6875 0.484375 -2.6875 0.484375 -2.515625 C 0.484375 -2.34375 0.640625 -2.34375 0.75 -2.34375 Z M 5.359375 -0.8125 C 5.453125 -0.8125 5.609375 -0.8125 5.609375 -0.96875 C 5.609375 -1.15625 5.453125 -1.15625 5.359375 -1.15625 L 0.75 -1.15625 C 0.640625 -1.15625 0.484375 -1.15625 0.484375 -0.96875 C 0.484375 -0.8125 0.65625 -0.8125 0.75 -0.8125 Z M 5.359375 -0.8125 \"/>\n",
       "</symbol>\n",
       "</g>\n",
       "</defs>\n",
       "<g id=\"surface1\">\n",
       "<g style=\"fill:rgb(0%,0%,0%);fill-opacity:1;\">\n",
       "  <use xlink:href=\"#glyph-1679961130353033-0-1\" x=\"4.294\" y=\"13.183\"/>\n",
       "</g>\n",
       "<g style=\"fill:rgb(0%,0%,0%);fill-opacity:1;\">\n",
       "  <use xlink:href=\"#glyph-1679961130353033-0-2\" x=\"93.482\" y=\"13.183\"/>\n",
       "</g>\n",
       "<g style=\"fill:rgb(0%,0%,0%);fill-opacity:1;\">\n",
       "  <use xlink:href=\"#glyph-1679961130353033-0-3\" x=\"93.53\" y=\"65.093\"/>\n",
       "</g>\n",
       "<g style=\"fill:rgb(0%,0%,0%);fill-opacity:1;\">\n",
       "  <use xlink:href=\"#glyph-1679961130353033-0-2\" x=\"92.084\" y=\"115.748\"/>\n",
       "</g>\n",
       "<g style=\"fill:rgb(0%,0%,0%);fill-opacity:1;\">\n",
       "  <use xlink:href=\"#glyph-1679961130353033-1-1\" x=\"99.96\" y=\"112.133\"/>\n",
       "</g>\n",
       "<path style=\"fill:none;stroke-width:0.39848;stroke-linecap:butt;stroke-linejoin:miter;stroke:rgb(0%,0%,0%);stroke-opacity:1;stroke-miterlimit:10;\" d=\"M 43.896875 43.06125 L 43.896875 7.990937 \" transform=\"matrix(1,0,0,-1,53.525,62.03)\"/>\n",
       "<path style=\"fill:none;stroke-width:0.39848;stroke-linecap:round;stroke-linejoin:round;stroke:rgb(0%,0%,0%);stroke-opacity:1;stroke-miterlimit:10;\" d=\"M -2.072667 2.39164 C -1.693761 0.958046 -0.850011 0.278359 0.00155125 0.001015 C -0.850011 -0.280235 -1.693761 -0.956016 -2.072667 -2.38961 \" transform=\"matrix(0,1,1,0,97.42086,54.23673)\"/>\n",
       "<g style=\"fill:rgb(0%,0%,0%);fill-opacity:1;\">\n",
       "  <use xlink:href=\"#glyph-1679961130353033-2-1\" x=\"99.766\" y=\"39.124\"/>\n",
       "</g>\n",
       "<path style=\"fill:none;stroke-width:0.39848;stroke-linecap:butt;stroke-linejoin:miter;stroke:rgb(0%,0%,0%);stroke-opacity:1;stroke-miterlimit:10;\" d=\"M -37.267188 51.338594 L 35.064844 51.338594 \" transform=\"matrix(1,0,0,-1,53.525,62.03)\"/>\n",
       "<path style=\"fill:none;stroke-width:0.39848;stroke-linecap:round;stroke-linejoin:round;stroke:rgb(0%,0%,0%);stroke-opacity:1;stroke-miterlimit:10;\" d=\"M -2.070654 2.390659 C -1.691748 0.957065 -0.847998 0.277377 -0.00034125 0.00003375 C -0.847998 -0.27731 -1.691748 -0.956998 -2.070654 -2.390591 \" transform=\"matrix(1,0,0,-1,87.35581,10.69144)\"/>\n",
       "<path style=\"fill:none;stroke-width:0.39848;stroke-linecap:round;stroke-linejoin:round;stroke:rgb(0%,0%,0%);stroke-opacity:1;stroke-miterlimit:10;\" d=\"M -2.07162 2.390659 C -1.692714 0.957065 -0.848964 0.277377 -0.0013075 0.00003375 C -0.848964 -0.27731 -1.692714 -0.956998 -2.07162 -2.390591 \" transform=\"matrix(1,0,0,-1,88.79037,10.69144)\"/>\n",
       "<g style=\"fill:rgb(0%,0%,0%);fill-opacity:1;\">\n",
       "  <use xlink:href=\"#glyph-1679961130353033-2-2\" x=\"50.291\" y=\"6.99\"/>\n",
       "</g>\n",
       "<path style=\"fill:none;stroke-width:0.39848;stroke-linecap:butt;stroke-linejoin:miter;stroke:rgb(0%,0%,0%);stroke-opacity:1;stroke-miterlimit:10;\" d=\"M -37.267188 46.565156 L 35.166406 4.494844 \" transform=\"matrix(1,0,0,-1,53.525,62.03)\"/>\n",
       "<path style=\"fill:none;stroke-width:0.39848;stroke-linecap:round;stroke-linejoin:round;stroke:rgb(0%,0%,0%);stroke-opacity:1;stroke-miterlimit:10;\" d=\"M -2.070946 2.391093 C -1.694022 0.956612 -0.848071 0.277932 0.000875554 -0.00146759 C -0.849955 -0.278817 -1.6931 -0.958278 -2.072565 -2.389378 \" transform=\"matrix(0.86469,0.50224,0.50224,-0.86469,87.62498,56.91626)\"/>\n",
       "<path style=\"fill:none;stroke-width:0.39848;stroke-linecap:round;stroke-linejoin:round;stroke:rgb(0%,0%,0%);stroke-opacity:1;stroke-miterlimit:10;\" d=\"M -2.073664 2.391515 C -1.691401 0.955618 -0.850789 0.278354 0.00153506 0.000916189 C -0.849295 -0.276433 -1.692441 -0.955895 -2.073321 -2.392334 \" transform=\"matrix(0.86469,0.50224,0.50224,-0.86469,88.8654,57.63674)\"/>\n",
       "<g style=\"fill:rgb(0%,0%,0%);fill-opacity:1;\">\n",
       "  <use xlink:href=\"#glyph-1679961130353033-2-3\" x=\"46.165\" y=\"41.95\"/>\n",
       "</g>\n",
       "<path style=\"fill:none;stroke-width:0.39848;stroke-linecap:butt;stroke-linejoin:miter;stroke:rgb(0%,0%,0%);stroke-opacity:1;stroke-miterlimit:10;\" d=\"M 43.896875 -6.911406 L 43.896875 -41.981719 \" transform=\"matrix(1,0,0,-1,53.525,62.03)\"/>\n",
       "<path style=\"fill:none;stroke-width:0.39848;stroke-linecap:round;stroke-linejoin:round;stroke:rgb(0%,0%,0%);stroke-opacity:1;stroke-miterlimit:10;\" d=\"M -2.073641 2.39164 C -1.694735 0.958046 -0.850985 0.278359 0.0005775 0.001015 C -0.850985 -0.280235 -1.694735 -0.956016 -2.073641 -2.38961 \" transform=\"matrix(0,1,1,0,97.42086,104.21036)\"/>\n",
       "<g style=\"fill:rgb(0%,0%,0%);fill-opacity:1;\">\n",
       "  <use xlink:href=\"#glyph-1679961130353033-2-1\" x=\"99.766\" y=\"89.563\"/>\n",
       "</g>\n",
       "<g style=\"fill:rgb(0%,0%,0%);fill-opacity:1;\">\n",
       "  <use xlink:href=\"#glyph-1679961130353033-3-1\" x=\"104.43\" y=\"86.556\"/>\n",
       "</g>\n",
       "<path style=\"fill:none;stroke-width:0.39848;stroke-linecap:butt;stroke-linejoin:miter;stroke:rgb(0%,0%,0%);stroke-opacity:1;stroke-miterlimit:10;\" d=\"M -39.974219 44.99875 L 35.928125 -42.079375 \" transform=\"matrix(1,0,0,-1,53.525,62.03)\"/>\n",
       "<path style=\"fill:none;stroke-width:0.39848;stroke-linecap:round;stroke-linejoin:round;stroke:rgb(0%,0%,0%);stroke-opacity:1;stroke-miterlimit:10;\" d=\"M -2.071761 2.388622 C -1.693864 0.955435 -0.849958 0.276825 0.00237761 0.000250722 C -0.850751 -0.276966 -1.69283 -0.957653 -2.070836 -2.390059 \" transform=\"matrix(0.65707,0.7538,0.7538,-0.65707,88.64278,103.17806)\"/>\n",
       "<path style=\"fill:none;stroke-width:0.39848;stroke-linecap:round;stroke-linejoin:round;stroke:rgb(0%,0%,0%);stroke-opacity:1;stroke-miterlimit:10;\" d=\"M -2.072417 2.392792 C -1.691576 0.957039 -0.850614 0.280995 -0.000845455 0.00147655 C -0.851029 -0.278307 -1.696053 -0.956427 -2.071115 -2.3914 \" transform=\"matrix(0.65707,0.7538,0.7538,-0.65707,89.58538,104.25942)\"/>\n",
       "<g style=\"fill:rgb(0%,0%,0%);fill-opacity:1;\">\n",
       "  <use xlink:href=\"#glyph-1679961130353033-2-2\" x=\"7.887\" y=\"68.841\"/>\n",
       "</g>\n",
       "<g style=\"fill:rgb(0%,0%,0%);fill-opacity:1;\">\n",
       "  <use xlink:href=\"#glyph-1679961130353033-1-2\" x=\"12.553\" y=\"68.841\"/>\n",
       "</g>\n",
       "<g style=\"fill:rgb(0%,0%,0%);fill-opacity:1;\">\n",
       "  <use xlink:href=\"#glyph-1679961130353033-2-1\" x=\"14.919\" y=\"68.841\"/>\n",
       "</g>\n",
       "<g style=\"fill:rgb(0%,0%,0%);fill-opacity:1;\">\n",
       "  <use xlink:href=\"#glyph-1679961130353033-1-2\" x=\"19.583\" y=\"68.841\"/>\n",
       "</g>\n",
       "<g style=\"fill:rgb(0%,0%,0%);fill-opacity:1;\">\n",
       "  <use xlink:href=\"#glyph-1679961130353033-2-1\" x=\"21.95\" y=\"68.841\"/>\n",
       "</g>\n",
       "<g style=\"fill:rgb(0%,0%,0%);fill-opacity:1;\">\n",
       "  <use xlink:href=\"#glyph-1679961130353033-3-1\" x=\"26.614\" y=\"65.834\"/>\n",
       "</g>\n",
       "<g style=\"fill:rgb(0%,0%,0%);fill-opacity:1;\">\n",
       "  <use xlink:href=\"#glyph-1679961130353033-4-1\" x=\"29.309\" y=\"68.841\"/>\n",
       "</g>\n",
       "<g style=\"fill:rgb(0%,0%,0%);fill-opacity:1;\">\n",
       "  <use xlink:href=\"#glyph-1679961130353033-2-3\" x=\"35.425\" y=\"68.841\"/>\n",
       "</g>\n",
       "<g style=\"fill:rgb(0%,0%,0%);fill-opacity:1;\">\n",
       "  <use xlink:href=\"#glyph-1679961130353033-1-2\" x=\"39.562\" y=\"68.841\"/>\n",
       "</g>\n",
       "<g style=\"fill:rgb(0%,0%,0%);fill-opacity:1;\">\n",
       "  <use xlink:href=\"#glyph-1679961130353033-2-1\" x=\"41.928\" y=\"68.841\"/>\n",
       "</g>\n",
       "<g style=\"fill:rgb(0%,0%,0%);fill-opacity:1;\">\n",
       "  <use xlink:href=\"#glyph-1679961130353033-3-1\" x=\"46.592\" y=\"65.834\"/>\n",
       "</g>\n",
       "</g>\n",
       "</svg>\n",
       "\n"
      ]
     },
     "metadata": {},
     "execution_count": 10
    }
   ],
   "cell_type": "code",
   "source": [
    "refinement = L\"\"\"\n",
    "A &&& Q \\\\\n",
    "\\\\\n",
    "&&& P \\\\\n",
    "\\\\\n",
    "&&& {Q^\\prime}\n",
    "\\arrow[\"h\", from=1-4, to=3-4]\n",
    "\\arrow[\"f\", two heads, from=1-1, to=1-4]\n",
    "\\arrow[\"g\"', two heads, from=1-1, to=3-4]\n",
    "\\arrow[\"{h^\\prime}\", from=3-4, to=5-4]\n",
    "\\arrow[\"{f\\cdot h\\cdot h^\\prime = g\\cdot h^\\prime}\"', two heads, from=1-1, to=5-4]\n",
    "\"\"\";\n",
    "\n",
    "TikzCD(refinement, preamble=TikzCDs.Styles.Quiver)"
   ],
   "metadata": {},
   "execution_count": 10
  }
 ],
 "nbformat_minor": 3,
 "metadata": {
  "language_info": {
   "file_extension": ".jl",
   "mimetype": "application/julia",
   "name": "julia",
   "version": "1.8.5"
  },
  "kernelspec": {
   "name": "julia-1.8",
   "display_name": "Julia 1.8.5",
   "language": "julia"
  }
 },
 "nbformat": 4
}
