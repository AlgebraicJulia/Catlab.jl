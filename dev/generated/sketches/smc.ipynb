{
 "cells": [
  {
   "cell_type": "markdown",
   "source": [
    "# Symmetric Monoidal Categories\n",
    "\n",
    "\n",
    "This vignette supports section 4.4.3 of Seven Sketches in Compositionality, which introduces the definition of symmetric monoidal categories (SMCs). SMCs are a core concept in applied category theory and are a workhorse of Catlab's utility in computing applications. We will discuss the definition as a GAT, see examples of working with formulas, and conversions to wiring diagrams (sometimes called string diagrams). SMCs are useful for modeling mathematical structures like programs or processes where the objects represent data or things and the morphisms represent processes that happen to those things."
   ],
   "metadata": {}
  },
  {
   "outputs": [
    {
     "output_type": "execute_result",
     "data": {
      "text/plain": "draw (generic function with 1 method)"
     },
     "metadata": {},
     "execution_count": 1
    }
   ],
   "cell_type": "code",
   "source": [
    "using GATlab, Catlab.Theories\n",
    "using Catlab.CategoricalAlgebra\n",
    "using Catlab.WiringDiagrams\n",
    "using Catlab.Programs\n",
    "using Catlab.Graphics\n",
    "using Catlab.Graphics: Graphviz\n",
    "\n",
    "draw(d::WiringDiagram) = to_graphviz(d,\n",
    "  orientation=LeftToRight,\n",
    "  labels=true, label_attr=:xlabel,\n",
    "  node_attrs=Graphviz.Attributes(\n",
    "    :fontname => \"Courier\",\n",
    "  ),\n",
    "  edge_attrs=Graphviz.Attributes(\n",
    "    :fontname => \"Courier\",\n",
    "  )\n",
    ")"
   ],
   "metadata": {},
   "execution_count": 1
  },
  {
   "cell_type": "markdown",
   "source": [
    "## Definition\n",
    "Let 𝒞 be a category, then a strict symmetric monoidal structure on 𝒞 has as data:\n",
    "1. An object I called the monoidal unit\n",
    "2. A functor ⊗: 𝒞×𝒞 → 𝒞 called the monoidal product.\n",
    "3. A natural isomorphism σᵃᵇ: A⊗B → B⊗A\n",
    "\n",
    "It has as axioms:\n",
    "1. Left identity) I⊗C = C for all objects C in 𝒞\n",
    "2. Right identity) C⊗I = C for all objects C in 𝒞\n",
    "3. Associativity) (A⊗B)⊗C = A⊗(B⊗C) for all objects A,B,C in 𝒞\n",
    "4. Involutivity) σ(σ(A,B)) = id(A⊗B)\n",
    "\n",
    "In a category, you have a composition operation that captures the sequential kind of composition. For example in Set, you compose two functions f⋅g by first applying f and then applying g. In monoidal categories, you also have the parallel composition ⊗ which you can think of as representing the simultaneous exectution of two processes. We are familiar with the cartesian product in Set which takes two sets and forms the cartesian product. The cartesian product acts on functions in a similar way, f×g is the function that takes a tuple (x:dom(f),y:dom(g)) and applies them *in parallel* and returns (f(x), g(y)):(codom(f)×codom(g)). The axioms of an SMC require that these two operations work together. The Seven Sketches book suppresses an interesting axiom called the *interchange law* for brevity, but it is worth calling some attention to it. In order for the sequential and parallel composition operators to capture our intuition, we need to assert that for any functions with compatible domains we can interchange parallel and sequential operators. Formally, ((f ⊗ g) ⋅ (h ⊗ k) == (f ⋅ h) ⊗ (g ⋅ k) where (A::Ob, B::Ob, C::Ob, X::Ob, Y::Ob, Z::Ob, f::(A → B), h::(B → C), g::(X → Y), k::(Y → Z))). This axiom says that doing f and g in parallel and then h and k in parallel is the same as doing (f then h) and (g then k) in parallel. When using SMCs to model processes, this axiom is critical to making sure that scheduling those processes is coherent.\n",
    "\n",
    "If the SMC is not strict, then the equations are replaced by natural isomorphisms. The choice of natural isomorphisms then becomes part of the data of the SMC. With MacLane's coherence theorem for SMCs mathematicians can think about strict SMCs and not really worry too much about the natural isomorphisms. As programmers, those chickens come home to roost and implementing an SMC requires making some choices about about how to do that strictification.\n",
    "\n",
    "The Catlab definitions of SMC are repeated here for convenience. Catlab allows you to implement mathematical definitions in the language of Generalized Algebraic Theories (GATs), which are a good fit for the kind of natural language definitions that mathematicians will write. Because Catlab does relatively little type inference, the GAT version of a definition can be more verbose than you would get in natural language. For example, we have to be careful about spelling out the object for an identity morphism `id(A):A → A`. The notation  `@theory MonoidalCategory{Ob,Hom} <: Category{Ob,Hom}` says that a Monoidal Category is a type of Category with additional components and axioms. Catlab has only rudimentary support for Monoidal Categories that are not Symmetric Monoidal Categories. But we separate out the definitions for completeness.\n",
    "```julia\n",
    "@theory MonoidalCategory{Ob,Hom} <: Category{Ob,Hom} begin\n",
    "  otimes(A::Ob, B::Ob)::Ob\n",
    "  otimes(f::(A → B), g::(C → D))::((A ⊗ C) → (B ⊗ D)) ⊣\n",
    "    (A::Ob, B::Ob, C::Ob, D::Ob)\n",
    "  @op (⊗) := otimes\n",
    "  munit()::Ob\n",
    "  # Monoid axioms.\n",
    "  #\n",
    "  # The last two axioms are the naturality equations associated with the left\n",
    "  # and right unitors, in the strict case where they are identities.\n",
    "  (A ⊗ B) ⊗ C == A ⊗ (B ⊗ C) ⊣ (A::Ob, B::Ob, C::Ob)\n",
    "  munit() ⊗ A == A ⊣ (A::Ob)\n",
    "  A ⊗ munit() == A ⊣ (A::Ob)\n",
    "  (f ⊗ g) ⊗ h == f ⊗ (g ⊗ h) ⊣ (A::Ob, B::Ob, C::Ob, X::Ob, Y::Ob, Z::Ob,\n",
    "                                f::(A → X), g::(B → Y), h::(C → Z))\n",
    "  id(munit()) ⊗ f == f ⊣ (A::Ob, B::Ob, f::(A → B))\n",
    "  f ⊗ id(munit()) == f ⊣ (A::Ob, B::Ob, f::(A → B))\n",
    "  # Functorality axioms.\n",
    "  ((f ⊗ g) ⋅ (h ⊗ k) == (f ⋅ h) ⊗ (g ⋅ k)\n",
    "    ⊣ (A::Ob, B::Ob, C::Ob, X::Ob, Y::Ob, Z::Ob,\n",
    "       f::(A → B), h::(B → C), g::(X → Y), k::(Y → Z)))\n",
    "  id(A ⊗ B) == id(A) ⊗ id(B) ⊣ (A::Ob, B::Ob)\n",
    "end\n",
    "```\n",
    "To the definition of a monoidal category, we need to add the symmetry component. Catlab calls the swap morphism a braid, because that is how you visualize it in wiring diagrams, but we stick with the conventional σ unicode name. The macro `@op` tells Catlab that you want to use a unicode operator as an alias for you term constructor. If you are familiar with type theory, you might be wondering why we write the context after the terms. This is because human brains are pretty good at type inference based on notational convention and we want to mimic the English idiom \"f⋅g, where f:A→B and g:B→C are functions\".\n",
    "```julia\n",
    "@theory SymmetricMonoidalCategory{Ob,Hom} <: MonoidalCategory{Ob,Hom} begin\n",
    "  braid(A::Ob, B::Ob)::((A ⊗ B) → (B ⊗ A))\n",
    "  @op (σ) := braid\n",
    "  # Involutivity axiom.\n",
    "  σ(A,B) ⋅ σ(B,A) == id(A ⊗ B) ⊣ (A::Ob, B::Ob)\n",
    "  # Coherence axioms.\n",
    "  #\n",
    "  # Note: The last two axioms are deducible from the first two axioms together\n",
    "  # with the naturality equations for the left/right unitors. We record them for\n",
    "  # the sake of clarity and uniformity.\n",
    "  σ(A,B⊗C) == (σ(A,B) ⊗ id(C)) ⋅ (id(B) ⊗ σ(A,C)) ⊣ (A::Ob, B::Ob, C::Ob)\n",
    "  σ(A⊗B,C) == (id(A) ⊗ σ(B,C)) ⋅ (σ(A,C) ⊗ id(B)) ⊣ (A::Ob, B::Ob, C::Ob)\n",
    "  σ(A,munit()) == id(A) ⊣ (A::Ob)\n",
    "  σ(munit(),A) == id(A) ⊣ (A::Ob)\n",
    "  # Naturality axiom.\n",
    "  (f ⊗ g) ⋅ σ(B,D) == σ(A,C) ⋅ (g ⊗ f) ⊣ (A::Ob, B::Ob, C::Ob, D::Ob,\n",
    "                                          f::(A → B), g::(C → D))\n",
    "end\n",
    "```"
   ],
   "metadata": {}
  },
  {
   "cell_type": "markdown",
   "source": [
    "## Presentations\n",
    "Just like how a preorder can be presented with Hasse Diagram or a free category can be presented by a Graph, SMCs can be presented syntactically or combinatorially. We first start with the syntactic presentation using `@present`."
   ],
   "metadata": {}
  },
  {
   "outputs": [
    {
     "output_type": "execute_result",
     "data": {
      "text/plain": "10-element Vector{Any}:\n WholeEgg\n RawEgg\n Shell\n Egg\n Pan\n Cheese\n Scramble\n crack: WholeEgg → RawEgg⊗Shell\n fry: RawEgg⊗Pan → Egg⊗Pan\n scramble: RawEgg⊗Cheese⊗Pan → Scramble⊗Pan"
     },
     "metadata": {},
     "execution_count": 2
    }
   ],
   "cell_type": "code",
   "source": [
    "@present Cooking(FreeSymmetricMonoidalCategory) begin\n",
    "  (WholeEgg, RawEgg, Shell, Egg, Pan, Cheese, Scramble)::Ob\n",
    "  crack::Hom(WholeEgg, RawEgg⊗Shell)\n",
    "  fry::Hom(RawEgg⊗Pan, Egg⊗Pan)\n",
    "  scramble::Hom(RawEgg⊗Cheese⊗Pan, Scramble⊗Pan)\n",
    "end\n",
    "generators(Cooking)"
   ],
   "metadata": {},
   "execution_count": 2
  },
  {
   "cell_type": "markdown",
   "source": [
    "One interpretation of an SMC is that the objects are resources and the Homs are processes the domain of the Hom is the list of resources that you need to perform the process and the codomain is the list of resources that the process produces. You can think of the SMC presentation as a namespace containing all the terms in the SMC."
   ],
   "metadata": {}
  },
  {
   "cell_type": "markdown",
   "source": [
    "The objects and morphisms are accessible by name"
   ],
   "metadata": {}
  },
  {
   "outputs": [
    {
     "output_type": "execute_result",
     "data": {
      "text/plain": "fry: RawEgg⊗Pan → Egg⊗Pan",
      "text/latex": "$\\mathrm{fry} : \\mathrm{RawEgg} \\otimes \\mathrm{Pan} \\to \\mathrm{Egg} \\otimes \\mathrm{Pan}$"
     },
     "metadata": {},
     "execution_count": 3
    }
   ],
   "cell_type": "code",
   "source": [
    "Cooking[:Egg]\n",
    "Cooking[:fry]"
   ],
   "metadata": {},
   "execution_count": 3
  },
  {
   "cell_type": "markdown",
   "source": [
    "Then you can make complex terms using the unicode operators"
   ],
   "metadata": {}
  },
  {
   "outputs": [
    {
     "output_type": "execute_result",
     "data": {
      "text/plain": "((crack⋅(RawEggσShell))⊗id{Pan})⋅(id{Shell}⊗fry): WholeEgg⊗Pan → Shell⊗Egg⊗Pan",
      "text/latex": "$\\left(\\left(\\mathrm{crack} \\cdot \\sigma_{\\mathrm{RawEgg},\\mathrm{Shell}}\\right) \\otimes \\mathrm{id}_{\\mathrm{Pan}}\\right) \\cdot \\left(\\mathrm{id}_{\\mathrm{Shell}} \\otimes \\mathrm{fry}\\right) : \\mathrm{WholeEgg} \\otimes \\mathrm{Pan} \\to \\mathrm{Shell} \\otimes \\mathrm{Egg} \\otimes \\mathrm{Pan}$"
     },
     "metadata": {},
     "execution_count": 4
    }
   ],
   "cell_type": "code",
   "source": [
    "((Cooking[:crack]⋅σ(Cooking[:RawEgg], Cooking[:Shell])) ⊗id(Cooking[:Pan])) ⋅ (id(Cooking[:Shell])⊗Cooking[:fry])"
   ],
   "metadata": {},
   "execution_count": 4
  },
  {
   "cell_type": "markdown",
   "source": [
    "Notice that Catlab will display the expected domain and codomain."
   ],
   "metadata": {}
  },
  {
   "cell_type": "markdown",
   "source": [
    "This is called point-free notation an it is very popular in the functional programming literature where it is used to mean implicit universal quantification over the function arguments. You can think of a morphism like a function that takes an element of each domain object as input and produces an element of each codomain object as output. Not all SMCs have interpretations as functions over sets, but just like groups can be viewed as a generalization of the symmetries of geometric shapes, SMCs can be viewed as a generalization of multivariate functions."
   ],
   "metadata": {}
  },
  {
   "cell_type": "markdown",
   "source": [
    "These presentations are very syntactic objects and expose an API for manipulating expressions."
   ],
   "metadata": {}
  },
  {
   "outputs": [],
   "cell_type": "code",
   "source": [
    "for g in generators(Cooking)\n",
    "  \"$g is a $(gat_typeof(g)) with arguments $(gat_type_args(g))\"\n",
    "end"
   ],
   "metadata": {},
   "execution_count": 5
  },
  {
   "cell_type": "markdown",
   "source": [
    "The `gat_typeof` function computes the algebraic type of a term by analogy to `Base.typeof` which computes the Julia type of a value."
   ],
   "metadata": {}
  },
  {
   "outputs": [
    {
     "output_type": "execute_result",
     "data": {
      "text/plain": "3-element Vector{Any}:\n crack: WholeEgg → RawEgg⊗Shell\n fry: RawEgg⊗Pan → Egg⊗Pan\n scramble: RawEgg⊗Cheese⊗Pan → Scramble⊗Pan"
     },
     "metadata": {},
     "execution_count": 6
    }
   ],
   "cell_type": "code",
   "source": [
    "homs = filter(generators(Cooking)) do g\n",
    "  gat_typeof(g) == :Hom\n",
    "end"
   ],
   "metadata": {},
   "execution_count": 6
  },
  {
   "cell_type": "markdown",
   "source": [
    "When the term is a Hom, you can get the domain and codomain of the morphism with the `dom` and `codom` functions."
   ],
   "metadata": {}
  },
  {
   "outputs": [
    {
     "output_type": "execute_result",
     "data": {
      "text/plain": "3-element Vector{String}:\n \"crack: WholeEgg → otimes(RawEgg,Shell)\"\n \"fry: otimes(RawEgg,Pan) → otimes(Egg,Pan)\"\n \"scramble: otimes(RawEgg,Cheese,Pan) → otimes(Scramble,Pan)\""
     },
     "metadata": {},
     "execution_count": 7
    }
   ],
   "cell_type": "code",
   "source": [
    "map(homs) do f\n",
    "  \"$f: $(dom(f)) → $(codom(f))\"\n",
    "end"
   ],
   "metadata": {},
   "execution_count": 7
  },
  {
   "cell_type": "markdown",
   "source": [
    "The terms in a `FreeSymmetricMonoidalCategory` are trees that you can navigate with `head` and `args`. The `head` of an expression is the term constructor that created it. For SMCs, this can be `:generator`, `:otimes`, `:compose`, `:id`, or `:braid`. Then `args` will give you the list of arguments to the term constructor. For terms of type Object, this will just be the list of objects that went into constructing the object. For example A⊗B⊗C will have as its head `:otimes` and as the args `[A,B,C]`. Note that the head is a symbol, but the args are objects. For a term of type `Hom`, you have the same structure, but for Homs with the head `:generator`, you get the name of the morphism as a symbol as the first argument."
   ],
   "metadata": {}
  },
  {
   "cell_type": "markdown",
   "source": [
    "We can look at the head and args of object expressions."
   ],
   "metadata": {}
  },
  {
   "outputs": [
    {
     "output_type": "execute_result",
     "data": {
      "text/plain": "(:braid, Catlab.Theories.FreeSymmetricMonoidalCategory.Ob{:generator}[Egg, Pan])"
     },
     "metadata": {},
     "execution_count": 8
    }
   ],
   "cell_type": "code",
   "source": [
    "headargs(x) = (head(x),args(x))\n",
    "σ(Cooking[:Egg], Cooking[:Pan]) |> headargs"
   ],
   "metadata": {},
   "execution_count": 8
  },
  {
   "cell_type": "markdown",
   "source": [
    "And, morphsims"
   ],
   "metadata": {}
  },
  {
   "outputs": [
    {
     "output_type": "execute_result",
     "data": {
      "text/plain": "(:otimes, Catlab.Theories.FreeSymmetricMonoidalCategory.Hom{:generator}[crack, fry])"
     },
     "metadata": {},
     "execution_count": 9
    }
   ],
   "cell_type": "code",
   "source": [
    "headargs(Cooking[:crack]⊗Cooking[:fry])"
   ],
   "metadata": {},
   "execution_count": 9
  },
  {
   "cell_type": "markdown",
   "source": [
    "The base case is generators"
   ],
   "metadata": {}
  },
  {
   "outputs": [
    {
     "output_type": "execute_result",
     "data": {
      "text/plain": "(:generator, [:Egg])"
     },
     "metadata": {},
     "execution_count": 10
    }
   ],
   "cell_type": "code",
   "source": [
    "headargs(Cooking[:Egg])"
   ],
   "metadata": {},
   "execution_count": 10
  },
  {
   "cell_type": "markdown",
   "source": [
    "And, morphisms"
   ],
   "metadata": {}
  },
  {
   "outputs": [
    {
     "output_type": "execute_result",
     "data": {
      "text/plain": "(:generator, Any[:crack, WholeEgg, otimes(RawEgg,Shell)])"
     },
     "metadata": {},
     "execution_count": 11
    }
   ],
   "cell_type": "code",
   "source": [
    "headargs(Cooking[:crack])"
   ],
   "metadata": {},
   "execution_count": 11
  },
  {
   "cell_type": "markdown",
   "source": [
    "For a more complete introspection of the expression trees, you can call `dump(ex)` which will print a very verbose representation of the entire expression tree.\n",
    "\n",
    "In order to compose morphisms sequentially, you have to make sure that the domains match up. In a typical SMC expression this can require padding with the identity morphism and braiding monoidal products into the right order."
   ],
   "metadata": {}
  },
  {
   "outputs": [
    {
     "output_type": "execute_result",
     "data": {
      "text/plain": "(crack⊗id{Pan})⋅(id{RawEgg}⊗(ShellσPan))⋅(fry⊗id{Shell}): WholeEgg⊗Pan → Egg⊗Pan⊗Shell",
      "text/latex": "$\\left(\\mathrm{crack} \\otimes \\mathrm{id}_{\\mathrm{Pan}}\\right) \\cdot \\left(\\mathrm{id}_{\\mathrm{RawEgg}} \\otimes \\sigma_{\\mathrm{Shell},\\mathrm{Pan}}\\right) \\cdot \\left(\\mathrm{fry} \\otimes \\mathrm{id}_{\\mathrm{Shell}}\\right) : \\mathrm{WholeEgg} \\otimes \\mathrm{Pan} \\to \\mathrm{Egg} \\otimes \\mathrm{Pan} \\otimes \\mathrm{Shell}$"
     },
     "metadata": {},
     "execution_count": 12
    }
   ],
   "cell_type": "code",
   "source": [
    "compose(Cooking[:crack]⊗id(Cooking[:Pan]),\n",
    "        (id(Cooking[:RawEgg])⊗ σ(Cooking[:Shell], Cooking[:Pan])),\n",
    "        (Cooking[:fry]⊗id(Cooking[:Shell])))"
   ],
   "metadata": {},
   "execution_count": 12
  },
  {
   "cell_type": "markdown",
   "source": [
    "At some point, prefix notation is more scalable than infix notation, so you might write this as a LISP programmer would."
   ],
   "metadata": {}
  },
  {
   "outputs": [
    {
     "output_type": "execute_result",
     "data": {
      "text/plain": "(crack⊗id{Pan})⋅(id{RawEgg}⊗(ShellσPan))⋅(fry⊗id{Shell}): WholeEgg⊗Pan → Egg⊗Pan⊗Shell",
      "text/latex": "$\\left(\\mathrm{crack} \\otimes \\mathrm{id}_{\\mathrm{Pan}}\\right) \\cdot \\left(\\mathrm{id}_{\\mathrm{RawEgg}} \\otimes \\sigma_{\\mathrm{Shell},\\mathrm{Pan}}\\right) \\cdot \\left(\\mathrm{fry} \\otimes \\mathrm{id}_{\\mathrm{Shell}}\\right) : \\mathrm{WholeEgg} \\otimes \\mathrm{Pan} \\to \\mathrm{Egg} \\otimes \\mathrm{Pan} \\otimes \\mathrm{Shell}$"
     },
     "metadata": {},
     "execution_count": 13
    }
   ],
   "cell_type": "code",
   "source": [
    "compose(\n",
    "  otimes(Cooking[:crack],\n",
    "         id(Cooking[:Pan])),\n",
    "  otimes(id(Cooking[:RawEgg]),\n",
    "         σ(Cooking[:Shell], Cooking[:Pan])),\n",
    "  otimes(Cooking[:fry],\n",
    "         id(Cooking[:Shell])))"
   ],
   "metadata": {},
   "execution_count": 13
  },
  {
   "cell_type": "markdown",
   "source": [
    "You can view this padding as requiring explicit instructions to do noting with all the objects you aren't using. In this example, we have to tell our chef\n",
    "1. Crack the egg and do nothing with the pan.\n",
    "2. Do nothing with the egg and swap the shell with the pan.\n",
    "3. Fry the egg and do nothing with the shell.\n",
    "Obviously, this is a very tedious way to write recipes. You need to have some syntactic sugar for all this padding and swapping."
   ],
   "metadata": {}
  },
  {
   "cell_type": "markdown",
   "source": [
    "## The Program Macro\n",
    "The syntactic API above is useful for manipulating terms in an arbitrary GAT and is the formal language of Catlab for representing and manipulating algebraic structures. However, when we want to work with big expressions in an SMC, the tree structure inherent to formulas is too verbose, and we want to move to a port-graph structure called `DirectedWiringDiagrams`. This gives us the benefits of combinatorial data structures like graphs with the right expressional power for representing the morphisms in an SMC."
   ],
   "metadata": {}
  },
  {
   "outputs": [
    {
     "output_type": "execute_result",
     "data": {
      "text/plain": "Catlab.Graphics.Graphviz.Graph(\"G\", true, \"dot\", Catlab.Graphics.Graphviz.Statement[Catlab.Graphics.Graphviz.Subgraph(\"\", Catlab.Graphics.Graphviz.Statement[Catlab.Graphics.Graphviz.Node(\"n0in1\", OrderedCollections.OrderedDict{Symbol, Union{String, Catlab.Graphics.Graphviz.Html}}(:id => \"in1\")), Catlab.Graphics.Graphviz.Node(\"n0in2\", OrderedCollections.OrderedDict{Symbol, Union{String, Catlab.Graphics.Graphviz.Html}}(:id => \"in2\")), Catlab.Graphics.Graphviz.Edge(Catlab.Graphics.Graphviz.NodeID[Catlab.Graphics.Graphviz.NodeID(\"n0in1\", \"\", \"\"), Catlab.Graphics.Graphviz.NodeID(\"n0in2\", \"\", \"\")], OrderedCollections.OrderedDict{Symbol, Union{String, Catlab.Graphics.Graphviz.Html}}())], OrderedCollections.OrderedDict{Symbol, Union{String, Catlab.Graphics.Graphviz.Html}}(:rank => \"source\", :rankdir => \"TB\"), OrderedCollections.OrderedDict{Symbol, Union{String, Catlab.Graphics.Graphviz.Html}}(:style => \"invis\", :shape => \"none\", :label => \"\", :width => \"0\", :height => \"0.333\"), OrderedCollections.OrderedDict{Symbol, Union{String, Catlab.Graphics.Graphviz.Html}}(:style => \"invis\")), Catlab.Graphics.Graphviz.Subgraph(\"\", Catlab.Graphics.Graphviz.Statement[Catlab.Graphics.Graphviz.Node(\"n0out1\", OrderedCollections.OrderedDict{Symbol, Union{String, Catlab.Graphics.Graphviz.Html}}(:id => \"out1\")), Catlab.Graphics.Graphviz.Node(\"n0out2\", OrderedCollections.OrderedDict{Symbol, Union{String, Catlab.Graphics.Graphviz.Html}}(:id => \"out2\")), Catlab.Graphics.Graphviz.Node(\"n0out3\", OrderedCollections.OrderedDict{Symbol, Union{String, Catlab.Graphics.Graphviz.Html}}(:id => \"out3\")), Catlab.Graphics.Graphviz.Edge(Catlab.Graphics.Graphviz.NodeID[Catlab.Graphics.Graphviz.NodeID(\"n0out1\", \"\", \"\"), Catlab.Graphics.Graphviz.NodeID(\"n0out2\", \"\", \"\"), Catlab.Graphics.Graphviz.NodeID(\"n0out3\", \"\", \"\")], OrderedCollections.OrderedDict{Symbol, Union{String, Catlab.Graphics.Graphviz.Html}}())], OrderedCollections.OrderedDict{Symbol, Union{String, Catlab.Graphics.Graphviz.Html}}(:rank => \"sink\", :rankdir => \"TB\"), OrderedCollections.OrderedDict{Symbol, Union{String, Catlab.Graphics.Graphviz.Html}}(:style => \"invis\", :shape => \"none\", :label => \"\", :width => \"0\", :height => \"0.333\"), OrderedCollections.OrderedDict{Symbol, Union{String, Catlab.Graphics.Graphviz.Html}}(:style => \"invis\")), Catlab.Graphics.Graphviz.Node(\"n1\", OrderedCollections.OrderedDict{Symbol, Union{String, Catlab.Graphics.Graphviz.Html}}(:color => \"black\", :comment => \"crack\", :fillcolor => \"white\", :id => \"n1\", :label => Catlab.Graphics.Graphviz.Html(\"<TABLE BORDER=\\\"0\\\" CELLPADDING=\\\"0\\\" CELLSPACING=\\\"0\\\">\\n<TR>\\n<TD><TABLE BORDER=\\\"0\\\" CELLPADDING=\\\"0\\\" CELLSPACING=\\\"0\\\"><TR><TD HEIGHT=\\\"24\\\" WIDTH=\\\"0\\\" PORT=\\\"in1\\\"></TD></TR></TABLE></TD>\\n<TD BORDER=\\\"1\\\" CELLPADDING=\\\"4\\\">crack</TD>\\n<TD><TABLE BORDER=\\\"0\\\" CELLPADDING=\\\"0\\\" CELLSPACING=\\\"0\\\"><TR><TD HEIGHT=\\\"24\\\" WIDTH=\\\"0\\\" PORT=\\\"out1\\\"></TD></TR><TR><TD HEIGHT=\\\"24\\\" WIDTH=\\\"0\\\" PORT=\\\"out2\\\"></TD></TR></TABLE></TD>\\n</TR>\\n</TABLE>\"), :style => \"solid\")), Catlab.Graphics.Graphviz.Node(\"n2\", OrderedCollections.OrderedDict{Symbol, Union{String, Catlab.Graphics.Graphviz.Html}}(:color => \"black\", :comment => \"fry\", :fillcolor => \"white\", :id => \"n2\", :label => Catlab.Graphics.Graphviz.Html(\"<TABLE BORDER=\\\"0\\\" CELLPADDING=\\\"0\\\" CELLSPACING=\\\"0\\\">\\n<TR>\\n<TD><TABLE BORDER=\\\"0\\\" CELLPADDING=\\\"0\\\" CELLSPACING=\\\"0\\\"><TR><TD HEIGHT=\\\"24\\\" WIDTH=\\\"0\\\" PORT=\\\"in1\\\"></TD></TR><TR><TD HEIGHT=\\\"24\\\" WIDTH=\\\"0\\\" PORT=\\\"in2\\\"></TD></TR></TABLE></TD>\\n<TD BORDER=\\\"1\\\" CELLPADDING=\\\"4\\\">fry</TD>\\n<TD><TABLE BORDER=\\\"0\\\" CELLPADDING=\\\"0\\\" CELLSPACING=\\\"0\\\"><TR><TD HEIGHT=\\\"24\\\" WIDTH=\\\"0\\\" PORT=\\\"out1\\\"></TD></TR><TR><TD HEIGHT=\\\"24\\\" WIDTH=\\\"0\\\" PORT=\\\"out2\\\"></TD></TR></TABLE></TD>\\n</TR>\\n</TABLE>\"), :style => \"solid\")), Catlab.Graphics.Graphviz.Edge(Catlab.Graphics.Graphviz.NodeID[Catlab.Graphics.Graphviz.NodeID(\"n0in1\", \"e\", \"\"), Catlab.Graphics.Graphviz.NodeID(\"n1\", \"in1\", \"w\")], OrderedCollections.OrderedDict{Symbol, Union{String, Catlab.Graphics.Graphviz.Html}}(:comment => \"WholeEgg\", :id => \"e1\", :xlabel => \"WholeEgg\")), Catlab.Graphics.Graphviz.Edge(Catlab.Graphics.Graphviz.NodeID[Catlab.Graphics.Graphviz.NodeID(\"n0in2\", \"e\", \"\"), Catlab.Graphics.Graphviz.NodeID(\"n2\", \"in2\", \"w\")], OrderedCollections.OrderedDict{Symbol, Union{String, Catlab.Graphics.Graphviz.Html}}(:comment => \"Pan\", :id => \"e2\", :xlabel => \"Pan\")), Catlab.Graphics.Graphviz.Edge(Catlab.Graphics.Graphviz.NodeID[Catlab.Graphics.Graphviz.NodeID(\"n1\", \"out1\", \"e\"), Catlab.Graphics.Graphviz.NodeID(\"n2\", \"in1\", \"w\")], OrderedCollections.OrderedDict{Symbol, Union{String, Catlab.Graphics.Graphviz.Html}}(:comment => \"RawEgg\", :id => \"e3\", :xlabel => \"RawEgg\")), Catlab.Graphics.Graphviz.Edge(Catlab.Graphics.Graphviz.NodeID[Catlab.Graphics.Graphviz.NodeID(\"n1\", \"out2\", \"e\"), Catlab.Graphics.Graphviz.NodeID(\"n0out1\", \"w\", \"\")], OrderedCollections.OrderedDict{Symbol, Union{String, Catlab.Graphics.Graphviz.Html}}(:comment => \"Shell\", :id => \"e4\", :xlabel => \"Shell\")), Catlab.Graphics.Graphviz.Edge(Catlab.Graphics.Graphviz.NodeID[Catlab.Graphics.Graphviz.NodeID(\"n2\", \"out1\", \"e\"), Catlab.Graphics.Graphviz.NodeID(\"n0out2\", \"w\", \"\")], OrderedCollections.OrderedDict{Symbol, Union{String, Catlab.Graphics.Graphviz.Html}}(:comment => \"Egg\", :id => \"e5\", :xlabel => \"Egg\")), Catlab.Graphics.Graphviz.Edge(Catlab.Graphics.Graphviz.NodeID[Catlab.Graphics.Graphviz.NodeID(\"n2\", \"out2\", \"e\"), Catlab.Graphics.Graphviz.NodeID(\"n0out3\", \"w\", \"\")], OrderedCollections.OrderedDict{Symbol, Union{String, Catlab.Graphics.Graphviz.Html}}(:comment => \"Pan\", :id => \"e6\", :xlabel => \"Pan\"))], OrderedCollections.OrderedDict{Symbol, Union{String, Catlab.Graphics.Graphviz.Html}}(:fontname => \"Serif\", :rankdir => \"LR\"), OrderedCollections.OrderedDict{Symbol, Union{String, Catlab.Graphics.Graphviz.Html}}(:fontname => \"Courier\", :shape => \"none\", :width => \"0\", :height => \"0\", :margin => \"0\"), OrderedCollections.OrderedDict{Symbol, Union{String, Catlab.Graphics.Graphviz.Html}}(:arrowsize => \"0.5\", :fontname => \"Courier\"))",
      "image/svg+xml": [
       "<?xml version=\"1.0\" encoding=\"UTF-8\" standalone=\"no\"?>\n",
       "<!DOCTYPE svg PUBLIC \"-//W3C//DTD SVG 1.1//EN\"\n",
       " \"http://www.w3.org/Graphics/SVG/1.1/DTD/svg11.dtd\">\n",
       "<!-- Generated by graphviz version 2.43.0 (0)\n",
       " -->\n",
       "<!-- Title: G Pages: 1 -->\n",
       "<svg width=\"259pt\" height=\"116pt\"\n",
       " viewBox=\"0.00 0.00 259.13 116.00\" xmlns=\"http://www.w3.org/2000/svg\" xmlns:xlink=\"http://www.w3.org/1999/xlink\">\n",
       "<g id=\"graph0\" class=\"graph\" transform=\"scale(1 1) rotate(0) translate(4 112)\">\n",
       "<title>G</title>\n",
       "<polygon fill=\"white\" stroke=\"transparent\" points=\"-4,4 -4,-112 255.13,-112 255.13,4 -4,4\"/>\n",
       "<!-- n0in1 -->\n",
       "<!-- n0in2 -->\n",
       "<!-- n0in1&#45;&gt;n0in2 -->\n",
       "<!-- n1 -->\n",
       "<!-- crack -->\n",
       "<g id=\"n1\" class=\"node\">\n",
       "<title>n1</title>\n",
       "<polygon fill=\"none\" stroke=\"black\" points=\"85.1,-58 85.1,-106 137.1,-106 137.1,-58 85.1,-58\"/>\n",
       "<text text-anchor=\"start\" x=\"90.1\" y=\"-78.3\" font-family=\"Courier,monospace\" font-size=\"14.00\">crack</text>\n",
       "</g>\n",
       "<!-- n0in1&#45;&gt;n1 -->\n",
       "<!-- WholeEgg -->\n",
       "<g id=\"e1\" class=\"edge\">\n",
       "<title>n0in1:e&#45;&gt;n1:w</title>\n",
       "<path fill=\"none\" stroke=\"black\" d=\"M49.1,-79C63.28,-79 67.97,-81.34 79.92,-81.89\"/>\n",
       "<polygon fill=\"black\" stroke=\"black\" points=\"80.06,-83.64 85.1,-82 80.14,-80.14 80.06,-83.64\"/>\n",
       "<text text-anchor=\"middle\" x=\"33.5\" y=\"-84.28\" font-family=\"Courier,monospace\" font-size=\"14.00\">WholeEgg</text>\n",
       "</g>\n",
       "<!-- n2 -->\n",
       "<!-- fry -->\n",
       "<g id=\"n2\" class=\"node\">\n",
       "<title>n2</title>\n",
       "<polygon fill=\"none\" stroke=\"black\" points=\"173.6,-18 173.6,-66 208.6,-66 208.6,-18 173.6,-18\"/>\n",
       "<text text-anchor=\"start\" x=\"178.6\" y=\"-38.3\" font-family=\"Courier,monospace\" font-size=\"14.00\">fry</text>\n",
       "</g>\n",
       "<!-- n0in2&#45;&gt;n2 -->\n",
       "<!-- Pan -->\n",
       "<g id=\"e2\" class=\"edge\">\n",
       "<title>n0in2:e&#45;&gt;n2:w</title>\n",
       "<path fill=\"none\" stroke=\"black\" d=\"M49.1,-35C102.53,-35 117.05,-30.31 168.05,-30.01\"/>\n",
       "<polygon fill=\"black\" stroke=\"black\" points=\"168.11,-31.76 173.1,-30 168.1,-28.26 168.11,-31.76\"/>\n",
       "<text text-anchor=\"middle\" x=\"98.55\" y=\"-21.3\" font-family=\"Courier,monospace\" font-size=\"14.00\">Pan</text>\n",
       "</g>\n",
       "<!-- n0out1 -->\n",
       "<!-- n0out2 -->\n",
       "<!-- n0out1&#45;&gt;n0out2 -->\n",
       "<!-- n0out3 -->\n",
       "<!-- n0out2&#45;&gt;n0out3 -->\n",
       "<!-- n1&#45;&gt;n0out1 -->\n",
       "<!-- Shell -->\n",
       "<g id=\"e4\" class=\"edge\">\n",
       "<title>n1:e&#45;&gt;n0out1:w</title>\n",
       "<path fill=\"none\" stroke=\"black\" d=\"M137.1,-70C184.32,-70 194.47,-94.2 239.08,-95.91\"/>\n",
       "<polygon fill=\"black\" stroke=\"black\" points=\"239.07,-97.66 244.1,-96 239.14,-94.16 239.07,-97.66\"/>\n",
       "<text text-anchor=\"middle\" x=\"211.71\" y=\"-71.85\" font-family=\"Courier,monospace\" font-size=\"14.00\">Shell</text>\n",
       "</g>\n",
       "<!-- n1&#45;&gt;n2 -->\n",
       "<!-- RawEgg -->\n",
       "<g id=\"e3\" class=\"edge\">\n",
       "<title>n1:e&#45;&gt;n2:w</title>\n",
       "<path fill=\"none\" stroke=\"black\" d=\"M137.1,-94C159.15,-94 150.82,-60.01 168.12,-54.69\"/>\n",
       "<polygon fill=\"black\" stroke=\"black\" points=\"168.39,-56.42 173.1,-54 167.91,-52.96 168.39,-56.42\"/>\n",
       "<text text-anchor=\"middle\" x=\"180.18\" y=\"-77.55\" font-family=\"Courier,monospace\" font-size=\"14.00\">RawEgg</text>\n",
       "</g>\n",
       "<!-- n2&#45;&gt;n0out2 -->\n",
       "<!-- Egg -->\n",
       "<g id=\"e5\" class=\"edge\">\n",
       "<title>n2:e&#45;&gt;n0out2:w</title>\n",
       "<path fill=\"none\" stroke=\"black\" d=\"M208.1,-54C222.23,-54 227,-54 238.93,-54\"/>\n",
       "<polygon fill=\"black\" stroke=\"black\" points=\"239.1,-55.75 244.1,-54 239.1,-52.25 239.1,-55.75\"/>\n",
       "<text text-anchor=\"middle\" x=\"238.5\" y=\"-42.8\" font-family=\"Courier,monospace\" font-size=\"14.00\">Egg</text>\n",
       "</g>\n",
       "<!-- n2&#45;&gt;n0out3 -->\n",
       "<!-- Pan -->\n",
       "<g id=\"e6\" class=\"edge\">\n",
       "<title>n2:e&#45;&gt;n0out3:w</title>\n",
       "<path fill=\"none\" stroke=\"black\" d=\"M208.1,-30C224.03,-30 225.95,-15.72 238.82,-12.6\"/>\n",
       "<polygon fill=\"black\" stroke=\"black\" points=\"239.33,-14.3 244.1,-12 238.94,-10.82 239.33,-14.3\"/>\n",
       "<text text-anchor=\"middle\" x=\"238.63\" y=\"-24.77\" font-family=\"Courier,monospace\" font-size=\"14.00\">Pan</text>\n",
       "</g>\n",
       "</g>\n",
       "</svg>\n"
      ]
     },
     "metadata": {},
     "execution_count": 14
    }
   ],
   "cell_type": "code",
   "source": [
    "recipe = @program Cooking (e::WholeEgg, p::Pan) begin\n",
    "  e′, shell = crack(e)\n",
    "  return shell, fry(e′, p)\n",
    "end\n",
    "draw(recipe)"
   ],
   "metadata": {},
   "execution_count": 14
  },
  {
   "cell_type": "markdown",
   "source": [
    "Catlab gives you the tools for drawing wiring diagrams. Visualization of wiring diagrams is the oldest part of Catlab and the original motivation for its development. The `@program` macro allows you to define wiring diagrams using a syntax that feels like Julia code."
   ],
   "metadata": {}
  },
  {
   "cell_type": "markdown",
   "source": [
    "The input wires are declared as *arguments* to the program, and the output wires are declared as *returns* from the function. Variables that are not consumed or by another function or returned by the program are automatically dropped."
   ],
   "metadata": {}
  },
  {
   "outputs": [
    {
     "output_type": "execute_result",
     "data": {
      "text/plain": "Catlab.Graphics.Graphviz.Graph(\"G\", true, \"dot\", Catlab.Graphics.Graphviz.Statement[Catlab.Graphics.Graphviz.Subgraph(\"\", Catlab.Graphics.Graphviz.Statement[Catlab.Graphics.Graphviz.Node(\"n0in1\", OrderedCollections.OrderedDict{Symbol, Union{String, Catlab.Graphics.Graphviz.Html}}(:id => \"in1\")), Catlab.Graphics.Graphviz.Node(\"n0in2\", OrderedCollections.OrderedDict{Symbol, Union{String, Catlab.Graphics.Graphviz.Html}}(:id => \"in2\")), Catlab.Graphics.Graphviz.Edge(Catlab.Graphics.Graphviz.NodeID[Catlab.Graphics.Graphviz.NodeID(\"n0in1\", \"\", \"\"), Catlab.Graphics.Graphviz.NodeID(\"n0in2\", \"\", \"\")], OrderedCollections.OrderedDict{Symbol, Union{String, Catlab.Graphics.Graphviz.Html}}())], OrderedCollections.OrderedDict{Symbol, Union{String, Catlab.Graphics.Graphviz.Html}}(:rank => \"source\", :rankdir => \"TB\"), OrderedCollections.OrderedDict{Symbol, Union{String, Catlab.Graphics.Graphviz.Html}}(:style => \"invis\", :shape => \"none\", :label => \"\", :width => \"0\", :height => \"0.333\"), OrderedCollections.OrderedDict{Symbol, Union{String, Catlab.Graphics.Graphviz.Html}}(:style => \"invis\")), Catlab.Graphics.Graphviz.Subgraph(\"\", Catlab.Graphics.Graphviz.Statement[Catlab.Graphics.Graphviz.Node(\"n0out1\", OrderedCollections.OrderedDict{Symbol, Union{String, Catlab.Graphics.Graphviz.Html}}(:id => \"out1\")), Catlab.Graphics.Graphviz.Node(\"n0out2\", OrderedCollections.OrderedDict{Symbol, Union{String, Catlab.Graphics.Graphviz.Html}}(:id => \"out2\")), Catlab.Graphics.Graphviz.Edge(Catlab.Graphics.Graphviz.NodeID[Catlab.Graphics.Graphviz.NodeID(\"n0out1\", \"\", \"\"), Catlab.Graphics.Graphviz.NodeID(\"n0out2\", \"\", \"\")], OrderedCollections.OrderedDict{Symbol, Union{String, Catlab.Graphics.Graphviz.Html}}())], OrderedCollections.OrderedDict{Symbol, Union{String, Catlab.Graphics.Graphviz.Html}}(:rank => \"sink\", :rankdir => \"TB\"), OrderedCollections.OrderedDict{Symbol, Union{String, Catlab.Graphics.Graphviz.Html}}(:style => \"invis\", :shape => \"none\", :label => \"\", :width => \"0\", :height => \"0.333\"), OrderedCollections.OrderedDict{Symbol, Union{String, Catlab.Graphics.Graphviz.Html}}(:style => \"invis\")), Catlab.Graphics.Graphviz.Node(\"n1\", OrderedCollections.OrderedDict{Symbol, Union{String, Catlab.Graphics.Graphviz.Html}}(:color => \"black\", :comment => \"crack\", :fillcolor => \"white\", :id => \"n1\", :label => Catlab.Graphics.Graphviz.Html(\"<TABLE BORDER=\\\"0\\\" CELLPADDING=\\\"0\\\" CELLSPACING=\\\"0\\\">\\n<TR>\\n<TD><TABLE BORDER=\\\"0\\\" CELLPADDING=\\\"0\\\" CELLSPACING=\\\"0\\\"><TR><TD HEIGHT=\\\"24\\\" WIDTH=\\\"0\\\" PORT=\\\"in1\\\"></TD></TR></TABLE></TD>\\n<TD BORDER=\\\"1\\\" CELLPADDING=\\\"4\\\">crack</TD>\\n<TD><TABLE BORDER=\\\"0\\\" CELLPADDING=\\\"0\\\" CELLSPACING=\\\"0\\\"><TR><TD HEIGHT=\\\"24\\\" WIDTH=\\\"0\\\" PORT=\\\"out1\\\"></TD></TR><TR><TD HEIGHT=\\\"24\\\" WIDTH=\\\"0\\\" PORT=\\\"out2\\\"></TD></TR></TABLE></TD>\\n</TR>\\n</TABLE>\"), :style => \"solid\")), Catlab.Graphics.Graphviz.Node(\"n2\", OrderedCollections.OrderedDict{Symbol, Union{String, Catlab.Graphics.Graphviz.Html}}(:color => \"black\", :comment => \"fry\", :fillcolor => \"white\", :id => \"n2\", :label => Catlab.Graphics.Graphviz.Html(\"<TABLE BORDER=\\\"0\\\" CELLPADDING=\\\"0\\\" CELLSPACING=\\\"0\\\">\\n<TR>\\n<TD><TABLE BORDER=\\\"0\\\" CELLPADDING=\\\"0\\\" CELLSPACING=\\\"0\\\"><TR><TD HEIGHT=\\\"24\\\" WIDTH=\\\"0\\\" PORT=\\\"in1\\\"></TD></TR><TR><TD HEIGHT=\\\"24\\\" WIDTH=\\\"0\\\" PORT=\\\"in2\\\"></TD></TR></TABLE></TD>\\n<TD BORDER=\\\"1\\\" CELLPADDING=\\\"4\\\">fry</TD>\\n<TD><TABLE BORDER=\\\"0\\\" CELLPADDING=\\\"0\\\" CELLSPACING=\\\"0\\\"><TR><TD HEIGHT=\\\"24\\\" WIDTH=\\\"0\\\" PORT=\\\"out1\\\"></TD></TR><TR><TD HEIGHT=\\\"24\\\" WIDTH=\\\"0\\\" PORT=\\\"out2\\\"></TD></TR></TABLE></TD>\\n</TR>\\n</TABLE>\"), :style => \"solid\")), Catlab.Graphics.Graphviz.Edge(Catlab.Graphics.Graphviz.NodeID[Catlab.Graphics.Graphviz.NodeID(\"n0in1\", \"e\", \"\"), Catlab.Graphics.Graphviz.NodeID(\"n1\", \"in1\", \"w\")], OrderedCollections.OrderedDict{Symbol, Union{String, Catlab.Graphics.Graphviz.Html}}(:comment => \"WholeEgg\", :id => \"e1\", :xlabel => \"WholeEgg\")), Catlab.Graphics.Graphviz.Edge(Catlab.Graphics.Graphviz.NodeID[Catlab.Graphics.Graphviz.NodeID(\"n0in2\", \"e\", \"\"), Catlab.Graphics.Graphviz.NodeID(\"n2\", \"in2\", \"w\")], OrderedCollections.OrderedDict{Symbol, Union{String, Catlab.Graphics.Graphviz.Html}}(:comment => \"Pan\", :id => \"e2\", :xlabel => \"Pan\")), Catlab.Graphics.Graphviz.Edge(Catlab.Graphics.Graphviz.NodeID[Catlab.Graphics.Graphviz.NodeID(\"n1\", \"out1\", \"e\"), Catlab.Graphics.Graphviz.NodeID(\"n2\", \"in1\", \"w\")], OrderedCollections.OrderedDict{Symbol, Union{String, Catlab.Graphics.Graphviz.Html}}(:comment => \"RawEgg\", :id => \"e3\", :xlabel => \"RawEgg\")), Catlab.Graphics.Graphviz.Edge(Catlab.Graphics.Graphviz.NodeID[Catlab.Graphics.Graphviz.NodeID(\"n2\", \"out1\", \"e\"), Catlab.Graphics.Graphviz.NodeID(\"n0out1\", \"w\", \"\")], OrderedCollections.OrderedDict{Symbol, Union{String, Catlab.Graphics.Graphviz.Html}}(:comment => \"Egg\", :id => \"e4\", :xlabel => \"Egg\")), Catlab.Graphics.Graphviz.Edge(Catlab.Graphics.Graphviz.NodeID[Catlab.Graphics.Graphviz.NodeID(\"n2\", \"out2\", \"e\"), Catlab.Graphics.Graphviz.NodeID(\"n0out2\", \"w\", \"\")], OrderedCollections.OrderedDict{Symbol, Union{String, Catlab.Graphics.Graphviz.Html}}(:comment => \"Pan\", :id => \"e5\", :xlabel => \"Pan\"))], OrderedCollections.OrderedDict{Symbol, Union{String, Catlab.Graphics.Graphviz.Html}}(:fontname => \"Serif\", :rankdir => \"LR\"), OrderedCollections.OrderedDict{Symbol, Union{String, Catlab.Graphics.Graphviz.Html}}(:fontname => \"Courier\", :shape => \"none\", :width => \"0\", :height => \"0\", :margin => \"0\"), OrderedCollections.OrderedDict{Symbol, Union{String, Catlab.Graphics.Graphviz.Html}}(:arrowsize => \"0.5\", :fontname => \"Courier\"))",
      "image/svg+xml": [
       "<?xml version=\"1.0\" encoding=\"UTF-8\" standalone=\"no\"?>\n",
       "<!DOCTYPE svg PUBLIC \"-//W3C//DTD SVG 1.1//EN\"\n",
       " \"http://www.w3.org/Graphics/SVG/1.1/DTD/svg11.dtd\">\n",
       "<!-- Generated by graphviz version 2.43.0 (0)\n",
       " -->\n",
       "<!-- Title: G Pages: 1 -->\n",
       "<svg width=\"259pt\" height=\"91pt\"\n",
       " viewBox=\"0.00 0.00 259.00 91.00\" xmlns=\"http://www.w3.org/2000/svg\" xmlns:xlink=\"http://www.w3.org/1999/xlink\">\n",
       "<g id=\"graph0\" class=\"graph\" transform=\"scale(1 1) rotate(0) translate(4 87)\">\n",
       "<title>G</title>\n",
       "<polygon fill=\"white\" stroke=\"transparent\" points=\"-4,4 -4,-87 255,-87 255,4 -4,4\"/>\n",
       "<!-- n0in1 -->\n",
       "<!-- n0in2 -->\n",
       "<!-- n0in1&#45;&gt;n0in2 -->\n",
       "<!-- n1 -->\n",
       "<!-- crack -->\n",
       "<g id=\"n1\" class=\"node\">\n",
       "<title>n1</title>\n",
       "<polygon fill=\"none\" stroke=\"black\" points=\"85.1,-35 85.1,-83 137.1,-83 137.1,-35 85.1,-35\"/>\n",
       "<text text-anchor=\"start\" x=\"90.1\" y=\"-55.3\" font-family=\"Courier,monospace\" font-size=\"14.00\">crack</text>\n",
       "</g>\n",
       "<!-- n0in1&#45;&gt;n1 -->\n",
       "<!-- WholeEgg -->\n",
       "<g id=\"e1\" class=\"edge\">\n",
       "<title>n0in1:e&#45;&gt;n1:w</title>\n",
       "<path fill=\"none\" stroke=\"black\" d=\"M49.1,-56C63.28,-56 67.97,-58.34 79.92,-58.89\"/>\n",
       "<polygon fill=\"black\" stroke=\"black\" points=\"80.06,-60.64 85.1,-59 80.14,-57.14 80.06,-60.64\"/>\n",
       "<text text-anchor=\"middle\" x=\"33.5\" y=\"-61.28\" font-family=\"Courier,monospace\" font-size=\"14.00\">WholeEgg</text>\n",
       "</g>\n",
       "<!-- n2 -->\n",
       "<!-- fry -->\n",
       "<g id=\"n2\" class=\"node\">\n",
       "<title>n2</title>\n",
       "<polygon fill=\"none\" stroke=\"black\" points=\"173.6,-15 173.6,-63 208.6,-63 208.6,-15 173.6,-15\"/>\n",
       "<text text-anchor=\"start\" x=\"178.6\" y=\"-35.3\" font-family=\"Courier,monospace\" font-size=\"14.00\">fry</text>\n",
       "</g>\n",
       "<!-- n0in2&#45;&gt;n2 -->\n",
       "<!-- Pan -->\n",
       "<g id=\"e2\" class=\"edge\">\n",
       "<title>n0in2:e&#45;&gt;n2:w</title>\n",
       "<path fill=\"none\" stroke=\"black\" d=\"M49.1,-12C102.88,-12 116.74,-26.08 168.02,-26.96\"/>\n",
       "<polygon fill=\"black\" stroke=\"black\" points=\"168.09,-28.71 173.1,-27 168.12,-25.21 168.09,-28.71\"/>\n",
       "<text text-anchor=\"middle\" x=\"98.55\" y=\"-8.29\" font-family=\"Courier,monospace\" font-size=\"14.00\">Pan</text>\n",
       "</g>\n",
       "<!-- n0out1 -->\n",
       "<!-- n0out2 -->\n",
       "<!-- n0out1&#45;&gt;n0out2 -->\n",
       "<!-- n1&#45;&gt;n2 -->\n",
       "<!-- RawEgg -->\n",
       "<g id=\"e3\" class=\"edge\">\n",
       "<title>n1:e&#45;&gt;n2:w</title>\n",
       "<path fill=\"none\" stroke=\"black\" d=\"M137.1,-71C153.55,-71 154.73,-54.86 168.07,-51.58\"/>\n",
       "<polygon fill=\"black\" stroke=\"black\" points=\"168.33,-53.31 173.1,-51 167.94,-49.83 168.33,-53.31\"/>\n",
       "<text text-anchor=\"middle\" x=\"179.87\" y=\"-65.06\" font-family=\"Courier,monospace\" font-size=\"14.00\">RawEgg</text>\n",
       "</g>\n",
       "<!-- n2&#45;&gt;n0out1 -->\n",
       "<!-- Egg -->\n",
       "<g id=\"e4\" class=\"edge\">\n",
       "<title>n2:e&#45;&gt;n0out1:w</title>\n",
       "<path fill=\"none\" stroke=\"black\" d=\"M208.1,-51C222.66,-51 226.72,-58.01 238.82,-59.66\"/>\n",
       "<polygon fill=\"black\" stroke=\"black\" points=\"239,-61.42 244.1,-60 239.23,-57.93 239,-61.42\"/>\n",
       "<text text-anchor=\"middle\" x=\"238.5\" y=\"-44.25\" font-family=\"Courier,monospace\" font-size=\"14.00\">Egg</text>\n",
       "</g>\n",
       "<!-- n2&#45;&gt;n0out2 -->\n",
       "<!-- Pan -->\n",
       "<g id=\"e5\" class=\"edge\">\n",
       "<title>n2:e&#45;&gt;n0out2:w</title>\n",
       "<path fill=\"none\" stroke=\"black\" d=\"M208.1,-27C222.66,-27 226.72,-19.99 238.82,-18.34\"/>\n",
       "<polygon fill=\"black\" stroke=\"black\" points=\"239.23,-20.07 244.1,-18 239,-16.58 239.23,-20.07\"/>\n",
       "<text text-anchor=\"middle\" x=\"238.5\" y=\"-26.35\" font-family=\"Courier,monospace\" font-size=\"14.00\">Pan</text>\n",
       "</g>\n",
       "</g>\n",
       "</svg>\n"
      ]
     },
     "metadata": {},
     "execution_count": 15
    }
   ],
   "cell_type": "code",
   "source": [
    "recipe = @program Cooking (e::WholeEgg, p::Pan) begin\n",
    "  e′, shell = crack(e)\n",
    "  return fry(e′, p)\n",
    "end\n",
    "draw(recipe)"
   ],
   "metadata": {},
   "execution_count": 15
  },
  {
   "cell_type": "markdown",
   "source": [
    "You can copy a value by using it more than once. This is visualized as a wire being split into two wires. Square brackets let you assert equality again. For material goods, you might not want to allow this merging and splitting."
   ],
   "metadata": {}
  },
  {
   "outputs": [
    {
     "output_type": "execute_result",
     "data": {
      "text/plain": "Catlab.Graphics.Graphviz.Graph(\"G\", true, \"dot\", Catlab.Graphics.Graphviz.Statement[Catlab.Graphics.Graphviz.Subgraph(\"\", Catlab.Graphics.Graphviz.Statement[Catlab.Graphics.Graphviz.Node(\"n0in1\", OrderedCollections.OrderedDict{Symbol, Union{String, Catlab.Graphics.Graphviz.Html}}(:id => \"in1\")), Catlab.Graphics.Graphviz.Node(\"n0in2\", OrderedCollections.OrderedDict{Symbol, Union{String, Catlab.Graphics.Graphviz.Html}}(:id => \"in2\")), Catlab.Graphics.Graphviz.Node(\"n0in3\", OrderedCollections.OrderedDict{Symbol, Union{String, Catlab.Graphics.Graphviz.Html}}(:id => \"in3\")), Catlab.Graphics.Graphviz.Edge(Catlab.Graphics.Graphviz.NodeID[Catlab.Graphics.Graphviz.NodeID(\"n0in1\", \"\", \"\"), Catlab.Graphics.Graphviz.NodeID(\"n0in2\", \"\", \"\"), Catlab.Graphics.Graphviz.NodeID(\"n0in3\", \"\", \"\")], OrderedCollections.OrderedDict{Symbol, Union{String, Catlab.Graphics.Graphviz.Html}}())], OrderedCollections.OrderedDict{Symbol, Union{String, Catlab.Graphics.Graphviz.Html}}(:rank => \"source\", :rankdir => \"TB\"), OrderedCollections.OrderedDict{Symbol, Union{String, Catlab.Graphics.Graphviz.Html}}(:style => \"invis\", :shape => \"none\", :label => \"\", :width => \"0\", :height => \"0.333\"), OrderedCollections.OrderedDict{Symbol, Union{String, Catlab.Graphics.Graphviz.Html}}(:style => \"invis\")), Catlab.Graphics.Graphviz.Subgraph(\"\", Catlab.Graphics.Graphviz.Statement[Catlab.Graphics.Graphviz.Node(\"n0out1\", OrderedCollections.OrderedDict{Symbol, Union{String, Catlab.Graphics.Graphviz.Html}}(:id => \"out1\")), Catlab.Graphics.Graphviz.Node(\"n0out2\", OrderedCollections.OrderedDict{Symbol, Union{String, Catlab.Graphics.Graphviz.Html}}(:id => \"out2\")), Catlab.Graphics.Graphviz.Node(\"n0out3\", OrderedCollections.OrderedDict{Symbol, Union{String, Catlab.Graphics.Graphviz.Html}}(:id => \"out3\")), Catlab.Graphics.Graphviz.Edge(Catlab.Graphics.Graphviz.NodeID[Catlab.Graphics.Graphviz.NodeID(\"n0out1\", \"\", \"\"), Catlab.Graphics.Graphviz.NodeID(\"n0out2\", \"\", \"\"), Catlab.Graphics.Graphviz.NodeID(\"n0out3\", \"\", \"\")], OrderedCollections.OrderedDict{Symbol, Union{String, Catlab.Graphics.Graphviz.Html}}())], OrderedCollections.OrderedDict{Symbol, Union{String, Catlab.Graphics.Graphviz.Html}}(:rank => \"sink\", :rankdir => \"TB\"), OrderedCollections.OrderedDict{Symbol, Union{String, Catlab.Graphics.Graphviz.Html}}(:style => \"invis\", :shape => \"none\", :label => \"\", :width => \"0\", :height => \"0.333\"), OrderedCollections.OrderedDict{Symbol, Union{String, Catlab.Graphics.Graphviz.Html}}(:style => \"invis\")), Catlab.Graphics.Graphviz.Node(\"n1\", OrderedCollections.OrderedDict{Symbol, Union{String, Catlab.Graphics.Graphviz.Html}}(:color => \"black\", :comment => \"crack\", :fillcolor => \"white\", :id => \"n1\", :label => Catlab.Graphics.Graphviz.Html(\"<TABLE BORDER=\\\"0\\\" CELLPADDING=\\\"0\\\" CELLSPACING=\\\"0\\\">\\n<TR>\\n<TD><TABLE BORDER=\\\"0\\\" CELLPADDING=\\\"0\\\" CELLSPACING=\\\"0\\\"><TR><TD HEIGHT=\\\"24\\\" WIDTH=\\\"0\\\" PORT=\\\"in1\\\"></TD></TR></TABLE></TD>\\n<TD BORDER=\\\"1\\\" CELLPADDING=\\\"4\\\">crack</TD>\\n<TD><TABLE BORDER=\\\"0\\\" CELLPADDING=\\\"0\\\" CELLSPACING=\\\"0\\\"><TR><TD HEIGHT=\\\"24\\\" WIDTH=\\\"0\\\" PORT=\\\"out1\\\"></TD></TR><TR><TD HEIGHT=\\\"24\\\" WIDTH=\\\"0\\\" PORT=\\\"out2\\\"></TD></TR></TABLE></TD>\\n</TR>\\n</TABLE>\"), :style => \"solid\")), Catlab.Graphics.Graphviz.Node(\"n2\", OrderedCollections.OrderedDict{Symbol, Union{String, Catlab.Graphics.Graphviz.Html}}(:color => \"black\", :comment => \"fry\", :fillcolor => \"white\", :id => \"n2\", :label => Catlab.Graphics.Graphviz.Html(\"<TABLE BORDER=\\\"0\\\" CELLPADDING=\\\"0\\\" CELLSPACING=\\\"0\\\">\\n<TR>\\n<TD><TABLE BORDER=\\\"0\\\" CELLPADDING=\\\"0\\\" CELLSPACING=\\\"0\\\"><TR><TD HEIGHT=\\\"24\\\" WIDTH=\\\"0\\\" PORT=\\\"in1\\\"></TD></TR><TR><TD HEIGHT=\\\"24\\\" WIDTH=\\\"0\\\" PORT=\\\"in2\\\"></TD></TR></TABLE></TD>\\n<TD BORDER=\\\"1\\\" CELLPADDING=\\\"4\\\">fry</TD>\\n<TD><TABLE BORDER=\\\"0\\\" CELLPADDING=\\\"0\\\" CELLSPACING=\\\"0\\\"><TR><TD HEIGHT=\\\"24\\\" WIDTH=\\\"0\\\" PORT=\\\"out1\\\"></TD></TR><TR><TD HEIGHT=\\\"24\\\" WIDTH=\\\"0\\\" PORT=\\\"out2\\\"></TD></TR></TABLE></TD>\\n</TR>\\n</TABLE>\"), :style => \"solid\")), Catlab.Graphics.Graphviz.Node(\"n3\", OrderedCollections.OrderedDict{Symbol, Union{String, Catlab.Graphics.Graphviz.Html}}(:color => \"black\", :comment => \"crack\", :fillcolor => \"white\", :id => \"n3\", :label => Catlab.Graphics.Graphviz.Html(\"<TABLE BORDER=\\\"0\\\" CELLPADDING=\\\"0\\\" CELLSPACING=\\\"0\\\">\\n<TR>\\n<TD><TABLE BORDER=\\\"0\\\" CELLPADDING=\\\"0\\\" CELLSPACING=\\\"0\\\"><TR><TD HEIGHT=\\\"24\\\" WIDTH=\\\"0\\\" PORT=\\\"in1\\\"></TD></TR></TABLE></TD>\\n<TD BORDER=\\\"1\\\" CELLPADDING=\\\"4\\\">crack</TD>\\n<TD><TABLE BORDER=\\\"0\\\" CELLPADDING=\\\"0\\\" CELLSPACING=\\\"0\\\"><TR><TD HEIGHT=\\\"24\\\" WIDTH=\\\"0\\\" PORT=\\\"out1\\\"></TD></TR><TR><TD HEIGHT=\\\"24\\\" WIDTH=\\\"0\\\" PORT=\\\"out2\\\"></TD></TR></TABLE></TD>\\n</TR>\\n</TABLE>\"), :style => \"solid\")), Catlab.Graphics.Graphviz.Node(\"n4\", OrderedCollections.OrderedDict{Symbol, Union{String, Catlab.Graphics.Graphviz.Html}}(:color => \"black\", :comment => \"fry\", :fillcolor => \"white\", :id => \"n4\", :label => Catlab.Graphics.Graphviz.Html(\"<TABLE BORDER=\\\"0\\\" CELLPADDING=\\\"0\\\" CELLSPACING=\\\"0\\\">\\n<TR>\\n<TD><TABLE BORDER=\\\"0\\\" CELLPADDING=\\\"0\\\" CELLSPACING=\\\"0\\\"><TR><TD HEIGHT=\\\"24\\\" WIDTH=\\\"0\\\" PORT=\\\"in1\\\"></TD></TR><TR><TD HEIGHT=\\\"24\\\" WIDTH=\\\"0\\\" PORT=\\\"in2\\\"></TD></TR></TABLE></TD>\\n<TD BORDER=\\\"1\\\" CELLPADDING=\\\"4\\\">fry</TD>\\n<TD><TABLE BORDER=\\\"0\\\" CELLPADDING=\\\"0\\\" CELLSPACING=\\\"0\\\"><TR><TD HEIGHT=\\\"24\\\" WIDTH=\\\"0\\\" PORT=\\\"out1\\\"></TD></TR><TR><TD HEIGHT=\\\"24\\\" WIDTH=\\\"0\\\" PORT=\\\"out2\\\"></TD></TR></TABLE></TD>\\n</TR>\\n</TABLE>\"), :style => \"solid\")), Catlab.Graphics.Graphviz.Edge(Catlab.Graphics.Graphviz.NodeID[Catlab.Graphics.Graphviz.NodeID(\"n0in1\", \"e\", \"\"), Catlab.Graphics.Graphviz.NodeID(\"n1\", \"in1\", \"w\")], OrderedCollections.OrderedDict{Symbol, Union{String, Catlab.Graphics.Graphviz.Html}}(:comment => \"WholeEgg\", :id => \"e1\", :xlabel => \"WholeEgg\")), Catlab.Graphics.Graphviz.Edge(Catlab.Graphics.Graphviz.NodeID[Catlab.Graphics.Graphviz.NodeID(\"n0in3\", \"e\", \"\"), Catlab.Graphics.Graphviz.NodeID(\"n2\", \"in2\", \"w\")], OrderedCollections.OrderedDict{Symbol, Union{String, Catlab.Graphics.Graphviz.Html}}(:comment => \"Pan\", :id => \"e2\", :xlabel => \"Pan\")), Catlab.Graphics.Graphviz.Edge(Catlab.Graphics.Graphviz.NodeID[Catlab.Graphics.Graphviz.NodeID(\"n0in2\", \"e\", \"\"), Catlab.Graphics.Graphviz.NodeID(\"n3\", \"in1\", \"w\")], OrderedCollections.OrderedDict{Symbol, Union{String, Catlab.Graphics.Graphviz.Html}}(:comment => \"WholeEgg\", :id => \"e3\", :xlabel => \"WholeEgg\")), Catlab.Graphics.Graphviz.Edge(Catlab.Graphics.Graphviz.NodeID[Catlab.Graphics.Graphviz.NodeID(\"n0in3\", \"e\", \"\"), Catlab.Graphics.Graphviz.NodeID(\"n4\", \"in2\", \"w\")], OrderedCollections.OrderedDict{Symbol, Union{String, Catlab.Graphics.Graphviz.Html}}(:comment => \"Pan\", :id => \"e4\", :xlabel => \"Pan\")), Catlab.Graphics.Graphviz.Edge(Catlab.Graphics.Graphviz.NodeID[Catlab.Graphics.Graphviz.NodeID(\"n1\", \"out1\", \"e\"), Catlab.Graphics.Graphviz.NodeID(\"n2\", \"in1\", \"w\")], OrderedCollections.OrderedDict{Symbol, Union{String, Catlab.Graphics.Graphviz.Html}}(:comment => \"RawEgg\", :id => \"e5\", :xlabel => \"RawEgg\")), Catlab.Graphics.Graphviz.Edge(Catlab.Graphics.Graphviz.NodeID[Catlab.Graphics.Graphviz.NodeID(\"n3\", \"out1\", \"e\"), Catlab.Graphics.Graphviz.NodeID(\"n4\", \"in1\", \"w\")], OrderedCollections.OrderedDict{Symbol, Union{String, Catlab.Graphics.Graphviz.Html}}(:comment => \"RawEgg\", :id => \"e6\", :xlabel => \"RawEgg\")), Catlab.Graphics.Graphviz.Edge(Catlab.Graphics.Graphviz.NodeID[Catlab.Graphics.Graphviz.NodeID(\"n2\", \"out1\", \"e\"), Catlab.Graphics.Graphviz.NodeID(\"n0out1\", \"w\", \"\")], OrderedCollections.OrderedDict{Symbol, Union{String, Catlab.Graphics.Graphviz.Html}}(:comment => \"Egg\", :id => \"e7\", :xlabel => \"Egg\")), Catlab.Graphics.Graphviz.Edge(Catlab.Graphics.Graphviz.NodeID[Catlab.Graphics.Graphviz.NodeID(\"n2\", \"out2\", \"e\"), Catlab.Graphics.Graphviz.NodeID(\"n0out3\", \"w\", \"\")], OrderedCollections.OrderedDict{Symbol, Union{String, Catlab.Graphics.Graphviz.Html}}(:comment => \"Pan\", :id => \"e8\", :xlabel => \"Pan\")), Catlab.Graphics.Graphviz.Edge(Catlab.Graphics.Graphviz.NodeID[Catlab.Graphics.Graphviz.NodeID(\"n4\", \"out1\", \"e\"), Catlab.Graphics.Graphviz.NodeID(\"n0out2\", \"w\", \"\")], OrderedCollections.OrderedDict{Symbol, Union{String, Catlab.Graphics.Graphviz.Html}}(:comment => \"Egg\", :id => \"e9\", :xlabel => \"Egg\")), Catlab.Graphics.Graphviz.Edge(Catlab.Graphics.Graphviz.NodeID[Catlab.Graphics.Graphviz.NodeID(\"n4\", \"out2\", \"e\"), Catlab.Graphics.Graphviz.NodeID(\"n0out3\", \"w\", \"\")], OrderedCollections.OrderedDict{Symbol, Union{String, Catlab.Graphics.Graphviz.Html}}(:comment => \"Pan\", :id => \"e10\", :xlabel => \"Pan\"))], OrderedCollections.OrderedDict{Symbol, Union{String, Catlab.Graphics.Graphviz.Html}}(:fontname => \"Serif\", :rankdir => \"LR\"), OrderedCollections.OrderedDict{Symbol, Union{String, Catlab.Graphics.Graphviz.Html}}(:fontname => \"Courier\", :shape => \"none\", :width => \"0\", :height => \"0\", :margin => \"0\"), OrderedCollections.OrderedDict{Symbol, Union{String, Catlab.Graphics.Graphviz.Html}}(:arrowsize => \"0.5\", :fontname => \"Courier\"))",
      "image/svg+xml": [
       "<?xml version=\"1.0\" encoding=\"UTF-8\" standalone=\"no\"?>\n",
       "<!DOCTYPE svg PUBLIC \"-//W3C//DTD SVG 1.1//EN\"\n",
       " \"http://www.w3.org/Graphics/SVG/1.1/DTD/svg11.dtd\">\n",
       "<!-- Generated by graphviz version 2.43.0 (0)\n",
       " -->\n",
       "<!-- Title: G Pages: 1 -->\n",
       "<svg width=\"259pt\" height=\"182pt\"\n",
       " viewBox=\"0.00 0.00 259.10 182.30\" xmlns=\"http://www.w3.org/2000/svg\" xmlns:xlink=\"http://www.w3.org/1999/xlink\">\n",
       "<g id=\"graph0\" class=\"graph\" transform=\"scale(1 1) rotate(0) translate(4 178.3)\">\n",
       "<title>G</title>\n",
       "<polygon fill=\"white\" stroke=\"transparent\" points=\"-4,4 -4,-178.3 255.1,-178.3 255.1,4 -4,4\"/>\n",
       "<!-- n0in1 -->\n",
       "<!-- n0in2 -->\n",
       "<!-- n0in1&#45;&gt;n0in2 -->\n",
       "<!-- n1 -->\n",
       "<!-- crack -->\n",
       "<g id=\"n1\" class=\"node\">\n",
       "<title>n1</title>\n",
       "<polygon fill=\"none\" stroke=\"black\" points=\"85.1,-126.3 85.1,-174.3 137.1,-174.3 137.1,-126.3 85.1,-126.3\"/>\n",
       "<text text-anchor=\"start\" x=\"90.1\" y=\"-146.6\" font-family=\"Courier,monospace\" font-size=\"14.00\">crack</text>\n",
       "</g>\n",
       "<!-- n0in1&#45;&gt;n1 -->\n",
       "<!-- WholeEgg -->\n",
       "<g id=\"e1\" class=\"edge\">\n",
       "<title>n0in1:e&#45;&gt;n1:w</title>\n",
       "<path fill=\"none\" stroke=\"black\" d=\"M49.1,-138.3C64.12,-138.3 67.57,-147.82 80.05,-149.9\"/>\n",
       "<polygon fill=\"black\" stroke=\"black\" points=\"79.98,-151.65 85.1,-150.3 80.26,-148.16 79.98,-151.65\"/>\n",
       "<text text-anchor=\"middle\" x=\"33.63\" y=\"-148.12\" font-family=\"Courier,monospace\" font-size=\"14.00\">WholeEgg</text>\n",
       "</g>\n",
       "<!-- n0in3 -->\n",
       "<!-- n0in2&#45;&gt;n0in3 -->\n",
       "<!-- n3 -->\n",
       "<!-- crack -->\n",
       "<g id=\"n3\" class=\"node\">\n",
       "<title>n3</title>\n",
       "<polygon fill=\"none\" stroke=\"black\" points=\"85.1,-60.3 85.1,-108.3 137.1,-108.3 137.1,-60.3 85.1,-60.3\"/>\n",
       "<text text-anchor=\"start\" x=\"90.1\" y=\"-80.6\" font-family=\"Courier,monospace\" font-size=\"14.00\">crack</text>\n",
       "</g>\n",
       "<!-- n0in2&#45;&gt;n3 -->\n",
       "<!-- WholeEgg -->\n",
       "<g id=\"e3\" class=\"edge\">\n",
       "<title>n0in2:e&#45;&gt;n3:w</title>\n",
       "<path fill=\"none\" stroke=\"black\" d=\"M49.1,-84.3C63.23,-84.3 68,-84.3 79.93,-84.3\"/>\n",
       "<polygon fill=\"black\" stroke=\"black\" points=\"80.1,-86.05 85.1,-84.3 80.1,-82.55 80.1,-86.05\"/>\n",
       "<text text-anchor=\"middle\" x=\"33.5\" y=\"-73.1\" font-family=\"Courier,monospace\" font-size=\"14.00\">WholeEgg</text>\n",
       "</g>\n",
       "<!-- n2 -->\n",
       "<!-- fry -->\n",
       "<g id=\"n2\" class=\"node\">\n",
       "<title>n2</title>\n",
       "<polygon fill=\"none\" stroke=\"black\" points=\"173.6,-87.3 173.6,-135.3 208.6,-135.3 208.6,-87.3 173.6,-87.3\"/>\n",
       "<text text-anchor=\"start\" x=\"178.6\" y=\"-107.6\" font-family=\"Courier,monospace\" font-size=\"14.00\">fry</text>\n",
       "</g>\n",
       "<!-- n0in3&#45;&gt;n2 -->\n",
       "<!-- Pan -->\n",
       "<g id=\"e2\" class=\"edge\">\n",
       "<title>n0in3:e&#45;&gt;n2:w</title>\n",
       "<path fill=\"none\" stroke=\"black\" d=\"M49.1,-32.3C89.11,-32.3 103.42,-29.71 137.1,-51.3 157.98,-64.68 148.1,-94.67 168.04,-98.82\"/>\n",
       "<polygon fill=\"black\" stroke=\"black\" points=\"167.96,-100.57 173.1,-99.3 168.29,-97.08 167.96,-100.57\"/>\n",
       "<text text-anchor=\"middle\" x=\"124.61\" y=\"-40.1\" font-family=\"Courier,monospace\" font-size=\"14.00\">Pan</text>\n",
       "</g>\n",
       "<!-- n4 -->\n",
       "<!-- fry -->\n",
       "<g id=\"n4\" class=\"node\">\n",
       "<title>n4</title>\n",
       "<polygon fill=\"none\" stroke=\"black\" points=\"173.6,-21.3 173.6,-69.3 208.6,-69.3 208.6,-21.3 173.6,-21.3\"/>\n",
       "<text text-anchor=\"start\" x=\"178.6\" y=\"-41.6\" font-family=\"Courier,monospace\" font-size=\"14.00\">fry</text>\n",
       "</g>\n",
       "<!-- n0in3&#45;&gt;n4 -->\n",
       "<!-- Pan -->\n",
       "<g id=\"e4\" class=\"edge\">\n",
       "<title>n0in3:e&#45;&gt;n4:w</title>\n",
       "<path fill=\"none\" stroke=\"black\" d=\"M49.1,-32.3C66.27,-32.3 68.23,-21.46 85.1,-18.3 107.82,-14.04 114.44,-13.77 137.1,-18.3 152.24,-21.33 155.22,-30.86 167.94,-32.91\"/>\n",
       "<polygon fill=\"black\" stroke=\"black\" points=\"167.98,-34.67 173.1,-33.3 168.25,-31.18 167.98,-34.67\"/>\n",
       "<text text-anchor=\"middle\" x=\"98.62\" y=\"-3.8\" font-family=\"Courier,monospace\" font-size=\"14.00\">Pan</text>\n",
       "</g>\n",
       "<!-- n0out1 -->\n",
       "<!-- n0out2 -->\n",
       "<!-- n0out1&#45;&gt;n0out2 -->\n",
       "<!-- n0out3 -->\n",
       "<!-- n0out2&#45;&gt;n0out3 -->\n",
       "<!-- n1&#45;&gt;n2 -->\n",
       "<!-- RawEgg -->\n",
       "<g id=\"e5\" class=\"edge\">\n",
       "<title>n1:e&#45;&gt;n2:w</title>\n",
       "<path fill=\"none\" stroke=\"black\" d=\"M137.1,-162.3C158.66,-162.3 151.18,-129.71 167.75,-124.11\"/>\n",
       "<polygon fill=\"black\" stroke=\"black\" points=\"168.42,-125.78 173.1,-123.3 167.9,-122.32 168.42,-125.78\"/>\n",
       "<text text-anchor=\"middle\" x=\"180.1\" y=\"-146.6\" font-family=\"Courier,monospace\" font-size=\"14.00\">RawEgg</text>\n",
       "</g>\n",
       "<!-- n2&#45;&gt;n0out1 -->\n",
       "<!-- Egg -->\n",
       "<g id=\"e7\" class=\"edge\">\n",
       "<title>n2:e&#45;&gt;n0out1:w</title>\n",
       "<path fill=\"none\" stroke=\"black\" d=\"M208.1,-123.3C222.28,-123.3 226.97,-120.96 238.92,-120.41\"/>\n",
       "<polygon fill=\"black\" stroke=\"black\" points=\"239.14,-122.16 244.1,-120.3 239.07,-118.66 239.14,-122.16\"/>\n",
       "<text text-anchor=\"middle\" x=\"238.5\" y=\"-125.61\" font-family=\"Courier,monospace\" font-size=\"14.00\">Egg</text>\n",
       "</g>\n",
       "<!-- n2&#45;&gt;n0out3 -->\n",
       "<!-- Pan -->\n",
       "<g id=\"e8\" class=\"edge\">\n",
       "<title>n2:e&#45;&gt;n0out3:w</title>\n",
       "<path fill=\"none\" stroke=\"black\" d=\"M208.1,-99.3C238.83,-99.3 214.68,-42.58 238.98,-35.93\"/>\n",
       "<polygon fill=\"black\" stroke=\"black\" points=\"239.36,-37.65 244.1,-35.3 238.93,-34.17 239.36,-37.65\"/>\n",
       "<text text-anchor=\"middle\" x=\"238.6\" y=\"-56.09\" font-family=\"Courier,monospace\" font-size=\"14.00\">Pan</text>\n",
       "</g>\n",
       "<!-- n3&#45;&gt;n4 -->\n",
       "<!-- RawEgg -->\n",
       "<g id=\"e6\" class=\"edge\">\n",
       "<title>n3:e&#45;&gt;n4:w</title>\n",
       "<path fill=\"none\" stroke=\"black\" d=\"M137.1,-96.3C158.66,-96.3 151.18,-63.71 167.75,-58.11\"/>\n",
       "<polygon fill=\"black\" stroke=\"black\" points=\"168.42,-59.78 173.1,-57.3 167.9,-56.32 168.42,-59.78\"/>\n",
       "<text text-anchor=\"middle\" x=\"180.1\" y=\"-76.85\" font-family=\"Courier,monospace\" font-size=\"14.00\">RawEgg</text>\n",
       "</g>\n",
       "<!-- n4&#45;&gt;n0out2 -->\n",
       "<!-- Egg -->\n",
       "<g id=\"e9\" class=\"edge\">\n",
       "<title>n4:e&#45;&gt;n0out2:w</title>\n",
       "<path fill=\"none\" stroke=\"black\" d=\"M208.1,-57.3C224.55,-57.3 225.73,-73.44 239.07,-76.72\"/>\n",
       "<polygon fill=\"black\" stroke=\"black\" points=\"238.94,-78.47 244.1,-77.3 239.33,-74.99 238.94,-78.47\"/>\n",
       "<text text-anchor=\"middle\" x=\"238.37\" y=\"-70.84\" font-family=\"Courier,monospace\" font-size=\"14.00\">Egg</text>\n",
       "</g>\n",
       "<!-- n4&#45;&gt;n0out3 -->\n",
       "<!-- Pan -->\n",
       "<g id=\"e10\" class=\"edge\">\n",
       "<title>n4:e&#45;&gt;n0out3:w</title>\n",
       "<path fill=\"none\" stroke=\"black\" d=\"M208.1,-33.3C222.25,-33.3 226.99,-34.86 238.93,-35.22\"/>\n",
       "<polygon fill=\"black\" stroke=\"black\" points=\"239.08,-36.97 244.1,-35.3 239.13,-33.47 239.08,-36.97\"/>\n",
       "<text text-anchor=\"middle\" x=\"238.5\" y=\"-23.09\" font-family=\"Courier,monospace\" font-size=\"14.00\">Pan</text>\n",
       "</g>\n",
       "</g>\n",
       "</svg>\n"
      ]
     },
     "metadata": {},
     "execution_count": 16
    }
   ],
   "cell_type": "code",
   "source": [
    "recipe = @program Cooking (e₁::WholeEgg, e₂::WholeEgg, p::Pan) begin\n",
    "  e, shell = crack(e₁)\n",
    "  r₁, p₁ = fry(e, p)\n",
    "  e, shell = crack(e₂)\n",
    "  r₂, p₂ = fry(e, p)\n",
    "  return r₁, r₂, [p₁,p₂]\n",
    "end\n",
    "\n",
    "draw(recipe)"
   ],
   "metadata": {},
   "execution_count": 16
  },
  {
   "cell_type": "markdown",
   "source": [
    "You can visualize the copy and delete morphisms explicitly with the `add_junctions` function. The dots with one wire input and multiple outputs are copying values and dots with no wires out are deletions (discarding values). Not all instances of a `SymmetricMonoidalCategory` support copy and delete, for example, in manufacturing you can't duplicate a resource, and in chemistry you can't discard species. Catlab would enforce that when you tried to interpret the wiring diagram in a specific SMC."
   ],
   "metadata": {}
  },
  {
   "outputs": [
    {
     "output_type": "execute_result",
     "data": {
      "text/plain": "Catlab.Graphics.Graphviz.Graph(\"G\", true, \"dot\", Catlab.Graphics.Graphviz.Statement[Catlab.Graphics.Graphviz.Subgraph(\"\", Catlab.Graphics.Graphviz.Statement[Catlab.Graphics.Graphviz.Node(\"n0in1\", OrderedCollections.OrderedDict{Symbol, Union{String, Catlab.Graphics.Graphviz.Html}}(:id => \"in1\")), Catlab.Graphics.Graphviz.Node(\"n0in2\", OrderedCollections.OrderedDict{Symbol, Union{String, Catlab.Graphics.Graphviz.Html}}(:id => \"in2\")), Catlab.Graphics.Graphviz.Node(\"n0in3\", OrderedCollections.OrderedDict{Symbol, Union{String, Catlab.Graphics.Graphviz.Html}}(:id => \"in3\")), Catlab.Graphics.Graphviz.Edge(Catlab.Graphics.Graphviz.NodeID[Catlab.Graphics.Graphviz.NodeID(\"n0in1\", \"\", \"\"), Catlab.Graphics.Graphviz.NodeID(\"n0in2\", \"\", \"\"), Catlab.Graphics.Graphviz.NodeID(\"n0in3\", \"\", \"\")], OrderedCollections.OrderedDict{Symbol, Union{String, Catlab.Graphics.Graphviz.Html}}())], OrderedCollections.OrderedDict{Symbol, Union{String, Catlab.Graphics.Graphviz.Html}}(:rank => \"source\", :rankdir => \"TB\"), OrderedCollections.OrderedDict{Symbol, Union{String, Catlab.Graphics.Graphviz.Html}}(:style => \"invis\", :shape => \"none\", :label => \"\", :width => \"0\", :height => \"0.333\"), OrderedCollections.OrderedDict{Symbol, Union{String, Catlab.Graphics.Graphviz.Html}}(:style => \"invis\")), Catlab.Graphics.Graphviz.Subgraph(\"\", Catlab.Graphics.Graphviz.Statement[Catlab.Graphics.Graphviz.Node(\"n0out1\", OrderedCollections.OrderedDict{Symbol, Union{String, Catlab.Graphics.Graphviz.Html}}(:id => \"out1\")), Catlab.Graphics.Graphviz.Node(\"n0out2\", OrderedCollections.OrderedDict{Symbol, Union{String, Catlab.Graphics.Graphviz.Html}}(:id => \"out2\")), Catlab.Graphics.Graphviz.Node(\"n0out3\", OrderedCollections.OrderedDict{Symbol, Union{String, Catlab.Graphics.Graphviz.Html}}(:id => \"out3\")), Catlab.Graphics.Graphviz.Edge(Catlab.Graphics.Graphviz.NodeID[Catlab.Graphics.Graphviz.NodeID(\"n0out1\", \"\", \"\"), Catlab.Graphics.Graphviz.NodeID(\"n0out2\", \"\", \"\"), Catlab.Graphics.Graphviz.NodeID(\"n0out3\", \"\", \"\")], OrderedCollections.OrderedDict{Symbol, Union{String, Catlab.Graphics.Graphviz.Html}}())], OrderedCollections.OrderedDict{Symbol, Union{String, Catlab.Graphics.Graphviz.Html}}(:rank => \"sink\", :rankdir => \"TB\"), OrderedCollections.OrderedDict{Symbol, Union{String, Catlab.Graphics.Graphviz.Html}}(:style => \"invis\", :shape => \"none\", :label => \"\", :width => \"0\", :height => \"0.333\"), OrderedCollections.OrderedDict{Symbol, Union{String, Catlab.Graphics.Graphviz.Html}}(:style => \"invis\")), Catlab.Graphics.Graphviz.Node(\"n1\", OrderedCollections.OrderedDict{Symbol, Union{String, Catlab.Graphics.Graphviz.Html}}(:color => \"black\", :comment => \"crack\", :fillcolor => \"white\", :id => \"n1\", :label => Catlab.Graphics.Graphviz.Html(\"<TABLE BORDER=\\\"0\\\" CELLPADDING=\\\"0\\\" CELLSPACING=\\\"0\\\">\\n<TR>\\n<TD><TABLE BORDER=\\\"0\\\" CELLPADDING=\\\"0\\\" CELLSPACING=\\\"0\\\"><TR><TD HEIGHT=\\\"24\\\" WIDTH=\\\"0\\\" PORT=\\\"in1\\\"></TD></TR></TABLE></TD>\\n<TD BORDER=\\\"1\\\" CELLPADDING=\\\"4\\\">crack</TD>\\n<TD><TABLE BORDER=\\\"0\\\" CELLPADDING=\\\"0\\\" CELLSPACING=\\\"0\\\"><TR><TD HEIGHT=\\\"24\\\" WIDTH=\\\"0\\\" PORT=\\\"out1\\\"></TD></TR><TR><TD HEIGHT=\\\"24\\\" WIDTH=\\\"0\\\" PORT=\\\"out2\\\"></TD></TR></TABLE></TD>\\n</TR>\\n</TABLE>\"), :style => \"solid\")), Catlab.Graphics.Graphviz.Node(\"n2\", OrderedCollections.OrderedDict{Symbol, Union{String, Catlab.Graphics.Graphviz.Html}}(:color => \"black\", :comment => \"fry\", :fillcolor => \"white\", :id => \"n2\", :label => Catlab.Graphics.Graphviz.Html(\"<TABLE BORDER=\\\"0\\\" CELLPADDING=\\\"0\\\" CELLSPACING=\\\"0\\\">\\n<TR>\\n<TD><TABLE BORDER=\\\"0\\\" CELLPADDING=\\\"0\\\" CELLSPACING=\\\"0\\\"><TR><TD HEIGHT=\\\"24\\\" WIDTH=\\\"0\\\" PORT=\\\"in1\\\"></TD></TR><TR><TD HEIGHT=\\\"24\\\" WIDTH=\\\"0\\\" PORT=\\\"in2\\\"></TD></TR></TABLE></TD>\\n<TD BORDER=\\\"1\\\" CELLPADDING=\\\"4\\\">fry</TD>\\n<TD><TABLE BORDER=\\\"0\\\" CELLPADDING=\\\"0\\\" CELLSPACING=\\\"0\\\"><TR><TD HEIGHT=\\\"24\\\" WIDTH=\\\"0\\\" PORT=\\\"out1\\\"></TD></TR><TR><TD HEIGHT=\\\"24\\\" WIDTH=\\\"0\\\" PORT=\\\"out2\\\"></TD></TR></TABLE></TD>\\n</TR>\\n</TABLE>\"), :style => \"solid\")), Catlab.Graphics.Graphviz.Node(\"n3\", OrderedCollections.OrderedDict{Symbol, Union{String, Catlab.Graphics.Graphviz.Html}}(:color => \"black\", :comment => \"crack\", :fillcolor => \"white\", :id => \"n3\", :label => Catlab.Graphics.Graphviz.Html(\"<TABLE BORDER=\\\"0\\\" CELLPADDING=\\\"0\\\" CELLSPACING=\\\"0\\\">\\n<TR>\\n<TD><TABLE BORDER=\\\"0\\\" CELLPADDING=\\\"0\\\" CELLSPACING=\\\"0\\\"><TR><TD HEIGHT=\\\"24\\\" WIDTH=\\\"0\\\" PORT=\\\"in1\\\"></TD></TR></TABLE></TD>\\n<TD BORDER=\\\"1\\\" CELLPADDING=\\\"4\\\">crack</TD>\\n<TD><TABLE BORDER=\\\"0\\\" CELLPADDING=\\\"0\\\" CELLSPACING=\\\"0\\\"><TR><TD HEIGHT=\\\"24\\\" WIDTH=\\\"0\\\" PORT=\\\"out1\\\"></TD></TR><TR><TD HEIGHT=\\\"24\\\" WIDTH=\\\"0\\\" PORT=\\\"out2\\\"></TD></TR></TABLE></TD>\\n</TR>\\n</TABLE>\"), :style => \"solid\")), Catlab.Graphics.Graphviz.Node(\"n4\", OrderedCollections.OrderedDict{Symbol, Union{String, Catlab.Graphics.Graphviz.Html}}(:color => \"black\", :comment => \"fry\", :fillcolor => \"white\", :id => \"n4\", :label => Catlab.Graphics.Graphviz.Html(\"<TABLE BORDER=\\\"0\\\" CELLPADDING=\\\"0\\\" CELLSPACING=\\\"0\\\">\\n<TR>\\n<TD><TABLE BORDER=\\\"0\\\" CELLPADDING=\\\"0\\\" CELLSPACING=\\\"0\\\"><TR><TD HEIGHT=\\\"24\\\" WIDTH=\\\"0\\\" PORT=\\\"in1\\\"></TD></TR><TR><TD HEIGHT=\\\"24\\\" WIDTH=\\\"0\\\" PORT=\\\"in2\\\"></TD></TR></TABLE></TD>\\n<TD BORDER=\\\"1\\\" CELLPADDING=\\\"4\\\">fry</TD>\\n<TD><TABLE BORDER=\\\"0\\\" CELLPADDING=\\\"0\\\" CELLSPACING=\\\"0\\\"><TR><TD HEIGHT=\\\"24\\\" WIDTH=\\\"0\\\" PORT=\\\"out1\\\"></TD></TR><TR><TD HEIGHT=\\\"24\\\" WIDTH=\\\"0\\\" PORT=\\\"out2\\\"></TD></TR></TABLE></TD>\\n</TR>\\n</TABLE>\"), :style => \"solid\")), Catlab.Graphics.Graphviz.Node(\"n5\", OrderedCollections.OrderedDict{Symbol, Union{String, Catlab.Graphics.Graphviz.Html}}(:comment => \"junction\", :fillcolor => \"black\", :height => \"0.05\", :id => \"n5\", :label => \"\", :shape => \"circle\", :style => \"filled\", :width => \"0.05\")), Catlab.Graphics.Graphviz.Node(\"n6\", OrderedCollections.OrderedDict{Symbol, Union{String, Catlab.Graphics.Graphviz.Html}}(:comment => \"junction\", :fillcolor => \"black\", :height => \"0.05\", :id => \"n6\", :label => \"\", :shape => \"circle\", :style => \"filled\", :width => \"0.05\")), Catlab.Graphics.Graphviz.Node(\"n7\", OrderedCollections.OrderedDict{Symbol, Union{String, Catlab.Graphics.Graphviz.Html}}(:comment => \"junction\", :fillcolor => \"black\", :height => \"0.05\", :id => \"n7\", :label => \"\", :shape => \"circle\", :style => \"filled\", :width => \"0.05\")), Catlab.Graphics.Graphviz.Node(\"n8\", OrderedCollections.OrderedDict{Symbol, Union{String, Catlab.Graphics.Graphviz.Html}}(:comment => \"junction\", :fillcolor => \"black\", :height => \"0.05\", :id => \"n8\", :label => \"\", :shape => \"circle\", :style => \"filled\", :width => \"0.05\"))  …  Catlab.Graphics.Graphviz.Edge(Catlab.Graphics.Graphviz.NodeID[Catlab.Graphics.Graphviz.NodeID(\"n3\", \"out1\", \"e\"), Catlab.Graphics.Graphviz.NodeID(\"n4\", \"in1\", \"w\")], OrderedCollections.OrderedDict{Symbol, Union{String, Catlab.Graphics.Graphviz.Html}}(:comment => \"RawEgg\", :id => \"e5\", :xlabel => \"RawEgg\")), Catlab.Graphics.Graphviz.Edge(Catlab.Graphics.Graphviz.NodeID[Catlab.Graphics.Graphviz.NodeID(\"n5\", \"\", \"\"), Catlab.Graphics.Graphviz.NodeID(\"n2\", \"in2\", \"w\")], OrderedCollections.OrderedDict{Symbol, Union{String, Catlab.Graphics.Graphviz.Html}}(:comment => \"Pan\", :id => \"e6\", :xlabel => \"Pan\")), Catlab.Graphics.Graphviz.Edge(Catlab.Graphics.Graphviz.NodeID[Catlab.Graphics.Graphviz.NodeID(\"n5\", \"\", \"\"), Catlab.Graphics.Graphviz.NodeID(\"n4\", \"in2\", \"w\")], OrderedCollections.OrderedDict{Symbol, Union{String, Catlab.Graphics.Graphviz.Html}}(:comment => \"Pan\", :id => \"e7\", :xlabel => \"Pan\")), Catlab.Graphics.Graphviz.Edge(Catlab.Graphics.Graphviz.NodeID[Catlab.Graphics.Graphviz.NodeID(\"n2\", \"out2\", \"e\"), Catlab.Graphics.Graphviz.NodeID(\"n6\", \"\", \"\")], OrderedCollections.OrderedDict{Symbol, Union{String, Catlab.Graphics.Graphviz.Html}}(:comment => \"Pan\", :id => \"e8\", :xlabel => \"Pan\")), Catlab.Graphics.Graphviz.Edge(Catlab.Graphics.Graphviz.NodeID[Catlab.Graphics.Graphviz.NodeID(\"n4\", \"out2\", \"e\"), Catlab.Graphics.Graphviz.NodeID(\"n6\", \"\", \"\")], OrderedCollections.OrderedDict{Symbol, Union{String, Catlab.Graphics.Graphviz.Html}}(:comment => \"Pan\", :id => \"e9\", :xlabel => \"Pan\")), Catlab.Graphics.Graphviz.Edge(Catlab.Graphics.Graphviz.NodeID[Catlab.Graphics.Graphviz.NodeID(\"n1\", \"out2\", \"e\"), Catlab.Graphics.Graphviz.NodeID(\"n7\", \"\", \"\")], OrderedCollections.OrderedDict{Symbol, Union{String, Catlab.Graphics.Graphviz.Html}}(:comment => \"Shell\", :id => \"e10\", :xlabel => \"Shell\")), Catlab.Graphics.Graphviz.Edge(Catlab.Graphics.Graphviz.NodeID[Catlab.Graphics.Graphviz.NodeID(\"n3\", \"out2\", \"e\"), Catlab.Graphics.Graphviz.NodeID(\"n8\", \"\", \"\")], OrderedCollections.OrderedDict{Symbol, Union{String, Catlab.Graphics.Graphviz.Html}}(:comment => \"Shell\", :id => \"e11\", :xlabel => \"Shell\")), Catlab.Graphics.Graphviz.Edge(Catlab.Graphics.Graphviz.NodeID[Catlab.Graphics.Graphviz.NodeID(\"n2\", \"out1\", \"e\"), Catlab.Graphics.Graphviz.NodeID(\"n0out1\", \"w\", \"\")], OrderedCollections.OrderedDict{Symbol, Union{String, Catlab.Graphics.Graphviz.Html}}(:comment => \"Egg\", :id => \"e12\", :xlabel => \"Egg\")), Catlab.Graphics.Graphviz.Edge(Catlab.Graphics.Graphviz.NodeID[Catlab.Graphics.Graphviz.NodeID(\"n4\", \"out1\", \"e\"), Catlab.Graphics.Graphviz.NodeID(\"n0out2\", \"w\", \"\")], OrderedCollections.OrderedDict{Symbol, Union{String, Catlab.Graphics.Graphviz.Html}}(:comment => \"Egg\", :id => \"e13\", :xlabel => \"Egg\")), Catlab.Graphics.Graphviz.Edge(Catlab.Graphics.Graphviz.NodeID[Catlab.Graphics.Graphviz.NodeID(\"n6\", \"\", \"\"), Catlab.Graphics.Graphviz.NodeID(\"n0out3\", \"w\", \"\")], OrderedCollections.OrderedDict{Symbol, Union{String, Catlab.Graphics.Graphviz.Html}}(:comment => \"Pan\", :id => \"e14\", :xlabel => \"Pan\"))], OrderedCollections.OrderedDict{Symbol, Union{String, Catlab.Graphics.Graphviz.Html}}(:fontname => \"Serif\", :rankdir => \"LR\"), OrderedCollections.OrderedDict{Symbol, Union{String, Catlab.Graphics.Graphviz.Html}}(:fontname => \"Courier\", :shape => \"none\", :width => \"0\", :height => \"0\", :margin => \"0\"), OrderedCollections.OrderedDict{Symbol, Union{String, Catlab.Graphics.Graphviz.Html}}(:arrowsize => \"0.5\", :fontname => \"Courier\"))",
      "image/svg+xml": [
       "<?xml version=\"1.0\" encoding=\"UTF-8\" standalone=\"no\"?>\n",
       "<!DOCTYPE svg PUBLIC \"-//W3C//DTD SVG 1.1//EN\"\n",
       " \"http://www.w3.org/Graphics/SVG/1.1/DTD/svg11.dtd\">\n",
       "<!-- Generated by graphviz version 2.43.0 (0)\n",
       " -->\n",
       "<!-- Title: G Pages: 1 -->\n",
       "<svg width=\"299pt\" height=\"166pt\"\n",
       " viewBox=\"0.00 0.00 299.40 166.00\" xmlns=\"http://www.w3.org/2000/svg\" xmlns:xlink=\"http://www.w3.org/1999/xlink\">\n",
       "<g id=\"graph0\" class=\"graph\" transform=\"scale(1 1) rotate(0) translate(4 162)\">\n",
       "<title>G</title>\n",
       "<polygon fill=\"white\" stroke=\"transparent\" points=\"-4,4 -4,-162 295.4,-162 295.4,4 -4,4\"/>\n",
       "<!-- n0in1 -->\n",
       "<!-- n0in2 -->\n",
       "<!-- n0in1&#45;&gt;n0in2 -->\n",
       "<!-- n1 -->\n",
       "<!-- crack -->\n",
       "<g id=\"n1\" class=\"node\">\n",
       "<title>n1</title>\n",
       "<polygon fill=\"none\" stroke=\"black\" points=\"85.1,-102 85.1,-150 137.1,-150 137.1,-102 85.1,-102\"/>\n",
       "<text text-anchor=\"start\" x=\"90.1\" y=\"-122.3\" font-family=\"Courier,monospace\" font-size=\"14.00\">crack</text>\n",
       "</g>\n",
       "<!-- n0in1&#45;&gt;n1 -->\n",
       "<!-- WholeEgg -->\n",
       "<g id=\"e1\" class=\"edge\">\n",
       "<title>n0in1:e&#45;&gt;n1:w</title>\n",
       "<path fill=\"none\" stroke=\"black\" d=\"M49.1,-126C63.23,-126 68,-126 79.93,-126\"/>\n",
       "<polygon fill=\"black\" stroke=\"black\" points=\"80.1,-127.75 85.1,-126 80.1,-124.25 80.1,-127.75\"/>\n",
       "<text text-anchor=\"middle\" x=\"33.5\" y=\"-114.8\" font-family=\"Courier,monospace\" font-size=\"14.00\">WholeEgg</text>\n",
       "</g>\n",
       "<!-- n0in3 -->\n",
       "<!-- n0in2&#45;&gt;n0in3 -->\n",
       "<!-- n3 -->\n",
       "<!-- crack -->\n",
       "<g id=\"n3\" class=\"node\">\n",
       "<title>n3</title>\n",
       "<polygon fill=\"none\" stroke=\"black\" points=\"85.1,-6 85.1,-54 137.1,-54 137.1,-6 85.1,-6\"/>\n",
       "<text text-anchor=\"start\" x=\"90.1\" y=\"-26.3\" font-family=\"Courier,monospace\" font-size=\"14.00\">crack</text>\n",
       "</g>\n",
       "<!-- n0in2&#45;&gt;n3 -->\n",
       "<!-- WholeEgg -->\n",
       "<g id=\"e2\" class=\"edge\">\n",
       "<title>n0in2:e&#45;&gt;n3:w</title>\n",
       "<path fill=\"none\" stroke=\"black\" d=\"M49.1,-84C76.03,-84 58.92,-36.93 80,-30.68\"/>\n",
       "<polygon fill=\"black\" stroke=\"black\" points=\"80.38,-32.4 85.1,-30 79.91,-28.93 80.38,-32.4\"/>\n",
       "<text text-anchor=\"middle\" x=\"33.64\" y=\"-60.54\" font-family=\"Courier,monospace\" font-size=\"14.00\">WholeEgg</text>\n",
       "</g>\n",
       "<!-- n5 -->\n",
       "<!-- junction -->\n",
       "<g id=\"n5\" class=\"node\">\n",
       "<title>n5</title>\n",
       "<ellipse fill=\"black\" stroke=\"black\" cx=\"111.1\" cy=\"-74\" rx=\"2\" ry=\"2\"/>\n",
       "</g>\n",
       "<!-- n0in3&#45;&gt;n5 -->\n",
       "<!-- Pan -->\n",
       "<g id=\"e3\" class=\"edge\">\n",
       "<title>n0in3:e&#45;&gt;n5</title>\n",
       "<path fill=\"none\" stroke=\"black\" d=\"M49.1,-42C67.63,-42 68.6,-54.59 85.1,-63 91.52,-66.27 99.12,-69.53 104.24,-71.64\"/>\n",
       "<polygon fill=\"black\" stroke=\"black\" points=\"103.84,-73.37 109.13,-73.62 105.15,-70.12 103.84,-73.37\"/>\n",
       "<text text-anchor=\"middle\" x=\"97.62\" y=\"-59.31\" font-family=\"Courier,monospace\" font-size=\"14.00\">Pan</text>\n",
       "</g>\n",
       "<!-- n0out1 -->\n",
       "<!-- n0out2 -->\n",
       "<!-- n0out1&#45;&gt;n0out2 -->\n",
       "<!-- n0out3 -->\n",
       "<!-- n0out2&#45;&gt;n0out3 -->\n",
       "<!-- n2 -->\n",
       "<!-- fry -->\n",
       "<g id=\"n2\" class=\"node\">\n",
       "<title>n2</title>\n",
       "<polygon fill=\"none\" stroke=\"black\" points=\"173.6,-110 173.6,-158 208.6,-158 208.6,-110 173.6,-110\"/>\n",
       "<text text-anchor=\"start\" x=\"178.6\" y=\"-130.3\" font-family=\"Courier,monospace\" font-size=\"14.00\">fry</text>\n",
       "</g>\n",
       "<!-- n1&#45;&gt;n2 -->\n",
       "<!-- RawEgg -->\n",
       "<g id=\"e4\" class=\"edge\">\n",
       "<title>n1:e&#45;&gt;n2:w</title>\n",
       "<path fill=\"none\" stroke=\"black\" d=\"M137.1,-138C151.57,-138 155.78,-144.23 167.84,-145.7\"/>\n",
       "<polygon fill=\"black\" stroke=\"black\" points=\"168.01,-147.46 173.1,-146 168.21,-143.96 168.01,-147.46\"/>\n",
       "<text text-anchor=\"middle\" x=\"130\" y=\"-145.76\" font-family=\"Courier,monospace\" font-size=\"14.00\">RawEgg</text>\n",
       "</g>\n",
       "<!-- n7 -->\n",
       "<!-- junction -->\n",
       "<g id=\"n7\" class=\"node\">\n",
       "<title>n7</title>\n",
       "<ellipse fill=\"black\" stroke=\"black\" cx=\"190.6\" cy=\"-90\" rx=\"2\" ry=\"2\"/>\n",
       "</g>\n",
       "<!-- n1&#45;&gt;n7 -->\n",
       "<!-- Shell -->\n",
       "<g id=\"e10\" class=\"edge\">\n",
       "<title>n1:e&#45;&gt;n7</title>\n",
       "<path fill=\"none\" stroke=\"black\" d=\"M137.1,-114C147,-114 172.89,-99.71 184.19,-93.18\"/>\n",
       "<polygon fill=\"black\" stroke=\"black\" points=\"185.18,-94.63 188.61,-90.59 183.41,-91.61 185.18,-94.63\"/>\n",
       "<text text-anchor=\"middle\" x=\"184.97\" y=\"-96.7\" font-family=\"Courier,monospace\" font-size=\"14.00\">Shell</text>\n",
       "</g>\n",
       "<!-- n2&#45;&gt;n0out1 -->\n",
       "<!-- Egg -->\n",
       "<g id=\"e12\" class=\"edge\">\n",
       "<title>n2:e&#45;&gt;n0out1:w</title>\n",
       "<path fill=\"none\" stroke=\"black\" d=\"M208.1,-146C240.5,-146 249.12,-136.09 279.1,-135.08\"/>\n",
       "<polygon fill=\"black\" stroke=\"black\" points=\"279.13,-136.83 284.1,-135 279.07,-133.33 279.13,-136.83\"/>\n",
       "<text text-anchor=\"middle\" x=\"233.41\" y=\"-129.35\" font-family=\"Courier,monospace\" font-size=\"14.00\">Egg</text>\n",
       "</g>\n",
       "<!-- n6 -->\n",
       "<!-- junction -->\n",
       "<g id=\"n6\" class=\"node\">\n",
       "<title>n6</title>\n",
       "<ellipse fill=\"black\" stroke=\"black\" cx=\"246.1\" cy=\"-48\" rx=\"2\" ry=\"2\"/>\n",
       "</g>\n",
       "<!-- n2&#45;&gt;n6 -->\n",
       "<!-- Pan -->\n",
       "<g id=\"e8\" class=\"edge\">\n",
       "<title>n2:e&#45;&gt;n6</title>\n",
       "<path fill=\"none\" stroke=\"black\" d=\"M208.1,-122C237.78,-122 243.65,-73.79 244.82,-55.2\"/>\n",
       "<polygon fill=\"black\" stroke=\"black\" points=\"246.58,-54.91 245.07,-49.83 243.09,-54.74 246.58,-54.91\"/>\n",
       "<text text-anchor=\"middle\" x=\"226.69\" y=\"-78.2\" font-family=\"Courier,monospace\" font-size=\"14.00\">Pan</text>\n",
       "</g>\n",
       "<!-- n4 -->\n",
       "<!-- fry -->\n",
       "<g id=\"n4\" class=\"node\">\n",
       "<title>n4</title>\n",
       "<polygon fill=\"none\" stroke=\"black\" points=\"173.6,-22 173.6,-70 208.6,-70 208.6,-22 173.6,-22\"/>\n",
       "<text text-anchor=\"start\" x=\"178.6\" y=\"-42.3\" font-family=\"Courier,monospace\" font-size=\"14.00\">fry</text>\n",
       "</g>\n",
       "<!-- n3&#45;&gt;n4 -->\n",
       "<!-- RawEgg -->\n",
       "<g id=\"e5\" class=\"edge\">\n",
       "<title>n3:e&#45;&gt;n4:w</title>\n",
       "<path fill=\"none\" stroke=\"black\" d=\"M137.1,-42C152.7,-42 155.18,-54.69 167.91,-57.47\"/>\n",
       "<polygon fill=\"black\" stroke=\"black\" points=\"167.95,-59.23 173.1,-58 168.31,-55.75 167.95,-59.23\"/>\n",
       "<text text-anchor=\"middle\" x=\"130.13\" y=\"-53.82\" font-family=\"Courier,monospace\" font-size=\"14.00\">RawEgg</text>\n",
       "</g>\n",
       "<!-- n8 -->\n",
       "<!-- junction -->\n",
       "<g id=\"n8\" class=\"node\">\n",
       "<title>n8</title>\n",
       "<ellipse fill=\"black\" stroke=\"black\" cx=\"190.6\" cy=\"-2\" rx=\"2\" ry=\"2\"/>\n",
       "</g>\n",
       "<!-- n3&#45;&gt;n8 -->\n",
       "<!-- Shell -->\n",
       "<g id=\"e11\" class=\"edge\">\n",
       "<title>n3:e&#45;&gt;n8</title>\n",
       "<path fill=\"none\" stroke=\"black\" d=\"M137.1,-18C154.78,-18 174.4,-9.6 183.87,-4.97\"/>\n",
       "<polygon fill=\"black\" stroke=\"black\" points=\"184.69,-6.52 188.35,-2.69 183.1,-3.4 184.69,-6.52\"/>\n",
       "<text text-anchor=\"middle\" x=\"184.95\" y=\"-9.4\" font-family=\"Courier,monospace\" font-size=\"14.00\">Shell</text>\n",
       "</g>\n",
       "<!-- n4&#45;&gt;n0out2 -->\n",
       "<!-- Egg -->\n",
       "<g id=\"e13\" class=\"edge\">\n",
       "<title>n4:e&#45;&gt;n0out2:w</title>\n",
       "<path fill=\"none\" stroke=\"black\" d=\"M208.1,-58C242.89,-58 247.09,-86.83 278.77,-89.76\"/>\n",
       "<polygon fill=\"black\" stroke=\"black\" points=\"279.03,-91.52 284.1,-90 279.19,-88.03 279.03,-91.52\"/>\n",
       "<text text-anchor=\"middle\" x=\"233.42\" y=\"-62.65\" font-family=\"Courier,monospace\" font-size=\"14.00\">Egg</text>\n",
       "</g>\n",
       "<!-- n4&#45;&gt;n6 -->\n",
       "<!-- Pan -->\n",
       "<g id=\"e9\" class=\"edge\">\n",
       "<title>n4:e&#45;&gt;n6</title>\n",
       "<path fill=\"none\" stroke=\"black\" d=\"M208.1,-34C219.91,-34 232.54,-40.31 239.57,-44.46\"/>\n",
       "<polygon fill=\"black\" stroke=\"black\" points=\"238.84,-46.07 244.01,-47.25 240.71,-43.11 238.84,-46.07\"/>\n",
       "<text text-anchor=\"middle\" x=\"239.66\" y=\"-27.08\" font-family=\"Courier,monospace\" font-size=\"14.00\">Pan</text>\n",
       "</g>\n",
       "<!-- n5&#45;&gt;n2 -->\n",
       "<!-- Pan -->\n",
       "<g id=\"e6\" class=\"edge\">\n",
       "<title>n5&#45;&gt;n2:w</title>\n",
       "<path fill=\"none\" stroke=\"black\" d=\"M113.06,-74.72C116.41,-77.21 127.83,-85.74 137.1,-93 151.77,-104.47 152.54,-118.97 167.85,-121.59\"/>\n",
       "<polygon fill=\"black\" stroke=\"black\" points=\"167.98,-123.35 173.1,-122 168.26,-119.86 167.98,-123.35\"/>\n",
       "<text text-anchor=\"middle\" x=\"130.57\" y=\"-87.34\" font-family=\"Courier,monospace\" font-size=\"14.00\">Pan</text>\n",
       "</g>\n",
       "<!-- n5&#45;&gt;n4 -->\n",
       "<!-- Pan -->\n",
       "<g id=\"e7\" class=\"edge\">\n",
       "<title>n5&#45;&gt;n4:w</title>\n",
       "<path fill=\"none\" stroke=\"black\" d=\"M113.1,-73.67C116.57,-72.49 128.35,-68.32 137.1,-63 153.01,-53.33 152.78,-37.37 167.89,-34.46\"/>\n",
       "<polygon fill=\"black\" stroke=\"black\" points=\"168.28,-36.18 173.1,-34 167.97,-32.7 168.28,-36.18\"/>\n",
       "<text text-anchor=\"middle\" x=\"158.06\" y=\"-44.75\" font-family=\"Courier,monospace\" font-size=\"14.00\">Pan</text>\n",
       "</g>\n",
       "<!-- n6&#45;&gt;n0out3 -->\n",
       "<!-- Pan -->\n",
       "<g id=\"e14\" class=\"edge\">\n",
       "<title>n6&#45;&gt;n0out3:w</title>\n",
       "<path fill=\"none\" stroke=\"black\" d=\"M248.25,-48C252.27,-48 266.12,-48 279.03,-48\"/>\n",
       "<polygon fill=\"black\" stroke=\"black\" points=\"279.1,-49.75 284.1,-48 279.1,-46.25 279.1,-49.75\"/>\n",
       "<text text-anchor=\"middle\" x=\"278.9\" y=\"-36.8\" font-family=\"Courier,monospace\" font-size=\"14.00\">Pan</text>\n",
       "</g>\n",
       "</g>\n",
       "</svg>\n"
      ]
     },
     "metadata": {},
     "execution_count": 17
    }
   ],
   "cell_type": "code",
   "source": [
    "draw(add_junctions(recipe))"
   ],
   "metadata": {},
   "execution_count": 17
  },
  {
   "cell_type": "markdown",
   "source": [
    "For more details about working with wiring diagrams in Catlab, you should look at the vignettes under wiring_diagrams which explain how wiring diagrams interact with SMC expressions and the basics of constructing and manipulation wiring diagrams."
   ],
   "metadata": {}
  }
 ],
 "nbformat_minor": 3,
 "metadata": {
  "language_info": {
   "file_extension": ".jl",
   "mimetype": "application/julia",
   "name": "julia",
   "version": "1.9.3"
  },
  "kernelspec": {
   "name": "julia-1.9",
   "display_name": "Julia 1.9.3",
   "language": "julia"
  }
 },
 "nbformat": 4
}
