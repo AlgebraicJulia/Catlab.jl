{
 "cells": [
  {
   "cell_type": "markdown",
   "source": [
    "# Basic Sheaf Constructions\n",
    "This example shows how to use a sheaf Catlab.\n",
    "We use the DiagramTopology on FinSet and the Free Vector Space functor\n",
    "to illustrate this process."
   ],
   "metadata": {}
  },
  {
   "outputs": [
    {
     "name": "stdout",
     "output_type": "stream",
     "text": [
      "WARNING: Imported binding Matrices.MatrixDom was undeclared at import time during import to ##347.\n"
     ]
    }
   ],
   "cell_type": "code",
   "source": [
    "using Test\n",
    "using Catlab.CategoricalAlgebra, Catlab.BasicSets\n",
    "using Catlab.CategoricalAlgebra.Categories\n",
    "using Catlab.Sheaves\n",
    "using Catlab.CategoricalAlgebra.Misc.Matrices: MatrixDom\n",
    "import Catlab.Sheaves: pullback_matrix, FinSetCat"
   ],
   "metadata": {},
   "execution_count": 1
  },
  {
   "cell_type": "markdown",
   "source": [
    "The Topology that we are using is the `DiagramTopology`, which says that a cover of an object `c` is any diagram with `c` as its colimit.\n",
    "The cocone of the diagram gives you a basis for the sieve that covers `c`.\n",
    "The legs of the cocone can be interpreted as open subsets of `c` whose union is `c`.\n",
    "Because colimits are functorial and the base category is adhesive, the diagram topology is well defined.\n",
    "\n",
    "We have two different implementations of equivalent sheaves.\n",
    "The `VectSheaf` implementation uses julia functions and the `VectSheafMat` implementation uses sparse matrices."
   ],
   "metadata": {}
  },
  {
   "outputs": [
    {
     "output_type": "execute_result",
     "data": {
      "text/plain": "Sheaf{DiagramTopology, Functor{FinSetInt, Int64, FinFunction, AbstractMatrix{Number}}}(DiagramTopology(), FunctorCallable{FinSetInt, Int64, FinFunction, AbstractMatrix{Number}}(Catlab.Sheaves.var\"#36#37\"(), Catlab.Sheaves.var\"#38#39\"(), SkelFinSet(), Catlab.CategoricalAlgebra.Misc.Matrices.MatC{Number}()))"
     },
     "metadata": {},
     "execution_count": 2
    }
   ],
   "cell_type": "code",
   "source": [
    "VectSheaf = Sheaf(DiagramTopology(), FVectPullback)\n",
    "VectSheafMat = Sheaf(DiagramTopology(), FMatPullback)"
   ],
   "metadata": {},
   "execution_count": 2
  },
  {
   "cell_type": "markdown",
   "source": [
    "We want to introduce a cover of the set ${1...4}$ with two open sets ${1,2,3}$ and ${1,2,4}$.\n",
    "To do that, we will construct a pushout."
   ],
   "metadata": {}
  },
  {
   "outputs": [
    {
     "output_type": "execute_result",
     "data": {
      "text/plain": "ColimCover(FinSet(4)):\n  compose(WithModel{FinFunctionVector{FinSet, Int64, UnitRange{Int64}}}(FinFunction(1:3, FinSet(6))), WithModel{FinFunctionVector{FinSet, Int64, Vector{Int64}}}(FinFunction([1, 2, 3, 1, 2, 4], FinSet(4))))\n  compose(WithModel{FinFunctionVector{FinSet, Int64, UnitRange{Int64}}}(FinFunction(4:6, FinSet(6))), WithModel{FinFunctionVector{FinSet, Int64, Vector{Int64}}}(FinFunction([1, 2, 3, 1, 2, 4], FinSet(4))))"
     },
     "metadata": {},
     "execution_count": 3
    }
   ],
   "cell_type": "code",
   "source": [
    "f = FinFunction([1,2], 3)\n",
    "g = FinFunction([1,2], 3)\n",
    "S = ColimCover(pushout[SkelFinSet()](f,g))"
   ],
   "metadata": {},
   "execution_count": 3
  },
  {
   "cell_type": "markdown",
   "source": [
    "The main API of a sheaf is that you can:\n",
    "1. restrict sections along a morphism,\n",
    "1. check if a collection of local sections match on the overlaps,\n",
    "1. and extend a collection of local sections if they match."
   ],
   "metadata": {}
  },
  {
   "cell_type": "markdown",
   "source": [
    "We can restrict a global section along the first leg"
   ],
   "metadata": {}
  },
  {
   "outputs": [
    {
     "output_type": "execute_result",
     "data": {
      "text/plain": "3-element Vector{Int64}:\n 1\n 2\n 3"
     },
     "metadata": {},
     "execution_count": 4
    }
   ],
   "cell_type": "code",
   "source": [
    "v = [1,2,3,4]\n",
    "v₁ = restrict(VectSheaf, v, legs(S)[1])"
   ],
   "metadata": {},
   "execution_count": 4
  },
  {
   "cell_type": "markdown",
   "source": [
    "Or the second leg."
   ],
   "metadata": {}
  },
  {
   "outputs": [
    {
     "output_type": "execute_result",
     "data": {
      "text/plain": "3-element Vector{Int64}:\n 1\n 2\n 4"
     },
     "metadata": {},
     "execution_count": 5
    }
   ],
   "cell_type": "code",
   "source": [
    "v₂ = restrict(VectSheaf, v, legs(S)[2])"
   ],
   "metadata": {},
   "execution_count": 5
  },
  {
   "cell_type": "markdown",
   "source": [
    "Notice that we got two different values, but that the first two entries of those restricted vectors agree.\n",
    "That is because our two legs have an overlap in the first two dimensions.\n",
    "If we restrict again by the arrows in our diagram (f,g) we should get the same answer."
   ],
   "metadata": {}
  },
  {
   "outputs": [
    {
     "output_type": "execute_result",
     "data": {
      "text/plain": "true"
     },
     "metadata": {},
     "execution_count": 6
    }
   ],
   "cell_type": "code",
   "source": [
    "restrict(VectSheaf, v₁, f)  == restrict(VectSheaf, v₂, g)"
   ],
   "metadata": {},
   "execution_count": 6
  },
  {
   "cell_type": "markdown",
   "source": [
    "A sheaf requires:\n",
    "- a notion of dividing up a space into pieces (the open coverage),\n",
    "- a way of measuring data over the pieces (the set of sections given by the functor on objects), along with\n",
    "- ways of relating measurements on a piece to measurements on a subpiece (the restriction maps given by the functor).\n",
    "Functoriality of the the sheaf tells you that restricting the same data\n",
    "along commuting paths will always give you the same data on the common piece."
   ],
   "metadata": {}
  },
  {
   "cell_type": "markdown",
   "source": [
    "The sheaf condition requires that you can compute an extension of local data to global data.\n",
    "There is no way to derive this operation from the contravariant functor of the sheaf\n",
    "so providing it is part of the API in defining a new sheaf."
   ],
   "metadata": {}
  },
  {
   "outputs": [
    {
     "output_type": "execute_result",
     "data": {
      "text/plain": "4-element Vector{Float64}:\n 1.0\n 2.0\n 3.0\n 6.0"
     },
     "metadata": {},
     "execution_count": 7
    }
   ],
   "cell_type": "code",
   "source": [
    "extend(VectSheaf, S, [[1.0, 2,3], [1,2.0,6]])"
   ],
   "metadata": {},
   "execution_count": 7
  },
  {
   "cell_type": "markdown",
   "source": [
    "If the local sections don't match, then extending will fail."
   ],
   "metadata": {}
  },
  {
   "outputs": [
    {
     "output_type": "execute_result",
     "data": {
      "text/plain": "\u001b[32m\u001b[1mTest Passed\u001b[22m\u001b[39m\n      Thrown: MatchingError{MatchingFailure}"
     },
     "metadata": {},
     "execution_count": 8
    }
   ],
   "cell_type": "code",
   "source": [
    "@test_throws MatchingError extend(VectSheaf, S, [[1.0, 2,3], [1,3.0,6]])"
   ],
   "metadata": {},
   "execution_count": 8
  },
  {
   "cell_type": "markdown",
   "source": [
    "extend(VectSheaf, S, [[1.0, 2,3], [1,3.0,6]])"
   ],
   "metadata": {}
  },
  {
   "cell_type": "markdown",
   "source": [
    "Pushouts are the covers with only two subobjects, but the sheaf works on diagrams of any size."
   ],
   "metadata": {}
  },
  {
   "outputs": [
    {
     "output_type": "execute_result",
     "data": {
      "text/plain": "5-element Vector{Float64}:\n 3.0\n 1.0\n 2.0\n 5.0\n 6.0"
     },
     "metadata": {},
     "execution_count": 9
    }
   ],
   "cell_type": "code",
   "source": [
    "D = FreeDiagram(FreeGraph(FinSet.([3,2,3,3]), # list of objects\n",
    " [ # list of (hom, src, tgt) tuples\n",
    "  (FinFunction([1,2], 3), 2,1),\n",
    "  (FinFunction([1,2], 3), 2,3),\n",
    "  (FinFunction([1,2], 3), 2,4)\n",
    "  ]\n",
    "))\n",
    "\n",
    "K = ColimCover(D)\n",
    "\n",
    "section_data = [Float64[1,2,3],\n",
    "   Float64[1,2],\n",
    "   Float64[1,2,5],\n",
    "   Float64[1,2,6]]\n",
    "\n",
    "v = extend(VectSheaf, K, section_data)"
   ],
   "metadata": {},
   "execution_count": 9
  },
  {
   "cell_type": "markdown",
   "source": [
    "Our two sheaves should agree, because they are just two different implementations of the same sheaf."
   ],
   "metadata": {}
  },
  {
   "outputs": [
    {
     "output_type": "execute_result",
     "data": {
      "text/plain": "false"
     },
     "metadata": {},
     "execution_count": 10
    }
   ],
   "cell_type": "code",
   "source": [
    "global_section = extend(VectSheafMat, K, section_data)\n",
    "v == global_section"
   ],
   "metadata": {},
   "execution_count": 10
  },
  {
   "cell_type": "markdown",
   "source": [
    "If you put in bad data, you get MatchingErrors"
   ],
   "metadata": {}
  },
  {
   "outputs": [
    {
     "output_type": "execute_result",
     "data": {
      "text/plain": "\u001b[32m\u001b[1mTest Passed\u001b[22m\u001b[39m\n      Thrown: MatchingError{MatchingFailure}"
     },
     "metadata": {},
     "execution_count": 11
    }
   ],
   "cell_type": "code",
   "source": [
    "section_data_bad = [Float64[1,2,3],\n",
    "   Float64[1,2],\n",
    "   Float64[1,3,5],\n",
    "   Float64[1,3,6]]\n",
    "\n",
    "@test_throws MatchingError extend(VectSheaf, K, section_data_bad)\n",
    "@test_throws MatchingError extend(VectSheafMat, K, section_data_bad)"
   ],
   "metadata": {},
   "execution_count": 11
  },
  {
   "cell_type": "markdown",
   "source": [
    "if we disable the checks, VectSheafMat will solve a least squares problem instead of last write wins."
   ],
   "metadata": {}
  },
  {
   "outputs": [
    {
     "output_type": "execute_result",
     "data": {
      "text/plain": "5-element Vector{Float64}:\n 3.0\n 0.9999999999999998\n 2.4999999999999996\n 5.0\n 6.0"
     },
     "metadata": {},
     "execution_count": 12
    }
   ],
   "cell_type": "code",
   "source": [
    "extend(VectSheafMat, K, section_data_bad, check=false)"
   ],
   "metadata": {},
   "execution_count": 12
  },
  {
   "cell_type": "markdown",
   "source": [
    "Last write wins definition is different."
   ],
   "metadata": {}
  },
  {
   "outputs": [
    {
     "output_type": "execute_result",
     "data": {
      "text/plain": "5-element Vector{Float64}:\n 3.0\n 1.0\n 3.0\n 5.0\n 6.0"
     },
     "metadata": {},
     "execution_count": 13
    }
   ],
   "cell_type": "code",
   "source": [
    "extend(VectSheaf, K, section_data_bad, check=false)"
   ],
   "metadata": {},
   "execution_count": 13
  },
  {
   "cell_type": "markdown",
   "source": [
    "You can diagnose a matching error from the exception that extend throws."
   ],
   "metadata": {}
  },
  {
   "outputs": [
    {
     "output_type": "execute_result",
     "data": {
      "text/plain": "MatchingError: Sections don't match on 4 overlaps:\nMatchingFailure: Sections don't match on:\n\tcompose(WithModel{FinFunctionVector{FinSet, Int64, UnitRange{Int64}}}(FinFunction(1:3, FinSet(11))), WithModel{FinFunctionVector{FinSet, Int64, Vector{Int64}}}(FinFunction([2, 3, 1, 2, 3, 2, 3, 4, 2, 3, 5], FinSet(5)))) and\n\tcompose(WithModel{FinFunctionVector{FinSet, Int64, UnitRange{Int64}}}(FinFunction(6:8, FinSet(11))), WithModel{FinFunctionVector{FinSet, Int64, Vector{Int64}}}(FinFunction([2, 3, 1, 2, 3, 2, 3, 4, 2, 3, 5], FinSet(5))))\n\t[1.0, 2.0] ◁ [1.0, 2.0, 3.0] but\n\t[1.0, 3.0] ◁ [1.0, 3.0, 5.0]\nMatchingFailure: Sections don't match on:\n\tcompose(WithModel{FinFunctionVector{FinSet, Int64, UnitRange{Int64}}}(FinFunction(1:3, FinSet(11))), WithModel{FinFunctionVector{FinSet, Int64, Vector{Int64}}}(FinFunction([2, 3, 1, 2, 3, 2, 3, 4, 2, 3, 5], FinSet(5)))) and\n\tcompose(WithModel{FinFunctionVector{FinSet, Int64, UnitRange{Int64}}}(FinFunction(9:11, FinSet(11))), WithModel{FinFunctionVector{FinSet, Int64, Vector{Int64}}}(FinFunction([2, 3, 1, 2, 3, 2, 3, 4, 2, 3, 5], FinSet(5))))\n\t[1.0, 2.0] ◁ [1.0, 2.0, 3.0] but\n\t[1.0, 3.0] ◁ [1.0, 3.0, 6.0]\nMatchingFailure: Sections don't match on:\n\tcompose(WithModel{FinFunctionVector{FinSet, Int64, UnitRange{Int64}}}(FinFunction(4:5, FinSet(11))), WithModel{FinFunctionVector{FinSet, Int64, Vector{Int64}}}(FinFunction([2, 3, 1, 2, 3, 2, 3, 4, 2, 3, 5], FinSet(5)))) and\n\tcompose(WithModel{FinFunctionVector{FinSet, Int64, UnitRange{Int64}}}(FinFunction(6:8, FinSet(11))), WithModel{FinFunctionVector{FinSet, Int64, Vector{Int64}}}(FinFunction([2, 3, 1, 2, 3, 2, 3, 4, 2, 3, 5], FinSet(5))))\n\t[1.0, 2.0] ◁ [1.0, 2.0] but\n\t[1.0, 3.0] ◁ [1.0, 3.0, 5.0]\nMatchingFailure: Sections don't match on:\n\tcompose(WithModel{FinFunctionVector{FinSet, Int64, UnitRange{Int64}}}(FinFunction(4:5, FinSet(11))), WithModel{FinFunctionVector{FinSet, Int64, Vector{Int64}}}(FinFunction([2, 3, 1, 2, 3, 2, 3, 4, 2, 3, 5], FinSet(5)))) and\n\tcompose(WithModel{FinFunctionVector{FinSet, Int64, UnitRange{Int64}}}(FinFunction(9:11, FinSet(11))), WithModel{FinFunctionVector{FinSet, Int64, Vector{Int64}}}(FinFunction([2, 3, 1, 2, 3, 2, 3, 4, 2, 3, 5], FinSet(5))))\n\t[1.0, 2.0] ◁ [1.0, 2.0] but\n\t[1.0, 3.0] ◁ [1.0, 3.0, 6.0]\n"
     },
     "metadata": {},
     "execution_count": 14
    }
   ],
   "cell_type": "code",
   "source": [
    "try\n",
    "  extend(VectSheaf, K, section_data_bad)\n",
    "catch e\n",
    "  e\n",
    "end"
   ],
   "metadata": {},
   "execution_count": 14
  },
  {
   "cell_type": "markdown",
   "source": [
    "This concludes our discussion of the sheaf API."
   ],
   "metadata": {}
  }
 ],
 "nbformat_minor": 3,
 "metadata": {
  "language_info": {
   "file_extension": ".jl",
   "mimetype": "application/julia",
   "name": "julia",
   "version": "1.12.1"
  },
  "kernelspec": {
   "name": "julia-1.12",
   "display_name": "Julia 1.12.1",
   "language": "julia"
  }
 },
 "nbformat": 4
}
