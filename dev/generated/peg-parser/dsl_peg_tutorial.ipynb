{
 "cells": [
  {
   "cell_type": "markdown",
   "source": [
    "# Domain Specific Parsing Expression Grammars\n",
    "The purpose of this documentation is to provide a high-level tutorial on utilizing parsing\n",
    "expression grammars for domain-specific language development within Catlab.\n",
    "This tutorial will provide a brief overview of the PEG.jl library and how it is used.\n",
    "Additionally, this tutorial will demonstrate a use case of PEG.jl in the context of\n",
    "parsing a simple language for defining undirected wiring diagrams."
   ],
   "metadata": {}
  },
  {
   "cell_type": "markdown",
   "source": [
    "## Developing a Parsing Expression Grammar for Catlab\n",
    "### PEG.jl\n",
    "PEG.jl is a parsing expression grammar library for Julia. It allows us to define a grammar\n",
    "via a macro `@rule`. This allows us to define a formal set of rules for parsing a language.\n",
    "Let us look at a brief example of how this looks."
   ],
   "metadata": {}
  },
  {
   "cell_type": "markdown",
   "source": [
    "First, we import the necessary modules."
   ],
   "metadata": {}
  },
  {
   "outputs": [],
   "cell_type": "code",
   "source": [
    "using PEG"
   ],
   "metadata": {},
   "execution_count": 1
  },
  {
   "cell_type": "markdown",
   "source": [
    "Next, we define a simple grammar for parsing a language that contains a single word."
   ],
   "metadata": {}
  },
  {
   "outputs": [
    {
     "output_type": "execute_result",
     "data": {
      "text/plain": "simpleGrammar (generic function with 2 methods)"
     },
     "metadata": {},
     "execution_count": 2
    }
   ],
   "cell_type": "code",
   "source": [
    "@rule simpleGrammar = \"hello\""
   ],
   "metadata": {},
   "execution_count": 2
  },
  {
   "cell_type": "markdown",
   "source": [
    "If we were to parse a string that contained `\"hello\"` using `parse_whole(simpleGrammar, \"hello\")`, we would get a successful parse."
   ],
   "metadata": {}
  },
  {
   "cell_type": "markdown",
   "source": [
    "Ideally, we want to parse a more complex language than just the word \"Hello\".\n",
    "We can utilize the `@rule` macro to create multiple rules nested within each other.\n",
    "See how this mimics a recursive descent parser?\n",
    "Let us illustrate this with a simple example: parsing a language that contains a singular function call."
   ],
   "metadata": {}
  },
  {
   "outputs": [
    {
     "output_type": "execute_result",
     "data": {
      "text/plain": "identifier (generic function with 2 methods)"
     },
     "metadata": {},
     "execution_count": 3
    }
   ],
   "cell_type": "code",
   "source": [
    "@rule functionCall = identifier & r\"\\(\" & arguments & r\"\\)\"\n",
    "@rule arguments = (identifier & r\"\\s*\" & r\",\"p)[*] & identifier\n",
    "@rule identifier = r\"[a-zA-Z_][a-zA-Z0-9_]*\""
   ],
   "metadata": {},
   "execution_count": 3
  },
  {
   "cell_type": "markdown",
   "source": [
    "We can read the above grammar left to right and top to bottom.\n",
    "- We have a function call that expects an identifier followed by an open parenthesis, a list of arguments, and a closing parenthesis.\n",
    "- The arguments are a list of identifiers separated by commas with optional whitespaces.\n",
    "- An identifier is a string that starts with a letter or underscore and is followed by letters, numbers, or underscores."
   ],
   "metadata": {}
  },
  {
   "cell_type": "markdown",
   "source": [
    "We can also define transformations for our rules that allow us to modify how our parse tree is generated."
   ],
   "metadata": {}
  },
  {
   "cell_type": "markdown",
   "source": [
    "Additionally, we can make changes to elements in our parse tree to better suit our needs.\n",
    "This is illustrated below."
   ],
   "metadata": {}
  },
  {
   "outputs": [
    {
     "output_type": "execute_result",
     "data": {
      "text/plain": "transformationRule (generic function with 2 methods)"
     },
     "metadata": {},
     "execution_count": 4
    }
   ],
   "cell_type": "code",
   "source": [
    "@rule transformationRule = identifier & r\"\\(\" & arguments & r\"\\)\" |> v -> v[1]"
   ],
   "metadata": {},
   "execution_count": 4
  },
  {
   "cell_type": "markdown",
   "source": [
    "The above rule will only return the identifier from the function call.\n",
    "This is done by using the `|>` operator to apply a transformation to the parse tree.\n",
    "The transformation is a lambda function that takes the parse tree as input and returns the desired output.\n",
    "We could make a tree more complex by calling functions within our lambda that express semantic analysis.\n",
    "For more PEG.jl specific syntax, please refer to the [PEG.jl documentation](https://github.com/wdebeaum/PEG.jl)"
   ],
   "metadata": {}
  },
  {
   "cell_type": "markdown",
   "source": [
    "### Motivation For Developing a PEG for Catlab\n",
    "The motivation behind developing a parsing expression grammar to support domain specifc languages within Catlab lies in two core reasons:\n",
    "- To discontinue dependency on Julia metaprogramming for defining domain specific languages.\n",
    "   - Metaprogramming restricts developers to Julia syntax. This can be limiting when we want DSL features that contradict Julia syntax.\n",
    "- To provide a simpler way to develop and maintain domain specific languages.\n",
    "  - PEG.jl provides a more readable and maintainable way to define a grammar.\n",
    "     - This allows for easier debugging and development of domain specific languages.\n",
    "  - Reusability of exportable grammar rules means less reinventing the wheel.\n",
    "     - Less reinventing the wheel means less time spent on development."
   ],
   "metadata": {}
  },
  {
   "cell_type": "markdown",
   "source": [
    "### Developing a PEG for Catlab\n",
    "Core components for developing a domain specific language in Catlab exist in the `Catlab.Parsers` module. `Catlab.Parsers.ParserCore` provides\n",
    "the core functionality for developing a PEG."
   ],
   "metadata": {}
  },
  {
   "cell_type": "markdown",
   "source": [
    "Currently `ParserCore` supports lexical rules as follows:"
   ],
   "metadata": {}
  },
  {
   "outputs": [
    {
     "output_type": "execute_result",
     "data": {
      "text/plain": "ident (generic function with 2 methods)"
     },
     "metadata": {},
     "execution_count": 5
    }
   ],
   "cell_type": "code",
   "source": [
    "@rule ws = r\"\\s*\"\n",
    "@rule eq = r\"=\"p\n",
    "@rule lparen = r\"\\(\"\n",
    "@rule rparen = r\"\\)\"\n",
    "@rule comma = r\",\"p\n",
    "@rule EOL = \"\\n\" , r\";\"\n",
    "@rule colon = r\":\"p\n",
    "@rule ident = r\"[^:{}→\\n;=,\\(\\)\\s]+\""
   ],
   "metadata": {},
   "execution_count": 5
  },
  {
   "cell_type": "markdown",
   "source": [
    "The above rules allow us to break our string input into tokens.\n",
    "The above rules can be imported into your parsing expression grammar via: `using Catlab.Parsers.ParserCore`."
   ],
   "metadata": {}
  },
  {
   "cell_type": "markdown",
   "source": [
    "`ParserCore` also provides basic syntax for defining a PEG.\n",
    "For instance, the `expr` rule will parse a Julia expression."
   ],
   "metadata": {}
  },
  {
   "cell_type": "markdown",
   "source": [
    "`ParserCore` also provides functions that can be called within transformations:\n",
    "- `parse_identifier`: Called to properly construct an `ident` into a symbol or integer.\n",
    "- `collect`: Called to collect a list of elements into a flattened list."
   ],
   "metadata": {}
  },
  {
   "cell_type": "markdown",
   "source": [
    "In the future, `ParserCore` will contain more general rules for parsing domain specific languages.\n",
    "More specific rules are defined in their respective modules within `Catlab.Parsers`.\n",
    "While `ParserCore` is a work in progress, `Catlab.Parsers.RelationalParser` holds important domain specifc language constructs which we can reuse.\n",
    "This module contains the parsing expression grammar for building undirected wiring diagrams.\n",
    "For those who want to get ahead on developing domain specific languages now, `RelationalParser` has core constructs one may copy into their own parsing expression grammar.\n",
    "Let us illustrate some core PEG rules from `RelationalParser` that offer reusability."
   ],
   "metadata": {}
  },
  {
   "cell_type": "markdown",
   "source": [
    "#### Core PEG Rules\n",
    "`@rule args = (arg & (ws & comma & ws & arg)[*])[:?]  |> v -> collect(v)`"
   ],
   "metadata": {}
  },
  {
   "cell_type": "markdown",
   "source": [
    "The above rule defines a list of arguments separated by commas.\n",
    "- It requires lexical rules for whitespace and commas.\n",
    "- It uses the `collect` function to flatten the list of arguments.\n",
    "- You will need to define your `arg` rule specific to your language."
   ],
   "metadata": {}
  },
  {
   "cell_type": "markdown",
   "source": [
    "`@rule line = ws & statement & r\"[^\\S\\r\\n]*\" & EOL |> v->v[2]`"
   ],
   "metadata": {}
  },
  {
   "cell_type": "markdown",
   "source": [
    "The above rule defines a line of code with an undefined statement rule.\n",
    "The statement rule will depend on what your language allows.\n",
    "For instance, this might be a function call."
   ],
   "metadata": {}
  },
  {
   "cell_type": "markdown",
   "source": [
    "`@rule body = r\"{\\s*\"p & line[*] & r\"\\n?}\"p |> v->v[2]`"
   ],
   "metadata": {}
  },
  {
   "cell_type": "markdown",
   "source": [
    "The above rule defines a body of code enclosed in braces."
   ],
   "metadata": {}
  },
  {
   "cell_type": "markdown",
   "source": [
    "These are the core syntactical constructs that are likely to remain the same across domain specific languages.\n",
    "By reusing these rules, you can save time and effort in developing your own parsing expression grammar."
   ],
   "metadata": {}
  },
  {
   "cell_type": "markdown",
   "source": [
    "## Parsing a Simple Language for Defining Undirected Wiring Diagrams\n",
    "Now, let's look at a use case of developing a domain specific language for defining undirected wiring diagrams.\n",
    "First, lets import the necessary modules for this tutorial. GraphViz will need to be installed to output the diagrams."
   ],
   "metadata": {}
  },
  {
   "outputs": [],
   "cell_type": "code",
   "source": [
    "using Catlab.Parsers, Catlab.WiringDiagrams, Catlab.Graphics"
   ],
   "metadata": {},
   "execution_count": 6
  },
  {
   "cell_type": "markdown",
   "source": [
    "### Basic Language syntax\n",
    "Our language supports the following syntax:\n",
    "- We are expected to call our language using the `relation` string macro.\n",
    "- The first unit in our syntax is the definition of outer ports: `(x, z)`.\n",
    "- The second unit is the `where` clause: `where (x,y,z)`.\n",
    "- The third unit is the relations that make up the diagram: `{R(x,y); S(y,z);}`."
   ],
   "metadata": {}
  },
  {
   "cell_type": "markdown",
   "source": [
    "Let us look at a few examples of how this language can be used."
   ],
   "metadata": {}
  },
  {
   "cell_type": "markdown",
   "source": [
    "### Untyped Undirected Wiring Diagram\n",
    "In this example, we will parse a simple language for defining an untyped undirected wiring diagram."
   ],
   "metadata": {}
  },
  {
   "outputs": [
    {
     "output_type": "execute_result",
     "data": {
      "text/plain": "Catlab.Graphics.Graphviz.Graph(\"G\", false, \"neato\", Catlab.Graphics.Graphviz.Statement[Catlab.Graphics.Graphviz.Node(\"n1\", OrderedCollections.OrderedDict{Symbol, Union{String, Catlab.Graphics.Graphviz.Html}}(:id => \"box1\", :label => \"R\")), Catlab.Graphics.Graphviz.Node(\"n2\", OrderedCollections.OrderedDict{Symbol, Union{String, Catlab.Graphics.Graphviz.Html}}(:id => \"box2\", :label => \"S\")), Catlab.Graphics.Graphviz.Node(\"n3\", OrderedCollections.OrderedDict{Symbol, Union{String, Catlab.Graphics.Graphviz.Html}}(:height => \"0\", :id => \"outer1\", :label => \"\", :margin => \"0\", :shape => \"none\", :style => \"invis\", :width => \"0\")), Catlab.Graphics.Graphviz.Node(\"n4\", OrderedCollections.OrderedDict{Symbol, Union{String, Catlab.Graphics.Graphviz.Html}}(:height => \"0\", :id => \"outer2\", :label => \"\", :margin => \"0\", :shape => \"none\", :style => \"invis\", :width => \"0\")), Catlab.Graphics.Graphviz.Node(\"n5\", OrderedCollections.OrderedDict{Symbol, Union{String, Catlab.Graphics.Graphviz.Html}}(:comment => \"junction\", :fillcolor => \"black\", :height => \"0.075\", :id => \"junction1\", :label => \"\", :shape => \"circle\", :style => \"filled\", :width => \"0.075\")), Catlab.Graphics.Graphviz.Node(\"n6\", OrderedCollections.OrderedDict{Symbol, Union{String, Catlab.Graphics.Graphviz.Html}}(:comment => \"junction\", :fillcolor => \"black\", :height => \"0.075\", :id => \"junction2\", :label => \"\", :shape => \"circle\", :style => \"filled\", :width => \"0.075\")), Catlab.Graphics.Graphviz.Node(\"n7\", OrderedCollections.OrderedDict{Symbol, Union{String, Catlab.Graphics.Graphviz.Html}}(:comment => \"junction\", :fillcolor => \"black\", :height => \"0.075\", :id => \"junction3\", :label => \"\", :shape => \"circle\", :style => \"filled\", :width => \"0.075\")), Catlab.Graphics.Graphviz.Edge(Catlab.Graphics.Graphviz.NodeID[Catlab.Graphics.Graphviz.NodeID(\"n1\", \"\", \"\"), Catlab.Graphics.Graphviz.NodeID(\"n5\", \"\", \"\")], OrderedCollections.OrderedDict{Symbol, Union{String, Catlab.Graphics.Graphviz.Html}}()), Catlab.Graphics.Graphviz.Edge(Catlab.Graphics.Graphviz.NodeID[Catlab.Graphics.Graphviz.NodeID(\"n3\", \"\", \"\"), Catlab.Graphics.Graphviz.NodeID(\"n5\", \"\", \"\")], OrderedCollections.OrderedDict{Symbol, Union{String, Catlab.Graphics.Graphviz.Html}}()), Catlab.Graphics.Graphviz.Edge(Catlab.Graphics.Graphviz.NodeID[Catlab.Graphics.Graphviz.NodeID(\"n1\", \"\", \"\"), Catlab.Graphics.Graphviz.NodeID(\"n6\", \"\", \"\")], OrderedCollections.OrderedDict{Symbol, Union{String, Catlab.Graphics.Graphviz.Html}}()), Catlab.Graphics.Graphviz.Edge(Catlab.Graphics.Graphviz.NodeID[Catlab.Graphics.Graphviz.NodeID(\"n2\", \"\", \"\"), Catlab.Graphics.Graphviz.NodeID(\"n6\", \"\", \"\")], OrderedCollections.OrderedDict{Symbol, Union{String, Catlab.Graphics.Graphviz.Html}}()), Catlab.Graphics.Graphviz.Edge(Catlab.Graphics.Graphviz.NodeID[Catlab.Graphics.Graphviz.NodeID(\"n2\", \"\", \"\"), Catlab.Graphics.Graphviz.NodeID(\"n7\", \"\", \"\")], OrderedCollections.OrderedDict{Symbol, Union{String, Catlab.Graphics.Graphviz.Html}}()), Catlab.Graphics.Graphviz.Edge(Catlab.Graphics.Graphviz.NodeID[Catlab.Graphics.Graphviz.NodeID(\"n4\", \"\", \"\"), Catlab.Graphics.Graphviz.NodeID(\"n7\", \"\", \"\")], OrderedCollections.OrderedDict{Symbol, Union{String, Catlab.Graphics.Graphviz.Html}}())], OrderedCollections.OrderedDict{Symbol, Union{String, Catlab.Graphics.Graphviz.Html}}(:fontname => \"Serif\"), OrderedCollections.OrderedDict{Symbol, Union{String, Catlab.Graphics.Graphviz.Html}}(:fontname => \"Serif\", :shape => \"ellipse\", :margin => \"0.05,0.025\", :width => \"0.5\", :height => \"0.5\"), OrderedCollections.OrderedDict{Symbol, Union{String, Catlab.Graphics.Graphviz.Html}}(:fontname => \"Serif\", :len => \"0.5\"))",
      "image/svg+xml": [
       "<?xml version=\"1.0\" encoding=\"UTF-8\" standalone=\"no\"?>\n",
       "<!DOCTYPE svg PUBLIC \"-//W3C//DTD SVG 1.1//EN\"\n",
       " \"http://www.w3.org/Graphics/SVG/1.1/DTD/svg11.dtd\">\n",
       "<!-- Generated by graphviz version 2.43.0 (0)\n",
       " -->\n",
       "<!-- Title: G Pages: 1 -->\n",
       "<svg width=\"57pt\" height=\"220pt\"\n",
       " viewBox=\"0.00 0.00 57.00 219.74\" xmlns=\"http://www.w3.org/2000/svg\" xmlns:xlink=\"http://www.w3.org/1999/xlink\">\n",
       "<g id=\"graph0\" class=\"graph\" transform=\"scale(1 1) rotate(0) translate(4 215.74)\">\n",
       "<title>G</title>\n",
       "<polygon fill=\"white\" stroke=\"transparent\" points=\"-4,4 -4,-215.74 53,-215.74 53,4 -4,4\"/>\n",
       "<!-- n1 -->\n",
       "<g id=\"box1\" class=\"node\">\n",
       "<title>n1</title>\n",
       "<ellipse fill=\"none\" stroke=\"black\" cx=\"31\" cy=\"-71.29\" rx=\"18\" ry=\"18\"/>\n",
       "<text text-anchor=\"middle\" x=\"31\" y=\"-67.59\" font-family=\"Serif\" font-size=\"14.00\">R</text>\n",
       "</g>\n",
       "<!-- n5 -->\n",
       "<!-- junction -->\n",
       "<g id=\"junction1\" class=\"node\">\n",
       "<title>n5</title>\n",
       "<ellipse fill=\"black\" stroke=\"black\" cx=\"39.23\" cy=\"-36.16\" rx=\"2.5\" ry=\"2.5\"/>\n",
       "</g>\n",
       "<!-- n1&#45;&#45;n5 -->\n",
       "<g id=\"edge1\" class=\"edge\">\n",
       "<title>n1&#45;&#45;n5</title>\n",
       "<path fill=\"none\" stroke=\"black\" d=\"M35.11,-53.73C36.46,-47.96 37.81,-42.2 38.58,-38.92\"/>\n",
       "</g>\n",
       "<!-- n6 -->\n",
       "<!-- junction -->\n",
       "<g id=\"junction2\" class=\"node\">\n",
       "<title>n6</title>\n",
       "<ellipse fill=\"black\" stroke=\"black\" cx=\"29.17\" cy=\"-107.36\" rx=\"2.5\" ry=\"2.5\"/>\n",
       "</g>\n",
       "<!-- n1&#45;&#45;n6 -->\n",
       "<g id=\"edge3\" class=\"edge\">\n",
       "<title>n1&#45;&#45;n6</title>\n",
       "<path fill=\"none\" stroke=\"black\" d=\"M30.08,-89.33C29.78,-95.24 29.48,-101.16 29.31,-104.53\"/>\n",
       "</g>\n",
       "<!-- n2 -->\n",
       "<g id=\"box2\" class=\"node\">\n",
       "<title>n2</title>\n",
       "<ellipse fill=\"none\" stroke=\"black\" cx=\"24.41\" cy=\"-143.16\" rx=\"18\" ry=\"18\"/>\n",
       "<text text-anchor=\"middle\" x=\"24.41\" y=\"-139.46\" font-family=\"Serif\" font-size=\"14.00\">S</text>\n",
       "</g>\n",
       "<!-- n2&#45;&#45;n6 -->\n",
       "<g id=\"edge4\" class=\"edge\">\n",
       "<title>n2&#45;&#45;n6</title>\n",
       "<path fill=\"none\" stroke=\"black\" d=\"M26.79,-125.26C27.57,-119.39 28.35,-113.51 28.8,-110.17\"/>\n",
       "</g>\n",
       "<!-- n7 -->\n",
       "<!-- junction -->\n",
       "<g id=\"junction3\" class=\"node\">\n",
       "<title>n7</title>\n",
       "<ellipse fill=\"black\" stroke=\"black\" cx=\"13.69\" cy=\"-177.66\" rx=\"2.5\" ry=\"2.5\"/>\n",
       "</g>\n",
       "<!-- n2&#45;&#45;n7 -->\n",
       "<g id=\"edge5\" class=\"edge\">\n",
       "<title>n2&#45;&#45;n7</title>\n",
       "<path fill=\"none\" stroke=\"black\" d=\"M19.05,-160.41C17.29,-166.07 15.53,-171.73 14.53,-174.95\"/>\n",
       "</g>\n",
       "<!-- n3 -->\n",
       "<!-- n3&#45;&#45;n5 -->\n",
       "<g id=\"edge2\" class=\"edge\">\n",
       "<title>n3&#45;&#45;n5</title>\n",
       "<path fill=\"none\" stroke=\"black\" d=\"M44.19,-1.38C43.55,-5.84 40.67,-26.01 39.62,-33.42\"/>\n",
       "</g>\n",
       "<!-- n4 -->\n",
       "<!-- n4&#45;&#45;n7 -->\n",
       "<g id=\"edge6\" class=\"edge\">\n",
       "<title>n4&#45;&#45;n7</title>\n",
       "<path fill=\"none\" stroke=\"black\" d=\"M0.83,-210.41C2.48,-206.21 9.94,-187.21 12.68,-180.24\"/>\n",
       "</g>\n",
       "</g>\n",
       "</svg>\n"
      ]
     },
     "metadata": {},
     "execution_count": 7
    }
   ],
   "cell_type": "code",
   "source": [
    "unTypedDiagram = relation\"(x,z) where (x,y,z) {R(x,y); S(y,z);}\"\n",
    "to_graphviz(unTypedDiagram, box_labels=:name)"
   ],
   "metadata": {},
   "execution_count": 7
  },
  {
   "cell_type": "markdown",
   "source": [
    "### Typed Undirected Wiring Diagram\n",
    "Now, let us look at a typed example"
   ],
   "metadata": {}
  },
  {
   "outputs": [
    {
     "output_type": "execute_result",
     "data": {
      "text/plain": "Catlab.Graphics.Graphviz.Graph(\"G\", false, \"neato\", Catlab.Graphics.Graphviz.Statement[Catlab.Graphics.Graphviz.Node(\"n1\", OrderedCollections.OrderedDict{Symbol, Union{String, Catlab.Graphics.Graphviz.Html}}(:id => \"box1\", :label => \"R\")), Catlab.Graphics.Graphviz.Node(\"n2\", OrderedCollections.OrderedDict{Symbol, Union{String, Catlab.Graphics.Graphviz.Html}}(:id => \"box2\", :label => \"S\")), Catlab.Graphics.Graphviz.Node(\"n3\", OrderedCollections.OrderedDict{Symbol, Union{String, Catlab.Graphics.Graphviz.Html}}(:id => \"box3\", :label => \"T\")), Catlab.Graphics.Graphviz.Node(\"n4\", OrderedCollections.OrderedDict{Symbol, Union{String, Catlab.Graphics.Graphviz.Html}}(:height => \"0\", :id => \"outer1\", :label => \"\", :margin => \"0\", :shape => \"none\", :style => \"invis\", :width => \"0\")), Catlab.Graphics.Graphviz.Node(\"n5\", OrderedCollections.OrderedDict{Symbol, Union{String, Catlab.Graphics.Graphviz.Html}}(:height => \"0\", :id => \"outer2\", :label => \"\", :margin => \"0\", :shape => \"none\", :style => \"invis\", :width => \"0\")), Catlab.Graphics.Graphviz.Node(\"n6\", OrderedCollections.OrderedDict{Symbol, Union{String, Catlab.Graphics.Graphviz.Html}}(:height => \"0\", :id => \"outer3\", :label => \"\", :margin => \"0\", :shape => \"none\", :style => \"invis\", :width => \"0\")), Catlab.Graphics.Graphviz.Node(\"n7\", OrderedCollections.OrderedDict{Symbol, Union{String, Catlab.Graphics.Graphviz.Html}}(:comment => \"junction\", :fillcolor => \"black\", :height => \"0.075\", :id => \"junction1\", :label => \"\", :shape => \"circle\", :style => \"filled\", :width => \"0.075\")), Catlab.Graphics.Graphviz.Node(\"n8\", OrderedCollections.OrderedDict{Symbol, Union{String, Catlab.Graphics.Graphviz.Html}}(:comment => \"junction\", :fillcolor => \"black\", :height => \"0.075\", :id => \"junction2\", :label => \"\", :shape => \"circle\", :style => \"filled\", :width => \"0.075\")), Catlab.Graphics.Graphviz.Node(\"n9\", OrderedCollections.OrderedDict{Symbol, Union{String, Catlab.Graphics.Graphviz.Html}}(:comment => \"junction\", :fillcolor => \"black\", :height => \"0.075\", :id => \"junction3\", :label => \"\", :shape => \"circle\", :style => \"filled\", :width => \"0.075\")), Catlab.Graphics.Graphviz.Node(\"n10\", OrderedCollections.OrderedDict{Symbol, Union{String, Catlab.Graphics.Graphviz.Html}}(:comment => \"junction\", :fillcolor => \"black\", :height => \"0.075\", :id => \"junction4\", :label => \"\", :shape => \"circle\", :style => \"filled\", :width => \"0.075\")), Catlab.Graphics.Graphviz.Edge(Catlab.Graphics.Graphviz.NodeID[Catlab.Graphics.Graphviz.NodeID(\"n1\", \"\", \"\"), Catlab.Graphics.Graphviz.NodeID(\"n7\", \"\", \"\")], OrderedCollections.OrderedDict{Symbol, Union{String, Catlab.Graphics.Graphviz.Html}}()), Catlab.Graphics.Graphviz.Edge(Catlab.Graphics.Graphviz.NodeID[Catlab.Graphics.Graphviz.NodeID(\"n4\", \"\", \"\"), Catlab.Graphics.Graphviz.NodeID(\"n7\", \"\", \"\")], OrderedCollections.OrderedDict{Symbol, Union{String, Catlab.Graphics.Graphviz.Html}}()), Catlab.Graphics.Graphviz.Edge(Catlab.Graphics.Graphviz.NodeID[Catlab.Graphics.Graphviz.NodeID(\"n2\", \"\", \"\"), Catlab.Graphics.Graphviz.NodeID(\"n8\", \"\", \"\")], OrderedCollections.OrderedDict{Symbol, Union{String, Catlab.Graphics.Graphviz.Html}}()), Catlab.Graphics.Graphviz.Edge(Catlab.Graphics.Graphviz.NodeID[Catlab.Graphics.Graphviz.NodeID(\"n5\", \"\", \"\"), Catlab.Graphics.Graphviz.NodeID(\"n8\", \"\", \"\")], OrderedCollections.OrderedDict{Symbol, Union{String, Catlab.Graphics.Graphviz.Html}}()), Catlab.Graphics.Graphviz.Edge(Catlab.Graphics.Graphviz.NodeID[Catlab.Graphics.Graphviz.NodeID(\"n3\", \"\", \"\"), Catlab.Graphics.Graphviz.NodeID(\"n9\", \"\", \"\")], OrderedCollections.OrderedDict{Symbol, Union{String, Catlab.Graphics.Graphviz.Html}}()), Catlab.Graphics.Graphviz.Edge(Catlab.Graphics.Graphviz.NodeID[Catlab.Graphics.Graphviz.NodeID(\"n6\", \"\", \"\"), Catlab.Graphics.Graphviz.NodeID(\"n9\", \"\", \"\")], OrderedCollections.OrderedDict{Symbol, Union{String, Catlab.Graphics.Graphviz.Html}}()), Catlab.Graphics.Graphviz.Edge(Catlab.Graphics.Graphviz.NodeID[Catlab.Graphics.Graphviz.NodeID(\"n1\", \"\", \"\"), Catlab.Graphics.Graphviz.NodeID(\"n10\", \"\", \"\")], OrderedCollections.OrderedDict{Symbol, Union{String, Catlab.Graphics.Graphviz.Html}}()), Catlab.Graphics.Graphviz.Edge(Catlab.Graphics.Graphviz.NodeID[Catlab.Graphics.Graphviz.NodeID(\"n2\", \"\", \"\"), Catlab.Graphics.Graphviz.NodeID(\"n10\", \"\", \"\")], OrderedCollections.OrderedDict{Symbol, Union{String, Catlab.Graphics.Graphviz.Html}}()), Catlab.Graphics.Graphviz.Edge(Catlab.Graphics.Graphviz.NodeID[Catlab.Graphics.Graphviz.NodeID(\"n3\", \"\", \"\"), Catlab.Graphics.Graphviz.NodeID(\"n10\", \"\", \"\")], OrderedCollections.OrderedDict{Symbol, Union{String, Catlab.Graphics.Graphviz.Html}}())], OrderedCollections.OrderedDict{Symbol, Union{String, Catlab.Graphics.Graphviz.Html}}(:fontname => \"Serif\"), OrderedCollections.OrderedDict{Symbol, Union{String, Catlab.Graphics.Graphviz.Html}}(:fontname => \"Serif\", :shape => \"ellipse\", :margin => \"0.05,0.025\", :width => \"0.5\", :height => \"0.5\"), OrderedCollections.OrderedDict{Symbol, Union{String, Catlab.Graphics.Graphviz.Html}}(:fontname => \"Serif\", :len => \"0.5\"))",
      "image/svg+xml": [
       "<?xml version=\"1.0\" encoding=\"UTF-8\" standalone=\"no\"?>\n",
       "<!DOCTYPE svg PUBLIC \"-//W3C//DTD SVG 1.1//EN\"\n",
       " \"http://www.w3.org/Graphics/SVG/1.1/DTD/svg11.dtd\">\n",
       "<!-- Generated by graphviz version 2.43.0 (0)\n",
       " -->\n",
       "<!-- Title: G Pages: 1 -->\n",
       "<svg width=\"205pt\" height=\"197pt\"\n",
       " viewBox=\"0.00 0.00 205.07 197.09\" xmlns=\"http://www.w3.org/2000/svg\" xmlns:xlink=\"http://www.w3.org/1999/xlink\">\n",
       "<g id=\"graph0\" class=\"graph\" transform=\"scale(1 1) rotate(0) translate(4 193.09)\">\n",
       "<title>G</title>\n",
       "<polygon fill=\"white\" stroke=\"transparent\" points=\"-4,4 -4,-193.09 201.07,-193.09 201.07,4 -4,4\"/>\n",
       "<!-- n1 -->\n",
       "<g id=\"box1\" class=\"node\">\n",
       "<title>n1</title>\n",
       "<ellipse fill=\"none\" stroke=\"black\" cx=\"56.97\" cy=\"-49.19\" rx=\"18\" ry=\"18\"/>\n",
       "<text text-anchor=\"middle\" x=\"56.97\" y=\"-45.49\" font-family=\"Serif\" font-size=\"14.00\">R</text>\n",
       "</g>\n",
       "<!-- n7 -->\n",
       "<!-- junction -->\n",
       "<g id=\"junction1\" class=\"node\">\n",
       "<title>n7</title>\n",
       "<ellipse fill=\"black\" stroke=\"black\" cx=\"29\" cy=\"-23.81\" rx=\"2.5\" ry=\"2.5\"/>\n",
       "</g>\n",
       "<!-- n1&#45;&#45;n7 -->\n",
       "<g id=\"edge1\" class=\"edge\">\n",
       "<title>n1&#45;&#45;n7</title>\n",
       "<path fill=\"none\" stroke=\"black\" d=\"M43.64,-37.09C38.69,-32.6 33.63,-28 30.95,-25.57\"/>\n",
       "</g>\n",
       "<!-- n10 -->\n",
       "<!-- junction -->\n",
       "<g id=\"junction4\" class=\"node\">\n",
       "<title>n10</title>\n",
       "<ellipse fill=\"black\" stroke=\"black\" cx=\"87.06\" cy=\"-76.06\" rx=\"2.5\" ry=\"2.5\"/>\n",
       "</g>\n",
       "<!-- n1&#45;&#45;n10 -->\n",
       "<g id=\"edge7\" class=\"edge\">\n",
       "<title>n1&#45;&#45;n10</title>\n",
       "<path fill=\"none\" stroke=\"black\" d=\"M70.61,-61.37C76.08,-66.26 81.81,-71.37 84.85,-74.08\"/>\n",
       "</g>\n",
       "<!-- n2 -->\n",
       "<g id=\"box2\" class=\"node\">\n",
       "<title>n2</title>\n",
       "<ellipse fill=\"none\" stroke=\"black\" cx=\"125.37\" cy=\"-63.43\" rx=\"18\" ry=\"18\"/>\n",
       "<text text-anchor=\"middle\" x=\"125.37\" y=\"-59.73\" font-family=\"Serif\" font-size=\"14.00\">S</text>\n",
       "</g>\n",
       "<!-- n8 -->\n",
       "<!-- junction -->\n",
       "<g id=\"junction2\" class=\"node\">\n",
       "<title>n8</title>\n",
       "<ellipse fill=\"black\" stroke=\"black\" cx=\"161.15\" cy=\"-51.32\" rx=\"2.5\" ry=\"2.5\"/>\n",
       "</g>\n",
       "<!-- n2&#45;&#45;n8 -->\n",
       "<g id=\"edge3\" class=\"edge\">\n",
       "<title>n2&#45;&#45;n8</title>\n",
       "<path fill=\"none\" stroke=\"black\" d=\"M142.42,-57.66C148.76,-55.52 155.23,-53.32 158.66,-52.16\"/>\n",
       "</g>\n",
       "<!-- n2&#45;&#45;n10 -->\n",
       "<g id=\"edge8\" class=\"edge\">\n",
       "<title>n2&#45;&#45;n10</title>\n",
       "<path fill=\"none\" stroke=\"black\" d=\"M108.01,-69.15C100.88,-71.5 93.42,-73.96 89.62,-75.22\"/>\n",
       "</g>\n",
       "<!-- n3 -->\n",
       "<g id=\"box3\" class=\"node\">\n",
       "<title>n3</title>\n",
       "<ellipse fill=\"none\" stroke=\"black\" cx=\"78.84\" cy=\"-115.56\" rx=\"18\" ry=\"18\"/>\n",
       "<text text-anchor=\"middle\" x=\"78.84\" y=\"-111.86\" font-family=\"Serif\" font-size=\"14.00\">T</text>\n",
       "</g>\n",
       "<!-- n9 -->\n",
       "<!-- junction -->\n",
       "<g id=\"junction3\" class=\"node\">\n",
       "<title>n9</title>\n",
       "<ellipse fill=\"black\" stroke=\"black\" cx=\"71.14\" cy=\"-152.54\" rx=\"2.5\" ry=\"2.5\"/>\n",
       "</g>\n",
       "<!-- n3&#45;&#45;n9 -->\n",
       "<g id=\"edge5\" class=\"edge\">\n",
       "<title>n3&#45;&#45;n9</title>\n",
       "<path fill=\"none\" stroke=\"black\" d=\"M75.08,-133.62C73.74,-140.07 72.38,-146.59 71.66,-150.04\"/>\n",
       "</g>\n",
       "<!-- n3&#45;&#45;n10 -->\n",
       "<g id=\"edge9\" class=\"edge\">\n",
       "<title>n3&#45;&#45;n10</title>\n",
       "<path fill=\"none\" stroke=\"black\" d=\"M82.57,-97.66C84.1,-90.31 85.7,-82.62 86.51,-78.7\"/>\n",
       "</g>\n",
       "<!-- n4 -->\n",
       "<!-- n4&#45;&#45;n7 -->\n",
       "<g id=\"edge2\" class=\"edge\">\n",
       "<title>n4&#45;&#45;n7</title>\n",
       "<path fill=\"none\" stroke=\"black\" d=\"M1.2,-1.08C4.77,-3.99 20.89,-17.17 26.81,-22.02\"/>\n",
       "</g>\n",
       "<!-- n5 -->\n",
       "<!-- n5&#45;&#45;n8 -->\n",
       "<g id=\"edge4\" class=\"edge\">\n",
       "<title>n5&#45;&#45;n8</title>\n",
       "<path fill=\"none\" stroke=\"black\" d=\"M195.69,-41.52C191.26,-42.78 171.23,-48.46 163.87,-50.55\"/>\n",
       "</g>\n",
       "<!-- n6 -->\n",
       "<!-- n6&#45;&#45;n9 -->\n",
       "<g id=\"edge6\" class=\"edge\">\n",
       "<title>n6&#45;&#45;n9</title>\n",
       "<path fill=\"none\" stroke=\"black\" d=\"M63.86,-187.7C64.8,-183.18 69.02,-162.79 70.57,-155.31\"/>\n",
       "</g>\n",
       "</g>\n",
       "</svg>\n"
      ]
     },
     "metadata": {},
     "execution_count": 8
    }
   ],
   "cell_type": "code",
   "source": [
    "TypedDiagram = relation\"(x,y,z) where (x:X, y:Y, z:Z, w:W) {\n",
    "  R(x,w);\n",
    "  S(y,w);\n",
    "  T(z,w);}\"\n",
    "to_graphviz(TypedDiagram, box_labels=:name)"
   ],
   "metadata": {},
   "execution_count": 8
  },
  {
   "cell_type": "markdown",
   "source": [
    "Furthermore, we can generate more complex diagrams with different types.\n",
    "This domain specific language supports symbol types, integer types, expression types, as well as mixed types.\n",
    "The above typed diagram illustrated the use of symbol types."
   ],
   "metadata": {}
  },
  {
   "cell_type": "markdown",
   "source": [
    "The syntax for integer types is as follows: `x:1`"
   ],
   "metadata": {}
  },
  {
   "cell_type": "markdown",
   "source": [
    "The syntax for expression types is as follows: `x:n(1)`"
   ],
   "metadata": {}
  },
  {
   "cell_type": "markdown",
   "source": [
    "The syntax for mixed types is as follows: `x:X, y:1, z:n(1), w:W`"
   ],
   "metadata": {}
  },
  {
   "cell_type": "markdown",
   "source": [
    "### Named Ports\n",
    "Undirected Wiring Diagrams may also contain named ports. This motivates our language to support such a feature.\n",
    "Below is an example of a diagram with named ports."
   ],
   "metadata": {}
  },
  {
   "outputs": [
    {
     "output_type": "execute_result",
     "data": {
      "text/plain": "Catlab.WiringDiagrams.RelationDiagrams.TypedNamedRelationDiagram{Symbol, Symbol, Symbol} {Box:2, Port:4, OuterPort:2, Junction:3, Type:0, Name:0, VarName:0}\n┌─────┬──────────┐\n│\u001b[1m Box │\u001b[1m     name │\n├─────┼──────────┤\n│\u001b[1m   1 │ Employee │\n│\u001b[1m   2 │ Employee │\n└─────┴──────────┘\n┌──────┬─────┬──────────┬────────────┬────────────┐\n│\u001b[1m Port │\u001b[1m box │\u001b[1m junction │\u001b[1m  port_type │\u001b[1m  port_name │\n├──────┼─────┼──────────┼────────────┼────────────┤\n│\u001b[1m    1 │   1 │        1 │   Employee │         id │\n│\u001b[1m    2 │   1 │        3 │ Department │ department │\n│\u001b[1m    3 │   2 │        2 │   Employee │         id │\n│\u001b[1m    4 │   2 │        3 │ Department │ department │\n└──────┴─────┴──────────┴────────────┴────────────┘\n┌───────────┬────────────────┬─────────────────┬─────────────────┐\n│\u001b[1m OuterPort │\u001b[1m outer_junction │\u001b[1m outer_port_type │\u001b[1m outer_port_name │\n├───────────┼────────────────┼─────────────────┼─────────────────┤\n│\u001b[1m         1 │              1 │        Employee │               e │\n│\u001b[1m         2 │              2 │        Employee │              e′ │\n└───────────┴────────────────┴─────────────────┴─────────────────┘\n┌──────────┬───────────────┬──────────┐\n│\u001b[1m Junction │\u001b[1m junction_type │\u001b[1m variable │\n├──────────┼───────────────┼──────────┤\n│\u001b[1m        1 │      Employee │        e │\n│\u001b[1m        2 │      Employee │       e′ │\n│\u001b[1m        3 │    Department │        d │\n└──────────┴───────────────┴──────────┘\n",
      "text/html": [
       "<div class=\"c-set\">\n",
       "<span class=\"c-set-summary\">Catlab.WiringDiagrams.RelationDiagrams.TypedNamedRelationDiagram{Symbol, Symbol, Symbol} {Box:2, Port:4, OuterPort:2, Junction:3, Type:0, Name:0, VarName:0}</span>\n",
       "<table>\n",
       "  <thead>\n",
       "    <tr class = \"header headerLastRow\">\n",
       "      <th class = \"rowLabel\" style = \"font-weight: bold; text-align: right;\">Box</th>\n",
       "      <th style = \"text-align: right;\">name</th>\n",
       "    </tr>\n",
       "  </thead>\n",
       "  <tbody>\n",
       "    <tr>\n",
       "      <td class = \"rowLabel\" style = \"font-weight: bold; text-align: right;\">1</td>\n",
       "      <td style = \"text-align: right;\">Employee</td>\n",
       "    </tr>\n",
       "    <tr>\n",
       "      <td class = \"rowLabel\" style = \"font-weight: bold; text-align: right;\">2</td>\n",
       "      <td style = \"text-align: right;\">Employee</td>\n",
       "    </tr>\n",
       "  </tbody>\n",
       "</table>\n",
       "<table>\n",
       "  <thead>\n",
       "    <tr class = \"header headerLastRow\">\n",
       "      <th class = \"rowLabel\" style = \"font-weight: bold; text-align: right;\">Port</th>\n",
       "      <th style = \"text-align: right;\">box</th>\n",
       "      <th style = \"text-align: right;\">junction</th>\n",
       "      <th style = \"text-align: right;\">port_type</th>\n",
       "      <th style = \"text-align: right;\">port_name</th>\n",
       "    </tr>\n",
       "  </thead>\n",
       "  <tbody>\n",
       "    <tr>\n",
       "      <td class = \"rowLabel\" style = \"font-weight: bold; text-align: right;\">1</td>\n",
       "      <td style = \"text-align: right;\">1</td>\n",
       "      <td style = \"text-align: right;\">1</td>\n",
       "      <td style = \"text-align: right;\">Employee</td>\n",
       "      <td style = \"text-align: right;\">id</td>\n",
       "    </tr>\n",
       "    <tr>\n",
       "      <td class = \"rowLabel\" style = \"font-weight: bold; text-align: right;\">2</td>\n",
       "      <td style = \"text-align: right;\">1</td>\n",
       "      <td style = \"text-align: right;\">3</td>\n",
       "      <td style = \"text-align: right;\">Department</td>\n",
       "      <td style = \"text-align: right;\">department</td>\n",
       "    </tr>\n",
       "    <tr>\n",
       "      <td class = \"rowLabel\" style = \"font-weight: bold; text-align: right;\">3</td>\n",
       "      <td style = \"text-align: right;\">2</td>\n",
       "      <td style = \"text-align: right;\">2</td>\n",
       "      <td style = \"text-align: right;\">Employee</td>\n",
       "      <td style = \"text-align: right;\">id</td>\n",
       "    </tr>\n",
       "    <tr>\n",
       "      <td class = \"rowLabel\" style = \"font-weight: bold; text-align: right;\">4</td>\n",
       "      <td style = \"text-align: right;\">2</td>\n",
       "      <td style = \"text-align: right;\">3</td>\n",
       "      <td style = \"text-align: right;\">Department</td>\n",
       "      <td style = \"text-align: right;\">department</td>\n",
       "    </tr>\n",
       "  </tbody>\n",
       "</table>\n",
       "<table>\n",
       "  <thead>\n",
       "    <tr class = \"header headerLastRow\">\n",
       "      <th class = \"rowLabel\" style = \"font-weight: bold; text-align: right;\">OuterPort</th>\n",
       "      <th style = \"text-align: right;\">outer_junction</th>\n",
       "      <th style = \"text-align: right;\">outer_port_type</th>\n",
       "      <th style = \"text-align: right;\">outer_port_name</th>\n",
       "    </tr>\n",
       "  </thead>\n",
       "  <tbody>\n",
       "    <tr>\n",
       "      <td class = \"rowLabel\" style = \"font-weight: bold; text-align: right;\">1</td>\n",
       "      <td style = \"text-align: right;\">1</td>\n",
       "      <td style = \"text-align: right;\">Employee</td>\n",
       "      <td style = \"text-align: right;\">e</td>\n",
       "    </tr>\n",
       "    <tr>\n",
       "      <td class = \"rowLabel\" style = \"font-weight: bold; text-align: right;\">2</td>\n",
       "      <td style = \"text-align: right;\">2</td>\n",
       "      <td style = \"text-align: right;\">Employee</td>\n",
       "      <td style = \"text-align: right;\">e′</td>\n",
       "    </tr>\n",
       "  </tbody>\n",
       "</table>\n",
       "<table>\n",
       "  <thead>\n",
       "    <tr class = \"header headerLastRow\">\n",
       "      <th class = \"rowLabel\" style = \"font-weight: bold; text-align: right;\">Junction</th>\n",
       "      <th style = \"text-align: right;\">junction_type</th>\n",
       "      <th style = \"text-align: right;\">variable</th>\n",
       "    </tr>\n",
       "  </thead>\n",
       "  <tbody>\n",
       "    <tr>\n",
       "      <td class = \"rowLabel\" style = \"font-weight: bold; text-align: right;\">1</td>\n",
       "      <td style = \"text-align: right;\">Employee</td>\n",
       "      <td style = \"text-align: right;\">e</td>\n",
       "    </tr>\n",
       "    <tr>\n",
       "      <td class = \"rowLabel\" style = \"font-weight: bold; text-align: right;\">2</td>\n",
       "      <td style = \"text-align: right;\">Employee</td>\n",
       "      <td style = \"text-align: right;\">e′</td>\n",
       "    </tr>\n",
       "    <tr>\n",
       "      <td class = \"rowLabel\" style = \"font-weight: bold; text-align: right;\">3</td>\n",
       "      <td style = \"text-align: right;\">Department</td>\n",
       "      <td style = \"text-align: right;\">d</td>\n",
       "    </tr>\n",
       "  </tbody>\n",
       "</table>\n",
       "</div>\n"
      ]
     },
     "metadata": {},
     "execution_count": 9
    }
   ],
   "cell_type": "code",
   "source": [
    "employeeDirectory = relation\"(e=e, e′=e′) where (e:Employee, e′:Employee, d:Department) {\n",
    "    Employee(id=e, department=d);\n",
    "    Employee(id=e′, department=d);}\""
   ],
   "metadata": {},
   "execution_count": 9
  },
  {
   "cell_type": "markdown",
   "source": [
    "### Infered Context\n",
    "Our language also supports a context of variables for a undirected wiring diagram.\n",
    "If the parameters in the `where` clause are omitted, we can infer these."
   ],
   "metadata": {}
  },
  {
   "cell_type": "markdown",
   "source": [
    "Below is an example of a diagram with inferred context."
   ],
   "metadata": {}
  },
  {
   "outputs": [
    {
     "output_type": "execute_result",
     "data": {
      "text/plain": "Catlab.WiringDiagrams.RelationDiagrams.UntypedUnnamedRelationDiagram{Symbol, Symbol} {Box:2, Port:4, OuterPort:3, Junction:3, Name:0, VarName:0}\n┌─────┬──────┐\n│\u001b[1m Box │\u001b[1m name │\n├─────┼──────┤\n│\u001b[1m   1 │    R │\n│\u001b[1m   2 │    S │\n└─────┴──────┘\n┌──────┬─────┬──────────┐\n│\u001b[1m Port │\u001b[1m box │\u001b[1m junction │\n├──────┼─────┼──────────┤\n│\u001b[1m    1 │   1 │        1 │\n│\u001b[1m    2 │   1 │        2 │\n│\u001b[1m    3 │   2 │        2 │\n│\u001b[1m    4 │   2 │        3 │\n└──────┴─────┴──────────┘\n┌───────────┬────────────────┐\n│\u001b[1m OuterPort │\u001b[1m outer_junction │\n├───────────┼────────────────┤\n│\u001b[1m         1 │              1 │\n│\u001b[1m         2 │              2 │\n│\u001b[1m         3 │              3 │\n└───────────┴────────────────┘\n┌──────────┬──────────┐\n│\u001b[1m Junction │\u001b[1m variable │\n├──────────┼──────────┤\n│\u001b[1m        1 │        x │\n│\u001b[1m        2 │        y │\n│\u001b[1m        3 │        z │\n└──────────┴──────────┘\n",
      "text/html": [
       "<div class=\"c-set\">\n",
       "<span class=\"c-set-summary\">Catlab.WiringDiagrams.RelationDiagrams.UntypedUnnamedRelationDiagram{Symbol, Symbol} {Box:2, Port:4, OuterPort:3, Junction:3, Name:0, VarName:0}</span>\n",
       "<table>\n",
       "  <thead>\n",
       "    <tr class = \"header headerLastRow\">\n",
       "      <th class = \"rowLabel\" style = \"font-weight: bold; text-align: right;\">Box</th>\n",
       "      <th style = \"text-align: right;\">name</th>\n",
       "    </tr>\n",
       "  </thead>\n",
       "  <tbody>\n",
       "    <tr>\n",
       "      <td class = \"rowLabel\" style = \"font-weight: bold; text-align: right;\">1</td>\n",
       "      <td style = \"text-align: right;\">R</td>\n",
       "    </tr>\n",
       "    <tr>\n",
       "      <td class = \"rowLabel\" style = \"font-weight: bold; text-align: right;\">2</td>\n",
       "      <td style = \"text-align: right;\">S</td>\n",
       "    </tr>\n",
       "  </tbody>\n",
       "</table>\n",
       "<table>\n",
       "  <thead>\n",
       "    <tr class = \"header headerLastRow\">\n",
       "      <th class = \"rowLabel\" style = \"font-weight: bold; text-align: right;\">Port</th>\n",
       "      <th style = \"text-align: right;\">box</th>\n",
       "      <th style = \"text-align: right;\">junction</th>\n",
       "    </tr>\n",
       "  </thead>\n",
       "  <tbody>\n",
       "    <tr>\n",
       "      <td class = \"rowLabel\" style = \"font-weight: bold; text-align: right;\">1</td>\n",
       "      <td style = \"text-align: right;\">1</td>\n",
       "      <td style = \"text-align: right;\">1</td>\n",
       "    </tr>\n",
       "    <tr>\n",
       "      <td class = \"rowLabel\" style = \"font-weight: bold; text-align: right;\">2</td>\n",
       "      <td style = \"text-align: right;\">1</td>\n",
       "      <td style = \"text-align: right;\">2</td>\n",
       "    </tr>\n",
       "    <tr>\n",
       "      <td class = \"rowLabel\" style = \"font-weight: bold; text-align: right;\">3</td>\n",
       "      <td style = \"text-align: right;\">2</td>\n",
       "      <td style = \"text-align: right;\">2</td>\n",
       "    </tr>\n",
       "    <tr>\n",
       "      <td class = \"rowLabel\" style = \"font-weight: bold; text-align: right;\">4</td>\n",
       "      <td style = \"text-align: right;\">2</td>\n",
       "      <td style = \"text-align: right;\">3</td>\n",
       "    </tr>\n",
       "  </tbody>\n",
       "</table>\n",
       "<table>\n",
       "  <thead>\n",
       "    <tr class = \"header headerLastRow\">\n",
       "      <th class = \"rowLabel\" style = \"font-weight: bold; text-align: right;\">OuterPort</th>\n",
       "      <th style = \"text-align: right;\">outer_junction</th>\n",
       "    </tr>\n",
       "  </thead>\n",
       "  <tbody>\n",
       "    <tr>\n",
       "      <td class = \"rowLabel\" style = \"font-weight: bold; text-align: right;\">1</td>\n",
       "      <td style = \"text-align: right;\">1</td>\n",
       "    </tr>\n",
       "    <tr>\n",
       "      <td class = \"rowLabel\" style = \"font-weight: bold; text-align: right;\">2</td>\n",
       "      <td style = \"text-align: right;\">2</td>\n",
       "    </tr>\n",
       "    <tr>\n",
       "      <td class = \"rowLabel\" style = \"font-weight: bold; text-align: right;\">3</td>\n",
       "      <td style = \"text-align: right;\">3</td>\n",
       "    </tr>\n",
       "  </tbody>\n",
       "</table>\n",
       "<table>\n",
       "  <thead>\n",
       "    <tr class = \"header headerLastRow\">\n",
       "      <th class = \"rowLabel\" style = \"font-weight: bold; text-align: right;\">Junction</th>\n",
       "      <th style = \"text-align: right;\">variable</th>\n",
       "    </tr>\n",
       "  </thead>\n",
       "  <tbody>\n",
       "    <tr>\n",
       "      <td class = \"rowLabel\" style = \"font-weight: bold; text-align: right;\">1</td>\n",
       "      <td style = \"text-align: right;\">x</td>\n",
       "    </tr>\n",
       "    <tr>\n",
       "      <td class = \"rowLabel\" style = \"font-weight: bold; text-align: right;\">2</td>\n",
       "      <td style = \"text-align: right;\">y</td>\n",
       "    </tr>\n",
       "    <tr>\n",
       "      <td class = \"rowLabel\" style = \"font-weight: bold; text-align: right;\">3</td>\n",
       "      <td style = \"text-align: right;\">z</td>\n",
       "    </tr>\n",
       "  </tbody>\n",
       "</table>\n",
       "</div>\n"
      ]
     },
     "metadata": {},
     "execution_count": 10
    }
   ],
   "cell_type": "code",
   "source": [
    "inferredCase = relation\"(x,y,z) where () {R(x,y); S(y,z);}\""
   ],
   "metadata": {},
   "execution_count": 10
  },
  {
   "cell_type": "markdown",
   "source": [
    "### Closed Diagram\n",
    "Lastly, in the case we want a closed diagram, we simply omit the outer ports in the diagram.\n",
    "This is illustrated below."
   ],
   "metadata": {}
  },
  {
   "outputs": [
    {
     "output_type": "execute_result",
     "data": {
      "text/plain": "Catlab.WiringDiagrams.RelationDiagrams.TypedUnnamedRelationDiagram{Symbol, Symbol, Symbol} {Box:3, Port:8, OuterPort:0, Junction:4, Type:0, Name:0, VarName:0}\n┌─────┬─────────┐\n│\u001b[1m Box │\u001b[1m    name │\n├─────┼─────────┤\n│\u001b[1m   1 │  infect │\n│\u001b[1m   2 │ disease │\n│\u001b[1m   3 │ disease │\n└─────┴─────────┘\n┌──────┬─────┬──────────┬───────────┐\n│\u001b[1m Port │\u001b[1m box │\u001b[1m junction │\u001b[1m port_type │\n├──────┼─────┼──────────┼───────────┤\n│\u001b[1m    1 │   1 │        1 │       Pop │\n│\u001b[1m    2 │   1 │        2 │       Pop │\n│\u001b[1m    3 │   1 │        2 │       Pop │\n│\u001b[1m    4 │   1 │        2 │       Pop │\n│\u001b[1m    5 │   2 │        2 │       Pop │\n│\u001b[1m    6 │   2 │        3 │       Pop │\n│\u001b[1m    7 │   3 │        2 │       Pop │\n│\u001b[1m    8 │   3 │        4 │       Pop │\n└──────┴─────┴──────────┴───────────┘\n┌──────────┬───────────────┬──────────┐\n│\u001b[1m Junction │\u001b[1m junction_type │\u001b[1m variable │\n├──────────┼───────────────┼──────────┤\n│\u001b[1m        1 │           Pop │        S │\n│\u001b[1m        2 │           Pop │        I │\n│\u001b[1m        3 │           Pop │        R │\n│\u001b[1m        4 │           Pop │        D │\n└──────────┴───────────────┴──────────┘\n",
      "text/html": [
       "<div class=\"c-set\">\n",
       "<span class=\"c-set-summary\">Catlab.WiringDiagrams.RelationDiagrams.TypedUnnamedRelationDiagram{Symbol, Symbol, Symbol} {Box:3, Port:8, OuterPort:0, Junction:4, Type:0, Name:0, VarName:0}</span>\n",
       "<table>\n",
       "  <thead>\n",
       "    <tr class = \"header headerLastRow\">\n",
       "      <th class = \"rowLabel\" style = \"font-weight: bold; text-align: right;\">Box</th>\n",
       "      <th style = \"text-align: right;\">name</th>\n",
       "    </tr>\n",
       "  </thead>\n",
       "  <tbody>\n",
       "    <tr>\n",
       "      <td class = \"rowLabel\" style = \"font-weight: bold; text-align: right;\">1</td>\n",
       "      <td style = \"text-align: right;\">infect</td>\n",
       "    </tr>\n",
       "    <tr>\n",
       "      <td class = \"rowLabel\" style = \"font-weight: bold; text-align: right;\">2</td>\n",
       "      <td style = \"text-align: right;\">disease</td>\n",
       "    </tr>\n",
       "    <tr>\n",
       "      <td class = \"rowLabel\" style = \"font-weight: bold; text-align: right;\">3</td>\n",
       "      <td style = \"text-align: right;\">disease</td>\n",
       "    </tr>\n",
       "  </tbody>\n",
       "</table>\n",
       "<table>\n",
       "  <thead>\n",
       "    <tr class = \"header headerLastRow\">\n",
       "      <th class = \"rowLabel\" style = \"font-weight: bold; text-align: right;\">Port</th>\n",
       "      <th style = \"text-align: right;\">box</th>\n",
       "      <th style = \"text-align: right;\">junction</th>\n",
       "      <th style = \"text-align: right;\">port_type</th>\n",
       "    </tr>\n",
       "  </thead>\n",
       "  <tbody>\n",
       "    <tr>\n",
       "      <td class = \"rowLabel\" style = \"font-weight: bold; text-align: right;\">1</td>\n",
       "      <td style = \"text-align: right;\">1</td>\n",
       "      <td style = \"text-align: right;\">1</td>\n",
       "      <td style = \"text-align: right;\">Pop</td>\n",
       "    </tr>\n",
       "    <tr>\n",
       "      <td class = \"rowLabel\" style = \"font-weight: bold; text-align: right;\">2</td>\n",
       "      <td style = \"text-align: right;\">1</td>\n",
       "      <td style = \"text-align: right;\">2</td>\n",
       "      <td style = \"text-align: right;\">Pop</td>\n",
       "    </tr>\n",
       "    <tr>\n",
       "      <td class = \"rowLabel\" style = \"font-weight: bold; text-align: right;\">3</td>\n",
       "      <td style = \"text-align: right;\">1</td>\n",
       "      <td style = \"text-align: right;\">2</td>\n",
       "      <td style = \"text-align: right;\">Pop</td>\n",
       "    </tr>\n",
       "    <tr>\n",
       "      <td class = \"rowLabel\" style = \"font-weight: bold; text-align: right;\">4</td>\n",
       "      <td style = \"text-align: right;\">1</td>\n",
       "      <td style = \"text-align: right;\">2</td>\n",
       "      <td style = \"text-align: right;\">Pop</td>\n",
       "    </tr>\n",
       "    <tr>\n",
       "      <td class = \"rowLabel\" style = \"font-weight: bold; text-align: right;\">5</td>\n",
       "      <td style = \"text-align: right;\">2</td>\n",
       "      <td style = \"text-align: right;\">2</td>\n",
       "      <td style = \"text-align: right;\">Pop</td>\n",
       "    </tr>\n",
       "    <tr>\n",
       "      <td class = \"rowLabel\" style = \"font-weight: bold; text-align: right;\">6</td>\n",
       "      <td style = \"text-align: right;\">2</td>\n",
       "      <td style = \"text-align: right;\">3</td>\n",
       "      <td style = \"text-align: right;\">Pop</td>\n",
       "    </tr>\n",
       "    <tr>\n",
       "      <td class = \"rowLabel\" style = \"font-weight: bold; text-align: right;\">7</td>\n",
       "      <td style = \"text-align: right;\">3</td>\n",
       "      <td style = \"text-align: right;\">2</td>\n",
       "      <td style = \"text-align: right;\">Pop</td>\n",
       "    </tr>\n",
       "    <tr>\n",
       "      <td class = \"rowLabel\" style = \"font-weight: bold; text-align: right;\">8</td>\n",
       "      <td style = \"text-align: right;\">3</td>\n",
       "      <td style = \"text-align: right;\">4</td>\n",
       "      <td style = \"text-align: right;\">Pop</td>\n",
       "    </tr>\n",
       "  </tbody>\n",
       "</table>\n",
       "<table>\n",
       "  <thead>\n",
       "    <tr class = \"header headerLastRow\">\n",
       "      <th class = \"rowLabel\" style = \"font-weight: bold; text-align: right;\">Junction</th>\n",
       "      <th style = \"text-align: right;\">junction_type</th>\n",
       "      <th style = \"text-align: right;\">variable</th>\n",
       "    </tr>\n",
       "  </thead>\n",
       "  <tbody>\n",
       "    <tr>\n",
       "      <td class = \"rowLabel\" style = \"font-weight: bold; text-align: right;\">1</td>\n",
       "      <td style = \"text-align: right;\">Pop</td>\n",
       "      <td style = \"text-align: right;\">S</td>\n",
       "    </tr>\n",
       "    <tr>\n",
       "      <td class = \"rowLabel\" style = \"font-weight: bold; text-align: right;\">2</td>\n",
       "      <td style = \"text-align: right;\">Pop</td>\n",
       "      <td style = \"text-align: right;\">I</td>\n",
       "    </tr>\n",
       "    <tr>\n",
       "      <td class = \"rowLabel\" style = \"font-weight: bold; text-align: right;\">3</td>\n",
       "      <td style = \"text-align: right;\">Pop</td>\n",
       "      <td style = \"text-align: right;\">R</td>\n",
       "    </tr>\n",
       "    <tr>\n",
       "      <td class = \"rowLabel\" style = \"font-weight: bold; text-align: right;\">4</td>\n",
       "      <td style = \"text-align: right;\">Pop</td>\n",
       "      <td style = \"text-align: right;\">D</td>\n",
       "    </tr>\n",
       "  </tbody>\n",
       "</table>\n",
       "</div>\n"
      ]
     },
     "metadata": {},
     "execution_count": 11
    }
   ],
   "cell_type": "code",
   "source": [
    "parsed = relation\"() where (S:Pop, I:Pop, R:Pop, D:Pop) {\n",
    "  infect(S,I,I,I)\n",
    "  disease(I,R)\n",
    "  disease(I,D);}\""
   ],
   "metadata": {},
   "execution_count": 11
  }
 ],
 "nbformat_minor": 3,
 "metadata": {
  "language_info": {
   "file_extension": ".jl",
   "mimetype": "application/julia",
   "name": "julia",
   "version": "1.11.6"
  },
  "kernelspec": {
   "name": "julia-1.11",
   "display_name": "Julia 1.11.6",
   "language": "julia"
  }
 },
 "nbformat": 4
}
