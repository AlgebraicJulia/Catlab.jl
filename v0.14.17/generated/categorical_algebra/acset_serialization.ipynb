{
 "cells": [
  {
   "cell_type": "markdown",
   "source": [
    "# Serializing acsets\n",
    "\n",
    "Catlab supports the serialization of attributed C-sets (acsets) into JSON with their schemas.\n",
    "This functionality should allow you to interoperate with database representations\n",
    "in other languages by serializing both the data and the type into a network interoperability layer."
   ],
   "metadata": {}
  },
  {
   "outputs": [],
   "cell_type": "code",
   "source": [
    "import JSON, JSONSchema\n",
    "\n",
    "using Catlab, Catlab.Theories, Catlab.Graphs, Catlab.CategoricalAlgebra\n",
    "using Catlab.Graphics"
   ],
   "metadata": {},
   "execution_count": 1
  },
  {
   "cell_type": "markdown",
   "source": [
    "You can interact with the schema representation using JSON Schema with the\n",
    "`write_json_acset_schema` and `read_json_acset_schema` functions."
   ],
   "metadata": {}
  },
  {
   "outputs": [
    {
     "output_type": "execute_result",
     "data": {
      "text/plain": "roundtrip_json_acset_schema (generic function with 1 method)"
     },
     "metadata": {},
     "execution_count": 2
    }
   ],
   "cell_type": "code",
   "source": [
    "function roundtrip_json_acset_schema(pres::Presentation)\n",
    "  mktempdir() do dir\n",
    "    path = joinpath(dir, \"schema.json\")\n",
    "    write_json_acset_schema(pres, path)\n",
    "    read_json_acset_schema(path)\n",
    "  end\n",
    "end"
   ],
   "metadata": {},
   "execution_count": 2
  },
  {
   "cell_type": "markdown",
   "source": [
    "## The JSONSchema for Schemas\n",
    "The following code shows how to view the schema for storing schemas.\n",
    "You can see that this data is encoded in the standardized JSONSchema format,\n",
    "which is a generic way of representing data structures that are serialized to JSON.\n",
    "Notice that there are properties for Homs and Obs.\n",
    "The Homs have fields like name, dom, and codom. The Obs just have a name.\n",
    "AttrTypes are like Obs, but they store the name of the type that the attribute can have.\n",
    "In Julia, the Schemas are parametric in the AttrTypes so that uses can set those types at instance creation time.\n",
    "Attrs are the names of columns that point into the AttrTypes."
   ],
   "metadata": {}
  },
  {
   "outputs": [
    {
     "name": "stdout",
     "output_type": "stream",
     "text": [
      "{\n",
      "  \"data\": {\n",
      "    \"id\": \"https://github.com/AlgebraicJulia/Catlab.jl/tree/master/test/categorical_algebra/acset.schema.json\",\n",
      "    \"$schema\": \"https://json-schema.org/draft/2020-12/schema\",\n",
      "    \"title\": \"ACSet\",\n",
      "    \"type\": \"object\",\n",
      "    \"properties\": {\n",
      "      \"version\": {\n",
      "        \"type\": \"object\",\n",
      "        \"properties\": {\n",
      "          \"ACSetSchema\": {\n",
      "            \"type\": \"string\",\n",
      "            \"pattern\": \"^[0-9][0-9.]*\",\n",
      "            \"additionalProperties\": false\n",
      "          },\n",
      "          \"Catlab\": {\n",
      "            \"type\": \"string\",\n",
      "            \"pattern\": \"^[0-9][0-9.]*\",\n",
      "            \"additionalProperties\": false\n",
      "          }\n",
      "        },\n",
      "        \"required\": [\n",
      "          \"ACSetSchema\",\n",
      "          \"Catlab\"\n",
      "        ]\n",
      "      },\n",
      "      \"Ob\": {\n",
      "        \"type\": \"array\",\n",
      "        \"items\": {\n",
      "          \"type\": \"object\",\n",
      "          \"properties\": {\n",
      "            \"name\": {\n",
      "              \"type\": \"string\"\n",
      "            }\n",
      "          },\n",
      "          \"required\": [\n",
      "            \"name\"\n",
      "          ]\n",
      "        }\n",
      "      },\n",
      "      \"AttrType\": {\n",
      "        \"type\": \"array\",\n",
      "        \"items\": {\n",
      "          \"type\": \"object\",\n",
      "          \"properties\": {\n",
      "            \"name\": {\n",
      "              \"type\": \"string\"\n",
      "            }\n",
      "          },\n",
      "          \"required\": [\n",
      "            \"name\"\n",
      "          ]\n",
      "        }\n",
      "      },\n",
      "      \"Hom\": {\n",
      "        \"type\": \"array\",\n",
      "        \"items\": {\n",
      "          \"type\": \"object\",\n",
      "          \"properties\": {\n",
      "            \"name\": {\n",
      "              \"type\": \"string\"\n",
      "            },\n",
      "            \"dom\": {\n",
      "              \"type\": \"string\"\n",
      "            },\n",
      "            \"codom\": {\n",
      "              \"type\": \"string\"\n",
      "            }\n",
      "          },\n",
      "          \"required\": [\n",
      "            \"name\",\n",
      "            \"dom\",\n",
      "            \"codom\"\n",
      "          ]\n",
      "        }\n",
      "      },\n",
      "      \"Attr\": {\n",
      "        \"type\": \"array\",\n",
      "        \"items\": {\n",
      "          \"type\": \"object\",\n",
      "          \"properties\": {\n",
      "            \"name\": {\n",
      "              \"type\": \"string\"\n",
      "            },\n",
      "            \"dom\": {\n",
      "              \"type\": \"string\"\n",
      "            },\n",
      "            \"codom\": {\n",
      "              \"type\": \"string\"\n",
      "            }\n",
      "          },\n",
      "          \"required\": [\n",
      "            \"name\",\n",
      "            \"dom\",\n",
      "            \"codom\"\n",
      "          ]\n",
      "        }\n",
      "      }\n",
      "    },\n",
      "    \"required\": [\n",
      "      \"Ob\",\n",
      "      \"AttrType\",\n",
      "      \"Hom\",\n",
      "      \"Attr\"\n",
      "    ]\n",
      "  }\n",
      "}\n"
     ]
    }
   ],
   "cell_type": "code",
   "source": [
    "json_schema = JSONSchema.Schema(acset_schema_json_schema())\n",
    "JSON.print(json_schema, 2)"
   ],
   "metadata": {},
   "execution_count": 3
  },
  {
   "cell_type": "markdown",
   "source": [
    "## Example 1: Discrete Dynamical Systems\n",
    "\n",
    "Here is an example of an ACSet schema for Discrete Dynamical Systems.\n",
    "A DDS is just a set `X` whose elements we call states, and a function `next`, which take the current state and gives you the next state.\n",
    "Such systems are used to model processes that occur autonomously and are the simplest possible dynamical system."
   ],
   "metadata": {}
  },
  {
   "outputs": [
    {
     "name": "stdout",
     "output_type": "stream",
     "text": [
      "{\n",
      "  \"version\": {\n",
      "    \"ACSetSchema\": \"0.0.1\",\n",
      "    \"Catlab\": \"0.0.0\"\n",
      "  },\n",
      "  \"Ob\": [\n",
      "    {\n",
      "      \"name\": \"X\"\n",
      "    }\n",
      "  ],\n",
      "  \"Hom\": [\n",
      "    {\n",
      "      \"name\": \"next\",\n",
      "      \"codom\": \"X\",\n",
      "      \"dom\": \"X\"\n",
      "    }\n",
      "  ],\n",
      "  \"AttrType\": [],\n",
      "  \"Attr\": []\n",
      "}\n"
     ]
    }
   ],
   "cell_type": "code",
   "source": [
    "@present SchDDS(FreeSchema) begin\n",
    "  X::Ob\n",
    "  next::Hom(X,X)\n",
    "end\n",
    "\n",
    "JSON.print(generate_json_acset_schema(SchDDS), 2)"
   ],
   "metadata": {},
   "execution_count": 4
  },
  {
   "outputs": [
    {
     "output_type": "execute_result",
     "data": {
      "text/plain": "Catlab.Graphics.Graphviz.Graph(\"G\", true, \"neato\", Catlab.Graphics.Graphviz.Statement[Catlab.Graphics.Graphviz.Node(\"n1\", OrderedCollections.OrderedDict{Symbol, Union{String, Catlab.Graphics.Graphviz.Html}}(:label => \"X\")), Catlab.Graphics.Graphviz.Edge(Catlab.Graphics.Graphviz.NodeID[Catlab.Graphics.Graphviz.NodeID(\"n1\", \"\", \"\"), Catlab.Graphics.Graphviz.NodeID(\"n1\", \"\", \"\")], OrderedCollections.OrderedDict{Symbol, Union{String, Catlab.Graphics.Graphviz.Html}}(:label => \"next\"))], OrderedCollections.OrderedDict{Symbol, Union{String, Catlab.Graphics.Graphviz.Html}}(), OrderedCollections.OrderedDict{Symbol, Union{String, Catlab.Graphics.Graphviz.Html}}(:margin => \"0\", :shape => \"ellipse\"), OrderedCollections.OrderedDict{Symbol, Union{String, Catlab.Graphics.Graphviz.Html}}())",
      "image/svg+xml": [
       "<?xml version=\"1.0\" encoding=\"UTF-8\" standalone=\"no\"?>\n",
       "<!DOCTYPE svg PUBLIC \"-//W3C//DTD SVG 1.1//EN\"\n",
       " \"http://www.w3.org/Graphics/SVG/1.1/DTD/svg11.dtd\">\n",
       "<!-- Generated by graphviz version 2.43.0 (0)\n",
       " -->\n",
       "<!-- Title: G Pages: 1 -->\n",
       "<svg width=\"112pt\" height=\"44pt\"\n",
       " viewBox=\"0.00 0.00 112.00 44.00\" xmlns=\"http://www.w3.org/2000/svg\" xmlns:xlink=\"http://www.w3.org/1999/xlink\">\n",
       "<g id=\"graph0\" class=\"graph\" transform=\"scale(1 1) rotate(0) translate(4 40)\">\n",
       "<title>G</title>\n",
       "<polygon fill=\"white\" stroke=\"transparent\" points=\"-4,4 -4,-40 108,-40 108,4 -4,4\"/>\n",
       "<!-- n1 -->\n",
       "<g id=\"node1\" class=\"node\">\n",
       "<title>n1</title>\n",
       "<ellipse fill=\"none\" stroke=\"black\" cx=\"27\" cy=\"-18\" rx=\"27\" ry=\"18\"/>\n",
       "<text text-anchor=\"middle\" x=\"27\" y=\"-14.3\" font-family=\"Times,serif\" font-size=\"14.00\">X</text>\n",
       "</g>\n",
       "<!-- n1&#45;&gt;n1 -->\n",
       "<g id=\"edge1\" class=\"edge\">\n",
       "<title>n1&#45;&gt;n1</title>\n",
       "<path fill=\"none\" stroke=\"black\" d=\"M52.44,-24.69C63.03,-25.15 72,-22.92 72,-18 72,-14.77 68.14,-12.7 62.49,-11.79\"/>\n",
       "<polygon fill=\"black\" stroke=\"black\" points=\"62.6,-8.29 52.44,-11.31 62.27,-15.28 62.6,-8.29\"/>\n",
       "<text text-anchor=\"middle\" x=\"88\" y=\"-14.3\" font-family=\"Times,serif\" font-size=\"14.00\">next</text>\n",
       "</g>\n",
       "</g>\n",
       "</svg>\n"
      ]
     },
     "metadata": {},
     "execution_count": 5
    }
   ],
   "cell_type": "code",
   "source": [
    "to_graphviz(SchDDS)"
   ],
   "metadata": {},
   "execution_count": 5
  },
  {
   "cell_type": "markdown",
   "source": [
    "LabeledDDS are a variation on DDS where the states can have symbolic names. In Catlab, every element of an object has to be identified by its integer row number.\n",
    "This comes out of a tradition in database design where every table has a natural number primary key. In mathematics, we often want to think of the state space not as a set of integers, but as an arbitrary set. In Catlab, we call that set the Labels and use a `label` attribute to implement the mapping of state numbers to state labels. This way the underlying database implementation can still be designed aroung natural number primary keys, but the user can use symbolic labels. Note also that this shows the schema inheritance. We state that a `SchLabeledDDS` inherits from `SchDDS` by adding a `label` attribute of type `Label`."
   ],
   "metadata": {}
  },
  {
   "outputs": [
    {
     "name": "stdout",
     "output_type": "stream",
     "text": [
      "{\n",
      "  \"version\": {\n",
      "    \"ACSetSchema\": \"0.0.1\",\n",
      "    \"Catlab\": \"0.0.0\"\n",
      "  },\n",
      "  \"Ob\": [\n",
      "    {\n",
      "      \"name\": \"X\"\n",
      "    }\n",
      "  ],\n",
      "  \"Hom\": [\n",
      "    {\n",
      "      \"name\": \"next\",\n",
      "      \"codom\": \"X\",\n",
      "      \"dom\": \"X\"\n",
      "    }\n",
      "  ],\n",
      "  \"AttrType\": [\n",
      "    {\n",
      "      \"name\": \"Label\"\n",
      "    }\n",
      "  ],\n",
      "  \"Attr\": [\n",
      "    {\n",
      "      \"name\": \"label\",\n",
      "      \"codom\": \"Label\",\n",
      "      \"dom\": \"X\"\n",
      "    }\n",
      "  ]\n",
      "}\n"
     ]
    }
   ],
   "cell_type": "code",
   "source": [
    "@present SchLabeledDDS <: SchDDS begin\n",
    "  Label::AttrType\n",
    "  label::Attr(X, Label)\n",
    "end\n",
    "\n",
    "JSON.print(generate_json_acset_schema(SchLabeledDDS), 2)"
   ],
   "metadata": {},
   "execution_count": 6
  },
  {
   "outputs": [
    {
     "output_type": "execute_result",
     "data": {
      "text/plain": "Catlab.Graphics.Graphviz.Graph(\"G\", true, \"neato\", Catlab.Graphics.Graphviz.Statement[Catlab.Graphics.Graphviz.Node(\"n1\", OrderedCollections.OrderedDict{Symbol, Union{String, Catlab.Graphics.Graphviz.Html}}(:label => \"X\")), Catlab.Graphics.Graphviz.Node(\"n2\", OrderedCollections.OrderedDict{Symbol, Union{String, Catlab.Graphics.Graphviz.Html}}(:shape => \"point\", :xlabel => \"Label\")), Catlab.Graphics.Graphviz.Edge(Catlab.Graphics.Graphviz.NodeID[Catlab.Graphics.Graphviz.NodeID(\"n1\", \"\", \"\"), Catlab.Graphics.Graphviz.NodeID(\"n1\", \"\", \"\")], OrderedCollections.OrderedDict{Symbol, Union{String, Catlab.Graphics.Graphviz.Html}}(:label => \"next\")), Catlab.Graphics.Graphviz.Edge(Catlab.Graphics.Graphviz.NodeID[Catlab.Graphics.Graphviz.NodeID(\"n1\", \"\", \"\"), Catlab.Graphics.Graphviz.NodeID(\"n2\", \"\", \"\")], OrderedCollections.OrderedDict{Symbol, Union{String, Catlab.Graphics.Graphviz.Html}}(:label => \"label\"))], OrderedCollections.OrderedDict{Symbol, Union{String, Catlab.Graphics.Graphviz.Html}}(), OrderedCollections.OrderedDict{Symbol, Union{String, Catlab.Graphics.Graphviz.Html}}(:margin => \"0\", :shape => \"ellipse\"), OrderedCollections.OrderedDict{Symbol, Union{String, Catlab.Graphics.Graphviz.Html}}())",
      "image/svg+xml": [
       "<?xml version=\"1.0\" encoding=\"UTF-8\" standalone=\"no\"?>\n",
       "<!DOCTYPE svg PUBLIC \"-//W3C//DTD SVG 1.1//EN\"\n",
       " \"http://www.w3.org/Graphics/SVG/1.1/DTD/svg11.dtd\">\n",
       "<!-- Generated by graphviz version 2.43.0 (0)\n",
       " -->\n",
       "<!-- Title: G Pages: 1 -->\n",
       "<svg width=\"144pt\" height=\"53pt\"\n",
       " viewBox=\"0.00 0.00 144.41 53.44\" xmlns=\"http://www.w3.org/2000/svg\" xmlns:xlink=\"http://www.w3.org/1999/xlink\">\n",
       "<g id=\"graph0\" class=\"graph\" transform=\"scale(1 1) rotate(0) translate(4 49.44)\">\n",
       "<title>G</title>\n",
       "<polygon fill=\"white\" stroke=\"transparent\" points=\"-4,4 -4,-49.44 140.41,-49.44 140.41,4 -4,4\"/>\n",
       "<!-- n1 -->\n",
       "<g id=\"node1\" class=\"node\">\n",
       "<title>n1</title>\n",
       "<ellipse fill=\"none\" stroke=\"black\" cx=\"27\" cy=\"-27.44\" rx=\"27\" ry=\"18\"/>\n",
       "<text text-anchor=\"middle\" x=\"27\" y=\"-23.74\" font-family=\"Times,serif\" font-size=\"14.00\">X</text>\n",
       "</g>\n",
       "<!-- n1&#45;&gt;n1 -->\n",
       "<g id=\"edge1\" class=\"edge\">\n",
       "<title>n1&#45;&gt;n1</title>\n",
       "<path fill=\"none\" stroke=\"black\" d=\"M52.44,-34.13C63.03,-34.59 72,-32.36 72,-27.44 72,-24.21 68.14,-22.14 62.49,-21.23\"/>\n",
       "<polygon fill=\"black\" stroke=\"black\" points=\"62.6,-17.73 52.44,-20.75 62.27,-24.72 62.6,-17.73\"/>\n",
       "<text text-anchor=\"middle\" x=\"88\" y=\"-23.74\" font-family=\"Times,serif\" font-size=\"14.00\">next</text>\n",
       "</g>\n",
       "<!-- n2 -->\n",
       "<g id=\"node2\" class=\"node\">\n",
       "<title>n2</title>\n",
       "<ellipse fill=\"black\" stroke=\"black\" cx=\"98.21\" cy=\"-16.8\" rx=\"1.8\" ry=\"1.8\"/>\n",
       "<text text-anchor=\"middle\" x=\"116.41\" y=\"-3.8\" font-family=\"Times,serif\" font-size=\"14.00\">Label</text>\n",
       "</g>\n",
       "<!-- n1&#45;&gt;n2 -->\n",
       "<g id=\"edge2\" class=\"edge\">\n",
       "<title>n1&#45;&gt;n2</title>\n",
       "<path fill=\"none\" stroke=\"black\" d=\"M53.52,-23.48C64.78,-21.79 77.35,-19.92 86.28,-18.58\"/>\n",
       "<polygon fill=\"black\" stroke=\"black\" points=\"86.82,-22.04 96.19,-17.1 85.78,-15.12 86.82,-22.04\"/>\n",
       "<text text-anchor=\"middle\" x=\"78.65\" y=\"-9.83\" font-family=\"Times,serif\" font-size=\"14.00\">label</text>\n",
       "</g>\n",
       "</g>\n",
       "</svg>\n"
      ]
     },
     "metadata": {},
     "execution_count": 7
    }
   ],
   "cell_type": "code",
   "source": [
    "to_graphviz(SchLabeledDDS)"
   ],
   "metadata": {},
   "execution_count": 7
  },
  {
   "cell_type": "markdown",
   "source": [
    "## Example 2: Labeled DDS\n",
    "\n",
    "With the LabeledDDS, we will create an instance by specifying data that fits the schema.\n",
    "Then we will create the JSON output to show how it is encoded.\n",
    "The JSON encoded schema above tells you how to read the JSON encoded data below.\n",
    "You can see that the `LabeledDDS` will have a set for `X` with a `Hom` for `next` and an attribute for `label`.\n",
    "Thus we can expect to see the JSON encoding of a single table database below:\n",
    "    1. The first level of JSON is keyed by the table names\n",
    "    2. Each Table is an array of rows\n",
    "    3. Each row is an object keyed by fields.\n",
    "This is the simplest way to put a relational database in a JSON document. It is a little redundant, because the field names are repeated for each row. But that makes it easy to emit and easy to parse. If this becomes a problem, we can upgrade to a more efficient representation by writing more sophisticated parsers. Something like https://github.com/JuliaIO/MsgPack.jl would be appropriate."
   ],
   "metadata": {}
  },
  {
   "outputs": [
    {
     "name": "stdout",
     "output_type": "stream",
     "text": [
      "{\n",
      "  \"X\": [\n",
      "    {\n",
      "      \"next\": 2,\n",
      "      \"label\": 100\n",
      "    },\n",
      "    {\n",
      "      \"next\": 3,\n",
      "      \"label\": 101\n",
      "    },\n",
      "    {\n",
      "      \"next\": 4,\n",
      "      \"label\": 102\n",
      "    },\n",
      "    {\n",
      "      \"next\": 1,\n",
      "      \"label\": 103\n",
      "    }\n",
      "  ]\n",
      "}\n"
     ]
    }
   ],
   "cell_type": "code",
   "source": [
    "@acset_type LabeledDDS(SchLabeledDDS, index=[:next, :label])\n",
    "\n",
    "ldds = LabeledDDS{Int}()\n",
    "add_parts!(ldds, :X, 4, next=[2,3,4,1], label=[100, 101, 102, 103])\n",
    "JSON.print(generate_json_acset(ldds),2)"
   ],
   "metadata": {},
   "execution_count": 8
  },
  {
   "cell_type": "markdown",
   "source": [
    "## Example 3: Graphs\n",
    "\n",
    "Relational databases are great, because they are capable of representing almost anything that can be stored on a computer. We move up to graphs, which is a nice data structure you have probably seen before. Notably, graphs have two tables, one for edges and one for vertices. These are the category theorist's graph, which means that they support multiple parallel edges and self-loops."
   ],
   "metadata": {}
  },
  {
   "outputs": [
    {
     "name": "stdout",
     "output_type": "stream",
     "text": [
      "{\n",
      "  \"version\": {\n",
      "    \"ACSetSchema\": \"0.0.1\",\n",
      "    \"Catlab\": \"0.0.0\"\n",
      "  },\n",
      "  \"Ob\": [\n",
      "    {\n",
      "      \"name\": \"V\"\n",
      "    },\n",
      "    {\n",
      "      \"name\": \"E\"\n",
      "    }\n",
      "  ],\n",
      "  \"Hom\": [\n",
      "    {\n",
      "      \"name\": \"src\",\n",
      "      \"codom\": \"V\",\n",
      "      \"dom\": \"E\"\n",
      "    },\n",
      "    {\n",
      "      \"name\": \"tgt\",\n",
      "      \"codom\": \"V\",\n",
      "      \"dom\": \"E\"\n",
      "    }\n",
      "  ],\n",
      "  \"AttrType\": [],\n",
      "  \"Attr\": []\n",
      "}\n"
     ]
    }
   ],
   "cell_type": "code",
   "source": [
    "JSON.print(generate_json_acset_schema(SchGraph), 2)"
   ],
   "metadata": {},
   "execution_count": 9
  },
  {
   "outputs": [
    {
     "output_type": "execute_result",
     "data": {
      "text/plain": "Catlab.Graphics.Graphviz.Graph(\"G\", true, \"neato\", Catlab.Graphics.Graphviz.Statement[Catlab.Graphics.Graphviz.Node(\"n1\", OrderedCollections.OrderedDict{Symbol, Union{String, Catlab.Graphics.Graphviz.Html}}(:label => \"V\")), Catlab.Graphics.Graphviz.Node(\"n2\", OrderedCollections.OrderedDict{Symbol, Union{String, Catlab.Graphics.Graphviz.Html}}(:label => \"E\")), Catlab.Graphics.Graphviz.Edge(Catlab.Graphics.Graphviz.NodeID[Catlab.Graphics.Graphviz.NodeID(\"n2\", \"\", \"\"), Catlab.Graphics.Graphviz.NodeID(\"n1\", \"\", \"\")], OrderedCollections.OrderedDict{Symbol, Union{String, Catlab.Graphics.Graphviz.Html}}(:label => \"src\")), Catlab.Graphics.Graphviz.Edge(Catlab.Graphics.Graphviz.NodeID[Catlab.Graphics.Graphviz.NodeID(\"n2\", \"\", \"\"), Catlab.Graphics.Graphviz.NodeID(\"n1\", \"\", \"\")], OrderedCollections.OrderedDict{Symbol, Union{String, Catlab.Graphics.Graphviz.Html}}(:label => \"tgt\"))], OrderedCollections.OrderedDict{Symbol, Union{String, Catlab.Graphics.Graphviz.Html}}(), OrderedCollections.OrderedDict{Symbol, Union{String, Catlab.Graphics.Graphviz.Html}}(:margin => \"0\", :shape => \"ellipse\"), OrderedCollections.OrderedDict{Symbol, Union{String, Catlab.Graphics.Graphviz.Html}}())",
      "image/svg+xml": [
       "<?xml version=\"1.0\" encoding=\"UTF-8\" standalone=\"no\"?>\n",
       "<!DOCTYPE svg PUBLIC \"-//W3C//DTD SVG 1.1//EN\"\n",
       " \"http://www.w3.org/Graphics/SVG/1.1/DTD/svg11.dtd\">\n",
       "<!-- Generated by graphviz version 2.43.0 (0)\n",
       " -->\n",
       "<!-- Title: G Pages: 1 -->\n",
       "<svg width=\"133pt\" height=\"55pt\"\n",
       " viewBox=\"0.00 0.00 133.21 54.64\" xmlns=\"http://www.w3.org/2000/svg\" xmlns:xlink=\"http://www.w3.org/1999/xlink\">\n",
       "<g id=\"graph0\" class=\"graph\" transform=\"scale(1 1) rotate(0) translate(4 50.64)\">\n",
       "<title>G</title>\n",
       "<polygon fill=\"white\" stroke=\"transparent\" points=\"-4,4 -4,-50.64 129.21,-50.64 129.21,4 -4,4\"/>\n",
       "<!-- n1 -->\n",
       "<g id=\"node1\" class=\"node\">\n",
       "<title>n1</title>\n",
       "<ellipse fill=\"none\" stroke=\"black\" cx=\"27\" cy=\"-28.64\" rx=\"27\" ry=\"18\"/>\n",
       "<text text-anchor=\"middle\" x=\"27\" y=\"-24.94\" font-family=\"Times,serif\" font-size=\"14.00\">V</text>\n",
       "</g>\n",
       "<!-- n2 -->\n",
       "<g id=\"node2\" class=\"node\">\n",
       "<title>n2</title>\n",
       "<ellipse fill=\"none\" stroke=\"black\" cx=\"98.21\" cy=\"-18\" rx=\"27\" ry=\"18\"/>\n",
       "<text text-anchor=\"middle\" x=\"98.21\" y=\"-14.3\" font-family=\"Times,serif\" font-size=\"14.00\">E</text>\n",
       "</g>\n",
       "<!-- n2&#45;&gt;n1 -->\n",
       "<g id=\"edge1\" class=\"edge\">\n",
       "<title>n2&#45;&gt;n1</title>\n",
       "<path fill=\"none\" stroke=\"black\" d=\"M71.13,-15.44C67.4,-15.82 63.53,-16.33 59.7,-16.94\"/>\n",
       "<polygon fill=\"black\" stroke=\"black\" points=\"59.01,-13.51 49.8,-18.76 60.27,-20.39 59.01,-13.51\"/>\n",
       "<text text-anchor=\"middle\" x=\"59.92\" y=\"-4.99\" font-family=\"Times,serif\" font-size=\"14.00\">src</text>\n",
       "</g>\n",
       "<!-- n2&#45;&gt;n1 -->\n",
       "<g id=\"edge2\" class=\"edge\">\n",
       "<title>n2&#45;&gt;n1</title>\n",
       "<path fill=\"none\" stroke=\"black\" d=\"M75.44,-27.88C71.78,-28.65 67.91,-29.34 64.01,-29.93\"/>\n",
       "<polygon fill=\"black\" stroke=\"black\" points=\"63.26,-26.5 53.78,-31.23 64.14,-33.45 63.26,-26.5\"/>\n",
       "<text text-anchor=\"middle\" x=\"58.73\" y=\"-32.7\" font-family=\"Times,serif\" font-size=\"14.00\">tgt</text>\n",
       "</g>\n",
       "</g>\n",
       "</svg>\n"
      ]
     },
     "metadata": {},
     "execution_count": 10
    }
   ],
   "cell_type": "code",
   "source": [
    "to_graphviz(SchGraph)"
   ],
   "metadata": {},
   "execution_count": 10
  },
  {
   "cell_type": "markdown",
   "source": [
    "An example graph with 4 vertices and 2 edges."
   ],
   "metadata": {}
  },
  {
   "outputs": [
    {
     "output_type": "execute_result",
     "data": {
      "text/plain": "Graph with elements V = 1:4, E = 1:2\n┌───┬─────┬─────┐\n│\u001b[1m E │\u001b[1m src │\u001b[1m tgt │\n├───┼─────┼─────┤\n│ 1 │   1 │   2 │\n│ 2 │   2 │   3 │\n└───┴─────┴─────┘\n",
      "text/html": [
       "<div class=\"c-set\">\n",
       "<span class=\"c-set-summary\">Graph with elements V = 1:4, E = 1:2</span>\n",
       "<table>\n",
       "  <thead>\n",
       "    <tr class = \"header headerLastRow\">\n",
       "      <th class = \"rowNumber\" style = \"font-weight: bold; text-align: right;\">E</th>\n",
       "      <th style = \"text-align: right;\">src</th>\n",
       "      <th style = \"text-align: right;\">tgt</th>\n",
       "    </tr>\n",
       "  </thead>\n",
       "  <tbody>\n",
       "    <tr>\n",
       "      <td class = \"rowNumber\" style = \"font-weight: bold; text-align: right;\">1</td>\n",
       "      <td style = \"text-align: right;\">1</td>\n",
       "      <td style = \"text-align: right;\">2</td>\n",
       "    </tr>\n",
       "    <tr>\n",
       "      <td class = \"rowNumber\" style = \"font-weight: bold; text-align: right;\">2</td>\n",
       "      <td style = \"text-align: right;\">2</td>\n",
       "      <td style = \"text-align: right;\">3</td>\n",
       "    </tr>\n",
       "  </tbody>\n",
       "</table>\n",
       "</div>\n"
      ]
     },
     "metadata": {},
     "execution_count": 11
    }
   ],
   "cell_type": "code",
   "source": [
    "g = @acset Catlab.Graphs.Graph begin\n",
    "  V = 4\n",
    "  E = 2\n",
    "  src=[1,2]\n",
    "  tgt = [2,3]\n",
    "end"
   ],
   "metadata": {},
   "execution_count": 11
  },
  {
   "cell_type": "markdown",
   "source": [
    "Note that the vertices are listed out in a somewhat silly way. They are given as a table with no columns, so they show up in the JSON as a bunch of empty objects. This is for consistency with our next example."
   ],
   "metadata": {}
  },
  {
   "outputs": [
    {
     "name": "stdout",
     "output_type": "stream",
     "text": [
      "{\n",
      "  \"V\": [\n",
      "    {},\n",
      "    {},\n",
      "    {},\n",
      "    {}\n",
      "  ],\n",
      "  \"E\": [\n",
      "    {\n",
      "      \"src\": 1,\n",
      "      \"tgt\": 2\n",
      "    },\n",
      "    {\n",
      "      \"src\": 2,\n",
      "      \"tgt\": 3\n",
      "    }\n",
      "  ]\n",
      "}\n"
     ]
    }
   ],
   "cell_type": "code",
   "source": [
    "JSON.print(generate_json_acset(g), 2)"
   ],
   "metadata": {},
   "execution_count": 12
  },
  {
   "cell_type": "markdown",
   "source": [
    "## Example 4: Vertex and Edge Labeled Graph Graph Schema\n",
    "\n",
    "You can extend schemas by adding more tables and columns. This inheritance is flattened when you serialize to JSON, but could be encoded in a future version."
   ],
   "metadata": {}
  },
  {
   "outputs": [
    {
     "name": "stdout",
     "output_type": "stream",
     "text": [
      "{\n",
      "  \"version\": {\n",
      "    \"ACSetSchema\": \"0.0.1\",\n",
      "    \"Catlab\": \"0.0.0\"\n",
      "  },\n",
      "  \"Ob\": [\n",
      "    {\n",
      "      \"name\": \"V\"\n",
      "    },\n",
      "    {\n",
      "      \"name\": \"E\"\n",
      "    }\n",
      "  ],\n",
      "  \"Hom\": [\n",
      "    {\n",
      "      \"name\": \"src\",\n",
      "      \"codom\": \"V\",\n",
      "      \"dom\": \"E\"\n",
      "    },\n",
      "    {\n",
      "      \"name\": \"tgt\",\n",
      "      \"codom\": \"V\",\n",
      "      \"dom\": \"E\"\n",
      "    }\n",
      "  ],\n",
      "  \"AttrType\": [\n",
      "    {\n",
      "      \"name\": \"Label\"\n",
      "    }\n",
      "  ],\n",
      "  \"Attr\": [\n",
      "    {\n",
      "      \"name\": \"vlabel\",\n",
      "      \"codom\": \"Label\",\n",
      "      \"dom\": \"V\"\n",
      "    },\n",
      "    {\n",
      "      \"name\": \"elabel\",\n",
      "      \"codom\": \"Label\",\n",
      "      \"dom\": \"E\"\n",
      "    }\n",
      "  ]\n",
      "}\n"
     ]
    }
   ],
   "cell_type": "code",
   "source": [
    "@present SchVELabeledGraph <: SchGraph begin\n",
    "  Label::AttrType\n",
    "  vlabel::Attr(V,Label)\n",
    "  elabel::Attr(E,Label)\n",
    "end\n",
    "\n",
    "JSON.print(generate_json_acset_schema(SchVELabeledGraph), 2)"
   ],
   "metadata": {},
   "execution_count": 13
  },
  {
   "outputs": [
    {
     "output_type": "execute_result",
     "data": {
      "text/plain": "Catlab.Graphics.Graphviz.Graph(\"G\", true, \"neato\", Catlab.Graphics.Graphviz.Statement[Catlab.Graphics.Graphviz.Node(\"n1\", OrderedCollections.OrderedDict{Symbol, Union{String, Catlab.Graphics.Graphviz.Html}}(:label => \"V\")), Catlab.Graphics.Graphviz.Node(\"n2\", OrderedCollections.OrderedDict{Symbol, Union{String, Catlab.Graphics.Graphviz.Html}}(:label => \"E\")), Catlab.Graphics.Graphviz.Node(\"n3\", OrderedCollections.OrderedDict{Symbol, Union{String, Catlab.Graphics.Graphviz.Html}}(:shape => \"point\", :xlabel => \"Label\")), Catlab.Graphics.Graphviz.Edge(Catlab.Graphics.Graphviz.NodeID[Catlab.Graphics.Graphviz.NodeID(\"n2\", \"\", \"\"), Catlab.Graphics.Graphviz.NodeID(\"n1\", \"\", \"\")], OrderedCollections.OrderedDict{Symbol, Union{String, Catlab.Graphics.Graphviz.Html}}(:label => \"src\")), Catlab.Graphics.Graphviz.Edge(Catlab.Graphics.Graphviz.NodeID[Catlab.Graphics.Graphviz.NodeID(\"n2\", \"\", \"\"), Catlab.Graphics.Graphviz.NodeID(\"n1\", \"\", \"\")], OrderedCollections.OrderedDict{Symbol, Union{String, Catlab.Graphics.Graphviz.Html}}(:label => \"tgt\")), Catlab.Graphics.Graphviz.Edge(Catlab.Graphics.Graphviz.NodeID[Catlab.Graphics.Graphviz.NodeID(\"n1\", \"\", \"\"), Catlab.Graphics.Graphviz.NodeID(\"n3\", \"\", \"\")], OrderedCollections.OrderedDict{Symbol, Union{String, Catlab.Graphics.Graphviz.Html}}(:label => \"vlabel\")), Catlab.Graphics.Graphviz.Edge(Catlab.Graphics.Graphviz.NodeID[Catlab.Graphics.Graphviz.NodeID(\"n2\", \"\", \"\"), Catlab.Graphics.Graphviz.NodeID(\"n3\", \"\", \"\")], OrderedCollections.OrderedDict{Symbol, Union{String, Catlab.Graphics.Graphviz.Html}}(:label => \"elabel\"))], OrderedCollections.OrderedDict{Symbol, Union{String, Catlab.Graphics.Graphviz.Html}}(), OrderedCollections.OrderedDict{Symbol, Union{String, Catlab.Graphics.Graphviz.Html}}(:margin => \"0\", :shape => \"ellipse\"), OrderedCollections.OrderedDict{Symbol, Union{String, Catlab.Graphics.Graphviz.Html}}())",
      "image/svg+xml": [
       "<?xml version=\"1.0\" encoding=\"UTF-8\" standalone=\"no\"?>\n",
       "<!DOCTYPE svg PUBLIC \"-//W3C//DTD SVG 1.1//EN\"\n",
       " \"http://www.w3.org/Graphics/SVG/1.1/DTD/svg11.dtd\">\n",
       "<!-- Generated by graphviz version 2.43.0 (0)\n",
       " -->\n",
       "<!-- Title: G Pages: 1 -->\n",
       "<svg width=\"134pt\" height=\"94pt\"\n",
       " viewBox=\"0.00 0.00 134.21 93.61\" xmlns=\"http://www.w3.org/2000/svg\" xmlns:xlink=\"http://www.w3.org/1999/xlink\">\n",
       "<g id=\"graph0\" class=\"graph\" transform=\"scale(1 1) rotate(0) translate(4 89.61)\">\n",
       "<title>G</title>\n",
       "<polygon fill=\"white\" stroke=\"transparent\" points=\"-4,4 -4,-89.61 130.21,-89.61 130.21,4 -4,4\"/>\n",
       "<!-- n1 -->\n",
       "<g id=\"node1\" class=\"node\">\n",
       "<title>n1</title>\n",
       "<ellipse fill=\"none\" stroke=\"black\" cx=\"27\" cy=\"-63.73\" rx=\"27\" ry=\"18\"/>\n",
       "<text text-anchor=\"middle\" x=\"27\" y=\"-60.03\" font-family=\"Times,serif\" font-size=\"14.00\">V</text>\n",
       "</g>\n",
       "<!-- n3 -->\n",
       "<g id=\"node3\" class=\"node\">\n",
       "<title>n3</title>\n",
       "<ellipse fill=\"black\" stroke=\"black\" cx=\"63.59\" cy=\"-1.8\" rx=\"1.8\" ry=\"1.8\"/>\n",
       "<text text-anchor=\"middle\" x=\"41.79\" y=\"-7.4\" font-family=\"Times,serif\" font-size=\"14.00\">Label</text>\n",
       "</g>\n",
       "<!-- n1&#45;&gt;n3 -->\n",
       "<g id=\"edge3\" class=\"edge\">\n",
       "<title>n1&#45;&gt;n3</title>\n",
       "<path fill=\"none\" stroke=\"black\" d=\"M37,-46.81C43.5,-35.81 51.77,-21.81 57.35,-12.37\"/>\n",
       "<polygon fill=\"black\" stroke=\"black\" points=\"60.44,-14.01 62.52,-3.62 54.42,-10.45 60.44,-14.01\"/>\n",
       "<text text-anchor=\"middle\" x=\"25.67\" y=\"-33.39\" font-family=\"Times,serif\" font-size=\"14.00\">vlabel</text>\n",
       "</g>\n",
       "<!-- n2 -->\n",
       "<g id=\"node2\" class=\"node\">\n",
       "<title>n2</title>\n",
       "<ellipse fill=\"none\" stroke=\"black\" cx=\"99.21\" cy=\"-64.21\" rx=\"27\" ry=\"18\"/>\n",
       "<text text-anchor=\"middle\" x=\"99.21\" y=\"-60.51\" font-family=\"Times,serif\" font-size=\"14.00\">E</text>\n",
       "</g>\n",
       "<!-- n2&#45;&gt;n1 -->\n",
       "<g id=\"edge1\" class=\"edge\">\n",
       "<title>n2&#45;&gt;n1</title>\n",
       "<path fill=\"none\" stroke=\"black\" d=\"M73.99,-57.57C70.28,-57.35 66.4,-57.23 62.52,-57.22\"/>\n",
       "<polygon fill=\"black\" stroke=\"black\" points=\"62.33,-53.72 52.4,-57.42 62.47,-60.72 62.33,-53.72\"/>\n",
       "<text text-anchor=\"middle\" x=\"62.76\" y=\"-46.19\" font-family=\"Times,serif\" font-size=\"14.00\">src</text>\n",
       "</g>\n",
       "<!-- n2&#45;&gt;n1 -->\n",
       "<g id=\"edge2\" class=\"edge\">\n",
       "<title>n2&#45;&gt;n1</title>\n",
       "<path fill=\"none\" stroke=\"black\" d=\"M73.91,-70.51C70.19,-70.69 66.31,-70.75 62.43,-70.72\"/>\n",
       "<polygon fill=\"black\" stroke=\"black\" points=\"62.43,-67.21 52.32,-70.38 62.2,-74.21 62.43,-67.21\"/>\n",
       "<text text-anchor=\"middle\" x=\"57.17\" y=\"-74.41\" font-family=\"Times,serif\" font-size=\"14.00\">tgt</text>\n",
       "</g>\n",
       "<!-- n2&#45;&gt;n3 -->\n",
       "<g id=\"edge4\" class=\"edge\">\n",
       "<title>n2&#45;&gt;n3</title>\n",
       "<path fill=\"none\" stroke=\"black\" d=\"M89.47,-47.15C83.15,-36.07 75.1,-21.96 69.67,-12.45\"/>\n",
       "<polygon fill=\"black\" stroke=\"black\" points=\"72.64,-10.58 64.64,-3.63 66.56,-14.05 72.64,-10.58\"/>\n",
       "<text text-anchor=\"middle\" x=\"101.07\" y=\"-33.6\" font-family=\"Times,serif\" font-size=\"14.00\">elabel</text>\n",
       "</g>\n",
       "</g>\n",
       "</svg>\n"
      ]
     },
     "metadata": {},
     "execution_count": 14
    }
   ],
   "cell_type": "code",
   "source": [
    "to_graphviz(SchVELabeledGraph)"
   ],
   "metadata": {},
   "execution_count": 14
  },
  {
   "cell_type": "markdown",
   "source": [
    "An example labeled graph using symbols for the vertex and edge names. Note that you can use unicode symbols in Julia."
   ],
   "metadata": {}
  },
  {
   "outputs": [
    {
     "output_type": "execute_result",
     "data": {
      "text/plain": "Main.var\"##293\".VELabeledGraph{Symbol} with elements V = 1:4, E = 1:2\n┌───┬────────┐\n│\u001b[1m V │\u001b[1m vlabel │\n├───┼────────┤\n│ 1 │      a │\n│ 2 │      b │\n│ 3 │      c │\n│ 4 │      d │\n└───┴────────┘\n┌───┬─────┬─────┬────────┐\n│\u001b[1m E │\u001b[1m src │\u001b[1m tgt │\u001b[1m elabel │\n├───┼─────┼─────┼────────┤\n│ 1 │   1 │   2 │     e₁ │\n│ 2 │   2 │   3 │     e₂ │\n└───┴─────┴─────┴────────┘\n",
      "text/html": [
       "<div class=\"c-set\">\n",
       "<span class=\"c-set-summary\">Main.var\"##293\".VELabeledGraph{Symbol} with elements V = 1:4, E = 1:2</span>\n",
       "<table>\n",
       "  <thead>\n",
       "    <tr class = \"header headerLastRow\">\n",
       "      <th class = \"rowNumber\" style = \"font-weight: bold; text-align: right;\">V</th>\n",
       "      <th style = \"text-align: right;\">vlabel</th>\n",
       "    </tr>\n",
       "  </thead>\n",
       "  <tbody>\n",
       "    <tr>\n",
       "      <td class = \"rowNumber\" style = \"font-weight: bold; text-align: right;\">1</td>\n",
       "      <td style = \"text-align: right;\">a</td>\n",
       "    </tr>\n",
       "    <tr>\n",
       "      <td class = \"rowNumber\" style = \"font-weight: bold; text-align: right;\">2</td>\n",
       "      <td style = \"text-align: right;\">b</td>\n",
       "    </tr>\n",
       "    <tr>\n",
       "      <td class = \"rowNumber\" style = \"font-weight: bold; text-align: right;\">3</td>\n",
       "      <td style = \"text-align: right;\">c</td>\n",
       "    </tr>\n",
       "    <tr>\n",
       "      <td class = \"rowNumber\" style = \"font-weight: bold; text-align: right;\">4</td>\n",
       "      <td style = \"text-align: right;\">d</td>\n",
       "    </tr>\n",
       "  </tbody>\n",
       "</table>\n",
       "<table>\n",
       "  <thead>\n",
       "    <tr class = \"header headerLastRow\">\n",
       "      <th class = \"rowNumber\" style = \"font-weight: bold; text-align: right;\">E</th>\n",
       "      <th style = \"text-align: right;\">src</th>\n",
       "      <th style = \"text-align: right;\">tgt</th>\n",
       "      <th style = \"text-align: right;\">elabel</th>\n",
       "    </tr>\n",
       "  </thead>\n",
       "  <tbody>\n",
       "    <tr>\n",
       "      <td class = \"rowNumber\" style = \"font-weight: bold; text-align: right;\">1</td>\n",
       "      <td style = \"text-align: right;\">1</td>\n",
       "      <td style = \"text-align: right;\">2</td>\n",
       "      <td style = \"text-align: right;\">e₁</td>\n",
       "    </tr>\n",
       "    <tr>\n",
       "      <td class = \"rowNumber\" style = \"font-weight: bold; text-align: right;\">2</td>\n",
       "      <td style = \"text-align: right;\">2</td>\n",
       "      <td style = \"text-align: right;\">3</td>\n",
       "      <td style = \"text-align: right;\">e₂</td>\n",
       "    </tr>\n",
       "  </tbody>\n",
       "</table>\n",
       "</div>\n"
      ]
     },
     "metadata": {},
     "execution_count": 15
    }
   ],
   "cell_type": "code",
   "source": [
    "@acset_type VELabeledGraph(SchVELabeledGraph,\n",
    "                           index=[:src,:tgt]) <: AbstractGraph\n",
    "\n",
    "lg = @acset VELabeledGraph{Symbol} begin\n",
    "  V = 4\n",
    "  E = 2\n",
    "  vlabel = [:a, :b, :c, :d]\n",
    "  elabel = [:e₁, :e₂]\n",
    "  src=[1,2]\n",
    "  tgt = [2,3]\n",
    "end"
   ],
   "metadata": {},
   "execution_count": 15
  },
  {
   "cell_type": "markdown",
   "source": [
    "This Graph is represented by the following JSON. Now you can see that the vertices have their `vlabels`"
   ],
   "metadata": {}
  },
  {
   "outputs": [
    {
     "name": "stdout",
     "output_type": "stream",
     "text": [
      "{\n",
      "  \"V\": [\n",
      "    {\n",
      "      \"vlabel\": \"a\"\n",
      "    },\n",
      "    {\n",
      "      \"vlabel\": \"b\"\n",
      "    },\n",
      "    {\n",
      "      \"vlabel\": \"c\"\n",
      "    },\n",
      "    {\n",
      "      \"vlabel\": \"d\"\n",
      "    }\n",
      "  ],\n",
      "  \"E\": [\n",
      "    {\n",
      "      \"src\": 1,\n",
      "      \"tgt\": 2,\n",
      "      \"elabel\": \"e₁\"\n",
      "    },\n",
      "    {\n",
      "      \"src\": 2,\n",
      "      \"tgt\": 3,\n",
      "      \"elabel\": \"e₂\"\n",
      "    }\n",
      "  ]\n",
      "}\n"
     ]
    }
   ],
   "cell_type": "code",
   "source": [
    "JSON.print(generate_json_acset(lg), 2)"
   ],
   "metadata": {},
   "execution_count": 16
  }
 ],
 "nbformat_minor": 3,
 "metadata": {
  "language_info": {
   "file_extension": ".jl",
   "mimetype": "application/julia",
   "name": "julia",
   "version": "1.9.0"
  },
  "kernelspec": {
   "name": "julia-1.9",
   "display_name": "Julia 1.9.0",
   "language": "julia"
  }
 },
 "nbformat": 4
}
